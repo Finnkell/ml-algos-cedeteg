{
 "cells": [
  {
   "cell_type": "code",
   "execution_count": 1,
   "source": [
    "import numpy as np\r\n",
    "import pandas as pd\r\n",
    "import pandas_datareader as web\r\n",
    "import matplotlib.pyplot as plt\r\n",
    "\r\n",
    "from math import log, sqrt, pi, exp\r\n",
    "from scipy.stats import norm\r\n",
    "from datetime import datetime, date\r\n",
    "from pandas import DataFrame"
   ],
   "outputs": [],
   "metadata": {}
  },
  {
   "cell_type": "code",
   "execution_count": 2,
   "source": [
    "#   #\r\n",
    "def d1(S,K,T,r,sigma):\r\n",
    "    return(log(S/K) + (r+sigma**2/2.)*T)/(sigma*sqrt(T))\r\n",
    "    "
   ],
   "outputs": [],
   "metadata": {}
  },
  {
   "cell_type": "code",
   "execution_count": 3,
   "source": [
    "print(d1(50,40,0.25,0.3,0.2))"
   ],
   "outputs": [
    {
     "output_type": "stream",
     "name": "stdout",
     "text": [
      "3.031435513142098\n"
     ]
    }
   ],
   "metadata": {}
  },
  {
   "cell_type": "code",
   "execution_count": 4,
   "source": [
    "def d2(S,K,T,r,sigma):\r\n",
    "    return (d1(S,K,T,r,sigma) - sigma*sqrt(T))"
   ],
   "outputs": [],
   "metadata": {}
  },
  {
   "cell_type": "code",
   "execution_count": 5,
   "source": [
    "print(d2(50,40,0.25,0.3,0.2))"
   ],
   "outputs": [
    {
     "output_type": "stream",
     "name": "stdout",
     "text": [
      "2.9314355131420977\n"
     ]
    }
   ],
   "metadata": {}
  },
  {
   "cell_type": "code",
   "execution_count": 6,
   "source": [
    "def black_call(S,K,T,r,sigma):\r\n",
    "    return (S*norm.cdf(d1(S,K,T,r,sigma)) - K*exp(-r*T) * norm.cdf(d2(S,K,T,r,sigma)))"
   ],
   "outputs": [],
   "metadata": {}
  },
  {
   "cell_type": "code",
   "execution_count": 7,
   "source": [
    "print(black_call(50,40,0.25,0.3,0.2))"
   ],
   "outputs": [
    {
     "output_type": "stream",
     "name": "stdout",
     "text": [
      "12.892016091242283\n"
     ]
    }
   ],
   "metadata": {}
  },
  {
   "cell_type": "code",
   "execution_count": 8,
   "source": [
    "def black_put(S,K,T,r,sigma):\r\n",
    "    return(K*exp(-r*T)-S+black_call(S,K,T,r,sigma))"
   ],
   "outputs": [],
   "metadata": {}
  },
  {
   "cell_type": "code",
   "execution_count": 9,
   "source": [
    "print(black_call(50,40,0.25,0.3,0.2))"
   ],
   "outputs": [
    {
     "output_type": "stream",
     "name": "stdout",
     "text": [
      "12.892016091242283\n"
     ]
    }
   ],
   "metadata": {}
  },
  {
   "cell_type": "code",
   "execution_count": 10,
   "source": [
    "stock = 'SPY'\r\n",
    "#stock é a opção de compra#\r\n",
    "expiry = '12-30-2021' # Mes - dia - ano# \r\n",
    "# dia que expira a  opção #\r\n",
    "strike_price = 365\r\n",
    "#preço exercido de 370 #\r\n",
    "today = datetime.now()\r\n",
    "#pega o dia de hoje#\r\n",
    "one_year = today.replace(year=today.year-1)\r\n",
    "#pega o dia anterior e o ano aterior #"
   ],
   "outputs": [],
   "metadata": {}
  },
  {
   "cell_type": "code",
   "execution_count": 11,
   "source": [
    "df = web.DataReader(stock, 'yahoo', one_year,today)"
   ],
   "outputs": [],
   "metadata": {}
  },
  {
   "cell_type": "code",
   "execution_count": 12,
   "source": [
    "df.head()"
   ],
   "outputs": [
    {
     "output_type": "execute_result",
     "data": {
      "text/html": [
       "<div>\n",
       "<style scoped>\n",
       "    .dataframe tbody tr th:only-of-type {\n",
       "        vertical-align: middle;\n",
       "    }\n",
       "\n",
       "    .dataframe tbody tr th {\n",
       "        vertical-align: top;\n",
       "    }\n",
       "\n",
       "    .dataframe thead th {\n",
       "        text-align: right;\n",
       "    }\n",
       "</style>\n",
       "<table border=\"1\" class=\"dataframe\">\n",
       "  <thead>\n",
       "    <tr style=\"text-align: right;\">\n",
       "      <th></th>\n",
       "      <th>High</th>\n",
       "      <th>Low</th>\n",
       "      <th>Open</th>\n",
       "      <th>Close</th>\n",
       "      <th>Volume</th>\n",
       "      <th>Adj Close</th>\n",
       "    </tr>\n",
       "    <tr>\n",
       "      <th>Date</th>\n",
       "      <th></th>\n",
       "      <th></th>\n",
       "      <th></th>\n",
       "      <th></th>\n",
       "      <th></th>\n",
       "      <th></th>\n",
       "    </tr>\n",
       "  </thead>\n",
       "  <tbody>\n",
       "    <tr>\n",
       "      <th>2020-10-07</th>\n",
       "      <td>341.630005</td>\n",
       "      <td>338.089996</td>\n",
       "      <td>338.119995</td>\n",
       "      <td>340.760010</td>\n",
       "      <td>56999600.0</td>\n",
       "      <td>336.026581</td>\n",
       "    </tr>\n",
       "    <tr>\n",
       "      <th>2020-10-08</th>\n",
       "      <td>343.850006</td>\n",
       "      <td>341.859985</td>\n",
       "      <td>342.850006</td>\n",
       "      <td>343.779999</td>\n",
       "      <td>45242500.0</td>\n",
       "      <td>339.004578</td>\n",
       "    </tr>\n",
       "    <tr>\n",
       "      <th>2020-10-09</th>\n",
       "      <td>347.350006</td>\n",
       "      <td>344.890015</td>\n",
       "      <td>345.559998</td>\n",
       "      <td>346.850006</td>\n",
       "      <td>59528600.0</td>\n",
       "      <td>342.031952</td>\n",
       "    </tr>\n",
       "    <tr>\n",
       "      <th>2020-10-12</th>\n",
       "      <td>354.019989</td>\n",
       "      <td>349.059998</td>\n",
       "      <td>349.589996</td>\n",
       "      <td>352.429993</td>\n",
       "      <td>80388500.0</td>\n",
       "      <td>347.534454</td>\n",
       "    </tr>\n",
       "    <tr>\n",
       "      <th>2020-10-13</th>\n",
       "      <td>352.470001</td>\n",
       "      <td>349.089996</td>\n",
       "      <td>352.279999</td>\n",
       "      <td>350.130005</td>\n",
       "      <td>73255500.0</td>\n",
       "      <td>345.266418</td>\n",
       "    </tr>\n",
       "  </tbody>\n",
       "</table>\n",
       "</div>"
      ],
      "text/plain": [
       "                  High         Low        Open       Close      Volume  \\\n",
       "Date                                                                     \n",
       "2020-10-07  341.630005  338.089996  338.119995  340.760010  56999600.0   \n",
       "2020-10-08  343.850006  341.859985  342.850006  343.779999  45242500.0   \n",
       "2020-10-09  347.350006  344.890015  345.559998  346.850006  59528600.0   \n",
       "2020-10-12  354.019989  349.059998  349.589996  352.429993  80388500.0   \n",
       "2020-10-13  352.470001  349.089996  352.279999  350.130005  73255500.0   \n",
       "\n",
       "             Adj Close  \n",
       "Date                    \n",
       "2020-10-07  336.026581  \n",
       "2020-10-08  339.004578  \n",
       "2020-10-09  342.031952  \n",
       "2020-10-12  347.534454  \n",
       "2020-10-13  345.266418  "
      ]
     },
     "metadata": {},
     "execution_count": 12
    }
   ],
   "metadata": {}
  },
  {
   "cell_type": "code",
   "execution_count": 13,
   "source": [
    "df = df.sort_values(by=\"Date\")\r\n",
    "df = df.dropna()\r\n",
    "df = df.assign(close_day_before=df.Close.shift(1))\r\n",
    "df['return'] = ((df.Close - df.close_day_before )/df.close_day_before)"
   ],
   "outputs": [],
   "metadata": {}
  },
  {
   "cell_type": "code",
   "execution_count": 14,
   "source": [
    "df.head()"
   ],
   "outputs": [
    {
     "output_type": "execute_result",
     "data": {
      "text/html": [
       "<div>\n",
       "<style scoped>\n",
       "    .dataframe tbody tr th:only-of-type {\n",
       "        vertical-align: middle;\n",
       "    }\n",
       "\n",
       "    .dataframe tbody tr th {\n",
       "        vertical-align: top;\n",
       "    }\n",
       "\n",
       "    .dataframe thead th {\n",
       "        text-align: right;\n",
       "    }\n",
       "</style>\n",
       "<table border=\"1\" class=\"dataframe\">\n",
       "  <thead>\n",
       "    <tr style=\"text-align: right;\">\n",
       "      <th></th>\n",
       "      <th>High</th>\n",
       "      <th>Low</th>\n",
       "      <th>Open</th>\n",
       "      <th>Close</th>\n",
       "      <th>Volume</th>\n",
       "      <th>Adj Close</th>\n",
       "      <th>close_day_before</th>\n",
       "      <th>return</th>\n",
       "    </tr>\n",
       "    <tr>\n",
       "      <th>Date</th>\n",
       "      <th></th>\n",
       "      <th></th>\n",
       "      <th></th>\n",
       "      <th></th>\n",
       "      <th></th>\n",
       "      <th></th>\n",
       "      <th></th>\n",
       "      <th></th>\n",
       "    </tr>\n",
       "  </thead>\n",
       "  <tbody>\n",
       "    <tr>\n",
       "      <th>2020-10-07</th>\n",
       "      <td>341.630005</td>\n",
       "      <td>338.089996</td>\n",
       "      <td>338.119995</td>\n",
       "      <td>340.760010</td>\n",
       "      <td>56999600.0</td>\n",
       "      <td>336.026581</td>\n",
       "      <td>NaN</td>\n",
       "      <td>NaN</td>\n",
       "    </tr>\n",
       "    <tr>\n",
       "      <th>2020-10-08</th>\n",
       "      <td>343.850006</td>\n",
       "      <td>341.859985</td>\n",
       "      <td>342.850006</td>\n",
       "      <td>343.779999</td>\n",
       "      <td>45242500.0</td>\n",
       "      <td>339.004578</td>\n",
       "      <td>340.760010</td>\n",
       "      <td>0.008863</td>\n",
       "    </tr>\n",
       "    <tr>\n",
       "      <th>2020-10-09</th>\n",
       "      <td>347.350006</td>\n",
       "      <td>344.890015</td>\n",
       "      <td>345.559998</td>\n",
       "      <td>346.850006</td>\n",
       "      <td>59528600.0</td>\n",
       "      <td>342.031952</td>\n",
       "      <td>343.779999</td>\n",
       "      <td>0.008930</td>\n",
       "    </tr>\n",
       "    <tr>\n",
       "      <th>2020-10-12</th>\n",
       "      <td>354.019989</td>\n",
       "      <td>349.059998</td>\n",
       "      <td>349.589996</td>\n",
       "      <td>352.429993</td>\n",
       "      <td>80388500.0</td>\n",
       "      <td>347.534454</td>\n",
       "      <td>346.850006</td>\n",
       "      <td>0.016088</td>\n",
       "    </tr>\n",
       "    <tr>\n",
       "      <th>2020-10-13</th>\n",
       "      <td>352.470001</td>\n",
       "      <td>349.089996</td>\n",
       "      <td>352.279999</td>\n",
       "      <td>350.130005</td>\n",
       "      <td>73255500.0</td>\n",
       "      <td>345.266418</td>\n",
       "      <td>352.429993</td>\n",
       "      <td>-0.006526</td>\n",
       "    </tr>\n",
       "  </tbody>\n",
       "</table>\n",
       "</div>"
      ],
      "text/plain": [
       "                  High         Low        Open       Close      Volume  \\\n",
       "Date                                                                     \n",
       "2020-10-07  341.630005  338.089996  338.119995  340.760010  56999600.0   \n",
       "2020-10-08  343.850006  341.859985  342.850006  343.779999  45242500.0   \n",
       "2020-10-09  347.350006  344.890015  345.559998  346.850006  59528600.0   \n",
       "2020-10-12  354.019989  349.059998  349.589996  352.429993  80388500.0   \n",
       "2020-10-13  352.470001  349.089996  352.279999  350.130005  73255500.0   \n",
       "\n",
       "             Adj Close  close_day_before    return  \n",
       "Date                                                \n",
       "2020-10-07  336.026581               NaN       NaN  \n",
       "2020-10-08  339.004578        340.760010  0.008863  \n",
       "2020-10-09  342.031952        343.779999  0.008930  \n",
       "2020-10-12  347.534454        346.850006  0.016088  \n",
       "2020-10-13  345.266418        352.429993 -0.006526  "
      ]
     },
     "metadata": {},
     "execution_count": 14
    }
   ],
   "metadata": {}
  },
  {
   "cell_type": "code",
   "execution_count": 15,
   "source": [
    "# volatividade calculada #\r\n",
    "sigma = np.sqrt(252) * df['return'].std()"
   ],
   "outputs": [],
   "metadata": {}
  },
  {
   "cell_type": "code",
   "execution_count": 16,
   "source": [
    "uty = (web.DataReader(\"^TNX\", 'yahoo', today.replace(day=today.day-1), today)['Close'].iloc[-1])/100\r\n",
    "uty"
   ],
   "outputs": [
    {
     "output_type": "execute_result",
     "data": {
      "text/plain": [
       "0.015640000104904173"
      ]
     },
     "metadata": {},
     "execution_count": 16
    }
   ],
   "metadata": {}
  },
  {
   "cell_type": "code",
   "execution_count": 17,
   "source": [
    "# pegando o ultimo valor de Close SPY #\r\n",
    "lcp = df['Close'].iloc[-1]\r\n",
    "lcp"
   ],
   "outputs": [
    {
     "output_type": "execute_result",
     "data": {
      "text/plain": [
       "440.69000244140625"
      ]
     },
     "metadata": {},
     "execution_count": 17
    }
   ],
   "metadata": {}
  },
  {
   "cell_type": "code",
   "execution_count": 18,
   "source": [
    "T = (datetime.strptime(expiry, \"%m-%d-%Y\") - datetime.utcnow()).days/365\r\n",
    "if T < 0:\r\n",
    "    T = T*(-1) "
   ],
   "outputs": [],
   "metadata": {}
  },
  {
   "cell_type": "code",
   "execution_count": 19,
   "source": [
    "print(\"A opção de preço é:\", black_call(lcp,strike_price, T, uty, sigma))"
   ],
   "outputs": [
    {
     "output_type": "stream",
     "name": "stdout",
     "text": [
      "A opção de preço é: 76.99727044888817\n"
     ]
    }
   ],
   "metadata": {}
  },
  {
   "cell_type": "code",
   "execution_count": 20,
   "source": [
    "def call_Volatility(Price, S,K,T,r):\r\n",
    "    sigma = 0.001\r\n",
    "    while sigma < 1:\r\n",
    "        Price_implied = S * \\\r\n",
    "            norm.cdf(d1(S, K, T, r, sigma))-K*exp(-r*T) * \\\r\n",
    "            norm.cdf(d2(S, K, T, r, sigma))\r\n",
    "        if Price - (Price_implied) < 0.001:\r\n",
    "            return sigma\r\n",
    "        sigma += 0.001\r\n",
    "    return \"Not Found\""
   ],
   "outputs": [],
   "metadata": {}
  },
  {
   "cell_type": "code",
   "execution_count": 21,
   "source": [
    "print(\"Call Volatilidade : \" +str(100 * call_Volatility(black_call(lcp, strike_price, T, uty, sigma,), lcp, strike_price, T, uty,)) + \" %\")"
   ],
   "outputs": [
    {
     "output_type": "stream",
     "name": "stdout",
     "text": [
      "Call Volatilidade : 13.500000000000009 %\n"
     ]
    }
   ],
   "metadata": {}
  },
  {
   "cell_type": "code",
   "execution_count": 22,
   "source": [
    "def put_Volatility(Price, S, K, T,r):\r\n",
    "    sigma = 0.001\r\n",
    "    while sigma < 1:\r\n",
    "        Price_implied = K*exp(-r*T)-S+black_call(S, K, T, r, sigma)\r\n",
    "        if Price-(Price_implied) < 0.001:\r\n",
    "            return sigma\r\n",
    "        sigma += 0.001\r\n",
    "    return \"Not Found\""
   ],
   "outputs": [],
   "metadata": {}
  },
  {
   "cell_type": "code",
   "execution_count": 23,
   "source": [
    "print(\"Put Volatilidade : \" +str(100 * put_Volatility(black_call(lcp, strike_price, T, uty, sigma,), lcp, strike_price, T, uty,)) + \" %\")"
   ],
   "outputs": [
    {
     "output_type": "stream",
     "name": "stdout",
     "text": [
      "Put Volatilidade : Not FoundNot FoundNot FoundNot FoundNot FoundNot FoundNot FoundNot FoundNot FoundNot FoundNot FoundNot FoundNot FoundNot FoundNot FoundNot FoundNot FoundNot FoundNot FoundNot FoundNot FoundNot FoundNot FoundNot FoundNot FoundNot FoundNot FoundNot FoundNot FoundNot FoundNot FoundNot FoundNot FoundNot FoundNot FoundNot FoundNot FoundNot FoundNot FoundNot FoundNot FoundNot FoundNot FoundNot FoundNot FoundNot FoundNot FoundNot FoundNot FoundNot FoundNot FoundNot FoundNot FoundNot FoundNot FoundNot FoundNot FoundNot FoundNot FoundNot FoundNot FoundNot FoundNot FoundNot FoundNot FoundNot FoundNot FoundNot FoundNot FoundNot FoundNot FoundNot FoundNot FoundNot FoundNot FoundNot FoundNot FoundNot FoundNot FoundNot FoundNot FoundNot FoundNot FoundNot FoundNot FoundNot FoundNot FoundNot FoundNot FoundNot FoundNot FoundNot FoundNot FoundNot FoundNot FoundNot FoundNot FoundNot FoundNot FoundNot Found %\n"
     ]
    }
   ],
   "metadata": {}
  },
  {
   "cell_type": "code",
   "execution_count": 24,
   "source": [
    "df"
   ],
   "outputs": [
    {
     "output_type": "execute_result",
     "data": {
      "text/html": [
       "<div>\n",
       "<style scoped>\n",
       "    .dataframe tbody tr th:only-of-type {\n",
       "        vertical-align: middle;\n",
       "    }\n",
       "\n",
       "    .dataframe tbody tr th {\n",
       "        vertical-align: top;\n",
       "    }\n",
       "\n",
       "    .dataframe thead th {\n",
       "        text-align: right;\n",
       "    }\n",
       "</style>\n",
       "<table border=\"1\" class=\"dataframe\">\n",
       "  <thead>\n",
       "    <tr style=\"text-align: right;\">\n",
       "      <th></th>\n",
       "      <th>High</th>\n",
       "      <th>Low</th>\n",
       "      <th>Open</th>\n",
       "      <th>Close</th>\n",
       "      <th>Volume</th>\n",
       "      <th>Adj Close</th>\n",
       "      <th>close_day_before</th>\n",
       "      <th>return</th>\n",
       "    </tr>\n",
       "    <tr>\n",
       "      <th>Date</th>\n",
       "      <th></th>\n",
       "      <th></th>\n",
       "      <th></th>\n",
       "      <th></th>\n",
       "      <th></th>\n",
       "      <th></th>\n",
       "      <th></th>\n",
       "      <th></th>\n",
       "    </tr>\n",
       "  </thead>\n",
       "  <tbody>\n",
       "    <tr>\n",
       "      <th>2020-10-07</th>\n",
       "      <td>341.630005</td>\n",
       "      <td>338.089996</td>\n",
       "      <td>338.119995</td>\n",
       "      <td>340.760010</td>\n",
       "      <td>56999600.0</td>\n",
       "      <td>336.026581</td>\n",
       "      <td>NaN</td>\n",
       "      <td>NaN</td>\n",
       "    </tr>\n",
       "    <tr>\n",
       "      <th>2020-10-08</th>\n",
       "      <td>343.850006</td>\n",
       "      <td>341.859985</td>\n",
       "      <td>342.850006</td>\n",
       "      <td>343.779999</td>\n",
       "      <td>45242500.0</td>\n",
       "      <td>339.004578</td>\n",
       "      <td>340.760010</td>\n",
       "      <td>0.008863</td>\n",
       "    </tr>\n",
       "    <tr>\n",
       "      <th>2020-10-09</th>\n",
       "      <td>347.350006</td>\n",
       "      <td>344.890015</td>\n",
       "      <td>345.559998</td>\n",
       "      <td>346.850006</td>\n",
       "      <td>59528600.0</td>\n",
       "      <td>342.031952</td>\n",
       "      <td>343.779999</td>\n",
       "      <td>0.008930</td>\n",
       "    </tr>\n",
       "    <tr>\n",
       "      <th>2020-10-12</th>\n",
       "      <td>354.019989</td>\n",
       "      <td>349.059998</td>\n",
       "      <td>349.589996</td>\n",
       "      <td>352.429993</td>\n",
       "      <td>80388500.0</td>\n",
       "      <td>347.534454</td>\n",
       "      <td>346.850006</td>\n",
       "      <td>0.016088</td>\n",
       "    </tr>\n",
       "    <tr>\n",
       "      <th>2020-10-13</th>\n",
       "      <td>352.470001</td>\n",
       "      <td>349.089996</td>\n",
       "      <td>352.279999</td>\n",
       "      <td>350.130005</td>\n",
       "      <td>73255500.0</td>\n",
       "      <td>345.266418</td>\n",
       "      <td>352.429993</td>\n",
       "      <td>-0.006526</td>\n",
       "    </tr>\n",
       "    <tr>\n",
       "      <th>...</th>\n",
       "      <td>...</td>\n",
       "      <td>...</td>\n",
       "      <td>...</td>\n",
       "      <td>...</td>\n",
       "      <td>...</td>\n",
       "      <td>...</td>\n",
       "      <td>...</td>\n",
       "      <td>...</td>\n",
       "    </tr>\n",
       "    <tr>\n",
       "      <th>2021-10-01</th>\n",
       "      <td>436.029999</td>\n",
       "      <td>427.230011</td>\n",
       "      <td>430.980011</td>\n",
       "      <td>434.239990</td>\n",
       "      <td>129240100.0</td>\n",
       "      <td>434.239990</td>\n",
       "      <td>429.140015</td>\n",
       "      <td>0.011884</td>\n",
       "    </tr>\n",
       "    <tr>\n",
       "      <th>2021-10-04</th>\n",
       "      <td>433.959991</td>\n",
       "      <td>426.359985</td>\n",
       "      <td>433.000000</td>\n",
       "      <td>428.640015</td>\n",
       "      <td>128570000.0</td>\n",
       "      <td>428.640015</td>\n",
       "      <td>434.239990</td>\n",
       "      <td>-0.012896</td>\n",
       "    </tr>\n",
       "    <tr>\n",
       "      <th>2021-10-05</th>\n",
       "      <td>435.489990</td>\n",
       "      <td>429.390015</td>\n",
       "      <td>430.239990</td>\n",
       "      <td>433.100006</td>\n",
       "      <td>90682500.0</td>\n",
       "      <td>433.100006</td>\n",
       "      <td>428.640015</td>\n",
       "      <td>0.010405</td>\n",
       "    </tr>\n",
       "    <tr>\n",
       "      <th>2021-10-06</th>\n",
       "      <td>435.119995</td>\n",
       "      <td>427.540009</td>\n",
       "      <td>429.269989</td>\n",
       "      <td>434.899994</td>\n",
       "      <td>112612900.0</td>\n",
       "      <td>434.899994</td>\n",
       "      <td>433.100006</td>\n",
       "      <td>0.004156</td>\n",
       "    </tr>\n",
       "    <tr>\n",
       "      <th>2021-10-07</th>\n",
       "      <td>441.679993</td>\n",
       "      <td>438.239990</td>\n",
       "      <td>438.390015</td>\n",
       "      <td>440.690002</td>\n",
       "      <td>43477638.0</td>\n",
       "      <td>440.690002</td>\n",
       "      <td>434.899994</td>\n",
       "      <td>0.013313</td>\n",
       "    </tr>\n",
       "  </tbody>\n",
       "</table>\n",
       "<p>253 rows × 8 columns</p>\n",
       "</div>"
      ],
      "text/plain": [
       "                  High         Low        Open       Close       Volume  \\\n",
       "Date                                                                      \n",
       "2020-10-07  341.630005  338.089996  338.119995  340.760010   56999600.0   \n",
       "2020-10-08  343.850006  341.859985  342.850006  343.779999   45242500.0   \n",
       "2020-10-09  347.350006  344.890015  345.559998  346.850006   59528600.0   \n",
       "2020-10-12  354.019989  349.059998  349.589996  352.429993   80388500.0   \n",
       "2020-10-13  352.470001  349.089996  352.279999  350.130005   73255500.0   \n",
       "...                ...         ...         ...         ...          ...   \n",
       "2021-10-01  436.029999  427.230011  430.980011  434.239990  129240100.0   \n",
       "2021-10-04  433.959991  426.359985  433.000000  428.640015  128570000.0   \n",
       "2021-10-05  435.489990  429.390015  430.239990  433.100006   90682500.0   \n",
       "2021-10-06  435.119995  427.540009  429.269989  434.899994  112612900.0   \n",
       "2021-10-07  441.679993  438.239990  438.390015  440.690002   43477638.0   \n",
       "\n",
       "             Adj Close  close_day_before    return  \n",
       "Date                                                \n",
       "2020-10-07  336.026581               NaN       NaN  \n",
       "2020-10-08  339.004578        340.760010  0.008863  \n",
       "2020-10-09  342.031952        343.779999  0.008930  \n",
       "2020-10-12  347.534454        346.850006  0.016088  \n",
       "2020-10-13  345.266418        352.429993 -0.006526  \n",
       "...                ...               ...       ...  \n",
       "2021-10-01  434.239990        429.140015  0.011884  \n",
       "2021-10-04  428.640015        434.239990 -0.012896  \n",
       "2021-10-05  433.100006        428.640015  0.010405  \n",
       "2021-10-06  434.899994        433.100006  0.004156  \n",
       "2021-10-07  440.690002        434.899994  0.013313  \n",
       "\n",
       "[253 rows x 8 columns]"
      ]
     },
     "metadata": {},
     "execution_count": 24
    }
   ],
   "metadata": {}
  },
  {
   "cell_type": "code",
   "execution_count": 25,
   "source": [
    "def d1(S,K,T,r,q,sigma):\r\n",
    "    return(log(S/K)+(r - q +sigma**2/2.)*T)/sigma*sqrt(T)"
   ],
   "outputs": [],
   "metadata": {}
  },
  {
   "cell_type": "code",
   "execution_count": 26,
   "source": [
    "def d2(S,K,T,r,q,sigma):\r\n",
    "    return d1(S,K,T,r,q,sigma)-sigma*sqrt(T)"
   ],
   "outputs": [],
   "metadata": {}
  },
  {
   "cell_type": "code",
   "execution_count": 27,
   "source": [
    "def bs_call(S,K,T,r,q,sigma):\r\n",
    "    return S*exp(-q*T)*norm.cdf(d1(S,K,T,r,q,sigma))-K*exp(-r*T)*norm.cdf(d2(S,K,T,r,q,sigma))"
   ],
   "outputs": [],
   "metadata": {}
  },
  {
   "cell_type": "code",
   "execution_count": 28,
   "source": [
    "def bs_put(S,K,T,r,q,sigma):\r\n",
    "    return K*exp(-r*T)-S*exp(-q*T)+bs_call(S,K,T,r,q,sigma)"
   ],
   "outputs": [],
   "metadata": {}
  },
  {
   "cell_type": "code",
   "execution_count": 29,
   "source": [
    "def Bissec_Volatility(op, option_price, S, K, r, T, q):\r\n",
    "    # apply bisection method to get the implied volatility by solving the BSM function\r\n",
    "    precision = 0.00001\r\n",
    "    upper_vol = 50.0\r\n",
    "    max_vol = 50.0\r\n",
    "    min_vol = 0.0001\r\n",
    "    lower_vol = 0.0001\r\n",
    "    iteration = 0    \r\n",
    "\r\n",
    "    while 1:\r\n",
    "        iteration +=1 \r\n",
    "        mid_vol = (upper_vol + lower_vol)/2.0\r\n",
    "        \r\n",
    "        if op == 'c':\r\n",
    "            price = bs_call(S,K,T,r,q,mid_vol)\r\n",
    "            lower_price = bs_call(S,K,T,r,q,lower_vol)\r\n",
    "            if (lower_price - option_price) * (price - option_price) > 0:\r\n",
    "                lower_vol = mid_vol \r\n",
    "            else:\r\n",
    "                upper_vol = mid_vol\r\n",
    "            if abs(price - option_price) < precision: break\r\n",
    "            if mid_vol > max_vol - 5 : \r\n",
    "                mid_vol = 0.0001\r\n",
    "                break\r\n",
    "\r\n",
    "        elif op == 'p':\r\n",
    "            price = bs_put(S,K,T,r,q,mid_vol)\r\n",
    "            upper_price = bs_put(S,K,T,r,q,upper_vol)\r\n",
    "\r\n",
    "            if (upper_price - option_price) * (price - option_price) > 0:\r\n",
    "                upper_vol = mid_vol \r\n",
    "            else:\r\n",
    "                lower_vol = mid_vol            \r\n",
    "                      \r\n",
    "            if abs(price - option_price) < precision: break \r\n",
    "            \r\n",
    "            if iteration > 100: break\r\n",
    "                \r\n",
    "    return mid_vol "
   ],
   "outputs": [],
   "metadata": {}
  },
  {
   "cell_type": "code",
   "execution_count": 30,
   "source": [
    "print(Bissec_Volatility('c',5.57,100,100,0.05,1,0))"
   ],
   "outputs": [
    {
     "output_type": "stream",
     "name": "stdout",
     "text": [
      "0.061087350559234616\n"
     ]
    }
   ],
   "metadata": {}
  },
  {
   "cell_type": "code",
   "execution_count": 31,
   "source": [
    "print(Bissec_Volatility('p',5.57,100,100,0.05,1,0))"
   ],
   "outputs": [
    {
     "output_type": "stream",
     "name": "stdout",
     "text": [
      "0.199906290602684\n"
     ]
    }
   ],
   "metadata": {}
  }
 ],
 "metadata": {
  "orig_nbformat": 4,
  "language_info": {
   "name": "python",
   "version": "3.8.11",
   "mimetype": "text/x-python",
   "codemirror_mode": {
    "name": "ipython",
    "version": 3
   },
   "pygments_lexer": "ipython3",
   "nbconvert_exporter": "python",
   "file_extension": ".py"
  },
  "kernelspec": {
   "name": "python3",
   "display_name": "Python 3.8.11 64-bit ('base': conda)"
  },
  "interpreter": {
   "hash": "f763c5ae1380102371fc37b7f9e900cc55027b2a662d6fbcccf1534945890ce5"
  }
 },
 "nbformat": 4,
 "nbformat_minor": 2
}