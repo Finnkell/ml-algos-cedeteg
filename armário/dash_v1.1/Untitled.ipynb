{
 "cells": [
  {
   "cell_type": "code",
   "execution_count": 1,
   "id": "739b91c9-3d48-4c43-a371-ab1f6298e73a",
   "metadata": {},
   "outputs": [],
   "source": [
    "from web_scrapping import import_ind"
   ]
  },
  {
   "cell_type": "code",
   "execution_count": 3,
   "id": "8ab06285-c714-4a3b-9e1a-eac82e4318cc",
   "metadata": {},
   "outputs": [],
   "source": [
    "df1, df2 = import_ind('VALE3')"
   ]
  },
  {
   "cell_type": "code",
   "execution_count": 5,
   "id": "3c4666f2-9392-408e-9824-fe56b63712ed",
   "metadata": {
    "jp-MarkdownHeadingCollapsed": true,
    "tags": []
   },
   "outputs": [
    {
     "data": {
      "text/plain": [
       "'208.436.906.000'"
      ]
     },
     "execution_count": 5,
     "metadata": {},
     "output_type": "execute_result"
    }
   ],
   "source": [
    "id_df2.loc[0][0]"
   ]
  },
  {
   "cell_type": "code",
   "execution_count": 8,
   "id": "41ec88ca-e21c-4073-87f4-1346b9dcda38",
   "metadata": {},
   "outputs": [
    {
     "data": {
      "text/html": [
       "<div>\n",
       "<style scoped>\n",
       "    .dataframe tbody tr th:only-of-type {\n",
       "        vertical-align: middle;\n",
       "    }\n",
       "\n",
       "    .dataframe tbody tr th {\n",
       "        vertical-align: top;\n",
       "    }\n",
       "\n",
       "    .dataframe thead th {\n",
       "        text-align: right;\n",
       "    }\n",
       "</style>\n",
       "<table border=\"1\" class=\"dataframe\">\n",
       "  <thead>\n",
       "    <tr style=\"text-align: right;\">\n",
       "      <th></th>\n",
       "      <th>patrimonio_liquido</th>\n",
       "      <th>ativos</th>\n",
       "      <th>ativo_circulante</th>\n",
       "      <th>divida_bruta</th>\n",
       "      <th>disponibilidade</th>\n",
       "      <th>divida_liquida</th>\n",
       "      <th>valor_de_mercado</th>\n",
       "      <th>valor_de_firma</th>\n",
       "      <th>n_total_de_papeis</th>\n",
       "      <th>segmento_de_listagem</th>\n",
       "      <th>free_float</th>\n",
       "    </tr>\n",
       "  </thead>\n",
       "  <tbody>\n",
       "    <tr>\n",
       "      <th>0</th>\n",
       "      <td>208.436.906.000</td>\n",
       "      <td>483.789.293.000</td>\n",
       "      <td>127.068.007.000</td>\n",
       "      <td>69.343.450.000</td>\n",
       "      <td>68.274.694.000</td>\n",
       "      <td>1.068.756.000</td>\n",
       "      <td>389.502.268.735</td>\n",
       "      <td>390.571.024.735</td>\n",
       "      <td>5.132.458.410</td>\n",
       "      <td>Novo Mercado</td>\n",
       "      <td>95,31%</td>\n",
       "    </tr>\n",
       "  </tbody>\n",
       "</table>\n",
       "</div>"
      ],
      "text/plain": [
       "  patrimonio_liquido           ativos ativo_circulante    divida_bruta  \\\n",
       "0    208.436.906.000  483.789.293.000  127.068.007.000  69.343.450.000   \n",
       "\n",
       "  disponibilidade divida_liquida valor_de_mercado   valor_de_firma  \\\n",
       "0  68.274.694.000  1.068.756.000  389.502.268.735  390.571.024.735   \n",
       "\n",
       "  n_total_de_papeis segmento_de_listagem free_float  \n",
       "0     5.132.458.410         Novo Mercado     95,31%  "
      ]
     },
     "execution_count": 8,
     "metadata": {},
     "output_type": "execute_result"
    }
   ],
   "source": [
    "df2"
   ]
  }
 ],
 "metadata": {
  "kernelspec": {
   "display_name": "Python 3 (ipykernel)",
   "language": "python",
   "name": "python3"
  },
  "language_info": {
   "codemirror_mode": {
    "name": "ipython",
    "version": 3
   },
   "file_extension": ".py",
   "mimetype": "text/x-python",
   "name": "python",
   "nbconvert_exporter": "python",
   "pygments_lexer": "ipython3",
   "version": "3.8.12"
  }
 },
 "nbformat": 4,
 "nbformat_minor": 5
}
