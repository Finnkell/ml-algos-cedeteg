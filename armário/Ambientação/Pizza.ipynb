{
 "cells": [
  {
   "cell_type": "code",
   "execution_count": 4,
   "metadata": {},
   "outputs": [],
   "source": [
    "def import_ibov():\n",
    "    '''Funca para importar dados do site da B3 sobre a ibov, os dados no fim serão organizados em um dataframe para podermos usá-los futuramente'''\n",
    "    # Importando bibliotecas\n",
    "    from selenium import webdriver # Usado para importar os dados da url\n",
    "    import time # usado para gerar um tempo de espera enquanto se utiliza o selenium\n",
    "    from bs4 import BeautifulSoup # manipular o html\n",
    "    import pandas as pd # criar a DF que será trabalhada\n",
    "    \n",
    "    # definindo a url da b3\n",
    "    url = \"https://sistemaswebb3-listados.b3.com.br/indexPage/day/IBOV?language=pt-br\"\n",
    "    \n",
    "    # iniciando o webdriver, que deve estar com o driver na pasta do arquivo para funcionar, nesse caso será utilizado do Chrome\n",
    "    browser = webdriver.Chrome()\n",
    "    \n",
    "    # Entrando na url informada\n",
    "    browser.get(url)\n",
    "    \n",
    "    # Encontrando o elemento no html para filtrarmos os dados que precisamos\n",
    "    browser.find_element_by_id('segment').send_keys('Setor de Atuação')\n",
    "    \n",
    "    # Aguardando 2 segundos para a página atualizar\n",
    "    time.sleep(2)\n",
    "    \n",
    "    # Agora selecionando o o menu para podermos ver todas as ações disponíveis\n",
    "    browser.find_element_by_id('selectPage').send_keys('120')\n",
    "    \n",
    "    # Aguardando 1 segundo para o página atualizar\n",
    "    time.sleep(1)\n",
    "    \n",
    "    # IMportando o html inteiro para o Python na variável html\n",
    "    html = browser.page_source\n",
    "    \n",
    "    # Fechando o navegador\n",
    "    browser.close() \n",
    "    \n",
    "    # Usando o beatiful soup e convertendo o arquivo para podermos selecionar os dados que precisamos\n",
    "    bs = BeautifulSoup(html, 'html.parser')\n",
    "    \n",
    "    # Criando as listas onde iremos armazenar os dados do html\n",
    "    setor, cod, acao, tipo, qtde_t, part, part_a = [], [], [], [], [], [], []\n",
    "    \n",
    "    # Usando a função find_all para selecionarmos apenas 'td' que contém os dados que usaremos e armazenando eles na variável linhas\n",
    "    linhas = bs.find_all('td')\n",
    "    \n",
    "    # Criando uma variável que será usada no while loop abaixo\n",
    "    i = 0\n",
    "    \n",
    "    # While loop para podermos armazenar os dados em suas respectivas colunas, onde:\n",
    "    # temos 7 colunas então pegamos o primeiro elemento 0 e somando 1 até chegarmos ao último elemento para a coluna [i+6] = ao setimo elemento\n",
    "    # por fim somando 7 para pularmos para a próxima linhas e seguir a lógica\n",
    "    # o loop só irá para quando o número de linhas for maior do que o que os dados apresentados, para isso usados o lógica len(linhas) que nos entrega a quantia de dados\n",
    "    # e como i é somado de 7 a cada iteração o loop só irá para quando todos os dados forem indexidaodos nas suas devidas colunas\n",
    "    while i < (len(linhas)):\n",
    "        setor.append(linhas[i].text)\n",
    "        cod.append(linhas[i+1].text)\n",
    "        acao.append(linhas[i+2].text)\n",
    "        tipo.append(linhas[i+3].text)\n",
    "        qtde_t.append(linhas[i+4].text)\n",
    "        part.append(linhas[i+5].text)\n",
    "        part_a.append(linhas[i+6].text)\n",
    "        i += 7\n",
    "        \n",
    "    # Criando um df para armazearmos os dados    \n",
    "    df = pd.DataFrame({'Setor': setor[:-1],\n",
    "                  'Acao': cod[:-1],\n",
    "                  'Empresa': acao[:-1],\n",
    "                  'Qntd_teorica': qtde_t[:-1],\n",
    "                  'Part_%': part[:-1]}) # filtramos para eliminar as últimas linhas, pois a b3 entrega uma soma ao final que não queremos\n",
    "    # Separando os setores e subsetores em colunas\n",
    "    df['SubSetor'] = df['Setor'].apply(lambda s: s[s.rfind('/')+1:].strip())\n",
    "    df['Setor'] = df['Setor'].apply(lambda s: s[:s.rfind('/')])\n",
    "    \n",
    "    # Convertendo os valores de string para int\n",
    "    df['Qntd_teorica'] = df['Qntd_teorica'].apply(lambda s: s.replace(\".\", \"\"))\n",
    "    df['Qntd_teorica'] = pd.to_numeric(df['Qntd_teorica'])\n",
    "    df['Part_%'] = df['Part_%'].apply(lambda s: s.replace(\",\", \"\"))\n",
    "    df['Part_%'] = pd.to_numeric(df['Part_%'])/1000\n",
    "    df.sort_values('Part_%', ascending = False, inplace = True)\n",
    "    \n",
    "    # Criando uma colunas com a % acumulada\n",
    "    df['Part_%_acum'] = df['Part_%'].cumsum()\n",
    "    \n",
    "    # Resetando o index\n",
    "    df.reset_index(drop = True, inplace = True)\n",
    "    \n",
    "    # fim\n",
    "    return df"
   ]
  },
  {
   "cell_type": "code",
   "execution_count": 6,
   "metadata": {},
   "outputs": [],
   "source": [
    "import plotly.express as px\n",
    "fig  = px.sunburst(data_frame = import_ibov(), path = ['Setor', 'SubSetor', 'Empresa','Acao'], values = 'Part_%', height = 900)"
   ]
  },
  {
   "cell_type": "code",
   "execution_count": 7,
   "metadata": {},
   "outputs": [
    {
     "data": {
      "application/vnd.plotly.v1+json": {
       "config": {
        "plotlyServerURL": "https://plot.ly"
       },
       "data": [
        {
         "branchvalues": "total",
         "domain": {
          "x": [
           0,
           1
          ],
          "y": [
           0,
           1
          ]
         },
         "hovertemplate": "labels=%{label}<br>Part_%=%{value}<br>parent=%{parent}<br>id=%{id}<extra></extra>",
         "ids": [
          "Cons N Cíclico /Bebidas/AMBEV S/A/ABEV3",
          "Consumo Cíclico /Tecid Vest Calç/ALPARGATAS/ALPA4",
          "Consumo Cíclico /Comércio/AMERICANAS/AMER3",
          "Cons N Cíclico /Comércio Distr./ASSAI/ASAI3",
          "Bens Indls/Transporte/AZUL/AZUL4",
          "Financeiro e Outros/Serviços Financeiros Diversos/B3/B3SA3",
          "Financ e Outros /Interms Financs/BRASIL/BBAS3",
          "Financ e Outros /Interms Financs/BRADESCO/BBDC3",
          "Financ e Outros /Interms Financs/BRADESCO/BBDC4",
          "Financ e Outros /Previd  Seguros/BBSEGURIDADE/BBSE3",
          "Cons N  Básico /Alimentos Processados/MINERVA/BEEF3",
          "Financ e Outros /Interms Financs/BANCO INTER/BIDI11",
          "Financ e Outros /Interms Financs/BANCO INTER/BIDI4",
          "Financ e Outros /Interms Financs/BTGP BANCO/BPAC11",
          "Financ e Outros /Interms Financs/BANCO PAN/BPAN4",
          "Mats Básicos /Mineração/BRADESPAR/BRAP4",
          "Petróleo, Gás e Biocombustívei/Petróleo, Gás e Biocombustíveis/PETROBRAS BR/BRDT3",
          "Cons N  Básico /Alimentos Processados/BRF SA/BRFS3",
          "Mats Básicos /Químicos/BRASKEM/BRKM5",
          "Financ e Outros /Explor Imóveis/BR MALLS PAR/BRML3",
          "Tec.Informação/Programas Servs/MELIUZ/CASH3",
          "Bens Indls/Transporte/CCR SA/CCRO3",
          "Financeiro e Outros/Serviços Financeiros Diversos/CIELO/CIEL3",
          "Utilidade Públ /Energ Elétrica/CEMIG/CMIG4",
          "Diverso/Diversos/COGNA ON/COGN3",
          "Utilidade Públ /Energ Elétrica/CPFL ENERGIA/CPFE3",
          "Utilidade Públ /Energ Elétrica/COPEL/CPLE6",
          "Cons N Cíclico /Comércio Distr./CARREFOUR BR/CRFB3",
          "Petróleo, Gás e Biocombustívei/Petróleo, Gás e Biocombustíveis/COSAN/CSAN3",
          "Mats Básicos /Sid Metalurgia/SID NACIONAL/CSNA3",
          "Consumo Cíclico/Viagens e Lazer/CVC BRASIL/CVCB3",
          "Consumo Cíclico/Constr Civil/CYRELA REALT/CYRE3",
          "Mats Básicos /Madeira e Papel/DEXCO/DXCO3",
          "Bens Indls/Transporte/ECORODOVIAS/ECOR3",
          "Utilidade Públ /Energ Elétrica/ENGIE BRASIL/EGIE3",
          "Utilidade Públ /Energ Elétrica/ELETROBRAS/ELET3",
          "Utilidade Públ /Energ Elétrica/ELETROBRAS/ELET6",
          "Bens Indls /Mat Transporte/EMBRAER/EMBR3",
          "Utilidade Públ /Energ Elétrica/ENERGIAS BR/ENBR3",
          "Utilidade Públ /Energ Elétrica/ENEVA/ENEV3",
          "Utilidade Públ /Energ Elétrica/ENERGISA/ENGI11",
          "Utilidade Públ /Energ Elétrica/EQUATORIAL/EQTL3",
          "Consumo Cíclico/Constr Civil/EZTEC/EZTC3",
          "Saúde/SM Hosp An.Diag/FLEURY/FLRY3",
          "Mats Básicos /Sid Metalurgia/GERDAU/GGBR4",
          "Saúde/SM Hosp An.Diag/INTERMEDICA/GNDI3",
          "Mats Básicos /Sid Metalurgia/GERDAU MET/GOAU4",
          "Bens Indls/Transporte/GOL/GOLL4",
          "Saúde/SM Hosp An.Diag/HAPVIDA/HAPV3",
          "Saúde/Comércio Distr./HYPERA/HYPE3",
          "Financ e Outros /Explor Imóveis/IGUATEMI/IGTA3",
          "Financ e Outros /Previd  Seguros/IRBBRASIL RE/IRBR3",
          "Financ e Outros /Interms Financs/ITAUSA/ITSA4",
          "Financ e Outros /Interms Financs/ITAUUNIBANCO/ITUB4",
          "Cons N  Básico /Alimentos Processados/JBS/JBSS3",
          "Consumo Cíclico/Constr Civil/JHSF PART/JHSF3",
          "Mats Básicos /Madeira e Papel/KLABIN S/A/KLBN11",
          "Consumo Cíclico /Comércio/LOJAS AMERIC/LAME4",
          "Diverso/Diversos/LOCAMERICA/LCAM3",
          "Consumo Cíclico /Comércio/LOJAS RENNER/LREN3",
          "Tec.Informação/Programas Servs/LOCAWEB/LWSA3",
          "Consumo Cíclico /Comércio/MAGAZ LUIZA/MGLU3",
          "Cons N  Básico /Alimentos Processados/MARFRIG/MRFG3",
          "Consumo Cíclico/Constr Civil/MRV/MRVE3",
          "Financ e Outros /Explor Imóveis/MULTIPLAN/MULT3",
          "Cons N Cíclico /Pr Pessoal Limp/GRUPO NATURA/NTCO3",
          "Cons N Cíclico /Comércio Distr./P.ACUCAR-CBD/PCAR3",
          "Petróleo, Gás e Biocombustívei/Petróleo, Gás e Biocombustíveis/PETROBRAS/PETR3",
          "Petróleo, Gás e Biocombustívei/Petróleo, Gás e Biocombustíveis/PETROBRAS/PETR4",
          "Consumo Cíclico /Comércio/PETZ/PETZ3",
          "Petróleo, Gás e Biocombustívei/Petróleo, Gás e Biocombustíveis/PETRORIO/PRIO3",
          "Saúde/SM Hosp An.Diag/QUALICORP/QUAL3",
          "Saúde/Comércio Distr./RAIADROGASIL/RADL3",
          "Bens Indls/Transporte/RUMO S.A./RAIL3",
          "Saúde/SM Hosp An.Diag/REDE D OR/RDOR3",
          "Diverso/Diversos/LOCALIZA/RENT3",
          "Financ e Outros /Interms Financs/SANTANDER BR/SANB11",
          "Utilidade Públ /Água Saneamento/SABESP/SBSP3",
          "Consumo Cíclico /Comércio/GRUPO SOMA/SOMA3",
          "Financ e Outros /Previd  Seguros/SUL AMERICA/SULA11",
          "Mats Básicos /Madeira e Papel/SUZANO S.A./SUZB3",
          "Utilidade Públ /Energ Elétrica/TAESA/TAEE11",
          "Telecomunicaçã/Telecomunicação/TIM/TIMS3",
          "Tec.Informação/Programas Servs/TOTVS/TOTS3",
          "Petróleo, Gás e Biocombustívei/Petróleo, Gás e Biocombustíveis/ULTRAPAR/UGPA3",
          "Mats Básicos /Sid Metalurgia/USIMINAS/USIM5",
          "Mats Básicos /Mineração/VALE/VALE3",
          "Consumo Cíclico /Comércio/VIA/VIIA3",
          "Telecomunicaçã/Telecomunicação/TELEF BRASIL/VIVT3",
          "Bens Indls /Máqs e Equips/WEG/WEGE3",
          "Diverso/Diversos/YDUQS PART/YDUQ3",
          "Consumo Cíclico /Tecid Vest Calç/ALPARGATAS",
          "Cons N Cíclico /Bebidas/AMBEV S/A",
          "Consumo Cíclico /Comércio/AMERICANAS",
          "Cons N Cíclico /Comércio Distr./ASSAI",
          "Bens Indls/Transporte/AZUL",
          "Financeiro e Outros/Serviços Financeiros Diversos/B3",
          "Financ e Outros /Interms Financs/BANCO INTER",
          "Financ e Outros /Interms Financs/BANCO PAN",
          "Financ e Outros /Previd  Seguros/BBSEGURIDADE",
          "Financ e Outros /Explor Imóveis/BR MALLS PAR",
          "Financ e Outros /Interms Financs/BRADESCO",
          "Mats Básicos /Mineração/BRADESPAR",
          "Financ e Outros /Interms Financs/BRASIL",
          "Mats Básicos /Químicos/BRASKEM",
          "Cons N  Básico /Alimentos Processados/BRF SA",
          "Financ e Outros /Interms Financs/BTGP BANCO",
          "Cons N Cíclico /Comércio Distr./CARREFOUR BR",
          "Bens Indls/Transporte/CCR SA",
          "Utilidade Públ /Energ Elétrica/CEMIG",
          "Financeiro e Outros/Serviços Financeiros Diversos/CIELO",
          "Diverso/Diversos/COGNA ON",
          "Utilidade Públ /Energ Elétrica/COPEL",
          "Petróleo, Gás e Biocombustívei/Petróleo, Gás e Biocombustíveis/COSAN",
          "Utilidade Públ /Energ Elétrica/CPFL ENERGIA",
          "Consumo Cíclico/Viagens e Lazer/CVC BRASIL",
          "Consumo Cíclico/Constr Civil/CYRELA REALT",
          "Mats Básicos /Madeira e Papel/DEXCO",
          "Bens Indls/Transporte/ECORODOVIAS",
          "Utilidade Públ /Energ Elétrica/ELETROBRAS",
          "Bens Indls /Mat Transporte/EMBRAER",
          "Utilidade Públ /Energ Elétrica/ENERGIAS BR",
          "Utilidade Públ /Energ Elétrica/ENERGISA",
          "Utilidade Públ /Energ Elétrica/ENEVA",
          "Utilidade Públ /Energ Elétrica/ENGIE BRASIL",
          "Utilidade Públ /Energ Elétrica/EQUATORIAL",
          "Consumo Cíclico/Constr Civil/EZTEC",
          "Saúde/SM Hosp An.Diag/FLEURY",
          "Mats Básicos /Sid Metalurgia/GERDAU",
          "Mats Básicos /Sid Metalurgia/GERDAU MET",
          "Bens Indls/Transporte/GOL",
          "Cons N Cíclico /Pr Pessoal Limp/GRUPO NATURA",
          "Consumo Cíclico /Comércio/GRUPO SOMA",
          "Saúde/SM Hosp An.Diag/HAPVIDA",
          "Saúde/Comércio Distr./HYPERA",
          "Financ e Outros /Explor Imóveis/IGUATEMI",
          "Saúde/SM Hosp An.Diag/INTERMEDICA",
          "Financ e Outros /Previd  Seguros/IRBBRASIL RE",
          "Financ e Outros /Interms Financs/ITAUSA",
          "Financ e Outros /Interms Financs/ITAUUNIBANCO",
          "Cons N  Básico /Alimentos Processados/JBS",
          "Consumo Cíclico/Constr Civil/JHSF PART",
          "Mats Básicos /Madeira e Papel/KLABIN S/A",
          "Diverso/Diversos/LOCALIZA",
          "Diverso/Diversos/LOCAMERICA",
          "Tec.Informação/Programas Servs/LOCAWEB",
          "Consumo Cíclico /Comércio/LOJAS AMERIC",
          "Consumo Cíclico /Comércio/LOJAS RENNER",
          "Consumo Cíclico /Comércio/MAGAZ LUIZA",
          "Cons N  Básico /Alimentos Processados/MARFRIG",
          "Tec.Informação/Programas Servs/MELIUZ",
          "Cons N  Básico /Alimentos Processados/MINERVA",
          "Consumo Cíclico/Constr Civil/MRV",
          "Financ e Outros /Explor Imóveis/MULTIPLAN",
          "Cons N Cíclico /Comércio Distr./P.ACUCAR-CBD",
          "Petróleo, Gás e Biocombustívei/Petróleo, Gás e Biocombustíveis/PETROBRAS",
          "Petróleo, Gás e Biocombustívei/Petróleo, Gás e Biocombustíveis/PETROBRAS BR",
          "Petróleo, Gás e Biocombustívei/Petróleo, Gás e Biocombustíveis/PETRORIO",
          "Consumo Cíclico /Comércio/PETZ",
          "Saúde/SM Hosp An.Diag/QUALICORP",
          "Saúde/Comércio Distr./RAIADROGASIL",
          "Saúde/SM Hosp An.Diag/REDE D OR",
          "Bens Indls/Transporte/RUMO S.A.",
          "Utilidade Públ /Água Saneamento/SABESP",
          "Financ e Outros /Interms Financs/SANTANDER BR",
          "Mats Básicos /Sid Metalurgia/SID NACIONAL",
          "Financ e Outros /Previd  Seguros/SUL AMERICA",
          "Mats Básicos /Madeira e Papel/SUZANO S.A.",
          "Utilidade Públ /Energ Elétrica/TAESA",
          "Telecomunicaçã/Telecomunicação/TELEF BRASIL",
          "Telecomunicaçã/Telecomunicação/TIM",
          "Tec.Informação/Programas Servs/TOTVS",
          "Petróleo, Gás e Biocombustívei/Petróleo, Gás e Biocombustíveis/ULTRAPAR",
          "Mats Básicos /Sid Metalurgia/USIMINAS",
          "Mats Básicos /Mineração/VALE",
          "Consumo Cíclico /Comércio/VIA",
          "Bens Indls /Máqs e Equips/WEG",
          "Diverso/Diversos/YDUQS PART",
          "Cons N  Básico /Alimentos Processados",
          "Cons N Cíclico /Bebidas",
          "Consumo Cíclico /Comércio",
          "Cons N Cíclico /Comércio Distr.",
          "Saúde/Comércio Distr.",
          "Consumo Cíclico/Constr Civil",
          "Diverso/Diversos",
          "Utilidade Públ /Energ Elétrica",
          "Financ e Outros /Explor Imóveis",
          "Financ e Outros /Interms Financs",
          "Mats Básicos /Madeira e Papel",
          "Bens Indls /Mat Transporte",
          "Mats Básicos /Mineração",
          "Bens Indls /Máqs e Equips",
          "Petróleo, Gás e Biocombustívei/Petróleo, Gás e Biocombustíveis",
          "Cons N Cíclico /Pr Pessoal Limp",
          "Financ e Outros /Previd  Seguros",
          "Tec.Informação/Programas Servs",
          "Mats Básicos /Químicos",
          "Saúde/SM Hosp An.Diag",
          "Financeiro e Outros/Serviços Financeiros Diversos",
          "Mats Básicos /Sid Metalurgia",
          "Consumo Cíclico /Tecid Vest Calç",
          "Telecomunicaçã/Telecomunicação",
          "Bens Indls/Transporte",
          "Consumo Cíclico/Viagens e Lazer",
          "Utilidade Públ /Água Saneamento",
          "Bens Indls",
          "Bens Indls ",
          "Cons N  Básico ",
          "Cons N Cíclico ",
          "Consumo Cíclico",
          "Consumo Cíclico ",
          "Diverso",
          "Financ e Outros ",
          "Financeiro e Outros",
          "Mats Básicos ",
          "Petróleo, Gás e Biocombustívei",
          "Saúde",
          "Tec.Informação",
          "Telecomunicaçã",
          "Utilidade Públ "
         ],
         "labels": [
          "ABEV3",
          "ALPA4",
          "AMER3",
          "ASAI3",
          "AZUL4",
          "B3SA3",
          "BBAS3",
          "BBDC3",
          "BBDC4",
          "BBSE3",
          "BEEF3",
          "BIDI11",
          "BIDI4",
          "BPAC11",
          "BPAN4",
          "BRAP4",
          "BRDT3",
          "BRFS3",
          "BRKM5",
          "BRML3",
          "CASH3",
          "CCRO3",
          "CIEL3",
          "CMIG4",
          "COGN3",
          "CPFE3",
          "CPLE6",
          "CRFB3",
          "CSAN3",
          "CSNA3",
          "CVCB3",
          "CYRE3",
          "DXCO3",
          "ECOR3",
          "EGIE3",
          "ELET3",
          "ELET6",
          "EMBR3",
          "ENBR3",
          "ENEV3",
          "ENGI11",
          "EQTL3",
          "EZTC3",
          "FLRY3",
          "GGBR4",
          "GNDI3",
          "GOAU4",
          "GOLL4",
          "HAPV3",
          "HYPE3",
          "IGTA3",
          "IRBR3",
          "ITSA4",
          "ITUB4",
          "JBSS3",
          "JHSF3",
          "KLBN11",
          "LAME4",
          "LCAM3",
          "LREN3",
          "LWSA3",
          "MGLU3",
          "MRFG3",
          "MRVE3",
          "MULT3",
          "NTCO3",
          "PCAR3",
          "PETR3",
          "PETR4",
          "PETZ3",
          "PRIO3",
          "QUAL3",
          "RADL3",
          "RAIL3",
          "RDOR3",
          "RENT3",
          "SANB11",
          "SBSP3",
          "SOMA3",
          "SULA11",
          "SUZB3",
          "TAEE11",
          "TIMS3",
          "TOTS3",
          "UGPA3",
          "USIM5",
          "VALE3",
          "VIIA3",
          "VIVT3",
          "WEGE3",
          "YDUQ3",
          "ALPARGATAS",
          "AMBEV S/A",
          "AMERICANAS",
          "ASSAI",
          "AZUL",
          "B3",
          "BANCO INTER",
          "BANCO PAN",
          "BBSEGURIDADE",
          "BR MALLS PAR",
          "BRADESCO",
          "BRADESPAR",
          "BRASIL",
          "BRASKEM",
          "BRF SA",
          "BTGP BANCO",
          "CARREFOUR BR",
          "CCR SA",
          "CEMIG",
          "CIELO",
          "COGNA ON",
          "COPEL",
          "COSAN",
          "CPFL ENERGIA",
          "CVC BRASIL",
          "CYRELA REALT",
          "DEXCO",
          "ECORODOVIAS",
          "ELETROBRAS",
          "EMBRAER",
          "ENERGIAS BR",
          "ENERGISA",
          "ENEVA",
          "ENGIE BRASIL",
          "EQUATORIAL",
          "EZTEC",
          "FLEURY",
          "GERDAU",
          "GERDAU MET",
          "GOL",
          "GRUPO NATURA",
          "GRUPO SOMA",
          "HAPVIDA",
          "HYPERA",
          "IGUATEMI",
          "INTERMEDICA",
          "IRBBRASIL RE",
          "ITAUSA",
          "ITAUUNIBANCO",
          "JBS",
          "JHSF PART",
          "KLABIN S/A",
          "LOCALIZA",
          "LOCAMERICA",
          "LOCAWEB",
          "LOJAS AMERIC",
          "LOJAS RENNER",
          "MAGAZ LUIZA",
          "MARFRIG",
          "MELIUZ",
          "MINERVA",
          "MRV",
          "MULTIPLAN",
          "P.ACUCAR-CBD",
          "PETROBRAS",
          "PETROBRAS BR",
          "PETRORIO",
          "PETZ",
          "QUALICORP",
          "RAIADROGASIL",
          "REDE D OR",
          "RUMO S.A.",
          "SABESP",
          "SANTANDER BR",
          "SID NACIONAL",
          "SUL AMERICA",
          "SUZANO S.A.",
          "TAESA",
          "TELEF BRASIL",
          "TIM",
          "TOTVS",
          "ULTRAPAR",
          "USIMINAS",
          "VALE",
          "VIA",
          "WEG",
          "YDUQS PART",
          "Alimentos Processados",
          "Bebidas",
          "Comércio",
          "Comércio Distr.",
          "Comércio Distr.",
          "Constr Civil",
          "Diversos",
          "Energ Elétrica",
          "Explor Imóveis",
          "Interms Financs",
          "Madeira e Papel",
          "Mat Transporte",
          "Mineração",
          "Máqs e Equips",
          "Petróleo, Gás e Biocombustíveis",
          "Pr Pessoal Limp",
          "Previd  Seguros",
          "Programas Servs",
          "Químicos",
          "SM Hosp An.Diag",
          "Serviços Financeiros Diversos",
          "Sid Metalurgia",
          "Tecid Vest Calç",
          "Telecomunicação",
          "Transporte",
          "Viagens e Lazer",
          "Água Saneamento",
          "Bens Indls",
          "Bens Indls ",
          "Cons N  Básico ",
          "Cons N Cíclico ",
          "Consumo Cíclico",
          "Consumo Cíclico ",
          "Diverso",
          "Financ e Outros ",
          "Financeiro e Outros",
          "Mats Básicos ",
          "Petróleo, Gás e Biocombustívei",
          "Saúde",
          "Tec.Informação",
          "Telecomunicaçã",
          "Utilidade Públ "
         ],
         "name": "",
         "parents": [
          "Cons N Cíclico /Bebidas/AMBEV S/A",
          "Consumo Cíclico /Tecid Vest Calç/ALPARGATAS",
          "Consumo Cíclico /Comércio/AMERICANAS",
          "Cons N Cíclico /Comércio Distr./ASSAI",
          "Bens Indls/Transporte/AZUL",
          "Financeiro e Outros/Serviços Financeiros Diversos/B3",
          "Financ e Outros /Interms Financs/BRASIL",
          "Financ e Outros /Interms Financs/BRADESCO",
          "Financ e Outros /Interms Financs/BRADESCO",
          "Financ e Outros /Previd  Seguros/BBSEGURIDADE",
          "Cons N  Básico /Alimentos Processados/MINERVA",
          "Financ e Outros /Interms Financs/BANCO INTER",
          "Financ e Outros /Interms Financs/BANCO INTER",
          "Financ e Outros /Interms Financs/BTGP BANCO",
          "Financ e Outros /Interms Financs/BANCO PAN",
          "Mats Básicos /Mineração/BRADESPAR",
          "Petróleo, Gás e Biocombustívei/Petróleo, Gás e Biocombustíveis/PETROBRAS BR",
          "Cons N  Básico /Alimentos Processados/BRF SA",
          "Mats Básicos /Químicos/BRASKEM",
          "Financ e Outros /Explor Imóveis/BR MALLS PAR",
          "Tec.Informação/Programas Servs/MELIUZ",
          "Bens Indls/Transporte/CCR SA",
          "Financeiro e Outros/Serviços Financeiros Diversos/CIELO",
          "Utilidade Públ /Energ Elétrica/CEMIG",
          "Diverso/Diversos/COGNA ON",
          "Utilidade Públ /Energ Elétrica/CPFL ENERGIA",
          "Utilidade Públ /Energ Elétrica/COPEL",
          "Cons N Cíclico /Comércio Distr./CARREFOUR BR",
          "Petróleo, Gás e Biocombustívei/Petróleo, Gás e Biocombustíveis/COSAN",
          "Mats Básicos /Sid Metalurgia/SID NACIONAL",
          "Consumo Cíclico/Viagens e Lazer/CVC BRASIL",
          "Consumo Cíclico/Constr Civil/CYRELA REALT",
          "Mats Básicos /Madeira e Papel/DEXCO",
          "Bens Indls/Transporte/ECORODOVIAS",
          "Utilidade Públ /Energ Elétrica/ENGIE BRASIL",
          "Utilidade Públ /Energ Elétrica/ELETROBRAS",
          "Utilidade Públ /Energ Elétrica/ELETROBRAS",
          "Bens Indls /Mat Transporte/EMBRAER",
          "Utilidade Públ /Energ Elétrica/ENERGIAS BR",
          "Utilidade Públ /Energ Elétrica/ENEVA",
          "Utilidade Públ /Energ Elétrica/ENERGISA",
          "Utilidade Públ /Energ Elétrica/EQUATORIAL",
          "Consumo Cíclico/Constr Civil/EZTEC",
          "Saúde/SM Hosp An.Diag/FLEURY",
          "Mats Básicos /Sid Metalurgia/GERDAU",
          "Saúde/SM Hosp An.Diag/INTERMEDICA",
          "Mats Básicos /Sid Metalurgia/GERDAU MET",
          "Bens Indls/Transporte/GOL",
          "Saúde/SM Hosp An.Diag/HAPVIDA",
          "Saúde/Comércio Distr./HYPERA",
          "Financ e Outros /Explor Imóveis/IGUATEMI",
          "Financ e Outros /Previd  Seguros/IRBBRASIL RE",
          "Financ e Outros /Interms Financs/ITAUSA",
          "Financ e Outros /Interms Financs/ITAUUNIBANCO",
          "Cons N  Básico /Alimentos Processados/JBS",
          "Consumo Cíclico/Constr Civil/JHSF PART",
          "Mats Básicos /Madeira e Papel/KLABIN S/A",
          "Consumo Cíclico /Comércio/LOJAS AMERIC",
          "Diverso/Diversos/LOCAMERICA",
          "Consumo Cíclico /Comércio/LOJAS RENNER",
          "Tec.Informação/Programas Servs/LOCAWEB",
          "Consumo Cíclico /Comércio/MAGAZ LUIZA",
          "Cons N  Básico /Alimentos Processados/MARFRIG",
          "Consumo Cíclico/Constr Civil/MRV",
          "Financ e Outros /Explor Imóveis/MULTIPLAN",
          "Cons N Cíclico /Pr Pessoal Limp/GRUPO NATURA",
          "Cons N Cíclico /Comércio Distr./P.ACUCAR-CBD",
          "Petróleo, Gás e Biocombustívei/Petróleo, Gás e Biocombustíveis/PETROBRAS",
          "Petróleo, Gás e Biocombustívei/Petróleo, Gás e Biocombustíveis/PETROBRAS",
          "Consumo Cíclico /Comércio/PETZ",
          "Petróleo, Gás e Biocombustívei/Petróleo, Gás e Biocombustíveis/PETRORIO",
          "Saúde/SM Hosp An.Diag/QUALICORP",
          "Saúde/Comércio Distr./RAIADROGASIL",
          "Bens Indls/Transporte/RUMO S.A.",
          "Saúde/SM Hosp An.Diag/REDE D OR",
          "Diverso/Diversos/LOCALIZA",
          "Financ e Outros /Interms Financs/SANTANDER BR",
          "Utilidade Públ /Água Saneamento/SABESP",
          "Consumo Cíclico /Comércio/GRUPO SOMA",
          "Financ e Outros /Previd  Seguros/SUL AMERICA",
          "Mats Básicos /Madeira e Papel/SUZANO S.A.",
          "Utilidade Públ /Energ Elétrica/TAESA",
          "Telecomunicaçã/Telecomunicação/TIM",
          "Tec.Informação/Programas Servs/TOTVS",
          "Petróleo, Gás e Biocombustívei/Petróleo, Gás e Biocombustíveis/ULTRAPAR",
          "Mats Básicos /Sid Metalurgia/USIMINAS",
          "Mats Básicos /Mineração/VALE",
          "Consumo Cíclico /Comércio/VIA",
          "Telecomunicaçã/Telecomunicação/TELEF BRASIL",
          "Bens Indls /Máqs e Equips/WEG",
          "Diverso/Diversos/YDUQS PART",
          "Consumo Cíclico /Tecid Vest Calç",
          "Cons N Cíclico /Bebidas",
          "Consumo Cíclico /Comércio",
          "Cons N Cíclico /Comércio Distr.",
          "Bens Indls/Transporte",
          "Financeiro e Outros/Serviços Financeiros Diversos",
          "Financ e Outros /Interms Financs",
          "Financ e Outros /Interms Financs",
          "Financ e Outros /Previd  Seguros",
          "Financ e Outros /Explor Imóveis",
          "Financ e Outros /Interms Financs",
          "Mats Básicos /Mineração",
          "Financ e Outros /Interms Financs",
          "Mats Básicos /Químicos",
          "Cons N  Básico /Alimentos Processados",
          "Financ e Outros /Interms Financs",
          "Cons N Cíclico /Comércio Distr.",
          "Bens Indls/Transporte",
          "Utilidade Públ /Energ Elétrica",
          "Financeiro e Outros/Serviços Financeiros Diversos",
          "Diverso/Diversos",
          "Utilidade Públ /Energ Elétrica",
          "Petróleo, Gás e Biocombustívei/Petróleo, Gás e Biocombustíveis",
          "Utilidade Públ /Energ Elétrica",
          "Consumo Cíclico/Viagens e Lazer",
          "Consumo Cíclico/Constr Civil",
          "Mats Básicos /Madeira e Papel",
          "Bens Indls/Transporte",
          "Utilidade Públ /Energ Elétrica",
          "Bens Indls /Mat Transporte",
          "Utilidade Públ /Energ Elétrica",
          "Utilidade Públ /Energ Elétrica",
          "Utilidade Públ /Energ Elétrica",
          "Utilidade Públ /Energ Elétrica",
          "Utilidade Públ /Energ Elétrica",
          "Consumo Cíclico/Constr Civil",
          "Saúde/SM Hosp An.Diag",
          "Mats Básicos /Sid Metalurgia",
          "Mats Básicos /Sid Metalurgia",
          "Bens Indls/Transporte",
          "Cons N Cíclico /Pr Pessoal Limp",
          "Consumo Cíclico /Comércio",
          "Saúde/SM Hosp An.Diag",
          "Saúde/Comércio Distr.",
          "Financ e Outros /Explor Imóveis",
          "Saúde/SM Hosp An.Diag",
          "Financ e Outros /Previd  Seguros",
          "Financ e Outros /Interms Financs",
          "Financ e Outros /Interms Financs",
          "Cons N  Básico /Alimentos Processados",
          "Consumo Cíclico/Constr Civil",
          "Mats Básicos /Madeira e Papel",
          "Diverso/Diversos",
          "Diverso/Diversos",
          "Tec.Informação/Programas Servs",
          "Consumo Cíclico /Comércio",
          "Consumo Cíclico /Comércio",
          "Consumo Cíclico /Comércio",
          "Cons N  Básico /Alimentos Processados",
          "Tec.Informação/Programas Servs",
          "Cons N  Básico /Alimentos Processados",
          "Consumo Cíclico/Constr Civil",
          "Financ e Outros /Explor Imóveis",
          "Cons N Cíclico /Comércio Distr.",
          "Petróleo, Gás e Biocombustívei/Petróleo, Gás e Biocombustíveis",
          "Petróleo, Gás e Biocombustívei/Petróleo, Gás e Biocombustíveis",
          "Petróleo, Gás e Biocombustívei/Petróleo, Gás e Biocombustíveis",
          "Consumo Cíclico /Comércio",
          "Saúde/SM Hosp An.Diag",
          "Saúde/Comércio Distr.",
          "Saúde/SM Hosp An.Diag",
          "Bens Indls/Transporte",
          "Utilidade Públ /Água Saneamento",
          "Financ e Outros /Interms Financs",
          "Mats Básicos /Sid Metalurgia",
          "Financ e Outros /Previd  Seguros",
          "Mats Básicos /Madeira e Papel",
          "Utilidade Públ /Energ Elétrica",
          "Telecomunicaçã/Telecomunicação",
          "Telecomunicaçã/Telecomunicação",
          "Tec.Informação/Programas Servs",
          "Petróleo, Gás e Biocombustívei/Petróleo, Gás e Biocombustíveis",
          "Mats Básicos /Sid Metalurgia",
          "Mats Básicos /Mineração",
          "Consumo Cíclico /Comércio",
          "Bens Indls /Máqs e Equips",
          "Diverso/Diversos",
          "Cons N  Básico ",
          "Cons N Cíclico ",
          "Consumo Cíclico ",
          "Cons N Cíclico ",
          "Saúde",
          "Consumo Cíclico",
          "Diverso",
          "Utilidade Públ ",
          "Financ e Outros ",
          "Financ e Outros ",
          "Mats Básicos ",
          "Bens Indls ",
          "Mats Básicos ",
          "Bens Indls ",
          "Petróleo, Gás e Biocombustívei",
          "Cons N Cíclico ",
          "Financ e Outros ",
          "Tec.Informação",
          "Mats Básicos ",
          "Saúde",
          "Financeiro e Outros",
          "Mats Básicos ",
          "Consumo Cíclico ",
          "Telecomunicaçã",
          "Bens Indls",
          "Consumo Cíclico",
          "Utilidade Públ ",
          "",
          "",
          "",
          "",
          "",
          "",
          "",
          "",
          "",
          "",
          "",
          "",
          "",
          "",
          ""
         ],
         "type": "sunburst",
         "values": [
          3.093,
          0.37,
          0.819,
          0.707,
          0.546,
          3.508,
          2.027,
          1.146,
          4.572,
          0.624,
          0.124,
          1.046,
          0.138,
          1.497,
          0.238,
          0.622,
          1.318,
          1.008,
          0.705,
          0.313,
          0.139,
          0.622,
          0.124,
          0.72,
          0.253,
          0.225,
          0.479,
          0.345,
          1.276,
          0.83,
          0.209,
          0.228,
          0.225,
          0.141,
          0.447,
          0.624,
          0.428,
          0.833,
          0.194,
          0.891,
          0.506,
          1.155,
          0.109,
          0.301,
          1.389,
          1.953,
          0.407,
          0.157,
          0.769,
          0.566,
          0.125,
          0.285,
          2.369,
          5.507,
          2.326,
          0.08,
          0.862,
          0.194,
          0.356,
          1.414,
          0.433,
          1.862,
          0.421,
          0.162,
          0.245,
          1.752,
          0.185,
          4.708,
          6.146,
          0.282,
          1.054,
          0.245,
          1.163,
          1.009,
          0.987,
          1.475,
          0.62,
          0.598,
          0.319,
          0.331,
          1.691,
          0.369,
          0.441,
          0.817,
          0.72,
          0.382,
          12.624,
          0.585,
          0.902,
          2.625,
          0.363,
          0.37,
          3.093,
          0.819,
          0.707,
          0.546,
          3.508,
          1.1840000000000002,
          0.238,
          0.624,
          0.313,
          5.718,
          0.622,
          2.027,
          0.705,
          1.008,
          1.497,
          0.345,
          0.622,
          0.72,
          0.124,
          0.253,
          0.479,
          1.276,
          0.225,
          0.209,
          0.228,
          0.225,
          0.141,
          1.052,
          0.833,
          0.194,
          0.506,
          0.891,
          0.447,
          1.155,
          0.109,
          0.301,
          1.389,
          0.407,
          0.157,
          1.752,
          0.319,
          0.769,
          0.566,
          0.125,
          1.953,
          0.285,
          2.369,
          5.507,
          2.326,
          0.08,
          0.862,
          1.475,
          0.356,
          0.433,
          0.194,
          1.414,
          1.862,
          0.421,
          0.139,
          0.124,
          0.162,
          0.245,
          0.185,
          10.854,
          1.318,
          1.054,
          0.282,
          0.245,
          1.163,
          0.987,
          1.009,
          0.598,
          0.62,
          0.83,
          0.331,
          1.691,
          0.369,
          0.902,
          0.441,
          0.817,
          0.72,
          0.382,
          12.624,
          0.585,
          2.625,
          0.363,
          3.879,
          3.093,
          5.475,
          1.2369999999999999,
          1.729,
          0.579,
          2.447,
          6.038,
          0.683,
          19.16,
          2.778,
          0.833,
          13.246,
          2.625,
          15.222,
          1.752,
          1.24,
          1.389,
          0.705,
          4.255,
          3.632,
          3.008,
          0.37,
          1.343,
          2.475,
          0.209,
          0.598,
          2.475,
          3.458,
          3.879,
          6.082,
          0.788,
          5.845,
          2.447,
          21.083,
          3.632,
          19.737000000000002,
          15.222,
          5.984,
          1.389,
          1.343,
          6.636
         ]
        }
       ],
       "layout": {
        "height": 900,
        "legend": {
         "tracegroupgap": 0
        },
        "margin": {
         "t": 60
        },
        "template": {
         "data": {
          "bar": [
           {
            "error_x": {
             "color": "#2a3f5f"
            },
            "error_y": {
             "color": "#2a3f5f"
            },
            "marker": {
             "line": {
              "color": "#E5ECF6",
              "width": 0.5
             },
             "pattern": {
              "fillmode": "overlay",
              "size": 10,
              "solidity": 0.2
             }
            },
            "type": "bar"
           }
          ],
          "barpolar": [
           {
            "marker": {
             "line": {
              "color": "#E5ECF6",
              "width": 0.5
             },
             "pattern": {
              "fillmode": "overlay",
              "size": 10,
              "solidity": 0.2
             }
            },
            "type": "barpolar"
           }
          ],
          "carpet": [
           {
            "aaxis": {
             "endlinecolor": "#2a3f5f",
             "gridcolor": "white",
             "linecolor": "white",
             "minorgridcolor": "white",
             "startlinecolor": "#2a3f5f"
            },
            "baxis": {
             "endlinecolor": "#2a3f5f",
             "gridcolor": "white",
             "linecolor": "white",
             "minorgridcolor": "white",
             "startlinecolor": "#2a3f5f"
            },
            "type": "carpet"
           }
          ],
          "choropleth": [
           {
            "colorbar": {
             "outlinewidth": 0,
             "ticks": ""
            },
            "type": "choropleth"
           }
          ],
          "contour": [
           {
            "colorbar": {
             "outlinewidth": 0,
             "ticks": ""
            },
            "colorscale": [
             [
              0,
              "#0d0887"
             ],
             [
              0.1111111111111111,
              "#46039f"
             ],
             [
              0.2222222222222222,
              "#7201a8"
             ],
             [
              0.3333333333333333,
              "#9c179e"
             ],
             [
              0.4444444444444444,
              "#bd3786"
             ],
             [
              0.5555555555555556,
              "#d8576b"
             ],
             [
              0.6666666666666666,
              "#ed7953"
             ],
             [
              0.7777777777777778,
              "#fb9f3a"
             ],
             [
              0.8888888888888888,
              "#fdca26"
             ],
             [
              1,
              "#f0f921"
             ]
            ],
            "type": "contour"
           }
          ],
          "contourcarpet": [
           {
            "colorbar": {
             "outlinewidth": 0,
             "ticks": ""
            },
            "type": "contourcarpet"
           }
          ],
          "heatmap": [
           {
            "colorbar": {
             "outlinewidth": 0,
             "ticks": ""
            },
            "colorscale": [
             [
              0,
              "#0d0887"
             ],
             [
              0.1111111111111111,
              "#46039f"
             ],
             [
              0.2222222222222222,
              "#7201a8"
             ],
             [
              0.3333333333333333,
              "#9c179e"
             ],
             [
              0.4444444444444444,
              "#bd3786"
             ],
             [
              0.5555555555555556,
              "#d8576b"
             ],
             [
              0.6666666666666666,
              "#ed7953"
             ],
             [
              0.7777777777777778,
              "#fb9f3a"
             ],
             [
              0.8888888888888888,
              "#fdca26"
             ],
             [
              1,
              "#f0f921"
             ]
            ],
            "type": "heatmap"
           }
          ],
          "heatmapgl": [
           {
            "colorbar": {
             "outlinewidth": 0,
             "ticks": ""
            },
            "colorscale": [
             [
              0,
              "#0d0887"
             ],
             [
              0.1111111111111111,
              "#46039f"
             ],
             [
              0.2222222222222222,
              "#7201a8"
             ],
             [
              0.3333333333333333,
              "#9c179e"
             ],
             [
              0.4444444444444444,
              "#bd3786"
             ],
             [
              0.5555555555555556,
              "#d8576b"
             ],
             [
              0.6666666666666666,
              "#ed7953"
             ],
             [
              0.7777777777777778,
              "#fb9f3a"
             ],
             [
              0.8888888888888888,
              "#fdca26"
             ],
             [
              1,
              "#f0f921"
             ]
            ],
            "type": "heatmapgl"
           }
          ],
          "histogram": [
           {
            "marker": {
             "pattern": {
              "fillmode": "overlay",
              "size": 10,
              "solidity": 0.2
             }
            },
            "type": "histogram"
           }
          ],
          "histogram2d": [
           {
            "colorbar": {
             "outlinewidth": 0,
             "ticks": ""
            },
            "colorscale": [
             [
              0,
              "#0d0887"
             ],
             [
              0.1111111111111111,
              "#46039f"
             ],
             [
              0.2222222222222222,
              "#7201a8"
             ],
             [
              0.3333333333333333,
              "#9c179e"
             ],
             [
              0.4444444444444444,
              "#bd3786"
             ],
             [
              0.5555555555555556,
              "#d8576b"
             ],
             [
              0.6666666666666666,
              "#ed7953"
             ],
             [
              0.7777777777777778,
              "#fb9f3a"
             ],
             [
              0.8888888888888888,
              "#fdca26"
             ],
             [
              1,
              "#f0f921"
             ]
            ],
            "type": "histogram2d"
           }
          ],
          "histogram2dcontour": [
           {
            "colorbar": {
             "outlinewidth": 0,
             "ticks": ""
            },
            "colorscale": [
             [
              0,
              "#0d0887"
             ],
             [
              0.1111111111111111,
              "#46039f"
             ],
             [
              0.2222222222222222,
              "#7201a8"
             ],
             [
              0.3333333333333333,
              "#9c179e"
             ],
             [
              0.4444444444444444,
              "#bd3786"
             ],
             [
              0.5555555555555556,
              "#d8576b"
             ],
             [
              0.6666666666666666,
              "#ed7953"
             ],
             [
              0.7777777777777778,
              "#fb9f3a"
             ],
             [
              0.8888888888888888,
              "#fdca26"
             ],
             [
              1,
              "#f0f921"
             ]
            ],
            "type": "histogram2dcontour"
           }
          ],
          "mesh3d": [
           {
            "colorbar": {
             "outlinewidth": 0,
             "ticks": ""
            },
            "type": "mesh3d"
           }
          ],
          "parcoords": [
           {
            "line": {
             "colorbar": {
              "outlinewidth": 0,
              "ticks": ""
             }
            },
            "type": "parcoords"
           }
          ],
          "pie": [
           {
            "automargin": true,
            "type": "pie"
           }
          ],
          "scatter": [
           {
            "marker": {
             "colorbar": {
              "outlinewidth": 0,
              "ticks": ""
             }
            },
            "type": "scatter"
           }
          ],
          "scatter3d": [
           {
            "line": {
             "colorbar": {
              "outlinewidth": 0,
              "ticks": ""
             }
            },
            "marker": {
             "colorbar": {
              "outlinewidth": 0,
              "ticks": ""
             }
            },
            "type": "scatter3d"
           }
          ],
          "scattercarpet": [
           {
            "marker": {
             "colorbar": {
              "outlinewidth": 0,
              "ticks": ""
             }
            },
            "type": "scattercarpet"
           }
          ],
          "scattergeo": [
           {
            "marker": {
             "colorbar": {
              "outlinewidth": 0,
              "ticks": ""
             }
            },
            "type": "scattergeo"
           }
          ],
          "scattergl": [
           {
            "marker": {
             "colorbar": {
              "outlinewidth": 0,
              "ticks": ""
             }
            },
            "type": "scattergl"
           }
          ],
          "scattermapbox": [
           {
            "marker": {
             "colorbar": {
              "outlinewidth": 0,
              "ticks": ""
             }
            },
            "type": "scattermapbox"
           }
          ],
          "scatterpolar": [
           {
            "marker": {
             "colorbar": {
              "outlinewidth": 0,
              "ticks": ""
             }
            },
            "type": "scatterpolar"
           }
          ],
          "scatterpolargl": [
           {
            "marker": {
             "colorbar": {
              "outlinewidth": 0,
              "ticks": ""
             }
            },
            "type": "scatterpolargl"
           }
          ],
          "scatterternary": [
           {
            "marker": {
             "colorbar": {
              "outlinewidth": 0,
              "ticks": ""
             }
            },
            "type": "scatterternary"
           }
          ],
          "surface": [
           {
            "colorbar": {
             "outlinewidth": 0,
             "ticks": ""
            },
            "colorscale": [
             [
              0,
              "#0d0887"
             ],
             [
              0.1111111111111111,
              "#46039f"
             ],
             [
              0.2222222222222222,
              "#7201a8"
             ],
             [
              0.3333333333333333,
              "#9c179e"
             ],
             [
              0.4444444444444444,
              "#bd3786"
             ],
             [
              0.5555555555555556,
              "#d8576b"
             ],
             [
              0.6666666666666666,
              "#ed7953"
             ],
             [
              0.7777777777777778,
              "#fb9f3a"
             ],
             [
              0.8888888888888888,
              "#fdca26"
             ],
             [
              1,
              "#f0f921"
             ]
            ],
            "type": "surface"
           }
          ],
          "table": [
           {
            "cells": {
             "fill": {
              "color": "#EBF0F8"
             },
             "line": {
              "color": "white"
             }
            },
            "header": {
             "fill": {
              "color": "#C8D4E3"
             },
             "line": {
              "color": "white"
             }
            },
            "type": "table"
           }
          ]
         },
         "layout": {
          "annotationdefaults": {
           "arrowcolor": "#2a3f5f",
           "arrowhead": 0,
           "arrowwidth": 1
          },
          "autotypenumbers": "strict",
          "coloraxis": {
           "colorbar": {
            "outlinewidth": 0,
            "ticks": ""
           }
          },
          "colorscale": {
           "diverging": [
            [
             0,
             "#8e0152"
            ],
            [
             0.1,
             "#c51b7d"
            ],
            [
             0.2,
             "#de77ae"
            ],
            [
             0.3,
             "#f1b6da"
            ],
            [
             0.4,
             "#fde0ef"
            ],
            [
             0.5,
             "#f7f7f7"
            ],
            [
             0.6,
             "#e6f5d0"
            ],
            [
             0.7,
             "#b8e186"
            ],
            [
             0.8,
             "#7fbc41"
            ],
            [
             0.9,
             "#4d9221"
            ],
            [
             1,
             "#276419"
            ]
           ],
           "sequential": [
            [
             0,
             "#0d0887"
            ],
            [
             0.1111111111111111,
             "#46039f"
            ],
            [
             0.2222222222222222,
             "#7201a8"
            ],
            [
             0.3333333333333333,
             "#9c179e"
            ],
            [
             0.4444444444444444,
             "#bd3786"
            ],
            [
             0.5555555555555556,
             "#d8576b"
            ],
            [
             0.6666666666666666,
             "#ed7953"
            ],
            [
             0.7777777777777778,
             "#fb9f3a"
            ],
            [
             0.8888888888888888,
             "#fdca26"
            ],
            [
             1,
             "#f0f921"
            ]
           ],
           "sequentialminus": [
            [
             0,
             "#0d0887"
            ],
            [
             0.1111111111111111,
             "#46039f"
            ],
            [
             0.2222222222222222,
             "#7201a8"
            ],
            [
             0.3333333333333333,
             "#9c179e"
            ],
            [
             0.4444444444444444,
             "#bd3786"
            ],
            [
             0.5555555555555556,
             "#d8576b"
            ],
            [
             0.6666666666666666,
             "#ed7953"
            ],
            [
             0.7777777777777778,
             "#fb9f3a"
            ],
            [
             0.8888888888888888,
             "#fdca26"
            ],
            [
             1,
             "#f0f921"
            ]
           ]
          },
          "colorway": [
           "#636efa",
           "#EF553B",
           "#00cc96",
           "#ab63fa",
           "#FFA15A",
           "#19d3f3",
           "#FF6692",
           "#B6E880",
           "#FF97FF",
           "#FECB52"
          ],
          "font": {
           "color": "#2a3f5f"
          },
          "geo": {
           "bgcolor": "white",
           "lakecolor": "white",
           "landcolor": "#E5ECF6",
           "showlakes": true,
           "showland": true,
           "subunitcolor": "white"
          },
          "hoverlabel": {
           "align": "left"
          },
          "hovermode": "closest",
          "mapbox": {
           "style": "light"
          },
          "paper_bgcolor": "white",
          "plot_bgcolor": "#E5ECF6",
          "polar": {
           "angularaxis": {
            "gridcolor": "white",
            "linecolor": "white",
            "ticks": ""
           },
           "bgcolor": "#E5ECF6",
           "radialaxis": {
            "gridcolor": "white",
            "linecolor": "white",
            "ticks": ""
           }
          },
          "scene": {
           "xaxis": {
            "backgroundcolor": "#E5ECF6",
            "gridcolor": "white",
            "gridwidth": 2,
            "linecolor": "white",
            "showbackground": true,
            "ticks": "",
            "zerolinecolor": "white"
           },
           "yaxis": {
            "backgroundcolor": "#E5ECF6",
            "gridcolor": "white",
            "gridwidth": 2,
            "linecolor": "white",
            "showbackground": true,
            "ticks": "",
            "zerolinecolor": "white"
           },
           "zaxis": {
            "backgroundcolor": "#E5ECF6",
            "gridcolor": "white",
            "gridwidth": 2,
            "linecolor": "white",
            "showbackground": true,
            "ticks": "",
            "zerolinecolor": "white"
           }
          },
          "shapedefaults": {
           "line": {
            "color": "#2a3f5f"
           }
          },
          "ternary": {
           "aaxis": {
            "gridcolor": "white",
            "linecolor": "white",
            "ticks": ""
           },
           "baxis": {
            "gridcolor": "white",
            "linecolor": "white",
            "ticks": ""
           },
           "bgcolor": "#E5ECF6",
           "caxis": {
            "gridcolor": "white",
            "linecolor": "white",
            "ticks": ""
           }
          },
          "title": {
           "x": 0.05
          },
          "xaxis": {
           "automargin": true,
           "gridcolor": "white",
           "linecolor": "white",
           "ticks": "",
           "title": {
            "standoff": 15
           },
           "zerolinecolor": "white",
           "zerolinewidth": 2
          },
          "yaxis": {
           "automargin": true,
           "gridcolor": "white",
           "linecolor": "white",
           "ticks": "",
           "title": {
            "standoff": 15
           },
           "zerolinecolor": "white",
           "zerolinewidth": 2
          }
         }
        }
       }
      }
     },
     "metadata": {},
     "output_type": "display_data"
    }
   ],
   "source": [
    "fig.show()"
   ]
  }
 ],
 "metadata": {
  "interpreter": {
   "hash": "f763c5ae1380102371fc37b7f9e900cc55027b2a662d6fbcccf1534945890ce5"
  },
  "kernelspec": {
   "display_name": "Python 3.8.11 64-bit ('base': conda)",
   "name": "python3"
  },
  "language_info": {
   "codemirror_mode": {
    "name": "ipython",
    "version": 3
   },
   "file_extension": ".py",
   "mimetype": "text/x-python",
   "name": "python",
   "nbconvert_exporter": "python",
   "pygments_lexer": "ipython3",
   "version": "3.8.11"
  },
  "orig_nbformat": 4
 },
 "nbformat": 4,
 "nbformat_minor": 2
}
