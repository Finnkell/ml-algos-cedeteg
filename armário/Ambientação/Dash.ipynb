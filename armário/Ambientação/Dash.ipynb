{
 "cells": [
  {
   "cell_type": "code",
   "execution_count": 1,
   "id": "846478f8-0828-41eb-b715-e5f1c226db29",
   "metadata": {
    "tags": []
   },
   "outputs": [
    {
     "name": "stderr",
     "output_type": "stream",
     "text": [
      "C:\\Users\\RENANL~1\\AppData\\Local\\Temp/ipykernel_11964/1700376406.py:2: UserWarning: \n",
      "The dash_core_components package is deprecated. Please replace\n",
      "`import dash_core_components as dcc` with `from dash import dcc`\n",
      "  import dash_core_components as dcc\n",
      "C:\\Users\\RENANL~1\\AppData\\Local\\Temp/ipykernel_11964/1700376406.py:4: UserWarning: \n",
      "The dash_html_components package is deprecated. Please replace\n",
      "`import dash_html_components as html` with `from dash import html`\n",
      "  import dash_html_components as html\n"
     ]
    }
   ],
   "source": [
    "import dash as ds\n",
    "import dash_core_components as dcc\n",
    "from jupyter_dash import JupyterDash\n",
    "import dash_html_components as html\n",
    "import pandas as pd\n",
    "import warnings\n",
    "warnings.filterwarnings(\"ignore\")"
   ]
  },
  {
   "cell_type": "code",
   "execution_count": 2,
   "id": "00066a1d-fc84-421d-bc19-0b3689f7b25c",
   "metadata": {},
   "outputs": [],
   "source": [
    "import pandas_datareader.data as web\n",
    "import plotly.graph_objects as go\n",
    "\n",
    "IBOV = web.DataReader('^BVSP', data_source='yahoo', start='2015-01-02')\n"
   ]
  },
  {
   "cell_type": "code",
   "execution_count": 3,
   "id": "eb0dd8db-bd66-411c-9485-c2d47100a39b",
   "metadata": {},
   "outputs": [],
   "source": [
    "fig_ibov = go.Figure(data=[go.Candlestick(x=IBOV.reset_index()['Date'],\n",
    "                open=IBOV.reset_index()['Open'],\n",
    "                high=IBOV.reset_index()['High'],\n",
    "                low=IBOV.reset_index()['Low'],\n",
    "                close=IBOV.reset_index()['Close'])])"
   ]
  },
  {
   "cell_type": "markdown",
   "id": "6355c17c-ae78-4d78-a544-da59181ead46",
   "metadata": {},
   "source": [
    "## Importando dados da B3"
   ]
  },
  {
   "cell_type": "code",
   "execution_count": 4,
   "id": "533a470d-ee90-4269-a93b-ac745630ae55",
   "metadata": {
    "jupyter": {
     "source_hidden": true
    },
    "tags": []
   },
   "outputs": [],
   "source": [
    "def import_ibov():\n",
    "    '''Funca para importar dados do site da B3 sobre a ibov, os dados no fim serão organizados em um dataframe para podermos usá-los futuramente'''\n",
    "    # Importando bibliotecas\n",
    "    from selenium import webdriver # Usado para importar os dados da url\n",
    "    import time # usado para gerar um tempo de espera enquanto se utiliza o selenium\n",
    "    from bs4 import BeautifulSoup # manipular o html\n",
    "    import pandas as pd # criar a DF que será trabalhada\n",
    "    \n",
    "    # definindo a url da b3\n",
    "    url = \"https://sistemaswebb3-listados.b3.com.br/indexPage/day/IBOV?language=pt-br\"\n",
    "    \n",
    "    # iniciando o webdriver, que deve estar com o driver na pasta do arquivo para funcionar, nesse caso será utilizado do Chrome\n",
    "    browser = webdriver.Chrome()\n",
    "    \n",
    "    # Entrando na url informada\n",
    "    browser.get(url)\n",
    "    \n",
    "    # Encontrando o elemento no html para filtrarmos os dados que precisamos\n",
    "    browser.find_element_by_id('segment').send_keys('Setor de Atuação')\n",
    "    \n",
    "    # Aguardando 2 segundos para a página atualizar\n",
    "    time.sleep(2)\n",
    "    \n",
    "    # Agora selecionando o o menu para podermos ver todas as ações disponíveis\n",
    "    browser.find_element_by_id('selectPage').send_keys('120')\n",
    "    \n",
    "    # Aguardando 1 segundo para o página atualizar\n",
    "    time.sleep(1)\n",
    "    \n",
    "    # IMportando o html inteiro para o Python na variável html\n",
    "    html = browser.page_source\n",
    "    \n",
    "    # Fechando o navegador\n",
    "    browser.close() \n",
    "    \n",
    "    # Usando o beatiful soup e convertendo o arquivo para podermos selecionar os dados que precisamos\n",
    "    bs = BeautifulSoup(html, 'html.parser')\n",
    "    \n",
    "    # Criando as listas onde iremos armazenar os dados do html\n",
    "    setor, cod, acao, tipo, qtde_t, part, part_a = [], [], [], [], [], [], []\n",
    "    \n",
    "    # Usando a função find_all para selecionarmos apenas 'td' que contém os dados que usaremos e armazenando eles na variável linhas\n",
    "    linhas = bs.find_all('td')\n",
    "    \n",
    "    # Criando uma variável que será usada no while loop abaixo\n",
    "    i = 0\n",
    "    \n",
    "    # While loop para podermos armazenar os dados em suas respectivas colunas, onde:\n",
    "    # temos 7 colunas então pegamos o primeiro elemento 0 e somando 1 até chegarmos ao último elemento para a coluna [i+6] = ao setimo elemento\n",
    "    # por fim somando 7 para pularmos para a próxima linhas e seguir a lógica\n",
    "    # o loop só irá para quando o número de linhas for maior do que o que os dados apresentados, para isso usados o lógica len(linhas) que nos entrega a quantia de dados\n",
    "    # e como i é somado de 7 a cada iteração o loop só irá para quando todos os dados forem indexidaodos nas suas devidas colunas\n",
    "    while i < (len(linhas)):\n",
    "        setor.append(linhas[i].text)\n",
    "        cod.append(linhas[i+1].text)\n",
    "        acao.append(linhas[i+2].text)\n",
    "        tipo.append(linhas[i+3].text)\n",
    "        qtde_t.append(linhas[i+4].text)\n",
    "        part.append(linhas[i+5].text)\n",
    "        part_a.append(linhas[i+6].text)\n",
    "        i += 7\n",
    "        \n",
    "    # Criando um df para armazearmos os dados    \n",
    "    df = pd.DataFrame({'Setor': setor[:-1],\n",
    "                  'Acao': cod[:-1],\n",
    "                  'Empresa': acao[:-1],\n",
    "                  'Qntd_teorica': qtde_t[:-1],\n",
    "                  'Part_%': part[:-1]}) # filtramos para eliminar as últimas linhas, pois a b3 entrega uma soma ao final que não queremos\n",
    "    # Separando os setores e subsetores em colunas\n",
    "    df['SubSetor'] = df['Setor'].apply(lambda s: s[s.rfind('/')+1:].strip())\n",
    "    df['Setor'] = df['Setor'].apply(lambda s: s[:s.rfind('/')])\n",
    "    \n",
    "    # Convertendo os valores de string para int\n",
    "    df['Qntd_teorica'] = df['Qntd_teorica'].apply(lambda s: s.replace(\".\", \"\"))\n",
    "    df['Qntd_teorica'] = pd.to_numeric(df['Qntd_teorica'])\n",
    "    df['Part_%'] = df['Part_%'].apply(lambda s: s.replace(\",\", \"\"))\n",
    "    df['Part_%'] = pd.to_numeric(df['Part_%'])/1000\n",
    "    df.sort_values('Part_%', ascending = False, inplace = True)\n",
    "    \n",
    "    # Criando uma colunas com a % acumulada\n",
    "    df['Part_%_acum'] = df['Part_%'].cumsum()\n",
    "    \n",
    "    # Resetando o index\n",
    "    df.reset_index(drop = True, inplace = True)\n",
    "    \n",
    "    # fim\n",
    "    return df"
   ]
  },
  {
   "cell_type": "code",
   "execution_count": 5,
   "id": "a46d77e0-f59b-4a27-a6f0-9a7974bc7334",
   "metadata": {},
   "outputs": [],
   "source": [
    "ibov = import_ibov()"
   ]
  },
  {
   "cell_type": "markdown",
   "id": "92ea0bac-ac3d-4ab8-b12d-bd0a7d987879",
   "metadata": {},
   "source": [
    "## Definindo Grafico Sunburst"
   ]
  },
  {
   "cell_type": "code",
   "execution_count": 6,
   "id": "76a9eae5-8fac-400b-961e-cd80afc10144",
   "metadata": {
    "tags": []
   },
   "outputs": [],
   "source": [
    "import plotly.express as px\n",
    "fig  = px.sunburst(data_frame = import_ibov(), path = ['Setor', 'SubSetor', 'Empresa','Acao'], values = 'Part_%', height = 900)"
   ]
  },
  {
   "cell_type": "code",
   "execution_count": 43,
   "id": "d008998b-3978-4982-a72a-df46c60fcf77",
   "metadata": {},
   "outputs": [],
   "source": [
    "app = JupyterDash(__name__)\n",
    "app.layout = html.Div(\n",
    "    children=[\n",
    "        \n",
    "#_________________________________________________________________________________________________________________________        \n",
    "                #   Retangulo de entrada     #\n",
    "                html.Div(\n",
    "                    children=[\n",
    "                    html.H2(\n",
    "                    children='',\n",
    "                    style={\n",
    "                        'color': 'black',\n",
    "                        'width': '100px',\n",
    "                        'height': '100px',\n",
    "                        'border-radius': '12px',\n",
    "                    }\n",
    "                ),\n",
    "\n",
    "                html.H1(\n",
    "                    children=\"📈 Ações IBOV \", className=\"header-title\",\n",
    "                    style={'color': '#CFCFCF',\n",
    "                            'margin': '4px auto',\n",
    "                            'max-width': '384px',\n",
    "                            'text-align':'center',\n",
    "                            'display':'inline-block',\n",
    "                            'display': 'flex'\n",
    "                            'font: sans-serif'\n",
    "                            }\n",
    "                ),\n",
    "                \n",
    "                \n",
    "            ], style={'background-color':'rgb(15, 15, 15)', 'border-radius': '5px'},\n",
    "            className=\"header\",\n",
    "        ),\n",
    "        \n",
    "#__________________________________________________________________________________________________________________________        \n",
    "                dcc.Graph(\n",
    "                    figure = px.sunburst(data_frame = ibov, path = ['Setor', 'SubSetor', 'Empresa','Acao'], values = 'Part_%'),\n",
    "                    style={'display' : 'inline-block', \n",
    "                            'height': '100vh'\n",
    "                          },\n",
    "                ),\n",
    "#__________________________________________________________________________________________________________________________        \n",
    "\n",
    "        \n",
    "#__________________________________________________________________________________________________________________________                \n",
    "                dcc.Graph(\n",
    "                    figure=go.Figure(data=[go.Candlestick(x=IBOV.reset_index()['Date'],\n",
    "                        open=IBOV.reset_index()['Open'],\n",
    "                        high=IBOV.reset_index()['High'],\n",
    "                        low=IBOV.reset_index()['Low'],\n",
    "                        close=IBOV.reset_index()['Close'])]),\n",
    "                    style={'display':'inline-block', 'width': '100vh', 'height': '80vh'},\n",
    "                )]\n",
    ")"
   ]
  },
  {
   "cell_type": "code",
   "execution_count": 44,
   "id": "d7bde111-0c3d-43c9-9941-ef9b074db91d",
   "metadata": {},
   "outputs": [
    {
     "name": "stdout",
     "output_type": "stream",
     "text": [
      "Dash app running on http://127.0.0.1:8050/\n"
     ]
    }
   ],
   "source": [
    "if __name__ == \"__main__\":\n",
    "    app.run_server(debug=True)"
   ]
  },
  {
   "cell_type": "code",
   "execution_count": null,
   "id": "3abcaebd-f55e-427a-a32c-febb5ef255f4",
   "metadata": {},
   "outputs": [],
   "source": [
    "app.run_server(mode='inline')"
   ]
  },
  {
   "cell_type": "code",
   "execution_count": null,
   "id": "90dd3623-b07a-4651-82df-fe102dd8a483",
   "metadata": {},
   "outputs": [],
   "source": [
    "import pandas_datareader.data as web\n",
    "import pandas as pd\n",
    "acoes = ['ELET3.SA', 'EQTL3.SA', 'TAEE11.SA', 'ENGI11.SA', 'CPLE6.SA', 'CMIG4.SA', 'EGIE3.SA', \n",
    "         'ENEV3.SA', 'ENBR3.SA', 'CPFE3.SA', '^BVSP']\n",
    "\n",
    "acoes_df = pd.DataFrame()\n",
    "for acao in acoes:\n",
    "    acoes_df[acao] = web.DataReader(acao, data_source='yahoo', start='2021-01-01')['Close']\n",
    "acoes_df.reset_index(inplace = True)    "
   ]
  },
  {
   "cell_type": "code",
   "execution_count": null,
   "id": "cd6359ed-9a98-4c07-8661-33c1030311e9",
   "metadata": {},
   "outputs": [],
   "source": [
    "#1. ELETROBRAS\n",
    "#2. EQUATORIAL\n",
    "#3. TAESA\n",
    "#4. ENERGISA\n",
    "#5. COPEL\n",
    "#6. CEMIG\n",
    "#7. ENGIE\n",
    "#8. ENEVA\n",
    "#9. ENERGIAS DO BRASIL\n",
    "#10. CPFL ENERGIA"
   ]
  },
  {
   "cell_type": "code",
   "execution_count": null,
   "id": "01d2d958-3504-41d3-be89-43e02a212cdc",
   "metadata": {},
   "outputs": [],
   "source": [
    "import dash\n",
    "import dash_html_components as html\n",
    "import plotly.graph_objects as go\n",
    "import dash_core_components as dcc\n",
    "import plotly.express as px\n",
    "from dash.dependencies import Input, Output\n",
    "from datetime import date, datetime\n",
    "\n",
    "app = JupyterDash(__name__)\n",
    "\n",
    "app.layout = html.Div([\n",
    "    html.Div([\n",
    "        html.H1(id = 'H1', children = 'Principais Empresas ⚡', style = {'textAlign':'center',\\\n",
    "                                                'marginTop':40,'marginBottom':40}),                          \n",
    "        html.Div([\n",
    "            \n",
    "            html.Label('Data'),\n",
    "            dcc.DatePickerRange(\n",
    "                initial_visible_month=datetime.now(),\n",
    "                start_date=date(2021, 7, 1),\n",
    "                end_date=date(2021, 7, 14), style = {'display' : 'inline', 'width' : '50vh', 'height' : '50vh'}),\n",
    "            html.Br(),\n",
    "            html.Label('Acao'),                      \n",
    "            dcc.Dropdown( id = 'dropdown',\n",
    "                options = [\n",
    "                    {'label': 'ELETROBRAS', 'value':acoes[0] },\n",
    "                    {'label': 'EQUATORIAL', 'value':acoes[1]},\n",
    "                    {'label': 'TAESA', 'value':acoes[2]},\n",
    "                    {'label': 'ENERGISA', 'value':acoes[3]},\n",
    "                    {'label': 'COPEL', 'value':acoes[4]},\n",
    "                    {'label': 'CEMIG', 'value':acoes[5]},\n",
    "                    {'label': 'ENGIE', 'value':acoes[6]},\n",
    "                    {'label': 'ENEVA', 'value':acoes[7]},\n",
    "                    {'label': 'ENERGIAS DO BRASIL', 'value':acoes[8]},\n",
    "                    {'label': 'CPFL ENERGIA', 'value':acoes[9]},            \n",
    "                        ],\n",
    "                value = acoes[0], style = {'width' : '50vh', 'display':'d'})\n",
    "        \n",
    "                ],)\n",
    "                ], style={'columnCount': 2}),\n",
    "                                   \n",
    "                          \n",
    "        dcc.Graph(id = 'bar_plot')\n",
    "    ])\n",
    "    \n",
    "    \n",
    "@app.callback(Output(component_id='bar_plot', component_property= 'figure'),\n",
    "              [Input(component_id='dropdown', component_property= 'value')])\n",
    "def graph_update(dropdown_value):\n",
    "    fig = go.Figure([go.Scatter(x = acoes_df['Date'], y = acoes_df['{}'.format(dropdown_value)],)\n",
    "                     ])\n",
    "    \n",
    "    fig.update_layout(title = 'Stock prices over time',\n",
    "                      xaxis_title = 'Dates',\n",
    "                      yaxis_title = 'Prices'\n",
    "                      )\n",
    "    return fig  \n",
    "\n",
    "\n",
    "\n",
    "if __name__ == \"__main__\":\n",
    "    app.run_server(debug=True)"
   ]
  },
  {
   "cell_type": "code",
   "execution_count": null,
   "id": "b7d0e7af-afdd-47e1-9ea8-e1120178e9f1",
   "metadata": {},
   "outputs": [],
   "source": []
  },
  {
   "cell_type": "code",
   "execution_count": null,
   "id": "ca179358-2df5-4670-b59d-b9ec6b23c7ac",
   "metadata": {},
   "outputs": [],
   "source": [
    "for i in acoes:\n",
    "    list(i)\n",
    "    "
   ]
  },
  {
   "cell_type": "code",
   "execution_count": null,
   "id": "f5971307-1c0c-4b66-85db-e51ed7a022ee",
   "metadata": {},
   "outputs": [],
   "source": [
    "acoes[0]"
   ]
  },
  {
   "cell_type": "code",
   "execution_count": null,
   "id": "5fe4c57c-fd42-4ee8-a78f-55232e03d654",
   "metadata": {},
   "outputs": [],
   "source": [
    "import dash\n",
    "import dash_core_components as dcc\n",
    "import dash_html_components as html\n",
    "\n",
    "app = JupyterDash(__name__)\n",
    "\n",
    "app.layout = html.Div([\n",
    "    html.Label('Dropdown'),\n",
    "    dcc.Dropdown(\n",
    "        options=[\n",
    "            {'label': 'New York City', 'value': 'NYC'},\n",
    "            {'label': u'Montréal', 'value': 'MTL'},\n",
    "            {'label': 'San Francisco', 'value': 'SF'}\n",
    "        ],\n",
    "        value='MTL'\n",
    "    ),\n",
    "\n",
    "    html.Label('Multi-Select Dropdown'),\n",
    "    dcc.Dropdown(\n",
    "        options=[\n",
    "            {'label': 'New York City', 'value': 'NYC'},\n",
    "            {'label': u'Montréal', 'value': 'MTL'},\n",
    "            {'label': 'San Francisco', 'value': 'SF'}\n",
    "        ],\n",
    "        value=['MTL', 'SF'],\n",
    "        multi=True\n",
    "    ),\n",
    "\n",
    "    html.Label('Radio Items'),\n",
    "    dcc.RadioItems(\n",
    "        options=[\n",
    "            {'label': 'New York City', 'value': 'NYC'},\n",
    "            {'label': u'Montréal', 'value': 'MTL'},\n",
    "            {'label': 'San Francisco', 'value': 'SF'}\n",
    "        ],\n",
    "        value='MTL'\n",
    "    ),\n",
    "\n",
    "    html.Label('Checkboxes'),\n",
    "    dcc.Checklist(\n",
    "        options=[\n",
    "            {'label': 'New York City', 'value': 'NYC'},\n",
    "            {'label': u'Montréal', 'value': 'MTL'},\n",
    "            {'label': 'San Francisco', 'value': 'SF'}\n",
    "        ],\n",
    "        value=['MTL', 'SF']\n",
    "    ),\n",
    "\n",
    "    html.Label('Text Input'),\n",
    "    dcc.Input(value='MTL', type='text'),\n",
    "\n",
    "    html.Label('Slider'),\n",
    "    dcc.Slider(\n",
    "        min=0,\n",
    "        max=9,\n",
    "        marks={i: 'Label {}'.format(i) if i == 1 else str(i) for i in range(1, 6)},\n",
    "        value=5,\n",
    "    ),\n",
    "], style={'columnCount': 2})\n",
    "\n",
    "app.run_server(mode='inline')"
   ]
  }
 ],
 "metadata": {
  "interpreter": {
   "hash": "393d50d6a57feafbe95cb4d9061dd01f8030768392e0e3f42727b3e9a653331b"
  },
  "kernelspec": {
   "display_name": "Python 3.8.11 64-bit ('base': conda)",
   "name": "python3"
  },
  "language_info": {
   "codemirror_mode": {
    "name": "ipython",
    "version": 3
   },
   "file_extension": ".py",
   "mimetype": "text/x-python",
   "name": "python",
   "nbconvert_exporter": "python",
   "pygments_lexer": "ipython3",
   "version": "3.8.11"
  }
 },
 "nbformat": 4,
 "nbformat_minor": 5
}
