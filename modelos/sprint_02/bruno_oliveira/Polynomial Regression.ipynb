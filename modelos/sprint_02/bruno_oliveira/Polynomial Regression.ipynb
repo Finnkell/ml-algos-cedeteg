{
 "cells": [
  {
   "cell_type": "markdown",
   "metadata": {},
   "source": [
    "### Importações de bibliotecas"
   ]
  },
  {
   "cell_type": "code",
   "execution_count": null,
   "metadata": {},
   "outputs": [],
   "source": [
    "from sklearn.model_selection import train_test_split\n",
    "from sklearn.linear_model import LinearRegression\n",
    "from sklearn.preprocessing import PolynomialFeatures\n",
    "from sklearn.metrics import mean_squared_error\n",
    "\n",
    "import pandas as pd\n",
    "import numpy as np\n",
    "\n",
    "import MetaTrader5 as mt\n",
    "\n",
    "import warnings\n",
    "warnings.filterwarnings('ignore') # Ignorar os warnings do código\n",
    "\n",
    "from time import sleep\n",
    "\n",
    "# Definição das variáveis de entrada\n",
    "ativo = 'VALE3'\n",
    "lote = 100 # minimo de 100 para ações (1 para mercado fracionário)\n",
    "tf = mt.TIMEFRAME_M5 #timeframe do gráfico\n",
    "\n",
    "# Ler os dados dentro de um data frame         dropar algumas colunas, considerando apenas OHLC\n",
    "df = pd.read_csv('./Data/VALE3_D1_2017_2020_data.csv').drop(columns = ['TickVol', 'Vol', 'Spread'])\n",
    "\n",
    "df['Date'] = pd.to_datetime(df['Date'])\n",
    "\n",
    "df['Adj Close'] = df['Close']"
   ]
  },
  {
   "cell_type": "markdown",
   "metadata": {},
   "source": [
    "### Estratégia usando uma média simples"
   ]
  },
  {
   "cell_type": "code",
   "execution_count": null,
   "metadata": {},
   "outputs": [],
   "source": [
    "def estrategia():\n",
    "    y_data = pd.DataFrame()\n",
    "\n",
    "    X_data = df[['Open', 'High', 'Low', 'Close']]\n",
    "    y_data['Close'] = df['Close'].shift(-1)\n",
    "\n",
    "    trade_logic = []\n",
    "\n",
    "    for i in range(len(X_data['Close'])):\n",
    "        if X_data['Close'][i] > y_data['Close'][i]:\n",
    "            trade_logic.append(1)\n",
    "        elif X_data['Close'][i] < y_data['Close'][i]:\n",
    "            trade_logic.append(0)\n",
    "        else:\n",
    "            trade_logic.append(-1)\n",
    "\n",
    "    X_data['Signal'] = trade_logic\n",
    "\n",
    "    y = X_data['Signal']\n",
    "    X = X_data.drop('Signal', axis=1)"
   ]
  },
  {
   "cell_type": "markdown",
   "metadata": {},
   "source": [
    "### Definir variáveis de treino e de teste"
   ]
  },
  {
   "cell_type": "code",
   "execution_count": null,
   "metadata": {},
   "outputs": [],
   "source": [
    "# 75% para teste e os outros 25% para treino\n",
    "X_train, X_test, y_train, y_test = train_test_split(X, y, test_size=.75, random_state=42)"
   ]
  },
  {
   "cell_type": "markdown",
   "metadata": {},
   "source": [
    "### Definindo o modelo polinomial"
   ]
  },
  {
   "cell_type": "code",
   "execution_count": null,
   "metadata": {},
   "outputs": [],
   "source": [
    "def modelo():\n",
    "    # Ordem do modelo\n",
    "    pol_reg = PolynomialFeatures(degree=2)\n",
    "    X_pol = pol_reg.fit_transform(X_train, y_train)\n",
    "\n",
    "    lin_reg = LinearRegression()\n",
    "    lin_reg.fit(X_pol, y_train)\n",
    "    y_pred = lin_reg.predict(X_pol)"
   ]
  },
  {
   "cell_type": "markdown",
   "metadata": {},
   "source": [
    "### Conexão com o MetaTrader5"
   ]
  },
  {
   "cell_type": "code",
   "execution_count": null,
   "metadata": {},
   "outputs": [],
   "source": [
    "def conexao():\n",
    "    mt.initialize()\n",
    "    print('Connected')\n",
    "\n",
    "    rates = mt.copy_rates_from_pos(ativo, tf, 0, 20)\n",
    "    print('Copying the values...')\n",
    "\n",
    "    mt.shutdown()\n",
    "    print('Desconnected')\n",
    "\n",
    "    open_price  = rates[0][1]  # Open\n",
    "    high_price  = rates[0][2]  # High\n",
    "    low_price   = rates[0][3]  # Low\n",
    "    close_price = rates[0][4]  # Close"
   ]
  },
  {
   "cell_type": "markdown",
   "metadata": {},
   "source": [
    "### Definindo a função de Compra"
   ]
  },
  {
   "cell_type": "code",
   "execution_count": null,
   "metadata": {},
   "outputs": [],
   "source": [
    "def buy():\n",
    "    price = mt.symbol_info_tick(ativo).ask\n",
    "\n",
    "    sl  = price - 200.0*mt.symbol_info(ativo).point\n",
    "    tp  = price + 200.0*mt.symbol_info(ativo).point\n",
    "\n",
    "    request = {\n",
    "        \"action\": mt.TRADE_ACTION_DEAL,\n",
    "        \"symbol\": ativo,\n",
    "        \"volume\": lote,\n",
    "        \"type\": mt.ORDER_TYPE_BUY,\n",
    "        \"sl\": sl,\n",
    "        \"tp\": tp,\n",
    "        \"magic\": 124512,\n",
    "        \"deviation\": 0,\n",
    "        \"comment\": \"Buy Order\",\n",
    "        \"type_time\": mt.ORDER_TIME_GTC,\n",
    "        \"type_filling\": mt.ORDER_FILLING_FOK,\n",
    "    }\n",
    "\n",
    "    result = mt.order_send(request)\n",
    "\n",
    "    print(f'OrderSended buy: {result}')"
   ]
  },
  {
   "cell_type": "markdown",
   "metadata": {},
   "source": [
    "### Definindo a função de Venda"
   ]
  },
  {
   "cell_type": "code",
   "execution_count": null,
   "metadata": {},
   "outputs": [],
   "source": [
    "def sell():\n",
    "    price = mt.symbol_info_tick(ativo).bid\n",
    "    \n",
    "    sl = price + 200.0*mt.symbol_info(ativo).point\n",
    "    tp = price - 200.0*mt.symbol_info(ativo).point\n",
    "\n",
    "    request = {\n",
    "        \"action\": mt.TRADE_ACTION_DEAL,\n",
    "        \"symbol\": ativo,\n",
    "        \"volume\": lote,\n",
    "        \"type\": mt.ORDER_TYPE_SELL,\n",
    "        \"sl\": sl,\n",
    "        \"tp\": tp,\n",
    "        \"magic\": 124512,\n",
    "        \"deviation\": 0,\n",
    "        \"comment\": \"Sell Order\",\n",
    "        \"type_time\": mt.ORDER_TIME_GTC,\n",
    "        \"type_filling\": mt.ORDER_FILLING_FOK,\n",
    "    }\n",
    "\n",
    "    result = mt.order_send(request)\n",
    "    \n",
    "    print(f'OrderSended sell: {result}')"
   ]
  },
  {
   "cell_type": "markdown",
   "metadata": {},
   "source": [
    "### Efetuando as ordens de compra e de venda a mercado"
   ]
  },
  {
   "cell_type": "code",
   "execution_count": null,
   "metadata": {},
   "outputs": [],
   "source": [
    "def operacao():\n",
    "    prices = [open_price, high_price, low_price, close_price]\n",
    "\n",
    "    # 5 segundos\n",
    "    tempo = 5\n",
    "\n",
    "    while True:\n",
    "        sleep(tempo)\n",
    "        predict_result = lin_reg.predict([prices])\n",
    "\n",
    "        mt.initialize()\n",
    "\n",
    "        if mt.positions_get(symbol = ativo) == ():\n",
    "            if predict_result[-1] == 1:\n",
    "                print('Buy')\n",
    "                print(predict_result, '\\n')\n",
    "                mt.shutdown()\n",
    "                sleep(tf * 60)\n",
    "            elif predict_result[-1] == 0:\n",
    "                print('Sell')\n",
    "                mt.shutdown()   \n",
    "            else: \n",
    "                print('Can not predict')\n",
    "            break\n",
    "        else:\n",
    "            print('Error')\n",
    "            break"
   ]
  },
  {
   "cell_type": "markdown",
   "metadata": {},
   "source": [
    "### Chamada das funções"
   ]
  },
  {
   "cell_type": "code",
   "execution_count": null,
   "metadata": {},
   "outputs": [],
   "source": [
    "estrategia()\n",
    "modelo()\n",
    "conexao()\n",
    "operacao()"
   ]
  }
 ],
 "metadata": {
  "kernelspec": {
   "display_name": "Python 3",
   "language": "python",
   "name": "python3"
  },
  "language_info": {
   "codemirror_mode": {
    "name": "ipython",
    "version": 3
   },
   "file_extension": ".py",
   "mimetype": "text/x-python",
   "name": "python",
   "nbconvert_exporter": "python",
   "pygments_lexer": "ipython3",
   "version": "3.8.5"
  }
 },
 "nbformat": 4,
 "nbformat_minor": 5
}
