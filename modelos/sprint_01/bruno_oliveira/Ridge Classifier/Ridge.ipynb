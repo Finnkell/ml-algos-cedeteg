{
 "cells": [
  {
   "cell_type": "code",
   "execution_count": 1,
   "metadata": {},
   "outputs": [],
   "source": [
    "# Importações de bibliotecas\n",
    "\n",
    "from sklearn.model_selection import train_test_split\n",
    "from sklearn.linear_model import RidgeClassifier\n",
    "from sklearn.metrics import mean_squared_error\n",
    "\n",
    "import pandas as pd\n",
    "import numpy as np\n",
    "\n",
    "import MetaTrader5 as mt\n",
    "\n",
    "import warnings\n",
    "warnings.filterwarnings('ignore') # Ignorar os warnings do código\n",
    "\n",
    "# Definição das variáveis de entrada\n",
    "ativo = 'PETR3' # ou PETR4\n",
    "lote = 100 # minimo de 100 para ações (1 para mercado fracionário)\n",
    "\n",
    "# Ler os dados dentro de um data frame         dropar algumas colunas, considerando apenas OHLC\n",
    "df = pd.read_csv(f'./Data/{ativo}_Daily_data.csv').drop(columns = ['Tickvol', 'Vol', 'Spread'])\n",
    "\n",
    "df['Date'] = pd.to_datetime(df['Date'])\n",
    "\n",
    "df['Adj Close'] = df['Close']"
   ]
  },
  {
   "cell_type": "code",
   "execution_count": 3,
   "metadata": {},
   "outputs": [],
   "source": [
    "# Definição da função do indicador\n",
    "# Média Móvel curta de 9 períodos e de 10 períodos\n",
    "\n",
    "trade_logic = []\n",
    "\n",
    "def simple_moving_average(df):\n",
    "    dados = df.copy()\n",
    "\n",
    "    dados['MA9'] = dados['Adj Close'].rolling(9).mean()\n",
    "    dados['MA10'] = dados['Adj Close'].rolling(10).mean()\n",
    "\n",
    "    dados = dados.dropna()\n",
    "\n",
    "    for i in range(len(dados)):\n",
    "        if dados['MA9'].iloc[i-1] < dados['MA10'].iloc[i-1] and \\\n",
    "        dados['MA9'].iloc[i] > dados['MA10'].iloc[i]:\n",
    "            trade_logic.append(1)\n",
    "        elif dados['MA9'].iloc[i-1] > dados['MA10'].iloc[i-1] and \\\n",
    "        dados['MA9'].iloc[i] < dados['MA10'].iloc[i]:\n",
    "            trade_logic.append(0)\n",
    "        else:\n",
    "            trade_logic.append(-1)\n",
    "\n",
    "    dados['Signal'] = trade_logic\n",
    "    \n",
    "    return dados.copy()"
   ]
  },
  {
   "cell_type": "code",
   "execution_count": 4,
   "metadata": {},
   "outputs": [],
   "source": [
    "# Definindo as variáveis de treino e de teste\n",
    "df2 = pd.DataFrame()\n",
    "\n",
    "df = simple_moving_average(df)\n",
    "df = df.reset_index(drop=True)\n",
    "\n",
    "y = df['Signal']\n",
    "X = df.drop('Signal', axis=1)\n",
    "X = X.drop(columns=['Date', 'Adj Close', 'MA9', 'MA10'])\n",
    "\n",
    "\n",
    "#.3369 = 2 anos de treino e 1 ano de teste\n",
    "X_train, X_test, y_train, y_test = train_test_split(X, y, test_size=.3369, random_state=42)\n"
   ]
  },
  {
   "cell_type": "code",
   "execution_count": 6,
   "metadata": {},
   "outputs": [
    {
     "name": "stdout",
     "output_type": "stream",
     "text": [
      "Score: 0.8340080971659919\n",
      "Mean_Squared_ERROR: 0.4089068825910931\n"
     ]
    }
   ],
   "source": [
    "# Definição do modelo RidgeClassifier\n",
    "\n",
    "rc = RidgeClassifier()\n",
    "rc.fit(X_train, y_train[:, np.newaxis])\n",
    "y_pred_rc = rc.predict(X_test)\n",
    "\n",
    "print(f'Score: {rc.score(X_test, y_test)}')\n",
    "print(f'Mean_Squared_ERROR: {mean_squared_error(np.array(y_test), y_pred_rc)}')\n"
   ]
  },
  {
   "cell_type": "code",
   "execution_count": 6,
   "metadata": {},
   "outputs": [
    {
     "name": "stdout",
     "output_type": "stream",
     "text": [
      "Connected\n",
      "Copying the values...\n",
      "Desconnected\n"
     ]
    }
   ],
   "source": [
    "# Conecxão com o Meta Trader 5\n",
    "\n",
    "mt.initialize()\n",
    "mt.terminal_info()\n",
    "\n",
    "print('Connected')\n",
    "\n",
    "rates = mt.copy_rates_from_pos(ativo, mt.TIMEFRAME_M5, 0, 20)\n",
    "print('Copying the values...')\n",
    "\n",
    "mt.shutdown()\n",
    "print('Desconnected')\n",
    "\n",
    "open_price  = rates[0][1]  # Open\n",
    "high_price  = rates[0][2]  # High\n",
    "low_price   = rates[0][3]  # Low\n",
    "close_price = rates[0][4]  # Close"
   ]
  },
  {
   "cell_type": "code",
   "execution_count": 7,
   "metadata": {},
   "outputs": [],
   "source": [
    "# Definindo a função de Compra\n",
    "\n",
    "def buy():\n",
    "    price = mt.symbol_info_tick(ativo).ask\n",
    "\n",
    "    sl  = price - 200.0*mt.symbol_info(ativo).point\n",
    "    tp  = price + 200.0*mt.symbol_info(ativo).point\n",
    "\n",
    "    request = {\n",
    "        \"action\": mt.TRADE_ACTION_DEAL,\n",
    "        \"symbol\": ativo,\n",
    "        \"volume\": lote,\n",
    "        \"type\": mt.ORDER_TYPE_BUY,\n",
    "        \"sl\": sl,\n",
    "        \"tp\": tp,\n",
    "        \"magic\": 124512,\n",
    "        \"deviation\": 0,\n",
    "        \"comment\": \"Buy Order\",\n",
    "        \"type_time\": mt.ORDER_TIME_GTC,\n",
    "        \"type_filling\": mt.ORDER_FILLING_FOK,\n",
    "    }\n",
    "\n",
    "    result = mt.order_send(request)\n",
    "\n",
    "    print(f'OrderSended buy: {result}')"
   ]
  },
  {
   "cell_type": "code",
   "execution_count": 8,
   "metadata": {},
   "outputs": [],
   "source": [
    "# Definindo a função de Venda\n",
    "\n",
    "def sell():\n",
    "    price = mt.symbol_info_tick(ativo).bid\n",
    "    \n",
    "    sl = price + 200.0*mt.symbol_info(ativo).point\n",
    "    tp = price - 200.0*mt.symbol_info(ativo).point\n",
    "\n",
    "    request = {\n",
    "        \"action\": mt.TRADE_ACTION_DEAL,\n",
    "        \"symbol\": ativo,\n",
    "        \"volume\": lote,\n",
    "        \"type\": mt.ORDER_TYPE_SELL,\n",
    "        \"sl\": sl,\n",
    "        \"tp\": tp,\n",
    "        \"magic\": 124512,\n",
    "        \"deviation\": 0,\n",
    "        \"comment\": \"Sell Order\",\n",
    "        \"type_time\": mt.ORDER_TIME_GTC,\n",
    "        \"type_filling\": mt.ORDER_FILLING_FOK,\n",
    "    }\n",
    "\n",
    "    result = mt.order_send(request)\n",
    "    \n",
    "    print(f'OrderSended sell: {result}')"
   ]
  },
  {
   "cell_type": "code",
   "execution_count": 10,
   "metadata": {},
   "outputs": [
    {
     "name": "stdout",
     "output_type": "stream",
     "text": [
      "Can not predict\n"
     ]
    }
   ],
   "source": [
    "# Efetuando as ordens de compra e de venda a mercado\n",
    "\n",
    "mt.initialize()\n",
    "prices = [open_price, high_price, low_price, close_price]\n",
    "mt.initialize()\n",
    "\n",
    "while True:\n",
    "    predict_result = rc.predict([prices])\n",
    "\n",
    "    if mt.positions_get(symbol=ativo) == ():\n",
    "        if predict_result == 1:\n",
    "            buy()\n",
    "        elif predict_result == 0:\n",
    "            sell()\n",
    "        else:\n",
    "            print('Can not predict')\n",
    "    else:\n",
    "        print('ERROR! - Financial Asset is incorrect')\n",
    "    break"
   ]
  }
 ],
 "metadata": {
  "kernelspec": {
   "display_name": "Python 3",
   "language": "python",
   "name": "python3"
  },
  "language_info": {
   "codemirror_mode": {
    "name": "ipython",
    "version": 3
   },
   "file_extension": ".py",
   "mimetype": "text/x-python",
   "name": "python",
   "nbconvert_exporter": "python",
   "pygments_lexer": "ipython3",
   "version": "3.8.5"
  }
 },
 "nbformat": 4,
 "nbformat_minor": 5
}
