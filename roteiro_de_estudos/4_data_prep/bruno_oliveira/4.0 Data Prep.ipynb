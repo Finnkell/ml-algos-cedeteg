{
 "cells": [
  {
   "cell_type": "markdown",
   "metadata": {},
   "source": [
    "# 4.0 - Data Prep"
   ]
  },
  {
   "cell_type": "markdown",
   "metadata": {},
   "source": [
    "## 4.1 - Introdução:"
   ]
  },
  {
   "cell_type": "markdown",
   "metadata": {},
   "source": [
    "Data Prep ou Data Preparation é a etapa inicial e fundamental de uma análise de dados bem feita. Consiste na limpeza e na preparação dos dados brutos antes de usá-los. Um bom preparo de dados, possibilita uma análise mais precisa e confiável.\n",
    "As etapas de data prep, geralmente são as seguintes:\n",
    "\n",
    "1. **Aquisição de dados (Acquire Data):** etapa que consiste na busca pelas informações que são necessárias, na coleta e no acesso desses dados. Geralmente os dados são obtidos em um formato como um documento do Excel ou CSV;\n",
    "2. **Exploração dos dados (Explore):** consiste em determinar a qualidade dos dados e analisar a relação entre as variáveis. Nessa etapa é comum usar análises estatísticas como intervalos, média e desvio padrão;\n",
    "3. **Limpeza dos dados (Cleanse):** consiste em melhorar a qualidade dos dados para que a análise seja mais precisa possível. Nessa etapa é comum ocorrer a correção de erros de entrada, remoção de dados duplicados ou outliers, e a eliminação de dados ausentes;\n",
    "4. **Transformação dos dados (Transform):** consiste na formatação, orientação e agragação dos dados usados na análise. Alguns exemplos de transformação de dados são: alterar a orientação dos dados, converter formatos de variáveis (datas), agregar dados, etc.\n",
    "\n",
    "A imagem a seguir ilustra a relação entre os processos na construção de um bom modelo. Também podemos perceber onde que a etapa de preparo de dados se encaixa no ciclo entre os processos:\n",
    "\n",
    "<img src=\"https://miro.medium.com/max/708/1*Xkuq_UUrZJ_nnzSCutnu6Q.png\"></img>"
   ]
  },
  {
   "cell_type": "markdown",
   "metadata": {},
   "source": [
    "## 4.2 - Tratamento de missings:"
   ]
  },
  {
   "cell_type": "markdown",
   "metadata": {},
   "source": [
    "Os missings correspondem aos dados que estão ausentes, ou seja, estão faltando dentro do conjunto de dados analisado. Os missings geralmente aparecem como células vazias, valores NULL, NA (Not Avaliable), ou como caracteres particulares, por exemplo o ponto de interrogação (?). O tratamento desses dados ausentes, acontece na etapa de Data Cleansing. Temos algumas maneiras de tratar os missings:\n",
    "1. Remover as observações que contém dados faltando, porém ao fazer isso, perdemos algumas informações que poderiam ser importantes;\n",
    "2. Adicionar informações no lugar dos missings baseado em outras observações, porém ao fazer isso, estamos assumindo valores e não observações reais;\n",
    "3. Alterar a forma que os dados estão sendo usados;"
   ]
  },
  {
   "cell_type": "markdown",
   "metadata": {},
   "source": [
    "O exemplo abaixo ilustra os missings presentes no conjunto de dados do Ibovespa no ano de 2021. Como esses dados não possuem missings, foram criados os dados ausentes, por meio de uma média móvel de 9 períodos nas primeiras linhas. Isso ocorreu, pois antes dos primeiros 9 registros, não existia uma base de dados para se aplicar a média móvel."
   ]
  },
  {
   "cell_type": "code",
   "execution_count": 10,
   "metadata": {},
   "outputs": [
    {
     "data": {
      "text/html": [
       "<div>\n",
       "<style scoped>\n",
       "    .dataframe tbody tr th:only-of-type {\n",
       "        vertical-align: middle;\n",
       "    }\n",
       "\n",
       "    .dataframe tbody tr th {\n",
       "        vertical-align: top;\n",
       "    }\n",
       "\n",
       "    .dataframe thead th {\n",
       "        text-align: right;\n",
       "    }\n",
       "</style>\n",
       "<table border=\"1\" class=\"dataframe\">\n",
       "  <thead>\n",
       "    <tr style=\"text-align: right;\">\n",
       "      <th></th>\n",
       "      <th>High</th>\n",
       "      <th>Low</th>\n",
       "      <th>Open</th>\n",
       "      <th>Close</th>\n",
       "      <th>Volume</th>\n",
       "      <th>Adj Close</th>\n",
       "      <th>MMA9</th>\n",
       "    </tr>\n",
       "    <tr>\n",
       "      <th>Date</th>\n",
       "      <th></th>\n",
       "      <th></th>\n",
       "      <th></th>\n",
       "      <th></th>\n",
       "      <th></th>\n",
       "      <th></th>\n",
       "      <th></th>\n",
       "    </tr>\n",
       "  </thead>\n",
       "  <tbody>\n",
       "    <tr>\n",
       "      <th>2021-01-04</th>\n",
       "      <td>120354.0</td>\n",
       "      <td>118062.0</td>\n",
       "      <td>119024.0</td>\n",
       "      <td>118558.0</td>\n",
       "      <td>8741400.0</td>\n",
       "      <td>118558.0</td>\n",
       "      <td>NaN</td>\n",
       "    </tr>\n",
       "    <tr>\n",
       "      <th>2021-01-05</th>\n",
       "      <td>119790.0</td>\n",
       "      <td>116756.0</td>\n",
       "      <td>118835.0</td>\n",
       "      <td>119223.0</td>\n",
       "      <td>9257100.0</td>\n",
       "      <td>119223.0</td>\n",
       "      <td>NaN</td>\n",
       "    </tr>\n",
       "    <tr>\n",
       "      <th>2021-01-06</th>\n",
       "      <td>120924.0</td>\n",
       "      <td>118917.0</td>\n",
       "      <td>119377.0</td>\n",
       "      <td>119851.0</td>\n",
       "      <td>11638200.0</td>\n",
       "      <td>119851.0</td>\n",
       "      <td>NaN</td>\n",
       "    </tr>\n",
       "    <tr>\n",
       "      <th>2021-01-07</th>\n",
       "      <td>121983.0</td>\n",
       "      <td>119101.0</td>\n",
       "      <td>119103.0</td>\n",
       "      <td>121956.0</td>\n",
       "      <td>11774800.0</td>\n",
       "      <td>121956.0</td>\n",
       "      <td>NaN</td>\n",
       "    </tr>\n",
       "    <tr>\n",
       "      <th>2021-01-08</th>\n",
       "      <td>125324.0</td>\n",
       "      <td>122386.0</td>\n",
       "      <td>122387.0</td>\n",
       "      <td>125077.0</td>\n",
       "      <td>11085800.0</td>\n",
       "      <td>125077.0</td>\n",
       "      <td>NaN</td>\n",
       "    </tr>\n",
       "  </tbody>\n",
       "</table>\n",
       "</div>"
      ],
      "text/plain": [
       "                High       Low      Open     Close      Volume  Adj Close  \\\n",
       "Date                                                                        \n",
       "2021-01-04  120354.0  118062.0  119024.0  118558.0   8741400.0   118558.0   \n",
       "2021-01-05  119790.0  116756.0  118835.0  119223.0   9257100.0   119223.0   \n",
       "2021-01-06  120924.0  118917.0  119377.0  119851.0  11638200.0   119851.0   \n",
       "2021-01-07  121983.0  119101.0  119103.0  121956.0  11774800.0   121956.0   \n",
       "2021-01-08  125324.0  122386.0  122387.0  125077.0  11085800.0   125077.0   \n",
       "\n",
       "            MMA9  \n",
       "Date              \n",
       "2021-01-04   NaN  \n",
       "2021-01-05   NaN  \n",
       "2021-01-06   NaN  \n",
       "2021-01-07   NaN  \n",
       "2021-01-08   NaN  "
      ]
     },
     "execution_count": 10,
     "metadata": {},
     "output_type": "execute_result"
    }
   ],
   "source": [
    "import pandas_datareader.data as web\n",
    "import matplotlib.pyplot as plt\n",
    "from datetime import datetime as dt\n",
    "import numpy as np\n",
    "\n",
    "dt_inicio = '2021-01-01'\n",
    "hoje = f'{dt.today().year}-{dt.today().month}-{dt.today().day}'\n",
    "dt_final = hoje\n",
    "\n",
    "ibov = web.DataReader('^BVSP', data_source='yahoo', start=dt_inicio, end=dt_final)\n",
    "\n",
    "ibov['MMA9'] = ibov['Adj Close'].rolling(9).mean()\n",
    "\n",
    "ibov.head()"
   ]
  },
  {
   "cell_type": "markdown",
   "metadata": {},
   "source": [
    "* **1- Remover os missings:**"
   ]
  },
  {
   "cell_type": "code",
   "execution_count": 127,
   "metadata": {
    "scrolled": true
   },
   "outputs": [
    {
     "data": {
      "text/html": [
       "<div>\n",
       "<style scoped>\n",
       "    .dataframe tbody tr th:only-of-type {\n",
       "        vertical-align: middle;\n",
       "    }\n",
       "\n",
       "    .dataframe tbody tr th {\n",
       "        vertical-align: top;\n",
       "    }\n",
       "\n",
       "    .dataframe thead th {\n",
       "        text-align: right;\n",
       "    }\n",
       "</style>\n",
       "<table border=\"1\" class=\"dataframe\">\n",
       "  <thead>\n",
       "    <tr style=\"text-align: right;\">\n",
       "      <th></th>\n",
       "      <th>High</th>\n",
       "      <th>Low</th>\n",
       "      <th>Open</th>\n",
       "      <th>Close</th>\n",
       "      <th>Volume</th>\n",
       "      <th>Adj Close</th>\n",
       "      <th>MMA9</th>\n",
       "    </tr>\n",
       "    <tr>\n",
       "      <th>Date</th>\n",
       "      <th></th>\n",
       "      <th></th>\n",
       "      <th></th>\n",
       "      <th></th>\n",
       "      <th></th>\n",
       "      <th></th>\n",
       "      <th></th>\n",
       "    </tr>\n",
       "  </thead>\n",
       "  <tbody>\n",
       "    <tr>\n",
       "      <th>2021-01-14</th>\n",
       "      <td>123896.0</td>\n",
       "      <td>121947.0</td>\n",
       "      <td>121947.0</td>\n",
       "      <td>123481.0</td>\n",
       "      <td>8974400.0</td>\n",
       "      <td>123481.0</td>\n",
       "      <td>121887.888889</td>\n",
       "    </tr>\n",
       "    <tr>\n",
       "      <th>2021-01-15</th>\n",
       "      <td>123472.0</td>\n",
       "      <td>120374.0</td>\n",
       "      <td>123472.0</td>\n",
       "      <td>120502.0</td>\n",
       "      <td>9387600.0</td>\n",
       "      <td>120502.0</td>\n",
       "      <td>122103.888889</td>\n",
       "    </tr>\n",
       "    <tr>\n",
       "      <th>2021-01-18</th>\n",
       "      <td>122586.0</td>\n",
       "      <td>120351.0</td>\n",
       "      <td>120351.0</td>\n",
       "      <td>121242.0</td>\n",
       "      <td>7223100.0</td>\n",
       "      <td>121242.0</td>\n",
       "      <td>122328.222222</td>\n",
       "    </tr>\n",
       "    <tr>\n",
       "      <th>2021-01-19</th>\n",
       "      <td>122120.0</td>\n",
       "      <td>119257.0</td>\n",
       "      <td>121250.0</td>\n",
       "      <td>120673.0</td>\n",
       "      <td>7886000.0</td>\n",
       "      <td>120673.0</td>\n",
       "      <td>122419.555556</td>\n",
       "    </tr>\n",
       "    <tr>\n",
       "      <th>2021-01-20</th>\n",
       "      <td>121449.0</td>\n",
       "      <td>118740.0</td>\n",
       "      <td>120645.0</td>\n",
       "      <td>119708.0</td>\n",
       "      <td>7947300.0</td>\n",
       "      <td>119708.0</td>\n",
       "      <td>122169.777778</td>\n",
       "    </tr>\n",
       "  </tbody>\n",
       "</table>\n",
       "</div>"
      ],
      "text/plain": [
       "                High       Low      Open     Close     Volume  Adj Close  \\\n",
       "Date                                                                       \n",
       "2021-01-14  123896.0  121947.0  121947.0  123481.0  8974400.0   123481.0   \n",
       "2021-01-15  123472.0  120374.0  123472.0  120502.0  9387600.0   120502.0   \n",
       "2021-01-18  122586.0  120351.0  120351.0  121242.0  7223100.0   121242.0   \n",
       "2021-01-19  122120.0  119257.0  121250.0  120673.0  7886000.0   120673.0   \n",
       "2021-01-20  121449.0  118740.0  120645.0  119708.0  7947300.0   119708.0   \n",
       "\n",
       "                     MMA9  \n",
       "Date                       \n",
       "2021-01-14  121887.888889  \n",
       "2021-01-15  122103.888889  \n",
       "2021-01-18  122328.222222  \n",
       "2021-01-19  122419.555556  \n",
       "2021-01-20  122169.777778  "
      ]
     },
     "execution_count": 127,
     "metadata": {},
     "output_type": "execute_result"
    }
   ],
   "source": [
    "ibov_drop = ibov.dropna()\n",
    "ibov_drop.head()"
   ]
  },
  {
   "cell_type": "markdown",
   "metadata": {},
   "source": [
    "* **2- Preencher os missings (os missings foram preenchidos com 0):**"
   ]
  },
  {
   "cell_type": "code",
   "execution_count": 129,
   "metadata": {},
   "outputs": [
    {
     "data": {
      "text/html": [
       "<div>\n",
       "<style scoped>\n",
       "    .dataframe tbody tr th:only-of-type {\n",
       "        vertical-align: middle;\n",
       "    }\n",
       "\n",
       "    .dataframe tbody tr th {\n",
       "        vertical-align: top;\n",
       "    }\n",
       "\n",
       "    .dataframe thead th {\n",
       "        text-align: right;\n",
       "    }\n",
       "</style>\n",
       "<table border=\"1\" class=\"dataframe\">\n",
       "  <thead>\n",
       "    <tr style=\"text-align: right;\">\n",
       "      <th></th>\n",
       "      <th>High</th>\n",
       "      <th>Low</th>\n",
       "      <th>Open</th>\n",
       "      <th>Close</th>\n",
       "      <th>Volume</th>\n",
       "      <th>Adj Close</th>\n",
       "      <th>MMA9</th>\n",
       "    </tr>\n",
       "    <tr>\n",
       "      <th>Date</th>\n",
       "      <th></th>\n",
       "      <th></th>\n",
       "      <th></th>\n",
       "      <th></th>\n",
       "      <th></th>\n",
       "      <th></th>\n",
       "      <th></th>\n",
       "    </tr>\n",
       "  </thead>\n",
       "  <tbody>\n",
       "    <tr>\n",
       "      <th>2021-01-04</th>\n",
       "      <td>120354.0</td>\n",
       "      <td>118062.0</td>\n",
       "      <td>119024.0</td>\n",
       "      <td>118558.0</td>\n",
       "      <td>8741400.0</td>\n",
       "      <td>118558.0</td>\n",
       "      <td>0.0</td>\n",
       "    </tr>\n",
       "    <tr>\n",
       "      <th>2021-01-05</th>\n",
       "      <td>119790.0</td>\n",
       "      <td>116756.0</td>\n",
       "      <td>118835.0</td>\n",
       "      <td>119223.0</td>\n",
       "      <td>9257100.0</td>\n",
       "      <td>119223.0</td>\n",
       "      <td>0.0</td>\n",
       "    </tr>\n",
       "    <tr>\n",
       "      <th>2021-01-06</th>\n",
       "      <td>120924.0</td>\n",
       "      <td>118917.0</td>\n",
       "      <td>119377.0</td>\n",
       "      <td>119851.0</td>\n",
       "      <td>11638200.0</td>\n",
       "      <td>119851.0</td>\n",
       "      <td>0.0</td>\n",
       "    </tr>\n",
       "    <tr>\n",
       "      <th>2021-01-07</th>\n",
       "      <td>121983.0</td>\n",
       "      <td>119101.0</td>\n",
       "      <td>119103.0</td>\n",
       "      <td>121956.0</td>\n",
       "      <td>11774800.0</td>\n",
       "      <td>121956.0</td>\n",
       "      <td>0.0</td>\n",
       "    </tr>\n",
       "    <tr>\n",
       "      <th>2021-01-08</th>\n",
       "      <td>125324.0</td>\n",
       "      <td>122386.0</td>\n",
       "      <td>122387.0</td>\n",
       "      <td>125077.0</td>\n",
       "      <td>11085800.0</td>\n",
       "      <td>125077.0</td>\n",
       "      <td>0.0</td>\n",
       "    </tr>\n",
       "  </tbody>\n",
       "</table>\n",
       "</div>"
      ],
      "text/plain": [
       "                High       Low      Open     Close      Volume  Adj Close  \\\n",
       "Date                                                                        \n",
       "2021-01-04  120354.0  118062.0  119024.0  118558.0   8741400.0   118558.0   \n",
       "2021-01-05  119790.0  116756.0  118835.0  119223.0   9257100.0   119223.0   \n",
       "2021-01-06  120924.0  118917.0  119377.0  119851.0  11638200.0   119851.0   \n",
       "2021-01-07  121983.0  119101.0  119103.0  121956.0  11774800.0   121956.0   \n",
       "2021-01-08  125324.0  122386.0  122387.0  125077.0  11085800.0   125077.0   \n",
       "\n",
       "            MMA9  \n",
       "Date              \n",
       "2021-01-04   0.0  \n",
       "2021-01-05   0.0  \n",
       "2021-01-06   0.0  \n",
       "2021-01-07   0.0  \n",
       "2021-01-08   0.0  "
      ]
     },
     "execution_count": 129,
     "metadata": {},
     "output_type": "execute_result"
    }
   ],
   "source": [
    "ibov_fill = ibov.fillna(0)\n",
    "ibov_fill.head()"
   ]
  },
  {
   "cell_type": "markdown",
   "metadata": {},
   "source": [
    "* **3- Mudar os valores dos missings (nesse caso, trocamos os missings pelos próximos valores não nulos do conjunto de dados):**"
   ]
  },
  {
   "cell_type": "code",
   "execution_count": 130,
   "metadata": {},
   "outputs": [
    {
     "data": {
      "text/html": [
       "<div>\n",
       "<style scoped>\n",
       "    .dataframe tbody tr th:only-of-type {\n",
       "        vertical-align: middle;\n",
       "    }\n",
       "\n",
       "    .dataframe tbody tr th {\n",
       "        vertical-align: top;\n",
       "    }\n",
       "\n",
       "    .dataframe thead th {\n",
       "        text-align: right;\n",
       "    }\n",
       "</style>\n",
       "<table border=\"1\" class=\"dataframe\">\n",
       "  <thead>\n",
       "    <tr style=\"text-align: right;\">\n",
       "      <th></th>\n",
       "      <th>High</th>\n",
       "      <th>Low</th>\n",
       "      <th>Open</th>\n",
       "      <th>Close</th>\n",
       "      <th>Volume</th>\n",
       "      <th>Adj Close</th>\n",
       "      <th>MMA9</th>\n",
       "    </tr>\n",
       "    <tr>\n",
       "      <th>Date</th>\n",
       "      <th></th>\n",
       "      <th></th>\n",
       "      <th></th>\n",
       "      <th></th>\n",
       "      <th></th>\n",
       "      <th></th>\n",
       "      <th></th>\n",
       "    </tr>\n",
       "  </thead>\n",
       "  <tbody>\n",
       "    <tr>\n",
       "      <th>2021-01-04</th>\n",
       "      <td>120354.0</td>\n",
       "      <td>118062.0</td>\n",
       "      <td>119024.0</td>\n",
       "      <td>118558.0</td>\n",
       "      <td>8741400.0</td>\n",
       "      <td>118558.0</td>\n",
       "      <td>121887.888889</td>\n",
       "    </tr>\n",
       "    <tr>\n",
       "      <th>2021-01-05</th>\n",
       "      <td>119790.0</td>\n",
       "      <td>116756.0</td>\n",
       "      <td>118835.0</td>\n",
       "      <td>119223.0</td>\n",
       "      <td>9257100.0</td>\n",
       "      <td>119223.0</td>\n",
       "      <td>121887.888889</td>\n",
       "    </tr>\n",
       "    <tr>\n",
       "      <th>2021-01-06</th>\n",
       "      <td>120924.0</td>\n",
       "      <td>118917.0</td>\n",
       "      <td>119377.0</td>\n",
       "      <td>119851.0</td>\n",
       "      <td>11638200.0</td>\n",
       "      <td>119851.0</td>\n",
       "      <td>121887.888889</td>\n",
       "    </tr>\n",
       "    <tr>\n",
       "      <th>2021-01-07</th>\n",
       "      <td>121983.0</td>\n",
       "      <td>119101.0</td>\n",
       "      <td>119103.0</td>\n",
       "      <td>121956.0</td>\n",
       "      <td>11774800.0</td>\n",
       "      <td>121956.0</td>\n",
       "      <td>121887.888889</td>\n",
       "    </tr>\n",
       "    <tr>\n",
       "      <th>2021-01-08</th>\n",
       "      <td>125324.0</td>\n",
       "      <td>122386.0</td>\n",
       "      <td>122387.0</td>\n",
       "      <td>125077.0</td>\n",
       "      <td>11085800.0</td>\n",
       "      <td>125077.0</td>\n",
       "      <td>121887.888889</td>\n",
       "    </tr>\n",
       "  </tbody>\n",
       "</table>\n",
       "</div>"
      ],
      "text/plain": [
       "                High       Low      Open     Close      Volume  Adj Close  \\\n",
       "Date                                                                        \n",
       "2021-01-04  120354.0  118062.0  119024.0  118558.0   8741400.0   118558.0   \n",
       "2021-01-05  119790.0  116756.0  118835.0  119223.0   9257100.0   119223.0   \n",
       "2021-01-06  120924.0  118917.0  119377.0  119851.0  11638200.0   119851.0   \n",
       "2021-01-07  121983.0  119101.0  119103.0  121956.0  11774800.0   121956.0   \n",
       "2021-01-08  125324.0  122386.0  122387.0  125077.0  11085800.0   125077.0   \n",
       "\n",
       "                     MMA9  \n",
       "Date                       \n",
       "2021-01-04  121887.888889  \n",
       "2021-01-05  121887.888889  \n",
       "2021-01-06  121887.888889  \n",
       "2021-01-07  121887.888889  \n",
       "2021-01-08  121887.888889  "
      ]
     },
     "execution_count": 130,
     "metadata": {},
     "output_type": "execute_result"
    }
   ],
   "source": [
    "ibov_fill_2 = ibov.fillna(method='bfill', axis=0).fillna(0)\n",
    "ibov_fill_2.head()"
   ]
  },
  {
   "cell_type": "markdown",
   "metadata": {},
   "source": [
    "## 4.3 - Tratamento de outliers:"
   ]
  },
  {
   "cell_type": "markdown",
   "metadata": {},
   "source": [
    "Os outliers, chamados de pontos fora da curva, são aqueles valores que destoam dos demais, ou seja, são aqueles valores discrepantes que divergem dos outros valores no conjunto de dados. Se esses outliers não forem tratados, pode ocorrer muitos erros devido a um erro inicial. Abaixo temos uma comparação do efeito de um outlier no mesmo conjunto de dados:\n",
    "\n",
    "* O primeiro exemplo mostra os dados sem o outlier: \n",
    "\n",
    "<img src=\"https://miro.medium.com/max/194/1*O2o-J6lcSecG37niE9hLLw.png\" />\n",
    "\n",
    "* Já o segundo exemplo mostra as consequências causadas pelo outlier:\n",
    "\n",
    "<img src=\"https://miro.medium.com/max/204/1*7wr29KfKnPS3Ehacd_kvfQ.png\" />"
   ]
  },
  {
   "cell_type": "markdown",
   "metadata": {},
   "source": [
    "Com os outliers identificados, podemos usar alguns métodos para tratar esses dados:\n",
    "1. **Excluir os outliers:** recomendado quando o nosso conjunto de dados é grande o suficiente para se fazer isso;\n",
    "2. **Filtrar os outliers:** podemos usar filtros como uma média móvel;\n",
    "3. **Análise individual:** recomendado quando temos uma quantidade de outliers significante e em casos mais extremos, por exemplo, as empresas que tiveram lucro mesmo em período de pandemia;"
   ]
  },
  {
   "cell_type": "markdown",
   "metadata": {},
   "source": [
    "O exemplo abaixo ilustra os outliers presentes no Ibov, de janeiro de 2020, até o primeiro circuit breaker que ocorreu dia 09/03 do mesmo ano. Estamos utilizando o preço de fechamento dos candles, e plotando estes valores em um boxplot para ilustrar os outliers de maneira mais fácil. Após isso, fizemos um tratamento destes outliers, removendo os valores que são menores que o quartil 1 (inferiores a 25% dos dados) e maiores que o quartil 3 (superiores a 75% dos dados):"
   ]
  },
  {
   "cell_type": "code",
   "execution_count": 59,
   "metadata": {
    "scrolled": true
   },
   "outputs": [
    {
     "data": {
      "image/png": "[encoded data removed]",
      "text/plain": [
       "<Figure size 648x432 with 1 Axes>"
      ]
     },
     "metadata": {
      "needs_background": "light"
     },
     "output_type": "display_data"
    }
   ],
   "source": [
    "import pandas_datareader.data as web\n",
    "import matplotlib.pyplot as plt\n",
    "import numpy as np\n",
    "\n",
    "dt_inicio = '2020-01-01'\n",
    "dt_final = '2020-03-09'\n",
    "\n",
    "ibov = web.DataReader('^BVSP', data_source='yahoo', start=dt_inicio, end=dt_final)\n",
    "\n",
    "dados = np.array([ibov['Close']])\n",
    "\n",
    "def excluir_outliers(t):\n",
    "    fator = 1.5        \n",
    "    q3, q1 = np.percentile(t, [75, 25])\n",
    "    iqr = q3 - q1\n",
    "    \n",
    "    lowpass = q1 - (iqr * fator)\n",
    "    highpass = q3 + (iqr * fator)\n",
    "\n",
    "    outliers = np.argwhere(t < lowpass)\n",
    "    t = np.delete(t, outliers)\n",
    "\n",
    "    outliers = np.argwhere(t > highpass)\n",
    "    t = np.delete(t, outliers)\n",
    "\n",
    "    return t\n",
    "\n",
    "fig = plt.figure(1, figsize=(9, 6))\n",
    "plt.boxplot(ibov['Close'])\n",
    "\n",
    "dados = excluir_outliers(dados)"
   ]
  },
  {
   "cell_type": "code",
   "execution_count": 60,
   "metadata": {},
   "outputs": [
    {
     "data": {
      "text/plain": [
       "{'whiskers': [<matplotlib.lines.Line2D at 0x16058789790>,\n",
       "  <matplotlib.lines.Line2D at 0x16058789af0>],\n",
       " 'caps': [<matplotlib.lines.Line2D at 0x16058789e50>,\n",
       "  <matplotlib.lines.Line2D at 0x160587831f0>],\n",
       " 'boxes': [<matplotlib.lines.Line2D at 0x16058789430>],\n",
       " 'medians': [<matplotlib.lines.Line2D at 0x16058783550>],\n",
       " 'fliers': [<matplotlib.lines.Line2D at 0x160587838b0>],\n",
       " 'means': []}"
      ]
     },
     "execution_count": 60,
     "metadata": {},
     "output_type": "execute_result"
    },
    {
     "data": {
      "image/png": "[encoded data removed]",
      "text/plain": [
       "<Figure size 648x432 with 1 Axes>"
      ]
     },
     "metadata": {
      "needs_background": "light"
     },
     "output_type": "display_data"
    }
   ],
   "source": [
    "fig = plt.figure(1, figsize=(9, 6))\n",
    "plt.boxplot(dados)"
   ]
  },
  {
   "cell_type": "markdown",
   "metadata": {},
   "source": [
    "## 4.4 - PCA (Principal Component Analysis):"
   ]
  },
  {
   "cell_type": "markdown",
   "metadata": {},
   "source": [
    "PCA é traduzido como a análise de componentes principais, e é definida como uma ferramenta utilizada dentro da análise de dados para a divisão de um problema maior em partes menores, ou seja, quando temos um ou dois eixos no conjunto de dados, a visualização desses dados é simples, pois temos um gráfico 2D (de duas dimensões), porém quando aumentamos as variáveis (eixos), também precisamos aumentar as dimensões. Desta maneira o PCA reduz o número de variáveis do conjunto de dados, preservando o máximo de informações possíveis.\n",
    "\n",
    "A imagem abaixo ilustra o PCA aplicado sobre o conjunto de dados Iris, que é bem conhecida dentro do Machine Learning:\n",
    "\n",
    "<img src=\"https://miro.medium.com/max/1056/1*_NK2wo5o0ngQ-MfdoXe1aw.png\" width=\"500px\"></img>"
   ]
  },
  {
   "cell_type": "markdown",
   "metadata": {},
   "source": [
    "As variáveis que foram divididas são chamadas de componentes, onde o componente principal é a combinação linear das variáveis originais. Já o segundo componente principal explica a variação restante dos dados, e não está relacionado com o primeiro componente principal."
   ]
  },
  {
   "cell_type": "markdown",
   "metadata": {},
   "source": [
    "O exemplo prático abaixo em Python, ilustra o PCA aplicado no conjunto de dados Iris:"
   ]
  },
  {
   "cell_type": "code",
   "execution_count": 60,
   "metadata": {},
   "outputs": [
    {
     "data": {
      "image/png": "[encoded data removed]",
      "text/plain": [
       "<Figure size 600x400 with 1 Axes>"
      ]
     },
     "metadata": {},
     "output_type": "display_data"
    }
   ],
   "source": [
    "import pandas as pd\n",
    "from sklearn.decomposition import PCA\n",
    "from sklearn.preprocessing import StandardScaler\n",
    "from sklearn.datasets import load_iris\n",
    "import matplotlib.pyplot as plt\n",
    "\n",
    "data = load_iris()\n",
    "\n",
    "df = pd.DataFrame(data['data'], columns=data['feature_names'])\n",
    "\n",
    "scaler = StandardScaler()\n",
    "scaler.fit(df)\n",
    "scaled_data = scaler.transform(df)\n",
    "scaled_data\n",
    "\n",
    "pca = PCA(n_components=2)\n",
    "pca.fit(scaled_data)\n",
    "\n",
    "X_pca = pca.transform(scaled_data)\n",
    "\n",
    "plt.figure(figsize=(6,4))\n",
    "plt.scatter(X_pca[:,0], X_pca[:,1], c=data['target'])\n",
    "plt.xlabel('Primeiro componente principal')\n",
    "plt.ylabel('Segundo componente principal')\n",
    "plt.show()"
   ]
  },
  {
   "cell_type": "markdown",
   "metadata": {},
   "source": [
    "## 4.5 - Correlação e associação:"
   ]
  },
  {
   "cell_type": "markdown",
   "metadata": {},
   "source": [
    "Uma correlação é a semelhança entre duas coisas, ou seja, é a medida entre duas variáveis que se relacionam. Em alguns casos essa relação não é tão evidente assim, para isso é usado alguns métodos para fazer essa deteccção, entre eles estão os índices de Pearson, Spearman e Kendall. A imagem a seguir exemplifica os tipos de correlação que acontecem:\n",
    "\n",
    "<img src=\"https://bookdown.org/cienciadedadosnaep/ciencia_de_dados/Fig_correlacao.png\" width=\"500px\"></img>\n",
    "\n",
    "A seguir, é definido os principais tipos de coeficientes de correlação:\n",
    "\n",
    "* **Coeficiente de correlação de Pearson:** também chamado de $\\rho$ de Pearson, mede o grau de correlação entre duas variáveis. É representado por $\\rho$ que assume valores entre -1 e 1.\n",
    "    * **Valores de $\\rho$ (+ ou -):**\n",
    "        * **0.9 a 1:** indica uma correlação muito forte;\n",
    "        * **0.7 a 0.9:** indica uma correlação forte;\n",
    "        * **0.5 a 0.7:** indica uma correlação moderada;\n",
    "        * **0.3 a 0.5:** indica uma correlação fraca; \n",
    "        * **0 a 0.3:** indica uma correlação desprezível.\n",
    "\n",
    "---\n",
    "\n",
    "* **Coeficiente de correlação de Spearman:** é usado para o cálculo de correlação entre variáveis aleatórias x e y relacionadas repetidas vezes entre si. As variáveis x e y assumem novos valores de acordo com o posto de cada variável de maneira ordenada, ou seja, o menor valor será 1 e o segundo menor será 2, e assm por diante.\n",
    "\n",
    "---\n",
    "\n",
    "* **Coeficiente de correlação de Kendall:** é a correlação de postos que faz a verificação da semelhança entre as ordens dos dados. O coeficiente de correlação de Kendall é eficiente para dados discretos. Essa correlação leva em consideração a direção dos pares concordantes e discordantes:\n",
    "    * **Concordantes:** obdecem uma relação entre pares de dados, por exemplo temos os seguintes pares de dados:\n",
    "        * (1, 2) e (4, 9), ambos obdecem a regra que $x_{1} < x_{2}$ e $y_{1} < y_{2}$\n",
    "    * **Discordantes:** não obdecem as regras entre os pares de dados, por exemplo temos os seguintes pares:\n",
    "        * (1, 2) e (4, 1), o primeiro par obdece a regra que $x_{1} < x_{2}$, porém o segundo par é definido por $y_{1} > y_{2}$"
   ]
  },
  {
   "cell_type": "markdown",
   "metadata": {},
   "source": [
    "O código abaixo mostra a correlação entre o Ibovespa e o Dólar, a base de dados obtida foi do ano de 2021 até o dia atual (02/09/2021):"
   ]
  },
  {
   "cell_type": "code",
   "execution_count": 1,
   "metadata": {},
   "outputs": [
    {
     "data": {
      "text/plain": [
       "array([<AxesSubplot:xlabel='Date'>, <AxesSubplot:xlabel='Date'>],\n",
       "      dtype=object)"
      ]
     },
     "execution_count": 1,
     "metadata": {},
     "output_type": "execute_result"
    },
    {
     "data": {
      "image/png": "[encoded data removed]",
      "text/plain": [
       "<Figure size 648x432 with 2 Axes>"
      ]
     },
     "metadata": {
      "needs_background": "light"
     },
     "output_type": "display_data"
    }
   ],
   "source": [
    "import pandas_datareader.data as web\n",
    "import matplotlib.pyplot as plt\n",
    "from datetime import datetime as dt\n",
    "import seaborn as sns\n",
    "import numpy as np\n",
    "\n",
    "dt_inicio = '2021-01-01'\n",
    "hoje = f'{dt.today().year}-{dt.today().month}-{dt.today().day}'\n",
    "dt_final = hoje\n",
    "\n",
    "ativos = ['^BVSP', 'USDBRL=X']\n",
    "dados = web.DataReader(ativos, data_source='yahoo', start=dt_inicio, end=dt_final)['Close']\n",
    "\n",
    "dados = dados.dropna()\n",
    "dados.plot(subplots=True, figsize=(9,6))"
   ]
  },
  {
   "cell_type": "code",
   "execution_count": 2,
   "metadata": {},
   "outputs": [
    {
     "data": {
      "text/plain": [
       "<AxesSubplot:xlabel='Symbols', ylabel='Symbols'>"
      ]
     },
     "execution_count": 2,
     "metadata": {},
     "output_type": "execute_result"
    },
    {
     "data": {
      "image/png": "[encoded data removed]",
      "text/plain": [
       "<Figure size 432x288 with 2 Axes>"
      ]
     },
     "metadata": {
      "needs_background": "light"
     },
     "output_type": "display_data"
    }
   ],
   "source": [
    "sns.heatmap(dados.corr(), annot=True)"
   ]
  },
  {
   "cell_type": "markdown",
   "metadata": {},
   "source": [
    "## 4.6 - Seleção de variáveis:"
   ]
  },
  {
   "cell_type": "markdown",
   "metadata": {},
   "source": [
    "Para se obter um melhor desempenho do modelo, é importante fazer a seleção de variáveis/atributos, removendo aqueles valores que não interferem na análise ou que acabam gerando um ruído ao modelo. Existem dois métodos para se fazer essa tarefa:\n",
    "\n",
    "* **Wrapper (Embrulho):** nesse método são usados e testados vários modelos de uma vez só com diversas combinações de variáveis, e no final são escolhidas as variáveis que tiveram uma melhor performance com determinado modelo. Para saber isso, são usadas as métricas de avaliação. Neste método, é usada a ferramenta chamada **RFE (Recursive Feature Elimination)**, que faz uma eliminação de variáveis através da recursividade, atribuindo pesos e dividindo o conjunto de dados em partes menores.\n",
    "\n",
    "* **Filter (Filtro):** já no Filter, usamos métodos estatísticos, que medem a relação entre as variáveis preditoras e a variável target, e com os resultados, podemos filtrar apenas os atributos com melhores valores.\n",
    "\n",
    "Antes de se usar o filtro, devemos entender os tipos de variáveis, pois para cada um dos tipos, existe um filtro estatístico específico:\n",
    "* **Categóricas (Qualitativas):** baseadas em uma categoria, ou seja, definem a classificação de variáveis. Podem ser nominais ou ordinais:\n",
    "    * **Nominal:** sem uma ordem de categoria, por exemplo: nome, cor dos olhos, gênero, etc.\n",
    "    * **Ordinal:** com uma ordem de categoria, por exemplo: tamanho(pequeno, médio, grande), colocação(1º, 2º, 3º), etc.\n",
    "\n",
    "* **Númericas (Quantitativas):** baseadas em quantidades, ou seja, são definidas por um conjunto de números. Podem ser discretas ou contínuas:\n",
    "    * **Discreta:** definida por um número finito ou infinito contável de valores, por exemplo: número de casas em um bairro, número de filhos, etc.\n",
    "    * **Contínua:** definida por uma escala de números na reta real, por exemplo: peso, altura, etc.\n",
    "\n",
    "Agora sim, podemos definir qual é o melhor filtro para cada caso:\n",
    "* **Entrada e saída numérica:** isso ocorre em um modelo de regressão, e usamos a correlação de Pearson para relações lineares e a correlação de Spearman para correlações não lineares;\n",
    "* **Entrada numérica e saída categórica:** ocorre em um modelo de classificação, e usamos o filtro estatístico ANOVA;\n",
    "* **Entrada e saída categórica:** ocorre em um modelo de classificação, e usamos o Chi-quadrado"
   ]
  },
  {
   "cell_type": "markdown",
   "metadata": {},
   "source": [
    "Acima definimos quais são os melhores filtros para cada caso. Agora, na prática abaixo, usamos o filtro estatístico como hiperparâmetro para a função **SelectKBest**, definindo um filtro para cada caso:"
   ]
  },
  {
   "cell_type": "code",
   "execution_count": 7,
   "metadata": {},
   "outputs": [],
   "source": [
    "from sklearn.datasets import make_regression\n",
    "from sklearn.feature_selection import SelectKBest\n",
    "from sklearn.feature_selection import f_regression\n",
    "from sklearn.linear_model import LinearRegression\n",
    "from sklearn.model_selection import train_test_split\n",
    "import pandas as pd\n",
    "import numpy as np\n",
    "import matplotlib.pyplot as plt\n",
    "import seaborn as sns\n",
    "\n",
    "X, y = make_regression(n_samples=100, n_features=15, n_informative=10)\n",
    "df = pd.DataFrame(X, y)"
   ]
  },
  {
   "cell_type": "markdown",
   "metadata": {},
   "source": [
    "* **Entrada e saída numérica:** *SelectKBest(score_func=f_regression, k=num_atributos)*;"
   ]
  },
  {
   "cell_type": "code",
   "execution_count": 12,
   "metadata": {},
   "outputs": [
    {
     "data": {
      "text/html": [
       "<div>\n",
       "<style scoped>\n",
       "    .dataframe tbody tr th:only-of-type {\n",
       "        vertical-align: middle;\n",
       "    }\n",
       "\n",
       "    .dataframe tbody tr th {\n",
       "        vertical-align: top;\n",
       "    }\n",
       "\n",
       "    .dataframe thead th {\n",
       "        text-align: right;\n",
       "    }\n",
       "</style>\n",
       "<table border=\"1\" class=\"dataframe\">\n",
       "  <thead>\n",
       "    <tr style=\"text-align: right;\">\n",
       "      <th></th>\n",
       "      <th>0</th>\n",
       "      <th>1</th>\n",
       "      <th>2</th>\n",
       "      <th>3</th>\n",
       "      <th>4</th>\n",
       "      <th>5</th>\n",
       "      <th>6</th>\n",
       "      <th>7</th>\n",
       "      <th>8</th>\n",
       "      <th>9</th>\n",
       "      <th>10</th>\n",
       "      <th>11</th>\n",
       "      <th>12</th>\n",
       "      <th>13</th>\n",
       "      <th>14</th>\n",
       "    </tr>\n",
       "  </thead>\n",
       "  <tbody>\n",
       "    <tr>\n",
       "      <th>369.998000</th>\n",
       "      <td>0.406024</td>\n",
       "      <td>-0.809199</td>\n",
       "      <td>-0.893296</td>\n",
       "      <td>-1.180890</td>\n",
       "      <td>2.238043</td>\n",
       "      <td>0.821767</td>\n",
       "      <td>-2.092160</td>\n",
       "      <td>1.262818</td>\n",
       "      <td>0.332266</td>\n",
       "      <td>0.854034</td>\n",
       "      <td>0.184843</td>\n",
       "      <td>-0.366620</td>\n",
       "      <td>1.343535</td>\n",
       "      <td>-0.744025</td>\n",
       "      <td>-0.340360</td>\n",
       "    </tr>\n",
       "    <tr>\n",
       "      <th>-68.970285</th>\n",
       "      <td>-0.734160</td>\n",
       "      <td>0.955204</td>\n",
       "      <td>1.956746</td>\n",
       "      <td>-0.595446</td>\n",
       "      <td>0.418756</td>\n",
       "      <td>0.076482</td>\n",
       "      <td>-0.631942</td>\n",
       "      <td>0.665424</td>\n",
       "      <td>-1.943369</td>\n",
       "      <td>0.750427</td>\n",
       "      <td>-1.223105</td>\n",
       "      <td>-1.287076</td>\n",
       "      <td>-1.452826</td>\n",
       "      <td>0.761251</td>\n",
       "      <td>0.676671</td>\n",
       "    </tr>\n",
       "    <tr>\n",
       "      <th>-160.504047</th>\n",
       "      <td>-0.751342</td>\n",
       "      <td>0.664213</td>\n",
       "      <td>-0.938054</td>\n",
       "      <td>-0.362603</td>\n",
       "      <td>-1.828881</td>\n",
       "      <td>1.663795</td>\n",
       "      <td>0.099524</td>\n",
       "      <td>-1.619524</td>\n",
       "      <td>0.327485</td>\n",
       "      <td>-0.681375</td>\n",
       "      <td>-0.448215</td>\n",
       "      <td>0.666524</td>\n",
       "      <td>1.081071</td>\n",
       "      <td>-0.256418</td>\n",
       "      <td>0.107667</td>\n",
       "    </tr>\n",
       "  </tbody>\n",
       "</table>\n",
       "</div>"
      ],
      "text/plain": [
       "                   0         1         2         3         4         5   \\\n",
       " 369.998000  0.406024 -0.809199 -0.893296 -1.180890  2.238043  0.821767   \n",
       "-68.970285  -0.734160  0.955204  1.956746 -0.595446  0.418756  0.076482   \n",
       "-160.504047 -0.751342  0.664213 -0.938054 -0.362603 -1.828881  1.663795   \n",
       "\n",
       "                   6         7         8         9         10        11  \\\n",
       " 369.998000 -2.092160  1.262818  0.332266  0.854034  0.184843 -0.366620   \n",
       "-68.970285  -0.631942  0.665424 -1.943369  0.750427 -1.223105 -1.287076   \n",
       "-160.504047  0.099524 -1.619524  0.327485 -0.681375 -0.448215  0.666524   \n",
       "\n",
       "                   12        13        14  \n",
       " 369.998000  1.343535 -0.744025 -0.340360  \n",
       "-68.970285  -1.452826  0.761251  0.676671  \n",
       "-160.504047  1.081071 -0.256418  0.107667  "
      ]
     },
     "execution_count": 12,
     "metadata": {},
     "output_type": "execute_result"
    }
   ],
   "source": [
    "fs = SelectKBest(score_func=f_regression, k=10)\n",
    "X_selected = fs.fit_transform(X, y)\n",
    "df.head(3)"
   ]
  },
  {
   "cell_type": "code",
   "execution_count": 9,
   "metadata": {},
   "outputs": [
    {
     "data": {
      "text/html": [
       "<div>\n",
       "<style scoped>\n",
       "    .dataframe tbody tr th:only-of-type {\n",
       "        vertical-align: middle;\n",
       "    }\n",
       "\n",
       "    .dataframe tbody tr th {\n",
       "        vertical-align: top;\n",
       "    }\n",
       "\n",
       "    .dataframe thead th {\n",
       "        text-align: right;\n",
       "    }\n",
       "</style>\n",
       "<table border=\"1\" class=\"dataframe\">\n",
       "  <thead>\n",
       "    <tr style=\"text-align: right;\">\n",
       "      <th></th>\n",
       "      <th>target</th>\n",
       "      <th>0</th>\n",
       "      <th>1</th>\n",
       "      <th>2</th>\n",
       "      <th>3</th>\n",
       "      <th>4</th>\n",
       "      <th>5</th>\n",
       "      <th>6</th>\n",
       "      <th>7</th>\n",
       "      <th>8</th>\n",
       "      <th>9</th>\n",
       "    </tr>\n",
       "  </thead>\n",
       "  <tbody>\n",
       "    <tr>\n",
       "      <th>0</th>\n",
       "      <td>369.998000</td>\n",
       "      <td>0.406024</td>\n",
       "      <td>-0.809199</td>\n",
       "      <td>2.238043</td>\n",
       "      <td>0.821767</td>\n",
       "      <td>1.262818</td>\n",
       "      <td>0.332266</td>\n",
       "      <td>0.854034</td>\n",
       "      <td>1.343535</td>\n",
       "      <td>-0.744025</td>\n",
       "      <td>-0.340360</td>\n",
       "    </tr>\n",
       "    <tr>\n",
       "      <th>1</th>\n",
       "      <td>-68.970285</td>\n",
       "      <td>-0.734160</td>\n",
       "      <td>0.955204</td>\n",
       "      <td>0.418756</td>\n",
       "      <td>0.076482</td>\n",
       "      <td>0.665424</td>\n",
       "      <td>-1.943369</td>\n",
       "      <td>0.750427</td>\n",
       "      <td>-1.452826</td>\n",
       "      <td>0.761251</td>\n",
       "      <td>0.676671</td>\n",
       "    </tr>\n",
       "    <tr>\n",
       "      <th>2</th>\n",
       "      <td>-160.504047</td>\n",
       "      <td>-0.751342</td>\n",
       "      <td>0.664213</td>\n",
       "      <td>-1.828881</td>\n",
       "      <td>1.663795</td>\n",
       "      <td>-1.619524</td>\n",
       "      <td>0.327485</td>\n",
       "      <td>-0.681375</td>\n",
       "      <td>1.081071</td>\n",
       "      <td>-0.256418</td>\n",
       "      <td>0.107667</td>\n",
       "    </tr>\n",
       "  </tbody>\n",
       "</table>\n",
       "</div>"
      ],
      "text/plain": [
       "       target         0         1         2         3         4         5  \\\n",
       "0  369.998000  0.406024 -0.809199  2.238043  0.821767  1.262818  0.332266   \n",
       "1  -68.970285 -0.734160  0.955204  0.418756  0.076482  0.665424 -1.943369   \n",
       "2 -160.504047 -0.751342  0.664213 -1.828881  1.663795 -1.619524  0.327485   \n",
       "\n",
       "          6         7         8         9  \n",
       "0  0.854034  1.343535 -0.744025 -0.340360  \n",
       "1  0.750427 -1.452826  0.761251  0.676671  \n",
       "2 -0.681375  1.081071 -0.256418  0.107667  "
      ]
     },
     "execution_count": 9,
     "metadata": {},
     "output_type": "execute_result"
    }
   ],
   "source": [
    "df2 = pd.DataFrame(X_selected,y).reset_index()\n",
    "df2.columns = ['target', 0,1,2,3,4,5,6,7,8,9]\n",
    "df2.head(3)"
   ]
  },
  {
   "cell_type": "markdown",
   "metadata": {},
   "source": [
    "* **Entrada numérica e saída categórica:** *SelectKBest(score_func=f_classif, k=num_atributos)*;"
   ]
  },
  {
   "cell_type": "code",
   "execution_count": 14,
   "metadata": {},
   "outputs": [
    {
     "data": {
      "text/html": [
       "<div>\n",
       "<style scoped>\n",
       "    .dataframe tbody tr th:only-of-type {\n",
       "        vertical-align: middle;\n",
       "    }\n",
       "\n",
       "    .dataframe tbody tr th {\n",
       "        vertical-align: top;\n",
       "    }\n",
       "\n",
       "    .dataframe thead th {\n",
       "        text-align: right;\n",
       "    }\n",
       "</style>\n",
       "<table border=\"1\" class=\"dataframe\">\n",
       "  <thead>\n",
       "    <tr style=\"text-align: right;\">\n",
       "      <th></th>\n",
       "      <th>target</th>\n",
       "      <th>0</th>\n",
       "      <th>1</th>\n",
       "      <th>2</th>\n",
       "      <th>3</th>\n",
       "      <th>4</th>\n",
       "      <th>5</th>\n",
       "      <th>6</th>\n",
       "      <th>7</th>\n",
       "      <th>8</th>\n",
       "      <th>9</th>\n",
       "    </tr>\n",
       "  </thead>\n",
       "  <tbody>\n",
       "    <tr>\n",
       "      <th>0</th>\n",
       "      <td>0</td>\n",
       "      <td>0.946907</td>\n",
       "      <td>0.840051</td>\n",
       "      <td>0.119816</td>\n",
       "      <td>-1.543591</td>\n",
       "      <td>-0.451183</td>\n",
       "      <td>-1.555182</td>\n",
       "      <td>0.338894</td>\n",
       "      <td>-0.505811</td>\n",
       "      <td>-1.045134</td>\n",
       "      <td>-0.529869</td>\n",
       "    </tr>\n",
       "    <tr>\n",
       "      <th>1</th>\n",
       "      <td>0</td>\n",
       "      <td>-0.126371</td>\n",
       "      <td>-0.722802</td>\n",
       "      <td>0.654946</td>\n",
       "      <td>-0.861741</td>\n",
       "      <td>-0.723096</td>\n",
       "      <td>-1.567948</td>\n",
       "      <td>-1.525061</td>\n",
       "      <td>0.434887</td>\n",
       "      <td>-0.069682</td>\n",
       "      <td>-1.205197</td>\n",
       "    </tr>\n",
       "    <tr>\n",
       "      <th>2</th>\n",
       "      <td>0</td>\n",
       "      <td>1.382497</td>\n",
       "      <td>-1.625408</td>\n",
       "      <td>0.438190</td>\n",
       "      <td>2.107949</td>\n",
       "      <td>0.356679</td>\n",
       "      <td>0.173971</td>\n",
       "      <td>-1.177406</td>\n",
       "      <td>0.114117</td>\n",
       "      <td>2.858906</td>\n",
       "      <td>-1.810398</td>\n",
       "    </tr>\n",
       "  </tbody>\n",
       "</table>\n",
       "</div>"
      ],
      "text/plain": [
       "   target         0         1         2         3         4         5  \\\n",
       "0       0  0.946907  0.840051  0.119816 -1.543591 -0.451183 -1.555182   \n",
       "1       0 -0.126371 -0.722802  0.654946 -0.861741 -0.723096 -1.567948   \n",
       "2       0  1.382497 -1.625408  0.438190  2.107949  0.356679  0.173971   \n",
       "\n",
       "          6         7         8         9  \n",
       "0  0.338894 -0.505811 -1.045134 -0.529869  \n",
       "1 -1.525061  0.434887 -0.069682 -1.205197  \n",
       "2 -1.177406  0.114117  2.858906 -1.810398  "
      ]
     },
     "execution_count": 14,
     "metadata": {},
     "output_type": "execute_result"
    }
   ],
   "source": [
    "from sklearn.datasets import make_classification\n",
    "from sklearn.feature_selection import f_classif, chi2\n",
    "\n",
    "X, y = make_classification(n_samples=1000, n_features=10, n_informative=2)\n",
    "df = pd.DataFrame(X,y).reset_index()\n",
    "df.columns = ['target', 0,1,2,3,4,5,6,7,8,9]\n",
    "df.head(3)"
   ]
  },
  {
   "cell_type": "code",
   "execution_count": 15,
   "metadata": {},
   "outputs": [
    {
     "data": {
      "text/html": [
       "<div>\n",
       "<style scoped>\n",
       "    .dataframe tbody tr th:only-of-type {\n",
       "        vertical-align: middle;\n",
       "    }\n",
       "\n",
       "    .dataframe tbody tr th {\n",
       "        vertical-align: top;\n",
       "    }\n",
       "\n",
       "    .dataframe thead th {\n",
       "        text-align: right;\n",
       "    }\n",
       "</style>\n",
       "<table border=\"1\" class=\"dataframe\">\n",
       "  <thead>\n",
       "    <tr style=\"text-align: right;\">\n",
       "      <th></th>\n",
       "      <th>Colunas</th>\n",
       "      <th>F_Scores</th>\n",
       "      <th>p-Values</th>\n",
       "    </tr>\n",
       "  </thead>\n",
       "  <tbody>\n",
       "    <tr>\n",
       "      <th>9</th>\n",
       "      <td>9</td>\n",
       "      <td>1632.334130</td>\n",
       "      <td>0.000</td>\n",
       "    </tr>\n",
       "    <tr>\n",
       "      <th>5</th>\n",
       "      <td>5</td>\n",
       "      <td>711.281887</td>\n",
       "      <td>0.000</td>\n",
       "    </tr>\n",
       "    <tr>\n",
       "      <th>8</th>\n",
       "      <td>8</td>\n",
       "      <td>160.752777</td>\n",
       "      <td>0.000</td>\n",
       "    </tr>\n",
       "    <tr>\n",
       "      <th>7</th>\n",
       "      <td>7</td>\n",
       "      <td>5.734989</td>\n",
       "      <td>0.017</td>\n",
       "    </tr>\n",
       "    <tr>\n",
       "      <th>6</th>\n",
       "      <td>6</td>\n",
       "      <td>0.763750</td>\n",
       "      <td>0.382</td>\n",
       "    </tr>\n",
       "  </tbody>\n",
       "</table>\n",
       "</div>"
      ],
      "text/plain": [
       "   Colunas     F_Scores  p-Values\n",
       "9        9  1632.334130     0.000\n",
       "5        5   711.281887     0.000\n",
       "8        8   160.752777     0.000\n",
       "7        7     5.734989     0.017\n",
       "6        6     0.763750     0.382"
      ]
     },
     "execution_count": 15,
     "metadata": {},
     "output_type": "execute_result"
    }
   ],
   "source": [
    "fs = SelectKBest(score_func=f_classif, k=5)\n",
    "X_selected = fs.fit_transform(X, y)\n",
    "resultados = pd.DataFrame({'Colunas':range(10),\n",
    "                           'F_Scores':fs.scores_,\n",
    "                           'p-Values':np.round(fs.pvalues_,3)}).sort_values(by='F_Scores', ascending=False)\n",
    "resultados.head(5)"
   ]
  },
  {
   "cell_type": "code",
   "execution_count": 24,
   "metadata": {},
   "outputs": [
    {
     "data": {
      "image/png": "[encoded data removed]",
      "text/plain": [
       "<Figure size 1200x600 with 1 Axes>"
      ]
     },
     "metadata": {},
     "output_type": "display_data"
    }
   ],
   "source": [
    "plt.figure(figsize=(12,6))\n",
    "g = sns.barplot(x='Colunas', y='F_Scores', data=resultados, order=resultados.sort_values('F_Scores', ascending=False).Colunas)\n",
    "g.set_yscale(\"log\")\n",
    "plt.show()"
   ]
  }
 ],
 "metadata": {
  "kernelspec": {
   "display_name": "Python 3",
   "language": "python",
   "name": "python3"
  },
  "language_info": {
   "codemirror_mode": {
    "name": "ipython",
    "version": 3
   },
   "file_extension": ".py",
   "mimetype": "text/x-python",
   "name": "python",
   "nbconvert_exporter": "python",
   "pygments_lexer": "ipython3",
   "version": "3.8.5"
  }
 },
 "nbformat": 4,
 "nbformat_minor": 5
}
