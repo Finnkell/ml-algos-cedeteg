{
 "cells": [
  {
   "cell_type": "markdown",
   "source": [
    "# Data Profiling."
   ],
   "metadata": {}
  },
  {
   "cell_type": "markdown",
   "source": [
    "É o processo de examinar os dados disponíveis em uma fonte de informações existente o objetivo dessas estatísticas pode ser.\r\n",
    "* Descobrir se os dados existem e pode ser usado para outros fins.\r\n",
    "* Melhorar a capacidade de pesquisar os dados marcando-os com palavras chaves, discrições ou atribuindo a uma categoria.\r\n",
    "* Avalie a qualidade dos dados , incluindo se os dados estão em conformidade com padrões ou padrões específicos.\r\n",
    "* Avaliar o risco envolvido na integração de dados em novos aplicativos.\r\n",
    "* Descubrir metadados do banco de dados fonte, incluindo padrões de valores e distribuição, os candidatos principais.\r\n",
    "* Avaliar os métodos conhecidos descrever com precisão os valores reais no banco de dados de origem.\r\n",
    "* Ter uma visão comparativa de todos os dados, para como no uso do gerenciamento de dados mestres."
   ],
   "metadata": {}
  },
  {
   "cell_type": "markdown",
   "source": [
    "Ela utiliza métodos estátisticos descritivas, como mínimo, máximo, média, modo, percentil, desvio padrão, frequência, variação e agregados como contagem e soma ,e informações de métodos adicionais obtídas durante a criação de um data profiling de dados como :\r\n",
    "* Tipos de dados.\r\n",
    "* Comprimento.\r\n",
    "* Valores discretos.\r\n",
    "* Exclusividade.\r\n",
    "* Ocorrência de valores nulos.\r\n",
    "* Padrões de string típicos.\r\n",
    "* reconhecimento de tipos abstratos.\r\n"
   ],
   "metadata": {}
  },
  {
   "cell_type": "markdown",
   "source": [],
   "metadata": {}
  }
 ],
 "metadata": {
  "orig_nbformat": 4,
  "language_info": {
   "name": "python"
  }
 },
 "nbformat": 4,
 "nbformat_minor": 2
}