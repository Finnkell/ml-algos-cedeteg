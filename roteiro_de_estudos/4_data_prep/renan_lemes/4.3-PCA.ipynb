{
 "cells": [
  {
   "cell_type": "markdown",
   "source": [
    "# PCA.\r\n",
    "A análise de componentes principais pode ser dividida em cinco etapas, vai ser passado cada etapa, fornecendo explicações lógicas \r\n",
    "sobre o PCA está fazendo e simplificando o conceito matemáticos, como padronização, covariância, vetores própios e valores própios.\r\n",
    "* Padronizar a gama de variáveis iniciais contínuas.\r\n",
    "* Calcular a matriz de covariância para identificar correlações.\r\n",
    "* Calcular os autovetores e autovalores da matriz de covariância para indentificar os componentes principais.\r\n",
    "* Criar um vetor de recursos para decidir quais componentes principais manter.\r\n",
    "* Reformar os dados ao longo dos eixos dos componentes principais.\r\n",
    "\r\n",
    "## Padronização.\r\n",
    "Matemáticamente, isso pode ser feito subtraindo a média e dividindo pelo desvio padrão para cada valor de cada variável.\r\n",
    "$$z = \\frac{value-mean}{standarddeviation}$$\r\n",
    "Desta forma todas as variáveis serão transformadas na mesma escala."
   ],
   "metadata": {}
  },
  {
   "cell_type": "markdown",
   "source": [
    "## Cálculo da matriz de covariâcia.\r\n",
    "O objetivo desta etapa é entender como as variáveis ​​do conjunto de dados de entrada estão variando da média entre si, ou seja, verificar se existe alguma relação entre elas, porque às vezes as variáveis ​​são altamente correlacionadas de forma que contém informações redundantes.\r\n",
    "\r\n",
    "![img](https://cdn.builtin.com/sites/www.builtin.com/files/styles/ckeditor_optimize/public/inline-images/national/Principal%2520Component%2520Analysis%2520Covariance%2520Matrix.png)"
   ],
   "metadata": {}
  },
  {
   "cell_type": "markdown",
   "source": [
    "Como a covariância de uma variável  consigo mesma é sua variância, e como a covariância é comutativa então temos a matriz triangular superior e a inferior serão iguais, desse modo podemos notar mais possiveis erros."
   ],
   "metadata": {}
  },
  {
   "cell_type": "markdown",
   "source": [
    "O que as covariâncias que temos como entradas da matriz nos dizem sobre as correlações entre as variáveis?\r\n",
    "Na verdade, é o sinal da covariância que importa.\r\n",
    "* Se possitivo, então: as duas variáveis aumentam ou diminuem juntas(correlacionadas).\r\n",
    "* Se negativo, então: um aumenta quando o outro diminui(inversamente correlacionado).\r\n"
   ],
   "metadata": {}
  },
  {
   "cell_type": "markdown",
   "source": [
    "## Calcular os vetores própios e os valores próprios da matriz de covariância para indentificar os componentes principais.\r\n",
    "Autovetores e autovalores são os conceitos de álgebra linear que precisamos calcular a partir da matriz de covariância para determinar os componentes principais dos dados. Antes de chegar à explicar desses conceitos.\r\n",
    "$\\newline$ Os componentes principais são novas variáveis contruidas como combinação lineares ou misturadas das variáveis iniciais. Essas combinações são feitas de forma que as novas variáveis não estejam correlacionadas e a maioria das informalções dentro das variáveis iniciais seja comprimida nos primeiros componentes, ou seja, a ideia que dados 10 dimensionas forneçam 10 componentes principais, mas o PCA tenta colocar o máximo de informações possiveis no primeiro componente, e depois o máximo de informações restantes no segundo e assim por diante."
   ],
   "metadata": {}
  },
  {
   "cell_type": "markdown",
   "source": [
    "## Vetor de recurso.\r\n",
    "Como vimos na etapa anterior, computar os autovetores e ordená-los por seus autovalores em ordem decrescente nos permite encontrar os componentes principais em ordem de significância. Nesta etapa, o que fazemos é escolher entre manter todos esses componentes ou descartar aqueles de menor significância (de autovalores baixos), e formar com os restantes uma matriz de vetores que chamamos de  vetor de característica .\r\n",
    "\r\n",
    "Portanto, o vetor de características é simplesmente uma matriz que tem como colunas os autovetores dos componentes que decidimos manter. Isso o torna o primeiro passo para a redução da dimensionalidade, porque se escolhermos manter apenas  p  autovetores (componentes) de  n , o conjunto de dados final terá apenas  p  dimensões."
   ],
   "metadata": {}
  },
  {
   "cell_type": "markdown",
   "source": [
    "## Reformule os dados ao longo dos eixos dos componentes principais.\r\n",
    "Nesta etapa, que é a última, o objetivo é usar o vetor de características formado a partir dos autovetores da matriz de covariância, para reorientar os dados dos eixos originais para aqueles representados pelos componentes principais (daí o nome Análise de Componentes Principais ) Isso pode ser feito multiplicando a transposição do conjunto de dados original pela transposição do vetor de características.\r\n",
    "$$finalDataSet = FeatureVector^T \\cdot StandardizedOriginalDataSet$$"
   ],
   "metadata": {}
  },
  {
   "cell_type": "code",
   "execution_count": 1,
   "source": [
    "import numpy as np\r\n",
    "import pandas_datareader.data as web\r\n",
    "import matplotlib.pyplot as fig\r\n",
    "from datetime import datetime as dt\r\n",
    "import seaborn as sns"
   ],
   "outputs": [],
   "metadata": {}
  },
  {
   "cell_type": "code",
   "execution_count": 2,
   "source": [
    "dt_inicio = '2021-01-01'\r\n",
    "hoje = f'{dt.today().year}-{dt.today().month}-{dt.today().day}'\r\n",
    "dt_final = hoje\r\n",
    "\r\n",
    "usd = web.DataReader('USDBRL=X', data_source='yahoo', start=dt_inicio, end=dt_final)\r\n",
    "usd['Close'].plot()\r\n",
    "fig.show()"
   ],
   "outputs": [
    {
     "output_type": "display_data",
     "data": {
      "image/png": "[encoded data removed]",
      "text/plain": [
       "<Figure size 432x288 with 1 Axes>"
      ]
     },
     "metadata": {
      "needs_background": "light"
     }
    }
   ],
   "metadata": {}
  },
  {
   "cell_type": "code",
   "execution_count": 3,
   "source": [
    "usd"
   ],
   "outputs": [
    {
     "output_type": "execute_result",
     "data": {
      "text/html": [
       "<div>\n",
       "<style scoped>\n",
       "    .dataframe tbody tr th:only-of-type {\n",
       "        vertical-align: middle;\n",
       "    }\n",
       "\n",
       "    .dataframe tbody tr th {\n",
       "        vertical-align: top;\n",
       "    }\n",
       "\n",
       "    .dataframe thead th {\n",
       "        text-align: right;\n",
       "    }\n",
       "</style>\n",
       "<table border=\"1\" class=\"dataframe\">\n",
       "  <thead>\n",
       "    <tr style=\"text-align: right;\">\n",
       "      <th></th>\n",
       "      <th>High</th>\n",
       "      <th>Low</th>\n",
       "      <th>Open</th>\n",
       "      <th>Close</th>\n",
       "      <th>Volume</th>\n",
       "      <th>Adj Close</th>\n",
       "    </tr>\n",
       "    <tr>\n",
       "      <th>Date</th>\n",
       "      <th></th>\n",
       "      <th></th>\n",
       "      <th></th>\n",
       "      <th></th>\n",
       "      <th></th>\n",
       "      <th></th>\n",
       "    </tr>\n",
       "  </thead>\n",
       "  <tbody>\n",
       "    <tr>\n",
       "      <th>2021-01-01</th>\n",
       "      <td>5.199149</td>\n",
       "      <td>5.191600</td>\n",
       "      <td>5.1921</td>\n",
       "      <td>5.1921</td>\n",
       "      <td>0</td>\n",
       "      <td>5.1921</td>\n",
       "    </tr>\n",
       "    <tr>\n",
       "      <th>2021-01-04</th>\n",
       "      <td>5.252800</td>\n",
       "      <td>5.116400</td>\n",
       "      <td>5.1728</td>\n",
       "      <td>5.1919</td>\n",
       "      <td>0</td>\n",
       "      <td>5.1919</td>\n",
       "    </tr>\n",
       "    <tr>\n",
       "      <th>2021-01-05</th>\n",
       "      <td>5.350300</td>\n",
       "      <td>5.274600</td>\n",
       "      <td>5.2950</td>\n",
       "      <td>5.2953</td>\n",
       "      <td>0</td>\n",
       "      <td>5.2953</td>\n",
       "    </tr>\n",
       "    <tr>\n",
       "      <th>2021-01-06</th>\n",
       "      <td>5.346680</td>\n",
       "      <td>5.231207</td>\n",
       "      <td>5.2845</td>\n",
       "      <td>5.2841</td>\n",
       "      <td>0</td>\n",
       "      <td>5.2841</td>\n",
       "    </tr>\n",
       "    <tr>\n",
       "      <th>2021-01-07</th>\n",
       "      <td>5.405568</td>\n",
       "      <td>5.296700</td>\n",
       "      <td>5.3133</td>\n",
       "      <td>5.3129</td>\n",
       "      <td>0</td>\n",
       "      <td>5.3129</td>\n",
       "    </tr>\n",
       "    <tr>\n",
       "      <th>...</th>\n",
       "      <td>...</td>\n",
       "      <td>...</td>\n",
       "      <td>...</td>\n",
       "      <td>...</td>\n",
       "      <td>...</td>\n",
       "      <td>...</td>\n",
       "    </tr>\n",
       "    <tr>\n",
       "      <th>2021-09-01</th>\n",
       "      <td>5.197100</td>\n",
       "      <td>5.141200</td>\n",
       "      <td>5.1852</td>\n",
       "      <td>5.1846</td>\n",
       "      <td>0</td>\n",
       "      <td>5.1846</td>\n",
       "    </tr>\n",
       "    <tr>\n",
       "      <th>2021-09-02</th>\n",
       "      <td>5.189200</td>\n",
       "      <td>5.131100</td>\n",
       "      <td>5.1819</td>\n",
       "      <td>5.1818</td>\n",
       "      <td>0</td>\n",
       "      <td>5.1818</td>\n",
       "    </tr>\n",
       "    <tr>\n",
       "      <th>2021-09-05</th>\n",
       "      <td>5.208700</td>\n",
       "      <td>5.154700</td>\n",
       "      <td>5.1925</td>\n",
       "      <td>5.1898</td>\n",
       "      <td>0</td>\n",
       "      <td>5.1898</td>\n",
       "    </tr>\n",
       "    <tr>\n",
       "      <th>2021-09-06</th>\n",
       "      <td>5.169900</td>\n",
       "      <td>5.166947</td>\n",
       "      <td>5.1691</td>\n",
       "      <td>5.1693</td>\n",
       "      <td>0</td>\n",
       "      <td>5.1693</td>\n",
       "    </tr>\n",
       "    <tr>\n",
       "      <th>2021-09-08</th>\n",
       "      <td>5.192700</td>\n",
       "      <td>5.192700</td>\n",
       "      <td>5.1927</td>\n",
       "      <td>5.1927</td>\n",
       "      <td>0</td>\n",
       "      <td>5.1927</td>\n",
       "    </tr>\n",
       "  </tbody>\n",
       "</table>\n",
       "<p>179 rows × 6 columns</p>\n",
       "</div>"
      ],
      "text/plain": [
       "                High       Low    Open   Close  Volume  Adj Close\n",
       "Date                                                             \n",
       "2021-01-01  5.199149  5.191600  5.1921  5.1921       0     5.1921\n",
       "2021-01-04  5.252800  5.116400  5.1728  5.1919       0     5.1919\n",
       "2021-01-05  5.350300  5.274600  5.2950  5.2953       0     5.2953\n",
       "2021-01-06  5.346680  5.231207  5.2845  5.2841       0     5.2841\n",
       "2021-01-07  5.405568  5.296700  5.3133  5.3129       0     5.3129\n",
       "...              ...       ...     ...     ...     ...        ...\n",
       "2021-09-01  5.197100  5.141200  5.1852  5.1846       0     5.1846\n",
       "2021-09-02  5.189200  5.131100  5.1819  5.1818       0     5.1818\n",
       "2021-09-05  5.208700  5.154700  5.1925  5.1898       0     5.1898\n",
       "2021-09-06  5.169900  5.166947  5.1691  5.1693       0     5.1693\n",
       "2021-09-08  5.192700  5.192700  5.1927  5.1927       0     5.1927\n",
       "\n",
       "[179 rows x 6 columns]"
      ]
     },
     "metadata": {},
     "execution_count": 3
    }
   ],
   "metadata": {}
  },
  {
   "cell_type": "code",
   "execution_count": 8,
   "source": [
    "data = np.asanyarray(usd)\r\n",
    "data"
   ],
   "outputs": [
    {
     "output_type": "execute_result",
     "data": {
      "text/plain": [
       "array([[5.19914913, 5.19159985, 5.19210005, 5.19210005, 0.        ,\n",
       "        5.19210005],\n",
       "       [5.25279999, 5.11639977, 5.17280006, 5.19189978, 0.        ,\n",
       "        5.19189978],\n",
       "       [5.35029984, 5.27460003, 5.29500008, 5.29530001, 0.        ,\n",
       "        5.29530001],\n",
       "       ...,\n",
       "       [5.20870018, 5.1546998 , 5.19250011, 5.18979979, 0.        ,\n",
       "        5.18979979],\n",
       "       [5.16989994, 5.16694689, 5.16909981, 5.16930008, 0.        ,\n",
       "        5.16930008],\n",
       "       [5.19269991, 5.19269991, 5.19269991, 5.19269991, 0.        ,\n",
       "        5.19269991]])"
      ]
     },
     "metadata": {},
     "execution_count": 8
    }
   ],
   "metadata": {}
  },
  {
   "cell_type": "code",
   "execution_count": 9,
   "source": [
    "np.cov(np.transpose(data))"
   ],
   "outputs": [
    {
     "output_type": "execute_result",
     "data": {
      "text/plain": [
       "array([[0.04375654, 0.04188937, 0.04306754, 0.04300679, 0.        ,\n",
       "        0.04300679],\n",
       "       [0.04188937, 0.04094195, 0.04172018, 0.04163416, 0.        ,\n",
       "        0.04163416],\n",
       "       [0.04306754, 0.04172018, 0.04341915, 0.04333691, 0.        ,\n",
       "        0.04333691],\n",
       "       [0.04300679, 0.04163416, 0.04333691, 0.04327897, 0.        ,\n",
       "        0.04327897],\n",
       "       [0.        , 0.        , 0.        , 0.        , 0.        ,\n",
       "        0.        ],\n",
       "       [0.04300679, 0.04163416, 0.04333691, 0.04327897, 0.        ,\n",
       "        0.04327897]])"
      ]
     },
     "metadata": {},
     "execution_count": 9
    }
   ],
   "metadata": {}
  },
  {
   "cell_type": "code",
   "execution_count": 10,
   "source": [
    "cov_data = np.cov(np.transpose(data))\r\n",
    "import numpy.linalg as la\r\n",
    "w,v = la.eig(cov_data) ## obetem autovalores e autovetores.\r\n",
    "w"
   ],
   "outputs": [
    {
     "output_type": "execute_result",
     "data": {
      "text/plain": [
       "array([2.13335198e-01, 8.92418077e-04, 4.32550682e-04, 1.54275556e-05,\n",
       "       0.00000000e+00, 0.00000000e+00])"
      ]
     },
     "metadata": {},
     "execution_count": 10
    }
   ],
   "metadata": {}
  },
  {
   "cell_type": "markdown",
   "source": [
    "* A função numpy.linalg.eig retorna dois valores: um vetor de autovalores w (não necessariamente ordenados )\r\n",
    "* na análise PCA, os maiores  autovalores correspodem aos componentes principais componetes principais mais importantes ou, em outras palavras, os dados sofrem maior variação.\r\n",
    "Por isso o primeiro passo é a ordenação dos autovalores e seus autovetores correspondentes em ordem decrescente."
   ],
   "metadata": {}
  },
  {
   "cell_type": "code",
   "execution_count": 11,
   "source": [
    "ind = np.argsort(w)[::-1] ## obtem indices para a ordenação decrescente dos autovetores\r\n",
    "w_dec = w[ind]\r\n",
    "w_dec"
   ],
   "outputs": [
    {
     "output_type": "execute_result",
     "data": {
      "text/plain": [
       "array([2.13335198e-01, 8.92418077e-04, 4.32550682e-04, 1.54275556e-05,\n",
       "       0.00000000e+00, 0.00000000e+00])"
      ]
     },
     "metadata": {},
     "execution_count": 11
    }
   ],
   "metadata": {}
  },
  {
   "cell_type": "code",
   "execution_count": 12,
   "source": [
    "la.norm(w[0])"
   ],
   "outputs": [
    {
     "output_type": "execute_result",
     "data": {
      "text/plain": [
       "0.2133351977275541"
      ]
     },
     "metadata": {},
     "execution_count": 12
    }
   ],
   "metadata": {}
  },
  {
   "cell_type": "markdown",
   "source": [
    "* Representando autovalores da matriz covariâncias\r\n"
   ],
   "metadata": {}
  },
  {
   "cell_type": "code",
   "execution_count": 13,
   "source": [
    "EVR = w/sum(w)\r\n",
    "EVR"
   ],
   "outputs": [
    {
     "output_type": "execute_result",
     "data": {
      "text/plain": [
       "array([9.93756177e-01, 4.15705419e-03, 2.01490385e-03, 7.18645064e-05,\n",
       "       0.00000000e+00, 0.00000000e+00])"
      ]
     },
     "metadata": {},
     "execution_count": 13
    }
   ],
   "metadata": {}
  },
  {
   "cell_type": "code",
   "execution_count": 14,
   "source": [
    "from sklearn.decomposition import PCA\r\n",
    "pca=PCA()\r\n",
    "pca.fit(data)\r\n",
    "PCA(copy=True, n_components=None, whiten=False)\r\n",
    "pca.components_"
   ],
   "outputs": [
    {
     "output_type": "execute_result",
     "data": {
      "text/plain": [
       "array([[ 4.50165657e-01,  4.35657819e-01,  4.50500774e-01,\n",
       "         4.49778945e-01,  0.00000000e+00,  4.49778945e-01],\n",
       "       [ 6.25012123e-01,  4.69667104e-01, -3.54599625e-01,\n",
       "        -3.62651184e-01,  0.00000000e+00, -3.62651184e-01],\n",
       "       [ 6.37391530e-01, -7.67113507e-01,  2.49258759e-03,\n",
       "         5.12966523e-02, -0.00000000e+00,  5.12966523e-02],\n",
       "       [-2.10419852e-02,  3.39402951e-02, -8.19330181e-01,\n",
       "         4.04415223e-01, -0.00000000e+00,  4.04415223e-01],\n",
       "       [-0.00000000e+00, -1.65421691e-16,  1.85905162e-15,\n",
       "         7.07106781e-01,  0.00000000e+00, -7.07106781e-01],\n",
       "       [-0.00000000e+00, -0.00000000e+00, -0.00000000e+00,\n",
       "        -0.00000000e+00, -1.00000000e+00, -0.00000000e+00]])"
      ]
     },
     "metadata": {},
     "execution_count": 14
    }
   ],
   "metadata": {}
  }
 ],
 "metadata": {
  "orig_nbformat": 4,
  "language_info": {
   "name": "python",
   "version": "3.9.0",
   "mimetype": "text/x-python",
   "codemirror_mode": {
    "name": "ipython",
    "version": 3
   },
   "pygments_lexer": "ipython3",
   "nbconvert_exporter": "python",
   "file_extension": ".py"
  },
  "kernelspec": {
   "name": "python3",
   "display_name": "Python 3.9.0 64-bit"
  },
  "interpreter": {
   "hash": "63fd5069d213b44bf678585dea6b12cceca9941eaf7f819626cde1f2670de90d"
  }
 },
 "nbformat": 4,
 "nbformat_minor": 2
}