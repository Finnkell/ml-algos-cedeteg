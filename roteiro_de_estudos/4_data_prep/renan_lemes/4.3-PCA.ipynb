{
 "cells": [
  {
   "cell_type": "markdown",
   "source": [
    "# PCA.\r\n",
    "A análise de componentes principais pode ser dividida em cinco etapas, vai ser passado cada etapa, fornecendo explicações lógicas \r\n",
    "sobre o PCA está fazendo e simpleficando o conceito matemáticos, como padronização, covariância, vetores própios e valores própios.\r\n",
    "* Padronizar a gama de variáveis iniciais contínuas.\r\n",
    "* Calcular a matriz de covariância para identificar correlações.\r\n",
    "* Calcular os autovetores e autovalores da matriz de covariância para indentificar os componentes principais.\r\n",
    "* Ciar um vetor de recursos para decidir quais componentes principais manter.\r\n",
    "* Reformar os dados ao longo dos eixos dos componentes principais.\r\n",
    "\r\n",
    "## Padronização.\r\n",
    "Matemáticamente, isso pode ser feito subtraindo a média e dividindo pelo desvio padrão para cada valor de cada variável.\r\n",
    "$$z = \\frac{value-mean}{standarddeviation}$$\r\n",
    "Desta forma todas as variáveis serão transformadas na mesma escala."
   ],
   "metadata": {}
  },
  {
   "cell_type": "markdown",
   "source": [
    "## Cálculo da matriz de covariâcia.\r\n",
    "O objetivo desta etapa é entender como as variáveis ​​do conjunto de dados de entrada estão variando da média entre si, ou seja, verificar se existe alguma relação entre elas, porque às vezes as variáveis ​​são altamente correlacionadas de forma que contêm informações redundantes.\r\n",
    "\r\n",
    "![img](https://cdn.builtin.com/sites/www.builtin.com/files/styles/ckeditor_optimize/public/inline-images/national/Principal%2520Component%2520Analysis%2520Covariance%2520Matrix.png)"
   ],
   "metadata": {}
  },
  {
   "cell_type": "markdown",
   "source": [
    "Como a covariância de uma variável  consigo mesma é sua variância, e como a covariância é comutativa então temos a matriz triangular superior e a inferior serão iguais desse modo podemos notar mais possiveis erros."
   ],
   "metadata": {}
  },
  {
   "cell_type": "markdown",
   "source": [
    "O que as covariâncias que temos como entradas da matriz nos dizem sobre as correlações entre as variáveis?\r\n",
    "Na verdade, é o sinal da covariância que importa.\r\n",
    "* Se possitivo, então: as duas variáveis aumentam ou diminuem juntas(correlacionadas).\r\n",
    "* Se negativo, então: um aumenta quando o outro diminui(inversamente correlacionado).\r\n"
   ],
   "metadata": {}
  },
  {
   "cell_type": "markdown",
   "source": [
    "## Calcular os vetores própios e os valores próprios da matriz de covariância para indentificar os componentes principais.\r\n",
    "Autovetores e autovalores são os conceitos de álgebra linear que precisamos calcular a partir da matriz de covariância para determinar os componentes principais dos dados. Antes de chegar à explicar desses conceitos.\r\n",
    "$\\newline$ Os componentes principais são novas variáveis contruidas como combinação lineares ou misturadas das variáveis iniciais. Essas combinações são feitas de forma que as novas variáveis não estejam correlacionadas e a maioria das informalçoes dentro das variáveis iniciais seja comprimida nos primeiros componentes, ou seja, a ideia que dados 10 dimensionas forneçam 10 componentes principais, mas o PCA tenta colocar o máximo de informações possiveis no primeiro componente, e depois o máximo de informações restantes no segundo e assim por diante."
   ],
   "metadata": {}
  },
  {
   "cell_type": "markdown",
   "source": [
    "## Vetor de recurso.\r\n",
    "Como vimos na etapa anterior, computar os autovetores e ordená-los por seus autovalores em ordem decrescente nos permite encontrar os componentes principais em ordem de significância. Nesta etapa, o que fazemos é escolher entre manter todos esses componentes ou descartar aqueles de menor significância (de autovalores baixos), e formar com os restantes uma matriz de vetores que chamamos de  vetor de característica .\r\n",
    "\r\n",
    "Portanto, o vetor de características é simplesmente uma matriz que tem como colunas os autovetores dos componentes que decidimos manter. Isso o torna o primeiro passo para a redução da dimensionalidade, porque se escolhermos manter apenas  p  autovetores (componentes) de  n , o conjunto de dados final terá apenas  p  dimensões."
   ],
   "metadata": {}
  },
  {
   "cell_type": "markdown",
   "source": [
    "## Reformule os dados ao longo dos eixos dos componentes principais.\r\n",
    "Nesta etapa, que é a última, o objetivo é usar o vetor de características formado a partir dos autovetores da matriz de covariância, para reorientar os dados dos eixos originais para aqueles representados pelos componentes principais (daí o nome Análise de Componentes Principais ) Isso pode ser feito multiplicando a transposição do conjunto de dados original pela transposição do vetor de características.\r\n",
    "$$finalDataSet = FeatureVector^T \\cdot StandardizedOriginalDataSet$$"
   ],
   "metadata": {}
  },
  {
   "cell_type": "code",
   "execution_count": 10,
   "source": [
    "import numpy as np\r\n",
    "import pandas_datareader.data as web\r\n",
    "import matplotlib.pyplot as fig\r\n",
    "from datetime import datetime as dt\r\n",
    "import seaborn as sns\r\n",
    "\r\n"
   ],
   "outputs": [],
   "metadata": {}
  },
  {
   "cell_type": "code",
   "execution_count": 11,
   "source": [
    "dt_inicio = '2021-01-01'\r\n",
    "hoje = f'{dt.today().year}-{dt.today().month}-{dt.today().day}'\r\n",
    "dt_final = hoje\r\n",
    "\r\n",
    "usd = web.DataReader('USDBRL=X', data_source='yahoo', start=dt_inicio, end=dt_final)\r\n",
    "usd['Close'].plot()\r\n",
    "fig.show()"
   ],
   "outputs": [
    {
     "output_type": "display_data",
     "data": {
      "text/plain": [
       "<Figure size 432x288 with 1 Axes>"
      ],
      "image/svg+xml": "<?xml version=\"1.0\" encoding=\"utf-8\" standalone=\"no\"?>\r\n<!DOCTYPE svg PUBLIC \"-//W3C//DTD SVG 1.1//EN\"\r\n  \"http://www.w3.org/Graphics/SVG/1.1/DTD/svg11.dtd\">\r\n<!-- Created with matplotlib (https://matplotlib.org/) -->\r\n<svg height=\"260.191033pt\" version=\"1.1\" viewBox=\"0 0 375.005858 260.191033\" width=\"375.005858pt\" xmlns=\"http://www.w3.org/2000/svg\" xmlns:xlink=\"http://www.w3.org/1999/xlink\">\r\n <metadata>\r\n  <rdf:RDF xmlns:cc=\"http://creativecommons.org/ns#\" xmlns:dc=\"http://purl.org/dc/elements/1.1/\" xmlns:rdf=\"http://www.w3.org/1999/02/22-rdf-syntax-ns#\">\r\n   <cc:Work>\r\n    <dc:type rdf:resource=\"http://purl.org/dc/dcmitype/StillImage\"/>\r\n    <dc:date>2021-08-31T10:26:19.046623</dc:date>\r\n    <dc:format>image/svg+xml</dc:format>\r\n    <dc:creator>\r\n     <cc:Agent>\r\n      <dc:title>Matplotlib v3.3.4, https://matplotlib.org/</dc:title>\r\n     </cc:Agent>\r\n    </dc:creator>\r\n   </cc:Work>\r\n  </rdf:RDF>\r\n </metadata>\r\n <defs>\r\n  <style type=\"text/css\">*{stroke-linecap:butt;stroke-linejoin:round;}</style>\r\n </defs>\r\n <g id=\"figure_1\">\r\n  <g id=\"patch_1\">\r\n   <path d=\"M 0 260.191033 \r\nL 375.005858 260.191033 \r\nL 375.005858 0 \r\nL 0 0 \r\nz\r\n\" style=\"fill:none;\"/>\r\n  </g>\r\n  <g id=\"axes_1\">\r\n   <g id=\"patch_2\">\r\n    <path d=\"M 33.005858 203.04 \r\nL 367.805858 203.04 \r\nL 367.805858 7.2 \r\nL 33.005858 7.2 \r\nz\r\n\" style=\"fill:#ffffff;\"/>\r\n   </g>\r\n   <g id=\"matplotlib.axis_1\">\r\n    <g id=\"xtick_1\">\r\n     <g id=\"line2d_1\">\r\n      <defs>\r\n       <path d=\"M 0 0 \r\nL 0 3.5 \r\n\" id=\"m7ef0c94ba0\" style=\"stroke:#000000;stroke-width:0.8;\"/>\r\n      </defs>\r\n      <g>\r\n       <use style=\"stroke:#000000;stroke-width:0.8;\" x=\"48.22404\" xlink:href=\"#m7ef0c94ba0\" y=\"203.04\"/>\r\n      </g>\r\n     </g>\r\n     <g id=\"text_1\">\r\n      <!-- 2021-01 -->\r\n      <g transform=\"translate(10.999219 237.511846)rotate(-30)scale(0.1 -0.1)\">\r\n       <defs>\r\n        <path d=\"M 19.1875 8.296875 \r\nL 53.609375 8.296875 \r\nL 53.609375 0 \r\nL 7.328125 0 \r\nL 7.328125 8.296875 \r\nQ 12.9375 14.109375 22.625 23.890625 \r\nQ 32.328125 33.6875 34.8125 36.53125 \r\nQ 39.546875 41.84375 41.421875 45.53125 \r\nQ 43.3125 49.21875 43.3125 52.78125 \r\nQ 43.3125 58.59375 39.234375 62.25 \r\nQ 35.15625 65.921875 28.609375 65.921875 \r\nQ 23.96875 65.921875 18.8125 64.3125 \r\nQ 13.671875 62.703125 7.8125 59.421875 \r\nL 7.8125 69.390625 \r\nQ 13.765625 71.78125 18.9375 73 \r\nQ 24.125 74.21875 28.421875 74.21875 \r\nQ 39.75 74.21875 46.484375 68.546875 \r\nQ 53.21875 62.890625 53.21875 53.421875 \r\nQ 53.21875 48.921875 51.53125 44.890625 \r\nQ 49.859375 40.875 45.40625 35.40625 \r\nQ 44.1875 33.984375 37.640625 27.21875 \r\nQ 31.109375 20.453125 19.1875 8.296875 \r\nz\r\n\" id=\"DejaVuSans-50\"/>\r\n        <path d=\"M 31.78125 66.40625 \r\nQ 24.171875 66.40625 20.328125 58.90625 \r\nQ 16.5 51.421875 16.5 36.375 \r\nQ 16.5 21.390625 20.328125 13.890625 \r\nQ 24.171875 6.390625 31.78125 6.390625 \r\nQ 39.453125 6.390625 43.28125 13.890625 \r\nQ 47.125 21.390625 47.125 36.375 \r\nQ 47.125 51.421875 43.28125 58.90625 \r\nQ 39.453125 66.40625 31.78125 66.40625 \r\nz\r\nM 31.78125 74.21875 \r\nQ 44.046875 74.21875 50.515625 64.515625 \r\nQ 56.984375 54.828125 56.984375 36.375 \r\nQ 56.984375 17.96875 50.515625 8.265625 \r\nQ 44.046875 -1.421875 31.78125 -1.421875 \r\nQ 19.53125 -1.421875 13.0625 8.265625 \r\nQ 6.59375 17.96875 6.59375 36.375 \r\nQ 6.59375 54.828125 13.0625 64.515625 \r\nQ 19.53125 74.21875 31.78125 74.21875 \r\nz\r\n\" id=\"DejaVuSans-48\"/>\r\n        <path d=\"M 12.40625 8.296875 \r\nL 28.515625 8.296875 \r\nL 28.515625 63.921875 \r\nL 10.984375 60.40625 \r\nL 10.984375 69.390625 \r\nL 28.421875 72.90625 \r\nL 38.28125 72.90625 \r\nL 38.28125 8.296875 \r\nL 54.390625 8.296875 \r\nL 54.390625 0 \r\nL 12.40625 0 \r\nz\r\n\" id=\"DejaVuSans-49\"/>\r\n        <path d=\"M 4.890625 31.390625 \r\nL 31.203125 31.390625 \r\nL 31.203125 23.390625 \r\nL 4.890625 23.390625 \r\nz\r\n\" id=\"DejaVuSans-45\"/>\r\n       </defs>\r\n       <use xlink:href=\"#DejaVuSans-50\"/>\r\n       <use x=\"63.623047\" xlink:href=\"#DejaVuSans-48\"/>\r\n       <use x=\"127.246094\" xlink:href=\"#DejaVuSans-50\"/>\r\n       <use x=\"190.869141\" xlink:href=\"#DejaVuSans-49\"/>\r\n       <use x=\"254.492188\" xlink:href=\"#DejaVuSans-45\"/>\r\n       <use x=\"290.576172\" xlink:href=\"#DejaVuSans-48\"/>\r\n       <use x=\"354.199219\" xlink:href=\"#DejaVuSans-49\"/>\r\n      </g>\r\n     </g>\r\n    </g>\r\n    <g id=\"xtick_2\">\r\n     <g id=\"line2d_2\">\r\n      <g>\r\n       <use style=\"stroke:#000000;stroke-width:0.8;\" x=\"87.21277\" xlink:href=\"#m7ef0c94ba0\" y=\"203.04\"/>\r\n      </g>\r\n     </g>\r\n     <g id=\"text_2\">\r\n      <!-- 2021-02 -->\r\n      <g transform=\"translate(49.987949 237.511846)rotate(-30)scale(0.1 -0.1)\">\r\n       <use xlink:href=\"#DejaVuSans-50\"/>\r\n       <use x=\"63.623047\" xlink:href=\"#DejaVuSans-48\"/>\r\n       <use x=\"127.246094\" xlink:href=\"#DejaVuSans-50\"/>\r\n       <use x=\"190.869141\" xlink:href=\"#DejaVuSans-49\"/>\r\n       <use x=\"254.492188\" xlink:href=\"#DejaVuSans-45\"/>\r\n       <use x=\"290.576172\" xlink:href=\"#DejaVuSans-48\"/>\r\n       <use x=\"354.199219\" xlink:href=\"#DejaVuSans-50\"/>\r\n      </g>\r\n     </g>\r\n    </g>\r\n    <g id=\"xtick_3\">\r\n     <g id=\"line2d_3\">\r\n      <g>\r\n       <use style=\"stroke:#000000;stroke-width:0.8;\" x=\"122.428397\" xlink:href=\"#m7ef0c94ba0\" y=\"203.04\"/>\r\n      </g>\r\n     </g>\r\n     <g id=\"text_3\">\r\n      <!-- 2021-03 -->\r\n      <g transform=\"translate(85.203576 237.511846)rotate(-30)scale(0.1 -0.1)\">\r\n       <defs>\r\n        <path d=\"M 40.578125 39.3125 \r\nQ 47.65625 37.796875 51.625 33 \r\nQ 55.609375 28.21875 55.609375 21.1875 \r\nQ 55.609375 10.40625 48.1875 4.484375 \r\nQ 40.765625 -1.421875 27.09375 -1.421875 \r\nQ 22.515625 -1.421875 17.65625 -0.515625 \r\nQ 12.796875 0.390625 7.625 2.203125 \r\nL 7.625 11.71875 \r\nQ 11.71875 9.328125 16.59375 8.109375 \r\nQ 21.484375 6.890625 26.8125 6.890625 \r\nQ 36.078125 6.890625 40.9375 10.546875 \r\nQ 45.796875 14.203125 45.796875 21.1875 \r\nQ 45.796875 27.640625 41.28125 31.265625 \r\nQ 36.765625 34.90625 28.71875 34.90625 \r\nL 20.21875 34.90625 \r\nL 20.21875 43.015625 \r\nL 29.109375 43.015625 \r\nQ 36.375 43.015625 40.234375 45.921875 \r\nQ 44.09375 48.828125 44.09375 54.296875 \r\nQ 44.09375 59.90625 40.109375 62.90625 \r\nQ 36.140625 65.921875 28.71875 65.921875 \r\nQ 24.65625 65.921875 20.015625 65.03125 \r\nQ 15.375 64.15625 9.8125 62.3125 \r\nL 9.8125 71.09375 \r\nQ 15.4375 72.65625 20.34375 73.4375 \r\nQ 25.25 74.21875 29.59375 74.21875 \r\nQ 40.828125 74.21875 47.359375 69.109375 \r\nQ 53.90625 64.015625 53.90625 55.328125 \r\nQ 53.90625 49.265625 50.4375 45.09375 \r\nQ 46.96875 40.921875 40.578125 39.3125 \r\nz\r\n\" id=\"DejaVuSans-51\"/>\r\n       </defs>\r\n       <use xlink:href=\"#DejaVuSans-50\"/>\r\n       <use x=\"63.623047\" xlink:href=\"#DejaVuSans-48\"/>\r\n       <use x=\"127.246094\" xlink:href=\"#DejaVuSans-50\"/>\r\n       <use x=\"190.869141\" xlink:href=\"#DejaVuSans-49\"/>\r\n       <use x=\"254.492188\" xlink:href=\"#DejaVuSans-45\"/>\r\n       <use x=\"290.576172\" xlink:href=\"#DejaVuSans-48\"/>\r\n       <use x=\"354.199219\" xlink:href=\"#DejaVuSans-51\"/>\r\n      </g>\r\n     </g>\r\n    </g>\r\n    <g id=\"xtick_4\">\r\n     <g id=\"line2d_4\">\r\n      <g>\r\n       <use style=\"stroke:#000000;stroke-width:0.8;\" x=\"161.417127\" xlink:href=\"#m7ef0c94ba0\" y=\"203.04\"/>\r\n      </g>\r\n     </g>\r\n     <g id=\"text_4\">\r\n      <!-- 2021-04 -->\r\n      <g transform=\"translate(124.192307 237.511846)rotate(-30)scale(0.1 -0.1)\">\r\n       <defs>\r\n        <path d=\"M 37.796875 64.3125 \r\nL 12.890625 25.390625 \r\nL 37.796875 25.390625 \r\nz\r\nM 35.203125 72.90625 \r\nL 47.609375 72.90625 \r\nL 47.609375 25.390625 \r\nL 58.015625 25.390625 \r\nL 58.015625 17.1875 \r\nL 47.609375 17.1875 \r\nL 47.609375 0 \r\nL 37.796875 0 \r\nL 37.796875 17.1875 \r\nL 4.890625 17.1875 \r\nL 4.890625 26.703125 \r\nz\r\n\" id=\"DejaVuSans-52\"/>\r\n       </defs>\r\n       <use xlink:href=\"#DejaVuSans-50\"/>\r\n       <use x=\"63.623047\" xlink:href=\"#DejaVuSans-48\"/>\r\n       <use x=\"127.246094\" xlink:href=\"#DejaVuSans-50\"/>\r\n       <use x=\"190.869141\" xlink:href=\"#DejaVuSans-49\"/>\r\n       <use x=\"254.492188\" xlink:href=\"#DejaVuSans-45\"/>\r\n       <use x=\"290.576172\" xlink:href=\"#DejaVuSans-48\"/>\r\n       <use x=\"354.199219\" xlink:href=\"#DejaVuSans-52\"/>\r\n      </g>\r\n     </g>\r\n    </g>\r\n    <g id=\"xtick_5\">\r\n     <g id=\"line2d_5\">\r\n      <g>\r\n       <use style=\"stroke:#000000;stroke-width:0.8;\" x=\"199.148157\" xlink:href=\"#m7ef0c94ba0\" y=\"203.04\"/>\r\n      </g>\r\n     </g>\r\n     <g id=\"text_5\">\r\n      <!-- 2021-05 -->\r\n      <g transform=\"translate(161.923336 237.511846)rotate(-30)scale(0.1 -0.1)\">\r\n       <defs>\r\n        <path d=\"M 10.796875 72.90625 \r\nL 49.515625 72.90625 \r\nL 49.515625 64.59375 \r\nL 19.828125 64.59375 \r\nL 19.828125 46.734375 \r\nQ 21.96875 47.46875 24.109375 47.828125 \r\nQ 26.265625 48.1875 28.421875 48.1875 \r\nQ 40.625 48.1875 47.75 41.5 \r\nQ 54.890625 34.8125 54.890625 23.390625 \r\nQ 54.890625 11.625 47.5625 5.09375 \r\nQ 40.234375 -1.421875 26.90625 -1.421875 \r\nQ 22.3125 -1.421875 17.546875 -0.640625 \r\nQ 12.796875 0.140625 7.71875 1.703125 \r\nL 7.71875 11.625 \r\nQ 12.109375 9.234375 16.796875 8.0625 \r\nQ 21.484375 6.890625 26.703125 6.890625 \r\nQ 35.15625 6.890625 40.078125 11.328125 \r\nQ 45.015625 15.765625 45.015625 23.390625 \r\nQ 45.015625 31 40.078125 35.4375 \r\nQ 35.15625 39.890625 26.703125 39.890625 \r\nQ 22.75 39.890625 18.8125 39.015625 \r\nQ 14.890625 38.140625 10.796875 36.28125 \r\nz\r\n\" id=\"DejaVuSans-53\"/>\r\n       </defs>\r\n       <use xlink:href=\"#DejaVuSans-50\"/>\r\n       <use x=\"63.623047\" xlink:href=\"#DejaVuSans-48\"/>\r\n       <use x=\"127.246094\" xlink:href=\"#DejaVuSans-50\"/>\r\n       <use x=\"190.869141\" xlink:href=\"#DejaVuSans-49\"/>\r\n       <use x=\"254.492188\" xlink:href=\"#DejaVuSans-45\"/>\r\n       <use x=\"290.576172\" xlink:href=\"#DejaVuSans-48\"/>\r\n       <use x=\"354.199219\" xlink:href=\"#DejaVuSans-53\"/>\r\n      </g>\r\n     </g>\r\n    </g>\r\n    <g id=\"xtick_6\">\r\n     <g id=\"line2d_6\">\r\n      <g>\r\n       <use style=\"stroke:#000000;stroke-width:0.8;\" x=\"238.136887\" xlink:href=\"#m7ef0c94ba0\" y=\"203.04\"/>\r\n      </g>\r\n     </g>\r\n     <g id=\"text_6\">\r\n      <!-- 2021-06 -->\r\n      <g transform=\"translate(200.912066 237.511846)rotate(-30)scale(0.1 -0.1)\">\r\n       <defs>\r\n        <path d=\"M 33.015625 40.375 \r\nQ 26.375 40.375 22.484375 35.828125 \r\nQ 18.609375 31.296875 18.609375 23.390625 \r\nQ 18.609375 15.53125 22.484375 10.953125 \r\nQ 26.375 6.390625 33.015625 6.390625 \r\nQ 39.65625 6.390625 43.53125 10.953125 \r\nQ 47.40625 15.53125 47.40625 23.390625 \r\nQ 47.40625 31.296875 43.53125 35.828125 \r\nQ 39.65625 40.375 33.015625 40.375 \r\nz\r\nM 52.59375 71.296875 \r\nL 52.59375 62.3125 \r\nQ 48.875 64.0625 45.09375 64.984375 \r\nQ 41.3125 65.921875 37.59375 65.921875 \r\nQ 27.828125 65.921875 22.671875 59.328125 \r\nQ 17.53125 52.734375 16.796875 39.40625 \r\nQ 19.671875 43.65625 24.015625 45.921875 \r\nQ 28.375 48.1875 33.59375 48.1875 \r\nQ 44.578125 48.1875 50.953125 41.515625 \r\nQ 57.328125 34.859375 57.328125 23.390625 \r\nQ 57.328125 12.15625 50.6875 5.359375 \r\nQ 44.046875 -1.421875 33.015625 -1.421875 \r\nQ 20.359375 -1.421875 13.671875 8.265625 \r\nQ 6.984375 17.96875 6.984375 36.375 \r\nQ 6.984375 53.65625 15.1875 63.9375 \r\nQ 23.390625 74.21875 37.203125 74.21875 \r\nQ 40.921875 74.21875 44.703125 73.484375 \r\nQ 48.484375 72.75 52.59375 71.296875 \r\nz\r\n\" id=\"DejaVuSans-54\"/>\r\n       </defs>\r\n       <use xlink:href=\"#DejaVuSans-50\"/>\r\n       <use x=\"63.623047\" xlink:href=\"#DejaVuSans-48\"/>\r\n       <use x=\"127.246094\" xlink:href=\"#DejaVuSans-50\"/>\r\n       <use x=\"190.869141\" xlink:href=\"#DejaVuSans-49\"/>\r\n       <use x=\"254.492188\" xlink:href=\"#DejaVuSans-45\"/>\r\n       <use x=\"290.576172\" xlink:href=\"#DejaVuSans-48\"/>\r\n       <use x=\"354.199219\" xlink:href=\"#DejaVuSans-54\"/>\r\n      </g>\r\n     </g>\r\n    </g>\r\n    <g id=\"xtick_7\">\r\n     <g id=\"line2d_7\">\r\n      <g>\r\n       <use style=\"stroke:#000000;stroke-width:0.8;\" x=\"275.867916\" xlink:href=\"#m7ef0c94ba0\" y=\"203.04\"/>\r\n      </g>\r\n     </g>\r\n     <g id=\"text_7\">\r\n      <!-- 2021-07 -->\r\n      <g transform=\"translate(238.643096 237.511846)rotate(-30)scale(0.1 -0.1)\">\r\n       <defs>\r\n        <path d=\"M 8.203125 72.90625 \r\nL 55.078125 72.90625 \r\nL 55.078125 68.703125 \r\nL 28.609375 0 \r\nL 18.3125 0 \r\nL 43.21875 64.59375 \r\nL 8.203125 64.59375 \r\nz\r\n\" id=\"DejaVuSans-55\"/>\r\n       </defs>\r\n       <use xlink:href=\"#DejaVuSans-50\"/>\r\n       <use x=\"63.623047\" xlink:href=\"#DejaVuSans-48\"/>\r\n       <use x=\"127.246094\" xlink:href=\"#DejaVuSans-50\"/>\r\n       <use x=\"190.869141\" xlink:href=\"#DejaVuSans-49\"/>\r\n       <use x=\"254.492188\" xlink:href=\"#DejaVuSans-45\"/>\r\n       <use x=\"290.576172\" xlink:href=\"#DejaVuSans-48\"/>\r\n       <use x=\"354.199219\" xlink:href=\"#DejaVuSans-55\"/>\r\n      </g>\r\n     </g>\r\n    </g>\r\n    <g id=\"xtick_8\">\r\n     <g id=\"line2d_8\">\r\n      <g>\r\n       <use style=\"stroke:#000000;stroke-width:0.8;\" x=\"314.856647\" xlink:href=\"#m7ef0c94ba0\" y=\"203.04\"/>\r\n      </g>\r\n     </g>\r\n     <g id=\"text_8\">\r\n      <!-- 2021-08 -->\r\n      <g transform=\"translate(277.631826 237.511846)rotate(-30)scale(0.1 -0.1)\">\r\n       <defs>\r\n        <path d=\"M 31.78125 34.625 \r\nQ 24.75 34.625 20.71875 30.859375 \r\nQ 16.703125 27.09375 16.703125 20.515625 \r\nQ 16.703125 13.921875 20.71875 10.15625 \r\nQ 24.75 6.390625 31.78125 6.390625 \r\nQ 38.8125 6.390625 42.859375 10.171875 \r\nQ 46.921875 13.96875 46.921875 20.515625 \r\nQ 46.921875 27.09375 42.890625 30.859375 \r\nQ 38.875 34.625 31.78125 34.625 \r\nz\r\nM 21.921875 38.8125 \r\nQ 15.578125 40.375 12.03125 44.71875 \r\nQ 8.5 49.078125 8.5 55.328125 \r\nQ 8.5 64.0625 14.71875 69.140625 \r\nQ 20.953125 74.21875 31.78125 74.21875 \r\nQ 42.671875 74.21875 48.875 69.140625 \r\nQ 55.078125 64.0625 55.078125 55.328125 \r\nQ 55.078125 49.078125 51.53125 44.71875 \r\nQ 48 40.375 41.703125 38.8125 \r\nQ 48.828125 37.15625 52.796875 32.3125 \r\nQ 56.78125 27.484375 56.78125 20.515625 \r\nQ 56.78125 9.90625 50.3125 4.234375 \r\nQ 43.84375 -1.421875 31.78125 -1.421875 \r\nQ 19.734375 -1.421875 13.25 4.234375 \r\nQ 6.78125 9.90625 6.78125 20.515625 \r\nQ 6.78125 27.484375 10.78125 32.3125 \r\nQ 14.796875 37.15625 21.921875 38.8125 \r\nz\r\nM 18.3125 54.390625 \r\nQ 18.3125 48.734375 21.84375 45.5625 \r\nQ 25.390625 42.390625 31.78125 42.390625 \r\nQ 38.140625 42.390625 41.71875 45.5625 \r\nQ 45.3125 48.734375 45.3125 54.390625 \r\nQ 45.3125 60.0625 41.71875 63.234375 \r\nQ 38.140625 66.40625 31.78125 66.40625 \r\nQ 25.390625 66.40625 21.84375 63.234375 \r\nQ 18.3125 60.0625 18.3125 54.390625 \r\nz\r\n\" id=\"DejaVuSans-56\"/>\r\n       </defs>\r\n       <use xlink:href=\"#DejaVuSans-50\"/>\r\n       <use x=\"63.623047\" xlink:href=\"#DejaVuSans-48\"/>\r\n       <use x=\"127.246094\" xlink:href=\"#DejaVuSans-50\"/>\r\n       <use x=\"190.869141\" xlink:href=\"#DejaVuSans-49\"/>\r\n       <use x=\"254.492188\" xlink:href=\"#DejaVuSans-45\"/>\r\n       <use x=\"290.576172\" xlink:href=\"#DejaVuSans-48\"/>\r\n       <use x=\"354.199219\" xlink:href=\"#DejaVuSans-56\"/>\r\n      </g>\r\n     </g>\r\n    </g>\r\n    <g id=\"xtick_9\">\r\n     <g id=\"line2d_9\">\r\n      <g>\r\n       <use style=\"stroke:#000000;stroke-width:0.8;\" x=\"353.845377\" xlink:href=\"#m7ef0c94ba0\" y=\"203.04\"/>\r\n      </g>\r\n     </g>\r\n     <g id=\"text_9\">\r\n      <!-- 2021-09 -->\r\n      <g transform=\"translate(316.620556 237.511846)rotate(-30)scale(0.1 -0.1)\">\r\n       <defs>\r\n        <path d=\"M 10.984375 1.515625 \r\nL 10.984375 10.5 \r\nQ 14.703125 8.734375 18.5 7.8125 \r\nQ 22.3125 6.890625 25.984375 6.890625 \r\nQ 35.75 6.890625 40.890625 13.453125 \r\nQ 46.046875 20.015625 46.78125 33.40625 \r\nQ 43.953125 29.203125 39.59375 26.953125 \r\nQ 35.25 24.703125 29.984375 24.703125 \r\nQ 19.046875 24.703125 12.671875 31.3125 \r\nQ 6.296875 37.9375 6.296875 49.421875 \r\nQ 6.296875 60.640625 12.9375 67.421875 \r\nQ 19.578125 74.21875 30.609375 74.21875 \r\nQ 43.265625 74.21875 49.921875 64.515625 \r\nQ 56.59375 54.828125 56.59375 36.375 \r\nQ 56.59375 19.140625 48.40625 8.859375 \r\nQ 40.234375 -1.421875 26.421875 -1.421875 \r\nQ 22.703125 -1.421875 18.890625 -0.6875 \r\nQ 15.09375 0.046875 10.984375 1.515625 \r\nz\r\nM 30.609375 32.421875 \r\nQ 37.25 32.421875 41.125 36.953125 \r\nQ 45.015625 41.5 45.015625 49.421875 \r\nQ 45.015625 57.28125 41.125 61.84375 \r\nQ 37.25 66.40625 30.609375 66.40625 \r\nQ 23.96875 66.40625 20.09375 61.84375 \r\nQ 16.21875 57.28125 16.21875 49.421875 \r\nQ 16.21875 41.5 20.09375 36.953125 \r\nQ 23.96875 32.421875 30.609375 32.421875 \r\nz\r\n\" id=\"DejaVuSans-57\"/>\r\n       </defs>\r\n       <use xlink:href=\"#DejaVuSans-50\"/>\r\n       <use x=\"63.623047\" xlink:href=\"#DejaVuSans-48\"/>\r\n       <use x=\"127.246094\" xlink:href=\"#DejaVuSans-50\"/>\r\n       <use x=\"190.869141\" xlink:href=\"#DejaVuSans-49\"/>\r\n       <use x=\"254.492188\" xlink:href=\"#DejaVuSans-45\"/>\r\n       <use x=\"290.576172\" xlink:href=\"#DejaVuSans-48\"/>\r\n       <use x=\"354.199219\" xlink:href=\"#DejaVuSans-57\"/>\r\n      </g>\r\n     </g>\r\n    </g>\r\n    <g id=\"text_10\">\r\n     <!-- Date -->\r\n     <g transform=\"translate(188.455076 250.911346)scale(0.1 -0.1)\">\r\n      <defs>\r\n       <path d=\"M 19.671875 64.796875 \r\nL 19.671875 8.109375 \r\nL 31.59375 8.109375 \r\nQ 46.6875 8.109375 53.6875 14.9375 \r\nQ 60.6875 21.78125 60.6875 36.53125 \r\nQ 60.6875 51.171875 53.6875 57.984375 \r\nQ 46.6875 64.796875 31.59375 64.796875 \r\nz\r\nM 9.8125 72.90625 \r\nL 30.078125 72.90625 \r\nQ 51.265625 72.90625 61.171875 64.09375 \r\nQ 71.09375 55.28125 71.09375 36.53125 \r\nQ 71.09375 17.671875 61.125 8.828125 \r\nQ 51.171875 0 30.078125 0 \r\nL 9.8125 0 \r\nz\r\n\" id=\"DejaVuSans-68\"/>\r\n       <path d=\"M 34.28125 27.484375 \r\nQ 23.390625 27.484375 19.1875 25 \r\nQ 14.984375 22.515625 14.984375 16.5 \r\nQ 14.984375 11.71875 18.140625 8.90625 \r\nQ 21.296875 6.109375 26.703125 6.109375 \r\nQ 34.1875 6.109375 38.703125 11.40625 \r\nQ 43.21875 16.703125 43.21875 25.484375 \r\nL 43.21875 27.484375 \r\nz\r\nM 52.203125 31.203125 \r\nL 52.203125 0 \r\nL 43.21875 0 \r\nL 43.21875 8.296875 \r\nQ 40.140625 3.328125 35.546875 0.953125 \r\nQ 30.953125 -1.421875 24.3125 -1.421875 \r\nQ 15.921875 -1.421875 10.953125 3.296875 \r\nQ 6 8.015625 6 15.921875 \r\nQ 6 25.140625 12.171875 29.828125 \r\nQ 18.359375 34.515625 30.609375 34.515625 \r\nL 43.21875 34.515625 \r\nL 43.21875 35.40625 \r\nQ 43.21875 41.609375 39.140625 45 \r\nQ 35.0625 48.390625 27.6875 48.390625 \r\nQ 23 48.390625 18.546875 47.265625 \r\nQ 14.109375 46.140625 10.015625 43.890625 \r\nL 10.015625 52.203125 \r\nQ 14.9375 54.109375 19.578125 55.046875 \r\nQ 24.21875 56 28.609375 56 \r\nQ 40.484375 56 46.34375 49.84375 \r\nQ 52.203125 43.703125 52.203125 31.203125 \r\nz\r\n\" id=\"DejaVuSans-97\"/>\r\n       <path d=\"M 18.3125 70.21875 \r\nL 18.3125 54.6875 \r\nL 36.8125 54.6875 \r\nL 36.8125 47.703125 \r\nL 18.3125 47.703125 \r\nL 18.3125 18.015625 \r\nQ 18.3125 11.328125 20.140625 9.421875 \r\nQ 21.96875 7.515625 27.59375 7.515625 \r\nL 36.8125 7.515625 \r\nL 36.8125 0 \r\nL 27.59375 0 \r\nQ 17.1875 0 13.234375 3.875 \r\nQ 9.28125 7.765625 9.28125 18.015625 \r\nL 9.28125 47.703125 \r\nL 2.6875 47.703125 \r\nL 2.6875 54.6875 \r\nL 9.28125 54.6875 \r\nL 9.28125 70.21875 \r\nz\r\n\" id=\"DejaVuSans-116\"/>\r\n       <path d=\"M 56.203125 29.59375 \r\nL 56.203125 25.203125 \r\nL 14.890625 25.203125 \r\nQ 15.484375 15.921875 20.484375 11.0625 \r\nQ 25.484375 6.203125 34.421875 6.203125 \r\nQ 39.59375 6.203125 44.453125 7.46875 \r\nQ 49.3125 8.734375 54.109375 11.28125 \r\nL 54.109375 2.78125 \r\nQ 49.265625 0.734375 44.1875 -0.34375 \r\nQ 39.109375 -1.421875 33.890625 -1.421875 \r\nQ 20.796875 -1.421875 13.15625 6.1875 \r\nQ 5.515625 13.8125 5.515625 26.8125 \r\nQ 5.515625 40.234375 12.765625 48.109375 \r\nQ 20.015625 56 32.328125 56 \r\nQ 43.359375 56 49.78125 48.890625 \r\nQ 56.203125 41.796875 56.203125 29.59375 \r\nz\r\nM 47.21875 32.234375 \r\nQ 47.125 39.59375 43.09375 43.984375 \r\nQ 39.0625 48.390625 32.421875 48.390625 \r\nQ 24.90625 48.390625 20.390625 44.140625 \r\nQ 15.875 39.890625 15.1875 32.171875 \r\nz\r\n\" id=\"DejaVuSans-101\"/>\r\n      </defs>\r\n      <use xlink:href=\"#DejaVuSans-68\"/>\r\n      <use x=\"77.001953\" xlink:href=\"#DejaVuSans-97\"/>\r\n      <use x=\"138.28125\" xlink:href=\"#DejaVuSans-116\"/>\r\n      <use x=\"177.490234\" xlink:href=\"#DejaVuSans-101\"/>\r\n     </g>\r\n    </g>\r\n   </g>\r\n   <g id=\"matplotlib.axis_2\">\r\n    <g id=\"ytick_1\">\r\n     <g id=\"line2d_10\">\r\n      <defs>\r\n       <path d=\"M 0 0 \r\nL -3.5 0 \r\n\" id=\"mdb12134700\" style=\"stroke:#000000;stroke-width:0.8;\"/>\r\n      </defs>\r\n      <g>\r\n       <use style=\"stroke:#000000;stroke-width:0.8;\" x=\"33.005858\" xlink:href=\"#mdb12134700\" y=\"177.980008\"/>\r\n      </g>\r\n     </g>\r\n     <g id=\"text_11\">\r\n      <!-- 5.0 -->\r\n      <g transform=\"translate(10.102733 181.779227)scale(0.1 -0.1)\">\r\n       <defs>\r\n        <path d=\"M 10.6875 12.40625 \r\nL 21 12.40625 \r\nL 21 0 \r\nL 10.6875 0 \r\nz\r\n\" id=\"DejaVuSans-46\"/>\r\n       </defs>\r\n       <use xlink:href=\"#DejaVuSans-53\"/>\r\n       <use x=\"63.623047\" xlink:href=\"#DejaVuSans-46\"/>\r\n       <use x=\"95.410156\" xlink:href=\"#DejaVuSans-48\"/>\r\n      </g>\r\n     </g>\r\n    </g>\r\n    <g id=\"ytick_2\">\r\n     <g id=\"line2d_11\">\r\n      <g>\r\n       <use style=\"stroke:#000000;stroke-width:0.8;\" x=\"33.005858\" xlink:href=\"#mdb12134700\" y=\"140.962354\"/>\r\n      </g>\r\n     </g>\r\n     <g id=\"text_12\">\r\n      <!-- 5.2 -->\r\n      <g transform=\"translate(10.102733 144.761573)scale(0.1 -0.1)\">\r\n       <use xlink:href=\"#DejaVuSans-53\"/>\r\n       <use x=\"63.623047\" xlink:href=\"#DejaVuSans-46\"/>\r\n       <use x=\"95.410156\" xlink:href=\"#DejaVuSans-50\"/>\r\n      </g>\r\n     </g>\r\n    </g>\r\n    <g id=\"ytick_3\">\r\n     <g id=\"line2d_12\">\r\n      <g>\r\n       <use style=\"stroke:#000000;stroke-width:0.8;\" x=\"33.005858\" xlink:href=\"#mdb12134700\" y=\"103.9447\"/>\r\n      </g>\r\n     </g>\r\n     <g id=\"text_13\">\r\n      <!-- 5.4 -->\r\n      <g transform=\"translate(10.102733 107.743918)scale(0.1 -0.1)\">\r\n       <use xlink:href=\"#DejaVuSans-53\"/>\r\n       <use x=\"63.623047\" xlink:href=\"#DejaVuSans-46\"/>\r\n       <use x=\"95.410156\" xlink:href=\"#DejaVuSans-52\"/>\r\n      </g>\r\n     </g>\r\n    </g>\r\n    <g id=\"ytick_4\">\r\n     <g id=\"line2d_13\">\r\n      <g>\r\n       <use style=\"stroke:#000000;stroke-width:0.8;\" x=\"33.005858\" xlink:href=\"#mdb12134700\" y=\"66.927045\"/>\r\n      </g>\r\n     </g>\r\n     <g id=\"text_14\">\r\n      <!-- 5.6 -->\r\n      <g transform=\"translate(10.102733 70.726264)scale(0.1 -0.1)\">\r\n       <use xlink:href=\"#DejaVuSans-53\"/>\r\n       <use x=\"63.623047\" xlink:href=\"#DejaVuSans-46\"/>\r\n       <use x=\"95.410156\" xlink:href=\"#DejaVuSans-54\"/>\r\n      </g>\r\n     </g>\r\n    </g>\r\n    <g id=\"ytick_5\">\r\n     <g id=\"line2d_14\">\r\n      <g>\r\n       <use style=\"stroke:#000000;stroke-width:0.8;\" x=\"33.005858\" xlink:href=\"#mdb12134700\" y=\"29.909391\"/>\r\n      </g>\r\n     </g>\r\n     <g id=\"text_15\">\r\n      <!-- 5.8 -->\r\n      <g transform=\"translate(10.102733 33.70861)scale(0.1 -0.1)\">\r\n       <use xlink:href=\"#DejaVuSans-53\"/>\r\n       <use x=\"63.623047\" xlink:href=\"#DejaVuSans-46\"/>\r\n       <use x=\"95.410156\" xlink:href=\"#DejaVuSans-56\"/>\r\n      </g>\r\n     </g>\r\n    </g>\r\n   </g>\r\n   <g id=\"line2d_15\">\r\n    <path clip-path=\"url(#p3c4de1f0cc)\" d=\"M 48.22404 142.424542 \r\nL 51.997142 142.46161 \r\nL 53.254843 123.32344 \r\nL 54.512544 125.39642 \r\nL 55.770245 120.065876 \r\nL 57.027946 102.3159 \r\nL 60.801049 101.688834 \r\nL 62.05875 87.712461 \r\nL 63.316451 118.492607 \r\nL 64.574152 122.916223 \r\nL 65.831853 141.739757 \r\nL 69.604956 124.063828 \r\nL 70.862657 123.416022 \r\nL 72.120358 111.959032 \r\nL 73.378059 124.211835 \r\nL 74.63576 113.291624 \r\nL 78.408863 91.82144 \r\nL 79.666564 91.82144 \r\nL 80.924265 112.495811 \r\nL 82.181966 101.61258 \r\nL 83.439667 96.913338 \r\nL 87.21277 92.691301 \r\nL 88.470471 98.299502 \r\nL 89.728172 110.071128 \r\nL 90.985873 112.828893 \r\nL 92.243574 99.187896 \r\nL 96.016677 109.645376 \r\nL 97.274378 110.552393 \r\nL 98.532079 108.25727 \r\nL 99.78978 106.739515 \r\nL 101.047481 110.348784 \r\nL 104.820584 109.756491 \r\nL 106.078284 109.867519 \r\nL 107.335985 109.608396 \r\nL 108.593686 102.130825 \r\nL 109.851387 99.169451 \r\nL 113.62449 107.516883 \r\nL 114.882191 92.210124 \r\nL 116.139892 96.615206 \r\nL 117.397593 103.396077 \r\nL 118.655294 80.248746 \r\nL 122.428397 67.37126 \r\nL 123.686098 59.393978 \r\nL 124.943799 53.026944 \r\nL 126.2015 63.688032 \r\nL 127.459201 54.285488 \r\nL 131.232304 50.361672 \r\nL 132.490005 16.101818 \r\nL 133.747706 29.631788 \r\nL 136.263108 78.994791 \r\nL 140.036211 86.332475 \r\nL 141.293912 64.243257 \r\nL 142.551613 62.595941 \r\nL 143.809314 70.055066 \r\nL 145.067015 74.571175 \r\nL 148.840118 86.627253 \r\nL 150.097819 84.417917 \r\nL 151.35552 81.660063 \r\nL 152.613221 63.299349 \r\nL 153.870922 57.968804 \r\nL 156.386324 38.719607 \r\nL 157.644025 33.463111 \r\nL 158.901726 35.165941 \r\nL 160.159426 61.133787 \r\nL 161.417127 47.048594 \r\nL 165.19023 46.456301 \r\nL 166.447931 55.321978 \r\nL 167.705632 68.185607 \r\nL 168.963333 64.687454 \r\nL 170.221034 73.109022 \r\nL 173.994137 52.249577 \r\nL 175.251838 42.458349 \r\nL 176.509539 45.401277 \r\nL 177.76724 57.135835 \r\nL 179.024941 64.150764 \r\nL 182.798044 69.555267 \r\nL 184.055745 77.051372 \r\nL 185.313446 72.868345 \r\nL 186.571147 72.868345 \r\nL 187.828848 95.948866 \r\nL 191.601951 89.655879 \r\nL 192.859652 97.411107 \r\nL 194.117353 94.505158 \r\nL 195.375054 114.790845 \r\nL 196.632755 115.716308 \r\nL 200.405858 96.596672 \r\nL 201.663559 96.892862 \r\nL 202.92126 96.059981 \r\nL 204.178961 112.699332 \r\nL 205.436662 127.37117 \r\nL 210.467466 136.85341 \r\nL 211.725167 137.038485 \r\nL 212.982868 121.879733 \r\nL 214.240568 121.028318 \r\nL 218.013671 128.09876 \r\nL 219.271372 127.728522 \r\nL 220.529073 129.949597 \r\nL 221.786774 120.972804 \r\nL 223.044475 125.914665 \r\nL 226.817578 111.015036 \r\nL 228.075279 119.029386 \r\nL 229.33298 116.771332 \r\nL 230.590681 120.510073 \r\nL 231.848382 133.891947 \r\nL 235.621485 133.929015 \r\nL 236.879186 137.8899 \r\nL 238.136887 150.272264 \r\nL 239.394588 164.190917 \r\nL 240.652289 163.857747 \r\nL 244.425392 169.72507 \r\nL 245.683093 169.614042 \r\nL 246.940794 171.520393 \r\nL 248.198495 166.597066 \r\nL 249.456196 167.892678 \r\nL 253.229299 156.324661 \r\nL 254.487 167.133845 \r\nL 255.744701 169.873165 \r\nL 257.002402 167.929746 \r\nL 258.260103 176.610348 \r\nL 262.033206 160.211498 \r\nL 263.290907 175.555325 \r\nL 264.548608 185.920311 \r\nL 265.806309 184.42109 \r\nL 267.06401 194.138182 \r\nL 270.837112 193.638471 \r\nL 272.094813 191.898661 \r\nL 273.352514 186.290461 \r\nL 274.610215 183.680702 \r\nL 275.867916 169.632135 \r\nL 279.641019 167.022818 \r\nL 280.89872 161.607282 \r\nL 282.156421 141.83225 \r\nL 283.414122 135.18756 \r\nL 284.671823 130.227253 \r\nL 288.444926 130.245699 \r\nL 289.702627 146.015277 \r\nL 290.960328 147.921716 \r\nL 292.218029 165.042331 \r\nL 293.47573 157.620274 \r\nL 297.248833 156.620852 \r\nL 298.506534 131.5414 \r\nL 301.021936 143.312937 \r\nL 302.279637 141.036349 \r\nL 306.05274 141.351073 \r\nL 307.310441 145.515566 \r\nL 308.568142 146.681617 \r\nL 309.825843 156.731879 \r\nL 311.083544 163.098913 \r\nL 314.856647 139.352053 \r\nL 316.114348 145.663573 \r\nL 317.372049 141.554594 \r\nL 318.62975 146.848158 \r\nL 319.887451 132.596335 \r\nL 323.660553 135.039553 \r\nL 324.918254 135.076532 \r\nL 326.175955 143.127862 \r\nL 327.433656 137.593709 \r\nL 328.691357 131.300723 \r\nL 332.46446 132.170672 \r\nL 333.722161 129.912617 \r\nL 334.979862 123.508515 \r\nL 336.237563 107.905566 \r\nL 337.495264 101.334924 \r\nL 341.268367 107.831519 \r\nL 342.526068 107.664978 \r\nL 343.783769 132.485308 \r\nL 345.04147 138.926389 \r\nL 346.299171 131.411838 \r\nL 350.072274 140.444144 \r\nL 352.587676 148.236352 \r\nL 352.587676 148.236352 \r\n\" style=\"fill:none;stroke:#1f77b4;stroke-linecap:square;stroke-width:1.5;\"/>\r\n   </g>\r\n   <g id=\"patch_3\">\r\n    <path d=\"M 33.005858 203.04 \r\nL 33.005858 7.2 \r\n\" style=\"fill:none;stroke:#000000;stroke-linecap:square;stroke-linejoin:miter;stroke-width:0.8;\"/>\r\n   </g>\r\n   <g id=\"patch_4\">\r\n    <path d=\"M 367.805858 203.04 \r\nL 367.805858 7.2 \r\n\" style=\"fill:none;stroke:#000000;stroke-linecap:square;stroke-linejoin:miter;stroke-width:0.8;\"/>\r\n   </g>\r\n   <g id=\"patch_5\">\r\n    <path d=\"M 33.005858 203.04 \r\nL 367.805858 203.04 \r\n\" style=\"fill:none;stroke:#000000;stroke-linecap:square;stroke-linejoin:miter;stroke-width:0.8;\"/>\r\n   </g>\r\n   <g id=\"patch_6\">\r\n    <path d=\"M 33.005858 7.2 \r\nL 367.805858 7.2 \r\n\" style=\"fill:none;stroke:#000000;stroke-linecap:square;stroke-linejoin:miter;stroke-width:0.8;\"/>\r\n   </g>\r\n  </g>\r\n </g>\r\n <defs>\r\n  <clipPath id=\"p3c4de1f0cc\">\r\n   <rect height=\"195.84\" width=\"334.8\" x=\"33.005858\" y=\"7.2\"/>\r\n  </clipPath>\r\n </defs>\r\n</svg>\r\n",
      "image/png": "[encoded data removed]"
     },
     "metadata": {
      "needs_background": "light"
     }
    }
   ],
   "metadata": {}
  },
  {
   "cell_type": "code",
   "execution_count": 12,
   "source": [
    "usd"
   ],
   "outputs": [
    {
     "output_type": "execute_result",
     "data": {
      "text/plain": [
       "                High       Low    Open   Close  Volume  Adj Close\n",
       "Date                                                             \n",
       "2021-01-01  5.199149  5.191600  5.1921  5.1921       0     5.1921\n",
       "2021-01-04  5.252800  5.116400  5.1728  5.1919       0     5.1919\n",
       "2021-01-05  5.350300  5.274600  5.2950  5.2953       0     5.2953\n",
       "2021-01-06  5.346680  5.231207  5.2845  5.2841       0     5.2841\n",
       "2021-01-07  5.405568  5.296700  5.3133  5.3129       0     5.3129\n",
       "...              ...       ...     ...     ...     ...        ...\n",
       "2021-08-24  5.266700  5.226300  5.2459  5.2458       0     5.2458\n",
       "2021-08-25  5.256100  5.207356  5.2110  5.2110       0     5.2110\n",
       "2021-08-26  5.258500  5.189700  5.2518  5.2516       0     5.2516\n",
       "2021-08-29  5.222300  5.182000  5.2030  5.2028       0     5.2028\n",
       "2021-08-31  5.196500  5.157900  5.1852  5.1607       0     5.1607\n",
       "\n",
       "[173 rows x 6 columns]"
      ],
      "text/html": [
       "<div>\n",
       "<style scoped>\n",
       "    .dataframe tbody tr th:only-of-type {\n",
       "        vertical-align: middle;\n",
       "    }\n",
       "\n",
       "    .dataframe tbody tr th {\n",
       "        vertical-align: top;\n",
       "    }\n",
       "\n",
       "    .dataframe thead th {\n",
       "        text-align: right;\n",
       "    }\n",
       "</style>\n",
       "<table border=\"1\" class=\"dataframe\">\n",
       "  <thead>\n",
       "    <tr style=\"text-align: right;\">\n",
       "      <th></th>\n",
       "      <th>High</th>\n",
       "      <th>Low</th>\n",
       "      <th>Open</th>\n",
       "      <th>Close</th>\n",
       "      <th>Volume</th>\n",
       "      <th>Adj Close</th>\n",
       "    </tr>\n",
       "    <tr>\n",
       "      <th>Date</th>\n",
       "      <th></th>\n",
       "      <th></th>\n",
       "      <th></th>\n",
       "      <th></th>\n",
       "      <th></th>\n",
       "      <th></th>\n",
       "    </tr>\n",
       "  </thead>\n",
       "  <tbody>\n",
       "    <tr>\n",
       "      <th>2021-01-01</th>\n",
       "      <td>5.199149</td>\n",
       "      <td>5.191600</td>\n",
       "      <td>5.1921</td>\n",
       "      <td>5.1921</td>\n",
       "      <td>0</td>\n",
       "      <td>5.1921</td>\n",
       "    </tr>\n",
       "    <tr>\n",
       "      <th>2021-01-04</th>\n",
       "      <td>5.252800</td>\n",
       "      <td>5.116400</td>\n",
       "      <td>5.1728</td>\n",
       "      <td>5.1919</td>\n",
       "      <td>0</td>\n",
       "      <td>5.1919</td>\n",
       "    </tr>\n",
       "    <tr>\n",
       "      <th>2021-01-05</th>\n",
       "      <td>5.350300</td>\n",
       "      <td>5.274600</td>\n",
       "      <td>5.2950</td>\n",
       "      <td>5.2953</td>\n",
       "      <td>0</td>\n",
       "      <td>5.2953</td>\n",
       "    </tr>\n",
       "    <tr>\n",
       "      <th>2021-01-06</th>\n",
       "      <td>5.346680</td>\n",
       "      <td>5.231207</td>\n",
       "      <td>5.2845</td>\n",
       "      <td>5.2841</td>\n",
       "      <td>0</td>\n",
       "      <td>5.2841</td>\n",
       "    </tr>\n",
       "    <tr>\n",
       "      <th>2021-01-07</th>\n",
       "      <td>5.405568</td>\n",
       "      <td>5.296700</td>\n",
       "      <td>5.3133</td>\n",
       "      <td>5.3129</td>\n",
       "      <td>0</td>\n",
       "      <td>5.3129</td>\n",
       "    </tr>\n",
       "    <tr>\n",
       "      <th>...</th>\n",
       "      <td>...</td>\n",
       "      <td>...</td>\n",
       "      <td>...</td>\n",
       "      <td>...</td>\n",
       "      <td>...</td>\n",
       "      <td>...</td>\n",
       "    </tr>\n",
       "    <tr>\n",
       "      <th>2021-08-24</th>\n",
       "      <td>5.266700</td>\n",
       "      <td>5.226300</td>\n",
       "      <td>5.2459</td>\n",
       "      <td>5.2458</td>\n",
       "      <td>0</td>\n",
       "      <td>5.2458</td>\n",
       "    </tr>\n",
       "    <tr>\n",
       "      <th>2021-08-25</th>\n",
       "      <td>5.256100</td>\n",
       "      <td>5.207356</td>\n",
       "      <td>5.2110</td>\n",
       "      <td>5.2110</td>\n",
       "      <td>0</td>\n",
       "      <td>5.2110</td>\n",
       "    </tr>\n",
       "    <tr>\n",
       "      <th>2021-08-26</th>\n",
       "      <td>5.258500</td>\n",
       "      <td>5.189700</td>\n",
       "      <td>5.2518</td>\n",
       "      <td>5.2516</td>\n",
       "      <td>0</td>\n",
       "      <td>5.2516</td>\n",
       "    </tr>\n",
       "    <tr>\n",
       "      <th>2021-08-29</th>\n",
       "      <td>5.222300</td>\n",
       "      <td>5.182000</td>\n",
       "      <td>5.2030</td>\n",
       "      <td>5.2028</td>\n",
       "      <td>0</td>\n",
       "      <td>5.2028</td>\n",
       "    </tr>\n",
       "    <tr>\n",
       "      <th>2021-08-31</th>\n",
       "      <td>5.196500</td>\n",
       "      <td>5.157900</td>\n",
       "      <td>5.1852</td>\n",
       "      <td>5.1607</td>\n",
       "      <td>0</td>\n",
       "      <td>5.1607</td>\n",
       "    </tr>\n",
       "  </tbody>\n",
       "</table>\n",
       "<p>173 rows × 6 columns</p>\n",
       "</div>"
      ]
     },
     "metadata": {},
     "execution_count": 12
    }
   ],
   "metadata": {}
  },
  {
   "cell_type": "code",
   "execution_count": 13,
   "source": [
    "data = numpy.asanyarray(usd)\r\n",
    "data"
   ],
   "outputs": [
    {
     "output_type": "execute_result",
     "data": {
      "text/plain": [
       "array([[5.19914913, 5.19159985, 5.19210005, 5.19210005, 0.        ,\n",
       "        5.19210005],\n",
       "       [5.25279999, 5.11639977, 5.17280006, 5.19189978, 0.        ,\n",
       "        5.19189978],\n",
       "       [5.35029984, 5.27460003, 5.29500008, 5.29530001, 0.        ,\n",
       "        5.29530001],\n",
       "       ...,\n",
       "       [5.2585001 , 5.18970013, 5.25180006, 5.25159979, 0.        ,\n",
       "        5.25159979],\n",
       "       [5.22230005, 5.18200016, 5.20300007, 5.2027998 , 0.        ,\n",
       "        5.2027998 ],\n",
       "       [5.19649982, 5.15789986, 5.18520021, 5.16069984, 0.        ,\n",
       "        5.16069984]])"
      ]
     },
     "metadata": {},
     "execution_count": 13
    }
   ],
   "metadata": {}
  },
  {
   "cell_type": "code",
   "execution_count": 15,
   "source": [
    "np.cov(np.transpose(data))"
   ],
   "outputs": [
    {
     "output_type": "execute_result",
     "data": {
      "text/plain": [
       "array([[0.04412771, 0.0423986 , 0.04356564, 0.04352372, 0.        ,\n",
       "        0.04352372],\n",
       "       [0.0423986 , 0.04155808, 0.04234373, 0.04227116, 0.        ,\n",
       "        0.04227116],\n",
       "       [0.04356564, 0.04234373, 0.04405516, 0.04398832, 0.        ,\n",
       "        0.04398832],\n",
       "       [0.04352372, 0.04227116, 0.04398832, 0.04395016, 0.        ,\n",
       "        0.04395016],\n",
       "       [0.        , 0.        , 0.        , 0.        , 0.        ,\n",
       "        0.        ],\n",
       "       [0.04352372, 0.04227116, 0.04398832, 0.04395016, 0.        ,\n",
       "        0.04395016]])"
      ]
     },
     "metadata": {},
     "execution_count": 15
    }
   ],
   "metadata": {}
  },
  {
   "cell_type": "code",
   "execution_count": 19,
   "source": [
    "cov_data = np.cov(np.transpose(data))\r\n",
    "import numpy.linalg as la\r\n",
    "w,v = la.eig(cov_data) ## obetem autovalores e autovetores.\r\n",
    "w\r\n"
   ],
   "outputs": [
    {
     "output_type": "execute_result",
     "data": {
      "text/plain": [
       "array([ 2.16292375e-01,  9.09111081e-04,  4.21697579e-04,  1.80814161e-05,\n",
       "       -6.93734046e-18,  0.00000000e+00])"
      ]
     },
     "metadata": {},
     "execution_count": 19
    }
   ],
   "metadata": {}
  },
  {
   "cell_type": "markdown",
   "source": [
    "* A função numpy.linalg.eig retorna dois valores: um vetor de autovalores w (não necessariamente ordenados )\r\n",
    "* na análise PCA, os maiores  autovalores correspodem aos componentes principais componetes principais mais importantes ou, em outras palavras, os palavras, os dados sofrem maior variação.\r\n",
    "Por isso o primeiro passo é a ordenação dos autovalores e seus autovetores correspondentes em ordem decrescente."
   ],
   "metadata": {}
  },
  {
   "cell_type": "code",
   "execution_count": 22,
   "source": [
    "ind = np.argsort(w)[::-1] ## obtem indices para a ordenação decrescente dos autovetores\r\n",
    "w_dec = w[ind]\r\n",
    "w_dec"
   ],
   "outputs": [
    {
     "output_type": "execute_result",
     "data": {
      "text/plain": [
       "array([ 2.16292375e-01,  9.09111081e-04,  4.21697579e-04,  1.80814161e-05,\n",
       "        0.00000000e+00, -6.93734046e-18])"
      ]
     },
     "metadata": {},
     "execution_count": 22
    }
   ],
   "metadata": {}
  },
  {
   "cell_type": "code",
   "execution_count": 23,
   "source": [
    "la.norm(w[0])"
   ],
   "outputs": [
    {
     "output_type": "execute_result",
     "data": {
      "text/plain": [
       "0.21629237535017778"
      ]
     },
     "metadata": {},
     "execution_count": 23
    }
   ],
   "metadata": {}
  },
  {
   "cell_type": "markdown",
   "source": [
    "* Representando autovalores da matriz covariâncias\r\n"
   ],
   "metadata": {}
  },
  {
   "cell_type": "code",
   "execution_count": 24,
   "source": [
    "EVR = w/sum(w)\r\n",
    "EVR"
   ],
   "outputs": [
    {
     "output_type": "execute_result",
     "data": {
      "text/plain": [
       "array([ 9.93802232e-01,  4.17710805e-03,  1.93758099e-03,  8.30789881e-05,\n",
       "       -3.18751154e-17,  0.00000000e+00])"
      ]
     },
     "metadata": {},
     "execution_count": 24
    }
   ],
   "metadata": {}
  },
  {
   "cell_type": "code",
   "execution_count": 27,
   "source": [
    "from sklearn.decomposition import PCA\r\n",
    "pca=PCA()\r\n",
    "pca.fit(data)\r\n",
    "PCA(copy=True, n_components=None, whiten=False)\r\n",
    "pca.components_"
   ],
   "outputs": [
    {
     "output_type": "execute_result",
     "data": {
      "text/plain": [
       "array([[ 4.48993378e-01,  4.35950287e-01,  4.50669758e-01,\n",
       "         4.50138347e-01,  0.00000000e+00,  4.50138347e-01],\n",
       "       [ 6.20759938e-01,  4.75626710e-01, -3.53037562e-01,\n",
       "        -3.63180955e-01,  0.00000000e+00, -3.63180955e-01],\n",
       "       [ 6.42187367e-01, -7.62922287e-01, -6.56888663e-03,\n",
       "         5.24491117e-02, -0.00000000e+00,  5.24491117e-02],\n",
       "       [-2.56404128e-02,  4.09409845e-02, -8.19889077e-01,\n",
       "         4.03390819e-01, -0.00000000e+00,  4.03390819e-01],\n",
       "       [-0.00000000e+00, -2.00891433e-17, -7.52342092e-17,\n",
       "        -7.07106781e-01,  0.00000000e+00,  7.07106781e-01],\n",
       "       [ 0.00000000e+00,  0.00000000e+00,  0.00000000e+00,\n",
       "         0.00000000e+00, -1.00000000e+00,  0.00000000e+00]])"
      ]
     },
     "metadata": {},
     "execution_count": 27
    }
   ],
   "metadata": {}
  }
 ],
 "metadata": {
  "orig_nbformat": 4,
  "language_info": {
   "name": "python",
   "version": "3.8.8",
   "mimetype": "text/x-python",
   "codemirror_mode": {
    "name": "ipython",
    "version": 3
   },
   "pygments_lexer": "ipython3",
   "nbconvert_exporter": "python",
   "file_extension": ".py"
  },
  "kernelspec": {
   "name": "python3",
   "display_name": "Python 3.8.8 64-bit ('base': conda)"
  },
  "interpreter": {
   "hash": "f763c5ae1380102371fc37b7f9e900cc55027b2a662d6fbcccf1534945890ce5"
  }
 },
 "nbformat": 4,
 "nbformat_minor": 2
}