{
 "cells": [
  {
   "cell_type": "markdown",
   "source": [
    "# Seleção de variável.\r\n",
    "A seleção de recursos é o processo de redução do números de variáveis de entrada ao desenvolver um modelo preditivo. É desejavel reduzir o número de variáveis de entrada para reduzir o custo computacional da modelagem e, em alguns casos, para melhorar o desempenho do modelo.\r\n",
    "$\\newline$ Os métodos de seleção de recursos baseados em estatísticas envolvem a avaliação do relacionamento entre cada variáveis de entrada que têm o relacionamento mais forte com a variável de destino. Esses métodos podem ser rápidos e eficazes, embora  a escolha de medidas estatísticas dependa do tipo de dados das **variáveis de entrada e saida**."
   ],
   "metadata": {}
  },
  {
   "cell_type": "markdown",
   "source": [
    "* Existem dois tipos principais de seleção de recursos: supervisionado e não supervisionados, e os métodos supervisionados podem ser divididos em wrapper, filtro e intriseco.\r\n",
    "* Os métodos de seleção de recursos baseados em filtro usam medidas estatísticas  para pontuar a correlação ou dependência entre as variáveis de entrada que podem  ser filtradas para escolher os recursos mais relevantes.\r\n",
    "* As medidas estatísticas para a seleção de recursos devem ser cuidadosamente escolhidas com base no tipo de dados da variáveis de entrada  e na saida ou variáveis de resposta."
   ],
   "metadata": {}
  },
  {
   "cell_type": "markdown",
   "source": [
    "* Métodos de seleção de recursos.\r\n",
    "* Estatística para métodos de seleção de recursos de filtro.\r\n",
    "    * Entrada numérica, saida numérica.\r\n",
    "    * Entrada numérica, saida categorica.\r\n",
    "    * Entrada categórica, saida numérica.\r\n",
    "    * Entrada categórica, saida categórica.\r\n",
    "* Dicas e truques para seleção de recursos.\r\n",
    "    * Estatísticas de correlação.\r\n",
    "    * Método de Seleção.\r\n",
    "    * Transformar variáveis.\r\n",
    "    * Qual é o melhor método?\r\n",
    "* Exemplos trabalhados\r\n",
    "    * Seleção de característica de regressão.\r\n",
    "    * Seleção de recursos de classificações.\r\n"
   ],
   "metadata": {}
  },
  {
   "cell_type": "markdown",
   "source": [
    "## Métodos de Seleção de recursos.\r\n",
    "Os métodos de seleção de recursos têm como objetivo reduzir o número de variáveis de entrada para aquelas que se acredita serem mais uteis para o modelo.\r\n",
    "* *A seleção de recursos tem como foco principal a remoção de preditores não informativos ou redundantes do modelo.*\r\n",
    "\r\n",
    "$\\newline$ Alguns problemas de modelagem preditiva têm um grande número de variáveis que podem retardar o desenvolvimento e o treinamento de modelos e requerem uma grande quantidade de memórias do \r\n",
    "sistema. Além disso, o desempenho de alguns modelos pode degradar ao incluir variáveis de entrada que não são relevantes para a variável de destino.\r\n",
    "* *Muitos modelos, especialmente aqueles baseados em inclinações em inclinações de regressão e interceptações entre cada termo do modelo. Por causa disso, a presença de variáveis não informativas pode adicionar incerteza às previsões e reduzir e eficácia geral do modelo.*"
   ],
   "metadata": {}
  },
  {
   "cell_type": "markdown",
   "source": [
    "* *Seleção de recursos: selecione um subconjunto de recursos de entrada no conjunto de dados.*\r\n",
    "    * Não supervisionado: Não use a variável de destino (remover variáveis redundantes).\r\n",
    "        * Correlação.     \r\n",
    "    * Supervisionado: Use a variável de destino (por exemplo, remova as variáveis redundantes)\r\n",
    "        * Wrapper - Pesquise subconjuntos de recursos com bom desempenho.\r\n",
    "            * RFE.\r\n",
    "        * Filtro - Selecione subconjuntos de recursos com base em sua relação com o destino.\r\n",
    "            * Métodos estatísticos.\r\n",
    "            * Métodos de importancia do recurso.\r\n",
    "        * Intrínseco: Algoritmos que executam a seleção automática de recursos durante o treinamento.\r\n",
    "            * Árvores de decisão.\r\n",
    "* *Redução de dimensionalidade : dados de entrada do projeto em um espaço de recurso de dimensão inferior.*  \r\n",
    "\r\n",
    "![img](https://machinelearningmastery.com/wp-content/uploads/2019/11/Overview-of-Feature-Selection-Techniques3.png)"
   ],
   "metadata": {}
  },
  {
   "cell_type": "markdown",
   "source": [
    "## Métodos de seleção de recursos baseados em filtro.\r\n",
    "É comum usar medidas estatísticas de tipo de correlação entre variáveis de entrada e saida como base para a seleção de recursos de filtro \r\n",
    "* A escolha é dependente dos tipos de dados variáveis.\r\n",
    "$\\newline$ Os tipos de dados comuns incluem numéricas(altura) e categórica(rótulo) embora cada um possa ser subdividido como número inteiro e ponto flutuante para variáveis numéricas e boleano, ordinal ou nominal para variáveis categóricas.\r\n",
    "* Variáveis Numéricas\r\n",
    "    * Variáveis inteiras.\r\n",
    "    * Variáveis de ponto flutuante.\r\n",
    "* Variáveis categóricas.\r\n",
    "    * Variáveis boleanos.\r\n",
    "    * Variáveis ordinais.\r\n",
    "    * Variáveis nominais.\r\n",
    "\r\n",
    "![img](https://machinelearningmastery.com/wp-content/uploads/2020/06/Overview-of-Data-Variable-Types2.png)\r\n",
    "\r\n",
    "* Saida numérica - Problema de modelagem preditiva de regressão.\r\n",
    "* Saida categórica - Problema de modelagem preditiva de classificação.\r\n",
    "\r\n",
    "* **a maioria dessas técnicas é univariada,  o que significa que avaliam cada preditor isoladamente. Nesse caso,  a existência de preditores importantes, mas redundantes. As consequências óbvias desse problema são que muitos preditores são escolhidos e, como resultado, surgem problemas de colinearidade.**\r\n",
    "\r\n",
    "![img](https://machinelearningmastery.com/wp-content/uploads/2019/11/How-to-Choose-Feature-Selection-Methods-For-Machine-Learning.png)"
   ],
   "metadata": {}
  },
  {
   "cell_type": "markdown",
   "source": [
    "## Entrada numérica, saida categórica.\r\n",
    "* Classificação.\r\n",
    "    * Coeficiente de correlação ANOVA(linear).\r\n",
    "    * Coeficiente de classificação de Kendall(não linear).\r\n",
    "    "
   ],
   "metadata": {}
  },
  {
   "cell_type": "markdown",
   "source": [
    "## Entrada categórica, saida numérica.\r\n",
    "* Regressão.\r\n"
   ],
   "metadata": {}
  },
  {
   "cell_type": "markdown",
   "source": [
    "## Entrada categórica, saida categórica.\r\n",
    "* Classificação.\r\n"
   ],
   "metadata": {}
  },
  {
   "cell_type": "markdown",
   "source": [
    "## Entrada categórica, saida categórica.\r\n",
    "* Classificação.\r\n",
    "* Teste qui-quadrado(tabelas de contingência)\r\n",
    "* Informação mutua."
   ],
   "metadata": {}
  },
  {
   "cell_type": "markdown",
   "source": [
    "## Método de seleção.\r\n",
    "* Selecione k principais variáveis SelectBest.\r\n",
    "* Selecione as variáveis de percentil superior SelectPercentile.\r\n"
   ],
   "metadata": {}
  },
  {
   "cell_type": "markdown",
   "source": [
    "# Prática.\r\n"
   ],
   "metadata": {}
  },
  {
   "cell_type": "markdown",
   "source": [
    "* Entrada numérica saida categórica."
   ],
   "metadata": {}
  },
  {
   "cell_type": "code",
   "execution_count": 4,
   "source": [
    "from sklearn.datasets import make_classification\r\n",
    "from sklearn.feature_selection import SelectKBest\r\n",
    "from sklearn.feature_selection import f_classif"
   ],
   "outputs": [],
   "metadata": {}
  },
  {
   "cell_type": "code",
   "execution_count": 7,
   "source": [
    "\r\n",
    "# gerando dataset\r\n",
    "X, y = make_classification(n_samples=100, n_features=20, n_informative=2)\r\n",
    "# defindo as features selecionadas\r\n",
    "fs = SelectKBest(score_func=f_classif, k=2)\r\n",
    "# anpliando as features\r\n",
    "X_selected = fs.fit_transform(X, y)\r\n",
    "print(X_selected.shape)"
   ],
   "outputs": [
    {
     "output_type": "stream",
     "name": "stdout",
     "text": [
      "(100, 2)\n"
     ]
    }
   ],
   "metadata": {}
  },
  {
   "cell_type": "markdown",
   "source": [
    "* Entrada numérica e saida numérica."
   ],
   "metadata": {}
  },
  {
   "cell_type": "code",
   "execution_count": 9,
   "source": [
    "from sklearn.datasets import make_regression\r\n",
    "from sklearn.feature_selection import SelectKBest\r\n",
    "from sklearn.feature_selection import f_regression"
   ],
   "outputs": [],
   "metadata": {}
  },
  {
   "cell_type": "code",
   "execution_count": 10,
   "source": [
    "\r\n",
    "# generate dataset\r\n",
    "X, y = make_regression(n_samples=100, n_features=100, n_informative=10)\r\n",
    "# define feature selection\r\n",
    "fs = SelectKBest(score_func=f_regression, k=10)\r\n",
    "# apply feature selection\r\n",
    "X_selected = fs.fit_transform(X, y)\r\n",
    "print(X_selected.shape)"
   ],
   "outputs": [
    {
     "output_type": "stream",
     "name": "stdout",
     "text": [
      "(100, 10)\n"
     ]
    }
   ],
   "metadata": {}
  }
 ],
 "metadata": {
  "orig_nbformat": 4,
  "language_info": {
   "name": "python",
   "version": "3.9.0",
   "mimetype": "text/x-python",
   "codemirror_mode": {
    "name": "ipython",
    "version": 3
   },
   "pygments_lexer": "ipython3",
   "nbconvert_exporter": "python",
   "file_extension": ".py"
  },
  "kernelspec": {
   "name": "python3",
   "display_name": "Python 3.9.0 64-bit"
  },
  "interpreter": {
   "hash": "63fd5069d213b44bf678585dea6b12cceca9941eaf7f819626cde1f2670de90d"
  }
 },
 "nbformat": 4,
 "nbformat_minor": 2
}