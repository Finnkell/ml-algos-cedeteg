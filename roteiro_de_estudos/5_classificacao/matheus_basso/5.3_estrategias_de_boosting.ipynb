{
 "cells": [
  {
   "cell_type": "markdown",
   "id": "0c79cf97",
   "metadata": {},
   "source": [
    "# 5.3 - Boosting\n",
    "\n",
    "O termo 'Boosting' refere-se a uma família de algoritmos que converte alunos fracos em alunos fortes. Boosting é um método de conjunto para melhorar as previsões do modelo de qualquer algoritmo de aprendizagem. A ideia do boost é treinar sequencialmente os alunos fracos, cada um tentando corrigir seu antecessor.\n",
    "\n",
    "![fig_1](https://i.ibb.co/qCtThMm/random-forest-drawio-1.png)"
   ]
  }
 ],
 "metadata": {
  "kernelspec": {
   "display_name": "Python 3",
   "language": "python",
   "name": "python3"
  },
  "language_info": {
   "codemirror_mode": {
    "name": "ipython",
    "version": 3
   },
   "file_extension": ".py",
   "mimetype": "text/x-python",
   "name": "python",
   "nbconvert_exporter": "python",
   "pygments_lexer": "ipython3",
   "version": "3.8.8"
  }
 },
 "nbformat": 4,
 "nbformat_minor": 5
}
