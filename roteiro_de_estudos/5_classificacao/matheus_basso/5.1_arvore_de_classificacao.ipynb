{
 "cells": [
  {
   "cell_type": "markdown",
   "id": "1ccdb9b9",
   "metadata": {},
   "source": [
    "# 5.1 - Árvore de Classificação\n",
    "\n",
    "### Definição:\n",
    "\n",
    "&emsp; Uma árvore de decisão é uma estrutura de árvore semelhante a um fluxograma em que um nó interno representa o recurso (ou atributo), a ramificação representa uma regra de decisão e cada nó folha representa o resultado. O nó superior em uma árvore de decisão é conhecido como nó raiz. Ele aprende a particionar com base no valor do atributo. Ele particiona a árvore de maneira recursiva, chamando o particionamento recursivo. Essa estrutura semelhante a um fluxograma o ajuda na tomada de decisões. É a visualização como um diagrama de fluxo que facilmente imita o pensamento do nível humano. É por isso que as árvores de decisão são fáceis de entender e interpretar.\n",
    "\n",
    "![fig_1](https://i.ibb.co/PtsQw0X/decision-tree-1-drawio.png)\n",
    "\n",
    "\n",
    "&emsp;A árvore de decisão é um tipo de algoritmo de ML de caixa branca. Ele compartilha a lógica interna de tomada de decisão, que não está disponível no tipo de caixa preta de algoritmos, como Rede Neural. Seu tempo de treinamento é mais rápido em comparação com o algoritmo de rede neural. A complexidade de tempo das árvores de decisão é uma função do número de registros e do número de atributos nos dados fornecidos. A árvore de decisão é um método livre de distribuição ou não paramétrico, que não depende de suposições de distribuição de probabilidade. As árvores de decisão podem lidar com dados dimensionais elevados com boa precisão.\n",
    "\n",
    "### Como funciona\n",
    "\n",
    "As ideias básicas em qualquer algoritmo de árvore de decisão são:\n",
    "* 01 - Selecionar o melhor atributo usando **Attribute Selection Measures (ASM)** ou Medidas de seleção de atributos, para dividir os registros;\n",
    "\n",
    "* 02 - Fazer aquele atributo um nó de decisão e dividir o conjunto de dados em subconjuntos menores;\n",
    "\n",
    "* 03 - Inicia a construção da árvore repetindo este processo recursivamente para cada filho até que uma das condições corresponda:\n",
    "    * Todas as tuplas pertençam ao mesmo valor de atributo;\n",
    "    * Nâo tenha mais atributos restantes;\n",
    "    * Não tenha mais instâncias;\n",
    "    \n",
    "![fig_3](https://i.ibb.co/3cHdf0n/decision-tree-1-drawio-1.png)    "
   ]
  },
  {
   "cell_type": "markdown",
   "id": "f76dc8a7",
   "metadata": {},
   "source": []
  }
 ],
 "metadata": {
  "kernelspec": {
   "display_name": "Python 3",
   "language": "python",
   "name": "python3"
  },
  "language_info": {
   "codemirror_mode": {
    "name": "ipython",
    "version": 3
   },
   "file_extension": ".py",
   "mimetype": "text/x-python",
   "name": "python",
   "nbconvert_exporter": "python",
   "pygments_lexer": "ipython3",
   "version": "3.8.8"
  }
 },
 "nbformat": 4,
 "nbformat_minor": 5
}
