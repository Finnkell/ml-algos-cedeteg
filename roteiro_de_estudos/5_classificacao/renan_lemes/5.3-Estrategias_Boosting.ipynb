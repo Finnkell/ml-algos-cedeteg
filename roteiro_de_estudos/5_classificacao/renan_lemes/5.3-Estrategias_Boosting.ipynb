{
 "cells": [
  {
   "cell_type": "markdown",
   "source": [
    "# Estratégias de Boosting.\r\n",
    "Os métodos de boosting é uma categoria de Ensemble Learning, com foco principalmente em diminuir o viés dos modelos. Tem com base treinar vários modelos simples com a finalidade de produzir um modelo final e mais robusto, no entanto nos algoritmos de Boonsting, os modelos  não são mais treinados de forma independente entre si, mas de maneira sequencial, a partir de um ajuste dos modelos treinados previamentes.\r\n",
    "$\\newline$ Para maximizar o desempenho preditor ele treina interativamente novos  modelos com um foco nas observações que os modelos anteriores erraram mais, tornando a predição mais resistente ao viés, assim atualiza o modelo para priorizar as novas predições.\r\n",
    "\r\n"
   ],
   "metadata": {}
  },
  {
   "cell_type": "markdown",
   "source": [
    "## Boostings Gradient.\r\n",
    "Ao  invés de estabelecer pesos para o weak learners, o Gradient terina novos modelos diretamente no erro dos modelos anteriores, ou seja, os novos modelos tentam prever o erro dos modelos anteriores em vez de prever o erro dos modelos anteriores em vez de prever independente o target.\r\n",
    "$\\newline$ O primerio modelo faz uma aproximação bem simples para predição, e obtemos os nossos erros residuais (observando menos e previsto), depois, treinamos mais modelos nesses erros residuais para tentar predizer o erro do primeiro modelo. Assim forma, quando somamos as predições de cada modelo para obter a predição final, obtemos uma versão mais corrigida da primeira predição.\r\n",
    "\r\n",
    "![img](https://datarisk.io/wp-content/uploads/2020/06/Captura-de-tela-de-2020-06-06-21-52-32.png)\r\n",
    "\r\n",
    "Repetimos esse processo por várias iterações, obtendo erros residuais cada vez menores.\r\n",
    "\r\n",
    "![img](https://datarisk.io/wp-content/uploads/2020/06/Captura-de-tela-de-2020-06-06-21-53-27.png)"
   ],
   "metadata": {}
  },
  {
   "cell_type": "markdown",
   "source": [
    "## Boosting ADA.\r\n",
    "Adaptive Boosting é um algoritmo que consiste em combinar de forma sequêncial vários modelos mais fracos, sendo assim o weak learner subsequencial leva em consideração as predições do anterior, para formar um preditor mais conciso. O diferencial desse algoritmo é que as predições mais dificeis recebem um peso maior no preditor seguinte, assim buscando maior otimização do algoritmo final.\r\n",
    "\r\n",
    "![img](https://datarisk.io/wp-content/uploads/2020/06/Captura-de-tela-de-2020-06-06-21-51-44.png)\r\n",
    "\r\n",
    "Se reparamos aqui existe dois pesos. O primeiro é para cada observação que representa o grau de foco que a interação em questão deve dar para aquela observação. A cada novo modelo treinado, esse peso das amostras são atualizados, já o segundo é um peso para cada modeloque representa seu poder de decisão quando os modelos combinados. Eles são atribuidos apenas uma vez para cada estimador."
   ],
   "metadata": {}
  },
  {
   "cell_type": "markdown",
   "source": [
    "# Pratica."
   ],
   "metadata": {}
  },
  {
   "cell_type": "code",
   "execution_count": 13,
   "source": [
    "\r\n",
    "from numpy import mean\r\n",
    "from numpy import std\r\n",
    "from sklearn.datasets import make_regression\r\n",
    "from sklearn.model_selection import cross_val_score\r\n",
    "from sklearn.model_selection import RepeatedKFold\r\n",
    "from sklearn.ensemble import GradientBoostingRegressor\r\n",
    "from matplotlib import pyplot\r\n"
   ],
   "outputs": [],
   "metadata": {}
  },
  {
   "cell_type": "code",
   "execution_count": 14,
   "source": [
    "X,y = make_regression(n_samples=1000, n_features=20, n_informative=15, noise=0.1,random_state=7)"
   ],
   "outputs": [],
   "metadata": {}
  },
  {
   "cell_type": "code",
   "execution_count": 15,
   "source": [
    "model = GradientBoostingRegressor();"
   ],
   "outputs": [],
   "metadata": {}
  },
  {
   "cell_type": "code",
   "execution_count": 16,
   "source": [
    "cv = RepeatedKFold(n_splits=10, n_repeats=3, random_state=1)"
   ],
   "outputs": [],
   "metadata": {}
  },
  {
   "cell_type": "code",
   "execution_count": 17,
   "source": [
    "n_scores = cross_val_score(model, X, y, scoring='neg_mean_absolute_error', cv=cv, n_jobs=-1)"
   ],
   "outputs": [],
   "metadata": {}
  },
  {
   "cell_type": "code",
   "execution_count": 18,
   "source": [
    "print('MAE: %.3f (%.3f)' % (mean(n_scores), std(n_scores)))"
   ],
   "outputs": [
    {
     "output_type": "stream",
     "name": "stdout",
     "text": [
      "MAE: -62.450 (3.241)\n"
     ]
    }
   ],
   "metadata": {}
  },
  {
   "cell_type": "code",
   "execution_count": 27,
   "source": [
    "pyplot.boxplot(n_scores,std(n_scores), showmeans=True)\r\n",
    "pyplot.show()"
   ],
   "outputs": [
    {
     "output_type": "display_data",
     "data": {
      "image/png": "[encoded data removed]",
      "text/plain": [
       "<Figure size 432x288 with 1 Axes>"
      ]
     },
     "metadata": {
      "needs_background": "light"
     }
    }
   ],
   "metadata": {}
  }
 ],
 "metadata": {
  "orig_nbformat": 4,
  "language_info": {
   "name": "python",
   "version": "3.9.0",
   "mimetype": "text/x-python",
   "codemirror_mode": {
    "name": "ipython",
    "version": 3
   },
   "pygments_lexer": "ipython3",
   "nbconvert_exporter": "python",
   "file_extension": ".py"
  },
  "kernelspec": {
   "name": "python3",
   "display_name": "Python 3.9.0 64-bit"
  },
  "interpreter": {
   "hash": "63fd5069d213b44bf678585dea6b12cceca9941eaf7f819626cde1f2670de90d"
  }
 },
 "nbformat": 4,
 "nbformat_minor": 2
}