{
 "cells": [
  {
   "cell_type": "markdown",
   "source": [
    "# Regressão logística.\r\n",
    "Podemos entender regressão logística como análoga de regressão linear para problemas de classificação, esse tipo de problema surge quando queremos categorizar algumas variáveis por classes, quando isso acontece,  a variavel $y$ que queremos prever é discreta. Como exemplo ilustrativo, vamos supor que somos uma agência de seguros e estamos decidindo se devemos ou não segurar um carro, com base nas informações sociais dos seus donos. Por motivos de simplicidade, vamos dizer que a probabilidade da pessoa bater o carro só dependa do tempo que ela gastou na autoescola; nós temos acesso a esse tempo, mas não sabemos exatamente como ele se relaciona com a probabilidade da pessoa segurada sofrer um acidente automobilístico.\r\n",
    "$\\newline$ É a técnica que tem como objetivo produzir, a partir de um conjunto de observações, um modelo que permita a predição de valores tomados por uma variável categorica, frequentemente binária, a partir de uma serie de variaveis explicativas continuas ou binárias, aonde geralmente é encontrado:\r\n",
    "* Na medicina, permite determinar os factores que caracterizam grupos de individuos doentes em relação a individuos.\r\n",
    "* Dominio de seguros, encotra fracções da clientela que sejam sensível a determinada politica.\r\n",
    "* Em instituições finaceiras, pode detectar os grupos de risco para a subscrição de um crédito.\r\n",
    "* Em econometria. permite explicar uma variável, discreta como intenções de voto em actos eleitores."
   ],
   "metadata": {}
  },
  {
   "cell_type": "markdown",
   "source": [
    "## Descrição.\r\n",
    "Ela analisa dados distribuidos binomealmente da forma.\r\n",
    "$$Y_i ~ B(p_i, n_i), \\text{for}; i = 1 , ...,m.$$\r\n",
    "* $n_i$ números de ensaios.\r\n",
    "* provabilidade dos exito $p_i$ que são desconhecidas.\r\n",
    "O modelo é então obtido na base de que cara valor $i$ e o conjunto de variáveis explicativas/independentes possa informar acerca da prababilidade final, estas variáveis explicativas podem-se ver como um vector $X_i$ k-dimensional e o modelo toma a forma:\r\n",
    "$$p_i = E(\\frac{Y_i}{n_i}| X_i)$$\r\n",
    "\r\n",
    "![gif](https://miro.medium.com/max/2000/0*1KnKYuv0UDu_1-qM.gif)\r\n",
    "\r\n"
   ],
   "metadata": {}
  },
  {
   "cell_type": "markdown",
   "source": [
    "## Vantagens."
   ],
   "metadata": {}
  },
  {
   "cell_type": "markdown",
   "source": [
    "## Desvantagens."
   ],
   "metadata": {}
  },
  {
   "cell_type": "markdown",
   "source": [
    "# Pratica.\r\n"
   ],
   "metadata": {}
  },
  {
   "cell_type": "code",
   "execution_count": 1,
   "source": [
    "import pandas as pd\r\n",
    "import numpy as np"
   ],
   "outputs": [],
   "metadata": {}
  }
 ],
 "metadata": {
  "orig_nbformat": 4,
  "language_info": {
   "name": "python",
   "version": "3.8.8",
   "mimetype": "text/x-python",
   "codemirror_mode": {
    "name": "ipython",
    "version": 3
   },
   "pygments_lexer": "ipython3",
   "nbconvert_exporter": "python",
   "file_extension": ".py"
  },
  "kernelspec": {
   "name": "python3",
   "display_name": "Python 3.8.8 64-bit"
  },
  "interpreter": {
   "hash": "f763c5ae1380102371fc37b7f9e900cc55027b2a662d6fbcccf1534945890ce5"
  }
 },
 "nbformat": 4,
 "nbformat_minor": 2
}