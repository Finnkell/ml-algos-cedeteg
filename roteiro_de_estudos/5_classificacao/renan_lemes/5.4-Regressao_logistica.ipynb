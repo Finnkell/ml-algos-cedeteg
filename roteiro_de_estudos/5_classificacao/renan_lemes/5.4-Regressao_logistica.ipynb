{
 "cells": [
  {
   "cell_type": "markdown",
   "source": [
    "# Regressão logística.\r\n",
    "Podemos entender regressão logística como análoga de regressão linear para problemas de classificação, esse tipo de problema surge quando queremos categorizar algumas variáveis por classes, quando isso acontece,  a variavel $y$ que queremos prever é discreta. Como exemplo ilustrativo, vamos supor que somos uma agência de seguros e estamos decidindo se devemos ou não segurar um carro, com base nas informações sociais dos seus donos. Por motivos de simplicidade, vamos dizer que a probabilidade da pessoa bater o carro só dependa do tempo que ela gastou na autoescola; nós temos acesso a esse tempo, mas não sabemos exatamente como ele se relaciona com a probabilidade da pessoa segurada sofrer um acidente automobilístico.\r\n",
    "$\\newline$ É a técnica que tem como objetivo produzir, a partir de um conjunto de observações, um modelo que permita a predição de valores tomados por uma variável categorica, frequentemente binária, a partir de uma serie de variaveis explicativas continuas ou binárias, aonde geralmente é encontrado:\r\n",
    "* Na medicina, permite determinar os factores que caracterizam grupos de individuos doentes em relação a individuos.\r\n",
    "* Dominio de seguros, encotra fracções da clientela que sejam sensível a determinada politica.\r\n",
    "* Em instituições finaceiras, pode detectar os grupos de risco para a subscrição de um crédito.\r\n",
    "* Em econometria. permite explicar uma variável, discreta como intenções de voto em actos eleitores."
   ],
   "metadata": {}
  },
  {
   "cell_type": "markdown",
   "source": [
    "## Descrição.\r\n",
    "Ela analisa dados distribuidos binomealmente da forma.\r\n",
    "$$Y_i ~ B(p_i, n_i), \\text{for}; i = 1 , ...,m.$$\r\n",
    "* $n_i$ números de ensaios.\r\n",
    "* provabilidade dos exito $p_i$ que são desconhecidas.\r\n",
    "O modelo é então obtido na base de que cara valor $i$ e o conjunto de variáveis explicativas/independentes possa informar acerca da prababilidade final, estas variáveis explicativas podem-se ver como um vector $X_i$ k-dimensional e o modelo toma a forma:\r\n",
    "$$p_i = E(\\frac{Y_i}{n_i}| X_i)$$\r\n",
    "\r\n",
    "![gif](https://miro.medium.com/max/2000/0*1KnKYuv0UDu_1-qM.gif)\r\n",
    "\r\n"
   ],
   "metadata": {}
  },
  {
   "cell_type": "markdown",
   "source": [
    "## Vantagens.\r\n",
    "* O modelo não atua somente como um classificador, também fornece um valor de probabilidade para cada instância classificada.\r\n",
    "* É um modelo relativamente fácil de implementar, interpretar, é rapido e possui um bom desempenho.\r\n",
    "* Os coeficientes da regressão logística dão uma ideia do quão relevante é um atributo para a predição peso."
   ],
   "metadata": {}
  },
  {
   "cell_type": "markdown",
   "source": [
    "## Desvantagens.\r\n",
    "* Pode ocorrer erros de overfitting quando e submetido a modelos de alta dimensionalidade.\r\n",
    "* Requer uma atenção maior com o pré-processamento dos dados quando comparado aos outros modelos de classificação.\r\n",
    "* Pode ocorrer problemas com outliers ou seja variáveis com uma influência muito maior para a classificação do que as demais."
   ],
   "metadata": {}
  },
  {
   "cell_type": "markdown",
   "source": [
    "# Pratica.\r\n"
   ],
   "metadata": {}
  },
  {
   "cell_type": "code",
   "execution_count": 1,
   "source": [
    "import pandas as pd\r\n",
    "import seaborn as sns\r\n",
    "import matplotlib.pyplot as plt \r\n",
    "\r\n",
    "from matplotlib import rcParams\r\n",
    "\r\n",
    "from scipy.stats import spearmanr\r\n",
    "from sklearn.preprocessing import scale\r\n",
    "from sklearn.linear_model import LogisticRegression\r\n",
    "from sklearn.model_selection import train_test_split\r\n",
    "from sklearn.metrics import classification_report"
   ],
   "outputs": [],
   "metadata": {}
  },
  {
   "cell_type": "code",
   "execution_count": 3,
   "source": [
    "orig = 'mtcars.csv'\r\n",
    "cars = pd.read_csv(orig)\r\n",
    "cars.columns = {'car_names', 'mpg', 'cyl', 'disp', 'hp', 'drat', 'wt', 'qsec', 'vs', 'am', 'gear', 'carb'}"
   ],
   "outputs": [],
   "metadata": {}
  },
  {
   "cell_type": "code",
   "execution_count": 5,
   "source": [
    "cars_col = {'drat','carb'}\r\n",
    "cars_dados = cars[cars_col].values\r\n"
   ],
   "outputs": [],
   "metadata": {}
  },
  {
   "cell_type": "code",
   "execution_count": 6,
   "source": [
    "y = cars['am'].values"
   ],
   "outputs": [],
   "metadata": {}
  },
  {
   "cell_type": "code",
   "execution_count": 7,
   "source": [
    "sns.regplot(x='drat',y='carb', data=cars, scatter=True)"
   ],
   "outputs": [
    {
     "output_type": "execute_result",
     "data": {
      "text/plain": [
       "<AxesSubplot:xlabel='drat', ylabel='carb'>"
      ]
     },
     "metadata": {},
     "execution_count": 7
    },
    {
     "output_type": "display_data",
     "data": {
      "image/png": "[encoded data removed]",
      "text/plain": [
       "<Figure size 432x288 with 1 Axes>"
      ]
     },
     "metadata": {
      "needs_background": "light"
     }
    }
   ],
   "metadata": {}
  },
  {
   "cell_type": "code",
   "execution_count": 8,
   "source": [
    "drat = cars['drat']\r\n",
    "carb = cars['carb']\r\n",
    "\r\n",
    "spearmanr, p = spearmanr(drat,carb)\r\n",
    "print(spearmanr)"
   ],
   "outputs": [
    {
     "output_type": "stream",
     "name": "stdout",
     "text": [
      "0.7448161670862097\n"
     ]
    }
   ],
   "metadata": {}
  },
  {
   "cell_type": "code",
   "execution_count": 11,
   "source": [
    "cars.isnull().sum().head()"
   ],
   "outputs": [
    {
     "output_type": "execute_result",
     "data": {
      "text/plain": [
       "gear         0\n",
       "disp         0\n",
       "wt           0\n",
       "car_names    0\n",
       "qsec         0\n",
       "dtype: int64"
      ]
     },
     "metadata": {},
     "execution_count": 11
    }
   ],
   "metadata": {}
  },
  {
   "cell_type": "code",
   "execution_count": 12,
   "source": [
    "sns.countplot(x='am', data=cars, palette='hls')"
   ],
   "outputs": [
    {
     "output_type": "execute_result",
     "data": {
      "text/plain": [
       "<AxesSubplot:xlabel='am', ylabel='count'>"
      ]
     },
     "metadata": {},
     "execution_count": 12
    },
    {
     "output_type": "display_data",
     "data": {
      "image/png": "[encoded data removed]",
      "text/plain": [
       "<Figure size 432x288 with 1 Axes>"
      ]
     },
     "metadata": {
      "needs_background": "light"
     }
    }
   ],
   "metadata": {}
  },
  {
   "cell_type": "code",
   "execution_count": 13,
   "source": [
    "cars.info()"
   ],
   "outputs": [
    {
     "output_type": "stream",
     "name": "stdout",
     "text": [
      "<class 'pandas.core.frame.DataFrame'>\n",
      "RangeIndex: 32 entries, 0 to 31\n",
      "Data columns (total 12 columns):\n",
      " #   Column     Non-Null Count  Dtype  \n",
      "---  ------     --------------  -----  \n",
      " 0   gear       32 non-null     object \n",
      " 1   disp       32 non-null     float64\n",
      " 2   wt         32 non-null     int64  \n",
      " 3   car_names  32 non-null     float64\n",
      " 4   qsec       32 non-null     int64  \n",
      " 5   drat       32 non-null     float64\n",
      " 6   hp         32 non-null     float64\n",
      " 7   mpg        32 non-null     float64\n",
      " 8   am         32 non-null     int64  \n",
      " 9   cyl        32 non-null     int64  \n",
      " 10  carb       32 non-null     int64  \n",
      " 11  vs         32 non-null     int64  \n",
      "dtypes: float64(5), int64(6), object(1)\n",
      "memory usage: 3.1+ KB\n"
     ]
    }
   ],
   "metadata": {}
  },
  {
   "cell_type": "code",
   "execution_count": 14,
   "source": [
    "X = scale(cars_dados)"
   ],
   "outputs": [],
   "metadata": {}
  },
  {
   "cell_type": "code",
   "execution_count": 15,
   "source": [
    "reg_log = LogisticRegression().fit(X, y)\r\n",
    "print(reg_log.score(X, y))"
   ],
   "outputs": [
    {
     "output_type": "stream",
     "name": "stdout",
     "text": [
      "0.71875\n"
     ]
    }
   ],
   "metadata": {}
  },
  {
   "cell_type": "code",
   "execution_count": 16,
   "source": [
    "y_pred = reg_log.predict(X)\r\n",
    "print(classification_report(y, y_pred))\r\n"
   ],
   "outputs": [
    {
     "output_type": "stream",
     "name": "stdout",
     "text": [
      "              precision    recall  f1-score   support\n",
      "\n",
      "           0       0.76      0.72      0.74        18\n",
      "           1       0.67      0.71      0.69        14\n",
      "\n",
      "    accuracy                           0.72        32\n",
      "   macro avg       0.72      0.72      0.72        32\n",
      "weighted avg       0.72      0.72      0.72        32\n",
      "\n"
     ]
    }
   ],
   "metadata": {}
  }
 ],
 "metadata": {
  "orig_nbformat": 4,
  "language_info": {
   "name": "python",
   "version": "3.9.0",
   "mimetype": "text/x-python",
   "codemirror_mode": {
    "name": "ipython",
    "version": 3
   },
   "pygments_lexer": "ipython3",
   "nbconvert_exporter": "python",
   "file_extension": ".py"
  },
  "kernelspec": {
   "name": "python3",
   "display_name": "Python 3.9.0 64-bit"
  },
  "interpreter": {
   "hash": "63fd5069d213b44bf678585dea6b12cceca9941eaf7f819626cde1f2670de90d"
  }
 },
 "nbformat": 4,
 "nbformat_minor": 2
}