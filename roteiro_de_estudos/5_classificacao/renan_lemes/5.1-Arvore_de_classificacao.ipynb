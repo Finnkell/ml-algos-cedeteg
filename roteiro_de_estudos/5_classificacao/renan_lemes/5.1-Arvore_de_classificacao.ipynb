{
 "cells": [
  {
   "cell_type": "markdown",
   "source": [
    "# Árvore de classificação.\r\n",
    "Classificação é um processo de duas etapas, etapa de aprendizagem e etapa de previsão. Na etapa de aprendizagem, o modelo é desenvolvido com base nos dados de treinamento fornecido. Na etapa de previsão,  o modelo é usado para prever a resposta para dados fornecidos. A árvore de decisão é um dos algoritmos de classificação mais fáceis e populares de entender e interpretar ele pode ser utilizado para o tipo de problemas de classificação e regressão.\r\n",
    "* Medidas de seleção de atributos.\r\n",
    "    * Ganho de informações.\r\n",
    "    * Razão de ganho.\r\n",
    "    * Indice de Gini. "
   ],
   "metadata": {}
  },
  {
   "cell_type": "markdown",
   "source": [
    "## Como funciona.\r\n",
    "A ideia por trás do algoritmo é a seguinte:\r\n",
    "* Selecione o melhor atributo usando Atribute Selection Measures (ASM) para dividir os registros.\r\n",
    "* Transforme esse atributo em um nó de decisão e divide o conjunto de dados em subconjuntos menores.\r\n",
    "* Inicia a construção da árvore repentindo este processo recursivo para cada filho até que uma das condições corresponda:\r\n",
    "    * Todas as tuplas pertencem ao mesmo valor atribuido.\r\n",
    "    * Não há mais atributos.\r\n",
    "    * Não há mais instâncias.\r\n",
    "\r\n"
   ],
   "metadata": {}
  }
 ],
 "metadata": {
  "orig_nbformat": 4,
  "language_info": {
   "name": "python",
   "version": "3.8.8",
   "mimetype": "text/x-python",
   "codemirror_mode": {
    "name": "ipython",
    "version": 3
   },
   "pygments_lexer": "ipython3",
   "nbconvert_exporter": "python",
   "file_extension": ".py"
  },
  "kernelspec": {
   "name": "python3",
   "display_name": "Python 3.8.8 64-bit ('base': conda)"
  },
  "interpreter": {
   "hash": "f763c5ae1380102371fc37b7f9e900cc55027b2a662d6fbcccf1534945890ce5"
  }
 },
 "nbformat": 4,
 "nbformat_minor": 2
}