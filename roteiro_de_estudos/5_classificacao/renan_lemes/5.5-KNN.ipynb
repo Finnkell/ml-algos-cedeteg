{
 "cells": [
  {
   "cell_type": "markdown",
   "source": [
    "# KNN (K-Nearest Neighbors). \r\n",
    "É um dos muito algoritmos de machine learning (supervisionado) usando no campo de data mining, é um classificador onde o aprendizado é baseado \"no quão similar\" é um dado (um vetor) do outro. o treinamento é formado por vetores de $n$ dimensões.\r\n",
    "$\\newline$ No caso do KNN, ele não \"compara\" o seu novo dado (não classificado) com todos os outros de fato, na verdade ele executa um cálculo matemático para medir a distância entre os dados para fazer sua classificação, esse cáculo pode ser qualquer um que meça a distância entre dois pontos, como por exemplo: Euclidiana, Manhattan, Ponderada e etc.\r\n",
    "Etapas do algoritmo:\r\n",
    "* Recebe um dado não classificado.\r\n",
    "* Mede a distância do novo dado, com todos os outros dados que já estão classificados;\r\n",
    "* Obtém as X, menores distâncias.\r\n",
    "* Verificar a classe de cada da um dos dados que tiveram a menor distância e conta a quantidade de cada classe que aparece.\r\n",
    "* Toma como resultado   a classe que mais apareceu dentre os dados que tiverem as menoreres distâncias;\r\n",
    "* Classifica o novo dado com a classe tomada como resultado da classificação.\r\n",
    "$\\newline$ Nesta imagem temos o processo, você tem um dado não classificado (em vermelho) e todos os outros dados ja classificado (amarelo e roxo) cada um com uma classe A e B. Assim você calcula a distância do seu novo dado com todos os outros pra saber quais estão mais proximos e quais tem menor distância, feito isso você pega 3 ou 6 dos dados mais proxímos e verifica qual é a classe mais aparece.\r\n",
    "\r\n",
    "![img](https://miro.medium.com/max/700/0*jqxx3-dJqFjXD6FA)\r\n",
    "\r\n",
    "### Meios que são usados o KNN.\r\n",
    "* Predição de preço de ações.\r\n",
    "* Sistemas de recomendação.\r\n",
    "* Análise de risco de crédito.\r\n",
    "* Planejamento preditivo de viagens.\r\n",
    "\r\n",
    "### Pressupostos.\r\n",
    "* Conjunto de dados com poucos ruidos.\r\n",
    "* Conjunto de dados indentificados.\r\n",
    "* Conjunto de dados só comtém variáveis relevantes.\r\n",
    "* Conjunto de dados tem subgrupos claros."
   ],
   "metadata": {}
  },
  {
   "cell_type": "markdown",
   "source": [
    "## Pros.\r\n",
    "Pode ser uma técnica não paramétrica, sem assumir nada do dataset, o KNN é bom para dados que não sabemos muitas informações sobre, além de ser bem versátil para dados não lineares, tornando-o muito bom para qualquer problema de separação de caracteristicas em datasets pequenos."
   ],
   "metadata": {}
  },
  {
   "cell_type": "markdown",
   "source": [
    "## Contra.\r\n",
    "Contundo, o algoritmo não desenvolver uma função de discriminação faz com que este tenha que memorizar todo o dataset de treino e tenha que calcular todas as distâncias entre os data points para prover um classificação/predição. Esse fatores são responsaveis por dificultar ou até impossibilitar, o uso do KNN em datasets muito grandes, uma vez encontramos limitações de tempo de eficiência das maquinas."
   ],
   "metadata": {}
  },
  {
   "cell_type": "markdown",
   "source": [
    "# Prática."
   ],
   "metadata": {}
  },
  {
   "cell_type": "code",
   "execution_count": 1,
   "source": [
    "import pandas as pd\r\n",
    "import numpy as np\r\n",
    "import seaborn as sns\r\n",
    "import matplotlib.pyplot as plt\r\n",
    "\r\n",
    "from sklearn.neighbors import KNeighborsClassifier\r\n",
    "\r\n",
    "from sklearn import preprocessing\r\n",
    "from sklearn.model_selection import train_test_split\r\n",
    "from sklearn.metrics import classification_report"
   ],
   "outputs": [],
   "metadata": {}
  },
  {
   "cell_type": "code",
   "execution_count": 2,
   "source": [
    "data = pd.read_csv('mtcars.csv')\r\n"
   ],
   "outputs": [],
   "metadata": {}
  },
  {
   "cell_type": "code",
   "execution_count": 3,
   "source": [
    "data.columns = {'nomes', 'mpg', 'cyl', 'disp', 'hp', 'drat', 'wt', 'qsec', 'vs', 'am', 'qtd_marchas', 'carb'}\r\n",
    "data.head()"
   ],
   "outputs": [
    {
     "output_type": "execute_result",
     "data": {
      "text/html": [
       "<div>\n",
       "<style scoped>\n",
       "    .dataframe tbody tr th:only-of-type {\n",
       "        vertical-align: middle;\n",
       "    }\n",
       "\n",
       "    .dataframe tbody tr th {\n",
       "        vertical-align: top;\n",
       "    }\n",
       "\n",
       "    .dataframe thead th {\n",
       "        text-align: right;\n",
       "    }\n",
       "</style>\n",
       "<table border=\"1\" class=\"dataframe\">\n",
       "  <thead>\n",
       "    <tr style=\"text-align: right;\">\n",
       "      <th></th>\n",
       "      <th>vs</th>\n",
       "      <th>wt</th>\n",
       "      <th>disp</th>\n",
       "      <th>qsec</th>\n",
       "      <th>mpg</th>\n",
       "      <th>carb</th>\n",
       "      <th>nomes</th>\n",
       "      <th>hp</th>\n",
       "      <th>qtd_marchas</th>\n",
       "      <th>am</th>\n",
       "      <th>drat</th>\n",
       "      <th>cyl</th>\n",
       "    </tr>\n",
       "  </thead>\n",
       "  <tbody>\n",
       "    <tr>\n",
       "      <th>0</th>\n",
       "      <td>Mazda RX4</td>\n",
       "      <td>21.0</td>\n",
       "      <td>6</td>\n",
       "      <td>160.0</td>\n",
       "      <td>110</td>\n",
       "      <td>3.90</td>\n",
       "      <td>2.620</td>\n",
       "      <td>16.46</td>\n",
       "      <td>0</td>\n",
       "      <td>1</td>\n",
       "      <td>4</td>\n",
       "      <td>4</td>\n",
       "    </tr>\n",
       "    <tr>\n",
       "      <th>1</th>\n",
       "      <td>Mazda RX4 Wag</td>\n",
       "      <td>21.0</td>\n",
       "      <td>6</td>\n",
       "      <td>160.0</td>\n",
       "      <td>110</td>\n",
       "      <td>3.90</td>\n",
       "      <td>2.875</td>\n",
       "      <td>17.02</td>\n",
       "      <td>0</td>\n",
       "      <td>1</td>\n",
       "      <td>4</td>\n",
       "      <td>4</td>\n",
       "    </tr>\n",
       "    <tr>\n",
       "      <th>2</th>\n",
       "      <td>Datsun 710</td>\n",
       "      <td>22.8</td>\n",
       "      <td>4</td>\n",
       "      <td>108.0</td>\n",
       "      <td>93</td>\n",
       "      <td>3.85</td>\n",
       "      <td>2.320</td>\n",
       "      <td>18.61</td>\n",
       "      <td>1</td>\n",
       "      <td>1</td>\n",
       "      <td>4</td>\n",
       "      <td>1</td>\n",
       "    </tr>\n",
       "    <tr>\n",
       "      <th>3</th>\n",
       "      <td>Hornet 4 Drive</td>\n",
       "      <td>21.4</td>\n",
       "      <td>6</td>\n",
       "      <td>258.0</td>\n",
       "      <td>110</td>\n",
       "      <td>3.08</td>\n",
       "      <td>3.215</td>\n",
       "      <td>19.44</td>\n",
       "      <td>1</td>\n",
       "      <td>0</td>\n",
       "      <td>3</td>\n",
       "      <td>1</td>\n",
       "    </tr>\n",
       "    <tr>\n",
       "      <th>4</th>\n",
       "      <td>Hornet Sportabout</td>\n",
       "      <td>18.7</td>\n",
       "      <td>8</td>\n",
       "      <td>360.0</td>\n",
       "      <td>175</td>\n",
       "      <td>3.15</td>\n",
       "      <td>3.440</td>\n",
       "      <td>17.02</td>\n",
       "      <td>0</td>\n",
       "      <td>0</td>\n",
       "      <td>3</td>\n",
       "      <td>2</td>\n",
       "    </tr>\n",
       "  </tbody>\n",
       "</table>\n",
       "</div>"
      ],
      "text/plain": [
       "                  vs    wt  disp   qsec  mpg  carb  nomes     hp  qtd_marchas  \\\n",
       "0          Mazda RX4  21.0     6  160.0  110  3.90  2.620  16.46            0   \n",
       "1      Mazda RX4 Wag  21.0     6  160.0  110  3.90  2.875  17.02            0   \n",
       "2         Datsun 710  22.8     4  108.0   93  3.85  2.320  18.61            1   \n",
       "3     Hornet 4 Drive  21.4     6  258.0  110  3.08  3.215  19.44            1   \n",
       "4  Hornet Sportabout  18.7     8  360.0  175  3.15  3.440  17.02            0   \n",
       "\n",
       "   am  drat  cyl  \n",
       "0   1     4    4  \n",
       "1   1     4    4  \n",
       "2   1     4    1  \n",
       "3   0     3    1  \n",
       "4   0     3    2  "
      ]
     },
     "metadata": {},
     "execution_count": 3
    }
   ],
   "metadata": {}
  },
  {
   "cell_type": "code",
   "execution_count": 4,
   "source": [
    "X = data[['mpg', 'disp', 'hp', 'wt']].values\r\n",
    "y = data['am'].values\r\n"
   ],
   "outputs": [],
   "metadata": {}
  },
  {
   "cell_type": "code",
   "execution_count": 5,
   "source": [
    "X = preprocessing.scale(X)"
   ],
   "outputs": [],
   "metadata": {}
  },
  {
   "cell_type": "code",
   "execution_count": 6,
   "source": [
    "X_train, X_test, y_train, y_test = train_test_split(X, y, test_size=0.33, random_state=17)"
   ],
   "outputs": [],
   "metadata": {}
  },
  {
   "cell_type": "code",
   "execution_count": 7,
   "source": [
    "clf = KNeighborsClassifier()\r\n",
    "clf.fit(X_train, y_train)"
   ],
   "outputs": [
    {
     "output_type": "execute_result",
     "data": {
      "text/plain": [
       "KNeighborsClassifier()"
      ]
     },
     "metadata": {},
     "execution_count": 7
    }
   ],
   "metadata": {}
  },
  {
   "cell_type": "code",
   "execution_count": 9,
   "source": [
    "y_presu = y_test ## y presuposto ##\r\n",
    "y_pred = clf.predict(X_test)\r\n",
    "\r\n",
    "print(classification_report(y_presu, y_presu))"
   ],
   "outputs": [
    {
     "output_type": "stream",
     "name": "stdout",
     "text": [
      "              precision    recall  f1-score   support\n",
      "\n",
      "           0       1.00      1.00      1.00         5\n",
      "           1       1.00      1.00      1.00         6\n",
      "\n",
      "    accuracy                           1.00        11\n",
      "   macro avg       1.00      1.00      1.00        11\n",
      "weighted avg       1.00      1.00      1.00        11\n",
      "\n"
     ]
    }
   ],
   "metadata": {}
  },
  {
   "cell_type": "code",
   "execution_count": null,
   "source": [],
   "outputs": [],
   "metadata": {}
  }
 ],
 "metadata": {
  "orig_nbformat": 4,
  "language_info": {
   "name": "python",
   "version": "3.9.0",
   "mimetype": "text/x-python",
   "codemirror_mode": {
    "name": "ipython",
    "version": 3
   },
   "pygments_lexer": "ipython3",
   "nbconvert_exporter": "python",
   "file_extension": ".py"
  },
  "kernelspec": {
   "name": "python3",
   "display_name": "Python 3.9.0 64-bit"
  },
  "interpreter": {
   "hash": "63fd5069d213b44bf678585dea6b12cceca9941eaf7f819626cde1f2670de90d"
  }
 },
 "nbformat": 4,
 "nbformat_minor": 2
}