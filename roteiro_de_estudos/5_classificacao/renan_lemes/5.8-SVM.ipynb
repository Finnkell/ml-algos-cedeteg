{
 "cells": [
  {
   "cell_type": "markdown",
   "source": [
    "# SVM - Support Vector Machine.\r\n",
    "É um algoritmo de classificação de aprendizado de máquina supervisionado, ela é um descriminador que formalmente projetado por um hiperplano separativo. É uma representação de exemplos como pontos no espaço que são mapeados de forma que os pontos de diferentes categorias seja separados por uma lacuna o mais ampla possivel alem disso SVM também pode realizar a classificação não linear.\r\n",
    "$\\newline$ O principal objetivo é fazer uma segregação, de distâncias entre os pontos mais próximos é conhecida como margem, a abordagem é selecionar um hiperplano com a margem máxima possivel entre os vetores de suporte nos conjuntos de dados.\r\n",
    "\r\n",
    "![img](https://miro.medium.com/max/671/1*TxAz4VR3Liecnnjnh5vXQA.png)\r\n",
    "\r\n",
    "### Definição.\r\n",
    "\r\n",
    "$$\\overrightarrow{w} \\cdot \\overrightarrow{x} - b = \\left\\{\\begin{matrix}\r\n",
    " -1 & \\text{primeiro vetor suport} \\\\ 0 &\\text{hiperplano} \\\\ 1 & \\text{segundo vetor suport}\r\n",
    "\\end{matrix}\\right.$$\r\n",
    "\r\n",
    "* Linear: Como mencionado anteriormente, é eficiente somente para problemas linearmente separáveis, uma vez que seu ajuste se da através da equação de uma reta. O kernel linear é definido apenas pelo produto entre duas amostra\r\n",
    "\r\n",
    "$$ k(\\overrightarrow{x_i}, \\overrightarrow{x_j}) = \\overrightarrow{x_i} \\cdot \\overrightarrow{x_j}$$\r\n",
    "\r\n",
    "* Polinomial: s kernels polinomiais popularmente utilizados em tarefas de processamento de imagens, permitem adicionar curvas aos hiperplanos. Além das amostras $\\overrightarrow{x_i}$ e $\\overrightarrow{x_j}$ o kernel polinomial também recebe o a variável $d$ que indica o seu grau, como definido pela equação:\r\n",
    "\r\n",
    "$$k(\\overrightarrow{x_i}, \\overrightarrow{x_j}) = (\\overrightarrow{x_i} \\cdot \\overrightarrow{x_j} +1 )^d$$\r\n",
    "\r\n",
    "* Função gaussiana de base radial:são recomendados quando não se tem um conhecimento prévio acerca dos dados. Esse kernel realiza uma transformação dos pontos utilizando uma função gaussiana, definida por:\r\n",
    "\r\n",
    "$$k(\\overrightarrow{x_i},\\overrightarrow{x_j}) = exp(-\\frac{||\\overrightarrow{x_i} - \\overrightarrow{x_j}||^2}{2\\sigma^2})$$"
   ],
   "metadata": {}
  },
  {
   "cell_type": "markdown",
   "source": [
    "## Pros.\r\n",
    "* Eficaz em espaços dimensionais elevados.\r\n",
    "* Ainda eficaz nos casos em que o número de dimensões é maior do que o número de amostras.\r\n",
    "* Usa um subconjunto de pontos de treinamento da função de decisão que torna a memória eficiente.\r\n",
    "* Diferentes funções do kernel podem ser especificadas para a função de decisão, o que também a torna versátil."
   ],
   "metadata": {}
  },
  {
   "cell_type": "markdown",
   "source": [
    "## Contra.\r\n",
    "* Se o números de recursos foi muito maior do que o número de amostras, evite o sobreajuste na escolha das funções do kernel e o termo de regularização é crucial.\r\n",
    "* Não fornecem estimativas de probabilidade diretamente, elassão calculadas usando validação cruzada quíntupla."
   ],
   "metadata": {}
  },
  {
   "cell_type": "markdown",
   "source": [
    "## Casos de uso.\r\n",
    "* Detecção de rosto\r\n",
    "* Categorização de texto e hipertexto\r\n",
    "* Classificação de imagens\r\n",
    "* Bioinformática\r\n",
    "* Dobra de proteína e detecção de homologia remota\r\n",
    "* Reconhecimento de caligrafia\r\n",
    "* Controle preditivo generalizado"
   ],
   "metadata": {}
  },
  {
   "cell_type": "markdown",
   "source": [
    "# Prática."
   ],
   "metadata": {}
  },
  {
   "cell_type": "code",
   "execution_count": 3,
   "source": [
    "from sklearn import datasets\r\n",
    "\r\n",
    "cancer = datasets.load_breast_cancer()"
   ],
   "outputs": [],
   "metadata": {}
  },
  {
   "cell_type": "code",
   "execution_count": 5,
   "source": [
    "print(\"Features: \", cancer.feature_names)\r\n",
    "print(\"Labels: \", cancer.target_names)\r\n"
   ],
   "outputs": [
    {
     "output_type": "stream",
     "name": "stdout",
     "text": [
      "Features:  ['mean radius' 'mean texture' 'mean perimeter' 'mean area'\n",
      " 'mean smoothness' 'mean compactness' 'mean concavity'\n",
      " 'mean concave points' 'mean symmetry' 'mean fractal dimension'\n",
      " 'radius error' 'texture error' 'perimeter error' 'area error'\n",
      " 'smoothness error' 'compactness error' 'concavity error'\n",
      " 'concave points error' 'symmetry error' 'fractal dimension error'\n",
      " 'worst radius' 'worst texture' 'worst perimeter' 'worst area'\n",
      " 'worst smoothness' 'worst compactness' 'worst concavity'\n",
      " 'worst concave points' 'worst symmetry' 'worst fractal dimension']\n",
      "Labels:  ['malignant' 'benign']\n"
     ]
    }
   ],
   "metadata": {}
  },
  {
   "cell_type": "code",
   "execution_count": 6,
   "source": [
    "cancer.data.shape"
   ],
   "outputs": [
    {
     "output_type": "execute_result",
     "data": {
      "text/plain": [
       "(569, 30)"
      ]
     },
     "metadata": {},
     "execution_count": 6
    }
   ],
   "metadata": {}
  },
  {
   "cell_type": "code",
   "execution_count": 7,
   "source": [
    "print(cancer.target)"
   ],
   "outputs": [
    {
     "output_type": "stream",
     "name": "stdout",
     "text": [
      "[0 0 0 0 0 0 0 0 0 0 0 0 0 0 0 0 0 0 0 1 1 1 0 0 0 0 0 0 0 0 0 0 0 0 0 0 0\n",
      " 1 0 0 0 0 0 0 0 0 1 0 1 1 1 1 1 0 0 1 0 0 1 1 1 1 0 1 0 0 1 1 1 1 0 1 0 0\n",
      " 1 0 1 0 0 1 1 1 0 0 1 0 0 0 1 1 1 0 1 1 0 0 1 1 1 0 0 1 1 1 1 0 1 1 0 1 1\n",
      " 1 1 1 1 1 1 0 0 0 1 0 0 1 1 1 0 0 1 0 1 0 0 1 0 0 1 1 0 1 1 0 1 1 1 1 0 1\n",
      " 1 1 1 1 1 1 1 1 0 1 1 1 1 0 0 1 0 1 1 0 0 1 1 0 0 1 1 1 1 0 1 1 0 0 0 1 0\n",
      " 1 0 1 1 1 0 1 1 0 0 1 0 0 0 0 1 0 0 0 1 0 1 0 1 1 0 1 0 0 0 0 1 1 0 0 1 1\n",
      " 1 0 1 1 1 1 1 0 0 1 1 0 1 1 0 0 1 0 1 1 1 1 0 1 1 1 1 1 0 1 0 0 0 0 0 0 0\n",
      " 0 0 0 0 0 0 0 1 1 1 1 1 1 0 1 0 1 1 0 1 1 0 1 0 0 1 1 1 1 1 1 1 1 1 1 1 1\n",
      " 1 0 1 1 0 1 0 1 1 1 1 1 1 1 1 1 1 1 1 1 1 0 1 1 1 0 1 0 1 1 1 1 0 0 0 1 1\n",
      " 1 1 0 1 0 1 0 1 1 1 0 1 1 1 1 1 1 1 0 0 0 1 1 1 1 1 1 1 1 1 1 1 0 0 1 0 0\n",
      " 0 1 0 0 1 1 1 1 1 0 1 1 1 1 1 0 1 1 1 0 1 1 0 0 1 1 1 1 1 1 0 1 1 1 1 1 1\n",
      " 1 0 1 1 1 1 1 0 1 1 0 1 1 1 1 1 1 1 1 1 1 1 1 0 1 0 0 1 0 1 1 1 1 1 0 1 1\n",
      " 0 1 0 1 1 0 1 0 1 1 1 1 1 1 1 1 0 0 1 1 1 1 1 1 0 1 1 1 1 1 1 1 1 1 1 0 1\n",
      " 1 1 1 1 1 1 0 1 0 1 1 0 1 1 1 1 1 0 0 1 0 1 0 1 1 1 1 1 0 1 1 0 1 0 1 0 0\n",
      " 1 1 1 0 1 1 1 1 1 1 1 1 1 1 1 0 1 0 0 1 1 1 1 1 1 1 1 1 1 1 1 1 1 1 1 1 1\n",
      " 1 1 1 1 1 1 1 0 0 0 0 0 0 1]\n"
     ]
    }
   ],
   "metadata": {}
  },
  {
   "cell_type": "code",
   "execution_count": 8,
   "source": [
    "from sklearn.model_selection import train_test_split\r\n",
    "\r\n",
    "X_train, X_test, y_train, y_test = train_test_split(cancer.data, cancer.target, test_size=0.3,random_state=109 )"
   ],
   "outputs": [],
   "metadata": {}
  },
  {
   "cell_type": "code",
   "execution_count": 9,
   "source": [
    "from sklearn import svm\r\n",
    "\r\n",
    "clf = svm.SVC(kernel='linear')"
   ],
   "outputs": [],
   "metadata": {}
  },
  {
   "cell_type": "code",
   "execution_count": 10,
   "source": [
    "clf.fit(X_train,y_train)"
   ],
   "outputs": [
    {
     "output_type": "execute_result",
     "data": {
      "text/plain": [
       "SVC(kernel='linear')"
      ]
     },
     "metadata": {},
     "execution_count": 10
    }
   ],
   "metadata": {}
  },
  {
   "cell_type": "code",
   "execution_count": 11,
   "source": [
    "y_pred = clf.predict(X_test)"
   ],
   "outputs": [],
   "metadata": {}
  },
  {
   "cell_type": "code",
   "execution_count": 12,
   "source": [
    "from sklearn import metrics\r\n",
    "\r\n",
    "print(\"Acurracy:\", metrics.accuracy_score(y_test,y_pred))"
   ],
   "outputs": [
    {
     "output_type": "stream",
     "name": "stdout",
     "text": [
      "Acurracy: 0.9649122807017544\n"
     ]
    }
   ],
   "metadata": {}
  },
  {
   "cell_type": "code",
   "execution_count": null,
   "source": [],
   "outputs": [],
   "metadata": {}
  }
 ],
 "metadata": {
  "orig_nbformat": 4,
  "language_info": {
   "name": "python",
   "version": "3.9.0",
   "mimetype": "text/x-python",
   "codemirror_mode": {
    "name": "ipython",
    "version": 3
   },
   "pygments_lexer": "ipython3",
   "nbconvert_exporter": "python",
   "file_extension": ".py"
  },
  "kernelspec": {
   "name": "python3",
   "display_name": "Python 3.9.0 64-bit"
  },
  "interpreter": {
   "hash": "63fd5069d213b44bf678585dea6b12cceca9941eaf7f819626cde1f2670de90d"
  }
 },
 "nbformat": 4,
 "nbformat_minor": 2
}