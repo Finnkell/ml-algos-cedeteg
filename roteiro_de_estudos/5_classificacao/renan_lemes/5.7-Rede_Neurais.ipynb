{
 "cells": [
  {
   "cell_type": "markdown",
   "source": [
    "# Redes Neurais.\r\n",
    "É um modelo computacional que se inspirada na forma como as redes biológicas no cérebro humano processam informações, basicamente é uma tentativa de replicar o comportamento dos neurônios do seu cérebro. \r\n",
    "* Destritos: responsável por captar informações;\r\n",
    "* Corpo, Soma: Responsável por processar as informações.\r\n",
    "* Axônio: Responsalvel por distribuir as informações processadas para outros neurônios ou células do corpo \r\n",
    "$\\newline$ Uma célula dificilmente trabalha sozinha, quanto mais células trabalham em um conjunto, mais informações elas podem processar e mais eficaz torna-se o trabalho, antes de falarmos dos neurônios, vamos comentar um pouco sobre regressão que é voltado a contruir um modelo: uma hipótese/predição/modelo mapeia entradas e saidas. Como exemplo vamos dizer que treinamos um modelo baseado em um monte de dados de imobiliárias que inclua tamanho da casa e o preço de venda. Ao treinar o modelo acharemos os pesos corretos para nossos neurônios, assim fornecendo uma estimativa de quanto você pode vender sua casa com base no tamanho dela. \r\n",
    "\r\n",
    "Então basicamente um neurônio artifiial é uma regressão mútipla e a unidade mais básica de uma rede naural é conhecido como nó (conhecido em grafos), tem apenas a capacidade de classificar sim ou não, é ou não é, isso é um cachorro ou não é, a classificação é dada a partir de uma regressão que recebe seus valores (de alguns neurônios ou de uma fonte externa como um dataset) e calcula a saida. Cada entrada tem um peso associado, que é atribuido com base na importância (que está sendo definido no aprendizado), assim o nó aplica a função $f$ à soma ponderada de suas entradas, assim como está abaixo:\r\n",
    "\r\n",
    "![img](https://miro.medium.com/max/568/1*i3C72-xj7u19blkPd79yLA.png)\r\n",
    "\r\n",
    "$$ Y_n = f (w_1\\cdot X_1 + w_2 \\cdot X_2 + b  + ... + w_n \\cdot X_n + b + ... + n )$$\r\n",
    "$$Y = \\sum \\text{Weight} \\cdot \\text{Inputs} +\\text{Bias}$$\r\n",
    "\r\n",
    "No final temos então nosso resultado na variável y, essa é a nossa classificação do que estamos querendo classificar como sim ou não."
   ],
   "metadata": {}
  },
  {
   "cell_type": "markdown",
   "source": [
    "## Aprofundamento.\r\n",
    "Agora nosso $Y$ pode assumir valores tanto como possitivos ou negativos, porem apenas nossa informação não informa "
   ],
   "metadata": {}
  }
 ],
 "metadata": {
  "orig_nbformat": 4,
  "language_info": {
   "name": "python",
   "version": "3.8.8"
  },
  "kernelspec": {
   "name": "python3",
   "display_name": "Python 3.8.8 64-bit ('base': conda)"
  },
  "interpreter": {
   "hash": "f763c5ae1380102371fc37b7f9e900cc55027b2a662d6fbcccf1534945890ce5"
  }
 },
 "nbformat": 4,
 "nbformat_minor": 2
}