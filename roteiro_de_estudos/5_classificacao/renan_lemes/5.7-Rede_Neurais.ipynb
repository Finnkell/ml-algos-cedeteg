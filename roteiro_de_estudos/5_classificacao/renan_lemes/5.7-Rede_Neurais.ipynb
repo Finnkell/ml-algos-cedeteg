{
 "cells": [
  {
   "cell_type": "markdown",
   "source": [
    "# Redes Neurais.\r\n",
    "É um modelo computacional que se inspirada na forma como as redes biológicas no cérebro humano processam informações, basicamente é uma tentativa de replicar o comportamento dos neurônios do seu cérebro. \r\n",
    "* Destritos: responsável por captar informações;\r\n",
    "* Corpo, Soma: Responsável por processar as informações.\r\n",
    "* Axônio: Responsalvel por distribuir as informações processadas para outros neurônios ou células do corpo \r\n",
    "$\\newline$ Uma célula dificilmente trabalha sozinha, quanto mais células trabalham em um conjunto, mais informações elas podem processar e mais eficaz torna-se o trabalho, antes de falarmos dos neurônios, vamos comentar um pouco sobre regressão que é voltado a contruir um modelo: uma hipótese/predição/modelo mapeia entradas e saidas. Como exemplo vamos dizer que treinamos um modelo baseado em um monte de dados de imobiliárias que inclua tamanho da casa e o preço de venda. Ao treinar o modelo acharemos os pesos corretos para nossos neurônios, assim fornecendo uma estimativa de quanto você pode vender sua casa com base no tamanho dela. \r\n",
    "\r\n",
    "Então basicamente um neurônio artifiial é uma regressão mútipla e a unidade mais básica de uma rede naural é conhecido como nó (conhecido em grafos), tem apenas a capacidade de classificar sim ou não, é ou não é, isso é um cachorro ou não é, a classificação é dada a partir de uma regressão que recebe seus valores (de alguns neurônios ou de uma fonte externa como um dataset) e calcula a saida. Cada entrada tem um peso associado, que é atribuido com base na importância (que está sendo definido no aprendizado), assim o nó aplica a função $f$ à soma ponderada de suas entradas, assim como está abaixo:\r\n",
    "\r\n",
    "![img](https://miro.medium.com/max/568/1*i3C72-xj7u19blkPd79yLA.png)\r\n",
    "\r\n",
    "$$ Y_n = f (w_1\\cdot X_1 + w_2 \\cdot X_2 + b  + ... + w_n \\cdot X_n + b + ... + n )$$\r\n",
    "$$Y = \\sum \\text{Weight} \\cdot \\text{Inputs} +\\text{Bias}$$\r\n",
    "\r\n",
    "No final temos então nosso resultado na variável y, essa é a nossa classificação do que estamos querendo classificar como sim ou não."
   ],
   "metadata": {}
  },
  {
   "cell_type": "markdown",
   "source": [
    "* Aprendizado supervisionado: no qual é executado um determinado estímulo para a informação à rede que determinado valor é i esperado ou não\r\n",
    "* Aprendizado por reforço: quando há algum estímulo como recompensa ou punição em caso de acertos ou falhas.\r\n",
    "* Aprendizado não supervisionado: quando não  há estimulo externo para indicar a resposta desejada.\r\n"
   ],
   "metadata": {}
  },
  {
   "cell_type": "markdown",
   "source": [
    "## Diferença entre redes neurais simples e redes neurais Deep Learning.\r\n",
    "Deep learning significa aprendizado profundo. Ná prática, as redes neurais com Deep Learning são aquelas mais complexas, desenvolvidas com inúmeras camadas ocultas e que são capazes de reconhecer padrões e aprender com seu próprios erros, enquanto a simples utiliza apenas uma camada oculta. Ou seja as redes neurais profundas são difíceis de treinar como por exemplo o reconhecimento facial de uma pessoa."
   ],
   "metadata": {}
  },
  {
   "cell_type": "markdown",
   "source": [
    "## Tipos de arquiteturas de redes neurais.\r\n",
    "* Multilayer Perceptrons.\r\n",
    "* Redes neurais Convolicionais.\r\n",
    "* Redes neurais Recorrentes.\r\n",
    "* Long Short-Tem Memory.\r\n",
    "* Redes de Hopfield.\r\n",
    "* Máquinas de Boltzmann.\r\n",
    "* Deep Belief Network.\r\n",
    "* Deep Auto-Encoders.\r\n",
    "* Generative Adversarial Network.\r\n",
    "* Deep Neural Network Capsules."
   ],
   "metadata": {}
  },
  {
   "cell_type": "markdown",
   "source": [
    "# Prática com o Perceptron."
   ],
   "metadata": {}
  },
  {
   "cell_type": "code",
   "execution_count": 40,
   "source": [
    "import numpy as np\r\n",
    "import matplotlib.pyplot as plt\r\n",
    "import math "
   ],
   "outputs": [],
   "metadata": {}
  },
  {
   "cell_type": "code",
   "execution_count": 41,
   "source": [
    "np.random.seed(42)\r\n",
    "ages = np.random.randint(low=15,high=70,size=40)\r\n",
    "ages"
   ],
   "outputs": [
    {
     "output_type": "execute_result",
     "data": {
      "text/plain": [
       "array([53, 66, 43, 29, 57, 22, 35, 53, 33, 37, 25, 25, 38, 67, 50, 54, 38,\n",
       "       17, 36, 67, 16, 38, 58, 44, 52, 16, 35, 47, 26, 36, 58, 39, 63, 41,\n",
       "       56, 42, 30, 29, 61, 65])"
      ]
     },
     "metadata": {},
     "execution_count": 41
    }
   ],
   "metadata": {}
  },
  {
   "cell_type": "code",
   "execution_count": 42,
   "source": [
    "labels = []\r\n",
    "for age in ages:\r\n",
    "    if age < 30:\r\n",
    "        labels.append(0)\r\n",
    "    else:\r\n",
    "        labels.append(1)    \r\n",
    "\r\n",
    "for _ in range(0,3):\r\n",
    "    r = np.random.randint(0,len(labels) - 1)\r\n",
    "    if labels[r] == 0:\r\n",
    "        labels[r] = 1\r\n",
    "    else:\r\n",
    "        labels[r] = 0"
   ],
   "outputs": [],
   "metadata": {}
  },
  {
   "cell_type": "code",
   "execution_count": 43,
   "source": [
    "plt.scatter(ages,labels,color='red')"
   ],
   "outputs": [
    {
     "output_type": "execute_result",
     "data": {
      "text/plain": [
       "<matplotlib.collections.PathCollection at 0x1c0e1568ee0>"
      ]
     },
     "metadata": {},
     "execution_count": 43
    },
    {
     "output_type": "display_data",
     "data": {
      "image/png": "[encoded data removed]",
      "text/plain": [
       "<Figure size 432x288 with 1 Axes>"
      ]
     },
     "metadata": {
      "needs_background": "light"
     }
    }
   ],
   "metadata": {}
  },
  {
   "cell_type": "code",
   "execution_count": 44,
   "source": [
    "\r\n",
    "\r\n",
    "def sigmoid(x):\r\n",
    "    a = []\r\n",
    "    for item in x:\r\n",
    "        a.append(1/(1+math.exp(-item)))\r\n",
    "    return a\r\n",
    "\r\n",
    "x = np.arange(-10,10,0.2)\r\n",
    "sig = sigmoid(x)\r\n",
    "\r\n",
    "plt.plot(x, sig,color='red')\r\n",
    "plt.show()"
   ],
   "outputs": [
    {
     "output_type": "display_data",
     "data": {
      "image/png": "[encoded data removed]",
      "text/plain": [
       "<Figure size 432x288 with 1 Axes>"
      ]
     },
     "metadata": {
      "needs_background": "light"
     }
    }
   ],
   "metadata": {}
  },
  {
   "cell_type": "markdown",
   "source": [
    "## Classificador Sigmóide."
   ],
   "metadata": {}
  },
  {
   "cell_type": "code",
   "execution_count": 50,
   "source": [
    "from sklearn.linear_model import LogisticRegression\r\n",
    "\r\n",
    "model = LogisticRegression()\r\n",
    "model.fit(ages.reshape(-1,1),labels)\r\n",
    "\r\n",
    "m = model.coef_[0][0]\r\n",
    "b = model.intercept_[0]\r\n",
    "\r\n",
    "x = np.arange(0,70,0.1)\r\n",
    "sig = sigmoid(m*x +b)\r\n",
    "limiar_idade = abs(b/m)\r\n",
    "\r\n",
    "plt.scatter(ages, labels, color='red')\r\n",
    "plt.plot([limiar_idade,limiar_idade], [0,0.5], '--',color='green')\r\n",
    "plt.plot(x, sig)\r\n",
    "plt.show()"
   ],
   "outputs": [
    {
     "output_type": "display_data",
     "data": {
      "image/png": "[encoded data removed]",
      "text/plain": [
       "<Figure size 432x288 with 1 Axes>"
      ]
     },
     "metadata": {
      "needs_background": "light"
     }
    }
   ],
   "metadata": {}
  },
  {
   "cell_type": "markdown",
   "source": [
    "$$y = \\frac{1}{1+ e^{-mx +b}} $$\r\n",
    "* $m$ é o peso da rede neural.\r\n",
    "* $b$ é o bias."
   ],
   "metadata": {}
  }
 ],
 "metadata": {
  "orig_nbformat": 4,
  "language_info": {
   "name": "python",
   "version": "3.9.0",
   "mimetype": "text/x-python",
   "codemirror_mode": {
    "name": "ipython",
    "version": 3
   },
   "pygments_lexer": "ipython3",
   "nbconvert_exporter": "python",
   "file_extension": ".py"
  },
  "kernelspec": {
   "name": "python3",
   "display_name": "Python 3.9.0 64-bit"
  },
  "interpreter": {
   "hash": "63fd5069d213b44bf678585dea6b12cceca9941eaf7f819626cde1f2670de90d"
  }
 },
 "nbformat": 4,
 "nbformat_minor": 2
}