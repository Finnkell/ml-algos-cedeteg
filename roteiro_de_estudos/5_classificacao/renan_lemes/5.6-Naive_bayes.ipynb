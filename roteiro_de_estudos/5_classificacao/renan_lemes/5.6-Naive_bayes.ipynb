{
 "cells": [
  {
   "cell_type": "markdown",
   "source": [
    "# Naive bayes.\r\n",
    "É a técnica simples para contruir classificadores: modelos que atribuem rótulos de classea instâncias do problema, representados como vetores de valores de recursos, onde rótulos de classes são extraidos de algum conjunto finito. Não existe um unico algoritmo para treinar tais classificadores, mas uma familia de algoritmos baseados em um principio comum: todos os classificadores Bayes assumem que o valor de um recurso particular é independente do valor de qualquer outro recurso, dada a variável de classe. Como exemplo, uma fruta pode ser considerada maçã se for vermelha, redonda se tiver cerca de 10cm de diâmetro, o classificador Bayes considera cada uma dessas caracteristicas para contrubuir de forma independente para a probabilidade de que esta fruta seja uma maçã independente de possivel correlação entre as caracteristicas de cor, circularidade e diâmetro. Aonde são encontrados casos de naive Bayes:\r\n",
    "* Detecção de Span.\r\n",
    "* Classificação de usuários.\r\n",
    "* Predição de risco de crédito\r\n",
    "* Predição de risco a saude.\r\n",
    "\r\n",
    "![img](https://nicolovaligi.com/articles/naive-bayes-tensorflow/tf_iris.png)"
   ],
   "metadata": {}
  },
  {
   "cell_type": "markdown",
   "source": [
    "## Guassian Naive Bayes.\r\n",
    "É lidar com dados continuos, uma suposição típica é que os valores contínuos associados a cada classe são distribuidos de acordo com a distribuição normal, suponha que os dados de treinamentos contenham um atributo continuo x, os dados são primeiros segmentados pela classe $C_k$ e deixe a variância $\\sigma$.\r\n",
    "$\\newline$ Uma abordagem para criar o modelo é assumir que os daods são descritivos por uma distribuição Gaussuana sem covariância (dimensões independentes), esse modelo  pode ser ajustado simplesmente encontrando a média e desvio padrão dos pontos dentro de cada rótulo.\r\n",
    "\r\n",
    "![img](https://iq.opengenus.org/content/images/2020/02/Illustration-of-how-a-Gaussian-Naive-Bayes-GNB-classifier-works-For-each-data-point.png)\r\n",
    "\r\n",
    "$$p(x = v| C_k) = \\frac{1}{\\sqrt{2\\pi \\sigma^2_k}} \\cdot e^{-\\frac{(v-p_k)^2}{2\\sigma^2_k}}$$\r\n",
    "\r\n",
    "* É boa para as previsões recursos normamente distribuidos."
   ],
   "metadata": {}
  },
  {
   "cell_type": "markdown",
   "source": [
    "## Bernoulli Naive Bayes.\r\n",
    "Nesse algoritmo se baseia numa base de dados de acordo com a distribuição multivariada de Bernoulli, que é composta por diversas features, nas quais são valores binários, ou seja, podem assumir dentre dois valores possíveis. Se alguma feature não for composta por valores binários, \"BernoulliNB()\" vai transformar as features compostas por valores binários dependedo do parâmetro binarize.\r\n",
    "$\\newline$ Este tipo de classificador pode ser útil quando uma palavra indesejada gostaria de ser detectada ou um tipo específico de palavra gostaria de ser marcado em um determinado documento.\r\n",
    "\r\n",
    "$$P(x_i | y) = P(i|y) x_i + (1-P(i|y))(1-x_i)$$\r\n",
    "\r\n",
    "Se repararmos existe uma penalidade no caso de não ocorrência de feature i.\r\n",
    "\r\n",
    "* É bom para fazer previsões a partir de caracteristicas binárias "
   ],
   "metadata": {}
  },
  {
   "cell_type": "markdown",
   "source": [
    "# Prática."
   ],
   "metadata": {}
  },
  {
   "cell_type": "code",
   "execution_count": 11,
   "source": [
    "import pandas as pd\r\n",
    "import numpy as np\r\n",
    "import urllib\r\n",
    "import sklearn\r\n",
    "from sklearn.naive_bayes import BernoulliNB\r\n",
    "from sklearn.naive_bayes import GaussianNB\r\n",
    "from sklearn.naive_bayes import MultinomialNB\r\n",
    "from sklearn.model_selection import train_test_split\r\n",
    "from sklearn.metrics import accuracy_score\r\n"
   ],
   "outputs": [],
   "metadata": {}
  },
  {
   "cell_type": "code",
   "execution_count": 13,
   "source": [
    "url = \"https://archive.ics.uci.edu/ml/machine-learning-databases/spambase/spambase.data\"\r\n",
    "data = urllib.request.urlopen(url)\r\n",
    "datas = np.loadtxt(data,delimiter=\",\")"
   ],
   "outputs": [],
   "metadata": {}
  },
  {
   "cell_type": "code",
   "execution_count": 23,
   "source": [
    "print(datas[0])"
   ],
   "outputs": [
    {
     "output_type": "stream",
     "name": "stdout",
     "text": [
      "[  0.      0.64    0.64    0.      0.32    0.      0.      0.      0.\n",
      "   0.      0.      0.64    0.      0.      0.      0.32    0.      1.29\n",
      "   1.93    0.      0.96    0.      0.      0.      0.      0.      0.\n",
      "   0.      0.      0.      0.      0.      0.      0.      0.      0.\n",
      "   0.      0.      0.      0.      0.      0.      0.      0.      0.\n",
      "   0.      0.      0.      0.      0.      0.      0.778   0.      0.\n",
      "   3.756  61.    278.      1.   ]\n"
     ]
    }
   ],
   "metadata": {}
  },
  {
   "cell_type": "code",
   "execution_count": 27,
   "source": [
    "X = datas[:,:48]\r\n",
    "\r\n",
    "y = datas[:,-1]"
   ],
   "outputs": [],
   "metadata": {}
  },
  {
   "cell_type": "code",
   "execution_count": 28,
   "source": [
    "X_train, X_test, y_train, y_test = train_test_split(X, y, test_size=.33, random_state=17)"
   ],
   "outputs": [],
   "metadata": {}
  },
  {
   "cell_type": "code",
   "execution_count": 31,
   "source": [
    "GausNB = GaussianNB().fit(X_train, y_train)\r\n",
    "\r\n",
    "y_pred = GausNB.predict(X_test)\r\n",
    "print(accuracy_score(y_test, y_pred))"
   ],
   "outputs": [
    {
     "output_type": "stream",
     "name": "stdout",
     "text": [
      "0.8130348913759052\n"
     ]
    }
   ],
   "metadata": {}
  },
  {
   "cell_type": "code",
   "execution_count": 33,
   "source": [
    "BernNB = BernoulliNB(binarize=True).fit(X_train, y_train)\r\n",
    "\r\n",
    "y_pred = BernNB.predict(X_test)\r\n",
    "print(accuracy_score(y_test, y_pred))"
   ],
   "outputs": [
    {
     "output_type": "stream",
     "name": "stdout",
     "text": [
      "0.8558262014483212\n"
     ]
    }
   ],
   "metadata": {}
  },
  {
   "cell_type": "code",
   "execution_count": 34,
   "source": [
    "BernNB = BernoulliNB(binarize=.1).fit(X_train, y_train)\r\n",
    "\r\n",
    "y_pred = BernNB.predict(X_test)\r\n",
    "print(accuracy_score(y_test, y_pred))"
   ],
   "outputs": [
    {
     "output_type": "stream",
     "name": "stdout",
     "text": [
      "0.8953258722843976\n"
     ]
    }
   ],
   "metadata": {}
  }
 ],
 "metadata": {
  "orig_nbformat": 4,
  "language_info": {
   "name": "python",
   "version": "3.9.0",
   "mimetype": "text/x-python",
   "codemirror_mode": {
    "name": "ipython",
    "version": 3
   },
   "pygments_lexer": "ipython3",
   "nbconvert_exporter": "python",
   "file_extension": ".py"
  },
  "kernelspec": {
   "name": "python3",
   "display_name": "Python 3.9.0 64-bit"
  },
  "interpreter": {
   "hash": "63fd5069d213b44bf678585dea6b12cceca9941eaf7f819626cde1f2670de90d"
  }
 },
 "nbformat": 4,
 "nbformat_minor": 2
}