{
 "cells": [
  {
   "cell_type": "markdown",
   "source": [
    "# Naive bayes.\r\n",
    "É a técnica simples para contruir classificadores: modelos que atribuem rótulos de classea instâncias do problema, representados como vetores de valores de recursos, onde rótulos de classes são extraidos de algum conjunto finito. Não existe um unico algoritmo para treinar tais classificadores, mas uma familia de algoritmos baseados em um principio comum: todos os classificadores Bayes assumem que o valor de um recurso particular é independente do valor de qualquer outro recurso, dada a variável de classe. Como exemplo, uma fruta pode ser considerada maçã se for vermelha, redonda se tiver cerca de 10cm de diâmetro, o classificador Bayes considera cada uma dessas caracteristicas para contrubuir de forma independente para a probabilidade de que esta fruta seja uma maçã independente de possivel correlação entre as caracteristicas de cor, circularidade e diâmetro.\r\n"
   ],
   "metadata": {}
  },
  {
   "cell_type": "markdown",
   "source": [
    "## Guassian Naive Bayes.\r\n",
    "É lidar com dados continuos, uma suposição típica é que os valores contínuos associados a cada classe são distribuidos de acordo com a distribuição normal \r\n",
    "\r\n",
    "$$p()$$\r\n",
    "\r\n",
    "* É boa para as previsões recursos normamente distribuidos."
   ],
   "metadata": {}
  },
  {
   "cell_type": "markdown",
   "source": [
    "## Bernoulli Naive Bayes.\r\n",
    "Nesse algoritmo se baseia numa base de dados de acordo com a distribuição multivariada de Bernoulli, que é composta por diversas features, nas quais são valores binários, ou seja, podem assumir dentre dois valores possíveis. Se alguma feature não for composta por valores binários, \"BernoulliNB()\" vai transformar as features compostas por valores binários dependedo do parâmetro binarize.\r\n",
    "$$P(x_i | y) = P(i|y) x_i + (1-P(i|y))(1-x_i)$$\r\n",
    "Se repararmos existe uma penalidade no caso de não ocorrência de feature i.\r\n",
    "\r\n",
    "* É bom para fazer previsões a partir de caracteristicas binárias "
   ],
   "metadata": {}
  },
  {
   "cell_type": "markdown",
   "source": [
    "# Prática."
   ],
   "metadata": {}
  }
 ],
 "metadata": {
  "orig_nbformat": 4,
  "language_info": {
   "name": "python",
   "version": "3.8.8",
   "mimetype": "text/x-python",
   "codemirror_mode": {
    "name": "ipython",
    "version": 3
   },
   "pygments_lexer": "ipython3",
   "nbconvert_exporter": "python",
   "file_extension": ".py"
  },
  "kernelspec": {
   "name": "python3",
   "display_name": "Python 3.8.8 64-bit"
  },
  "interpreter": {
   "hash": "f763c5ae1380102371fc37b7f9e900cc55027b2a662d6fbcccf1534945890ce5"
  }
 },
 "nbformat": 4,
 "nbformat_minor": 2
}