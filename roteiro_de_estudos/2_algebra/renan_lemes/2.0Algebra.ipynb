{
 "cells": [
  {
   "cell_type": "markdown",
   "source": [
    "# 2.0 Algebra\r\n",
    "\r\n",
    "## Matrizes e Vetores.\r\n",
    "Vetores podem ser intendido como pontos no espaço e podemos representar os dados usando vetores,exemplo os dados que representam um apartamento, as notas de um aluno, os valores que compõem o preço de um produto, entre outros, podem ser armazenados em um vetor.  "
   ],
   "metadata": {}
  },
  {
   "cell_type": "markdown",
   "source": [
    "Adicionar a informação do valor do apartamento, teremos um vetor com dois eixos:"
   ],
   "metadata": {}
  },
  {
   "cell_type": "markdown",
   "source": [
    "Se continuarmos incluindo mais uma informação como a quantidade de quartos, teremos um vetor três eixos:"
   ],
   "metadata": {}
  },
  {
   "cell_type": "code",
   "execution_count": null,
   "source": [
    "apto = np.array[67]"
   ],
   "outputs": [],
   "metadata": {}
  },
  {
   "cell_type": "code",
   "execution_count": null,
   "source": [
    "apto = np.array([67, 250, 2])"
   ],
   "outputs": [],
   "metadata": {}
  },
  {
   "cell_type": "markdown",
   "source": [
    "![img](http://www.sakurai.dev.br/images/posts/2019-06-21-revisao-algebra-linear-python-01.png)"
   ],
   "metadata": {}
  },
  {
   "cell_type": "code",
   "execution_count": null,
   "source": [],
   "outputs": [],
   "metadata": {}
  },
  {
   "cell_type": "markdown",
   "source": [
    "## Métodos ulilizados. "
   ],
   "metadata": {}
  },
  {
   "cell_type": "code",
   "execution_count": null,
   "source": [
    "x = np.array([1, 2, 3, 4])\r\n",
    "x.sum() # soma dos valores do vetor = 10\r\n",
    "x.min() # menor valor do vetor = 1\r\n",
    "x.max() # maior valor do vetor = 4"
   ],
   "outputs": [],
   "metadata": {}
  },
  {
   "cell_type": "markdown",
   "source": [
    "# 2.1 Álgebra matricial."
   ],
   "metadata": {}
  },
  {
   "cell_type": "markdown",
   "source": [
    "## Soma de vetores.\r\n",
    "Dois a dois vetores podem ser somados e para isso é calculado a soma de cada elemento nas mesmas posições do vetor.\r\n",
    "Quando temos um um vetor com valores de almoço e outro vetores de gorjetas, podemos somar os dois vetores para obter o valor total de cada refeição."
   ],
   "metadata": {}
  },
  {
   "cell_type": "code",
   "execution_count": null,
   "source": [
    "x = np.array([1, 2, 3, 4])\r\n",
    "y = np.array([5, 6, 7, 8])\r\n",
    "soma = x + y  \r\n",
    "#soma = [6, 8, 10, 12]"
   ],
   "outputs": [],
   "metadata": {}
  },
  {
   "cell_type": "markdown",
   "source": [
    "## Soma escalar \r\n",
    "Támbem é possivel fazer a soma escalar no vetor,então um valor é somado a cada elemento do vetor. Suponhamos que um conjunto de médias de notas dos alunos, e professor bonzinho resolve dar 0.5 para cada aluno."
   ],
   "metadata": {}
  },
  {
   "cell_type": "code",
   "execution_count": null,
   "source": [
    "notas = np.array([6.5, 8.0, 7.5, 4.5, 9.0, 6.5, 6.0, 5.5, 7.0, 8.0, 6.5, 7.5])\r\n",
    "soma = notas + 0.5  #[7.0, 8.5, 8.0, 5.0, 9.5, 7.0, 6.5, 6.0, 7.5, 8.5, 7.0, 8.0]"
   ],
   "outputs": [],
   "metadata": {}
  },
  {
   "cell_type": "markdown",
   "source": [
    "## Operações com Numpy.\r\n",
    "Com o novo vetor de notas, queremos saber quais os alunos obtiveram nota maior ou igual a 7.0 e foram aprovados. Para isso, podemos aplicar uma comparação a cada elemento do vetor."
   ],
   "metadata": {}
  },
  {
   "cell_type": "code",
   "execution_count": null,
   "source": [
    "aprovados = soma >= 7.0\r\n",
    "# o resultado é um vetor de booleanos: \r\n",
    "# array([True, True, True, False, True, True, False, False, True, True, True, True], dtype=bool) \r\n",
    "# que indica com True as notas que são maior ou igual a 7,0 e False as notas menores que 7,0."
   ],
   "outputs": [],
   "metadata": {}
  },
  {
   "cell_type": "markdown",
   "source": [
    "E contar quantos valores são True, portanto tem nota maior ou igual a 7,0:"
   ],
   "metadata": {}
  },
  {
   "cell_type": "code",
   "execution_count": null,
   "source": [
    "qtdAprovados = sum(soma >= 7.0) \r\n",
    "#qtdAprovados = 9"
   ],
   "outputs": [],
   "metadata": {}
  },
  {
   "cell_type": "markdown",
   "source": [
    "## Multiplicação de vetores.\r\n",
    "Dois ou mais vetores podem se multiplicados e para isso é calculado a multiplicação de cada elementonas mesmas posições do vetor."
   ],
   "metadata": {}
  },
  {
   "cell_type": "code",
   "execution_count": null,
   "source": [
    "valores = np.array([18.0, 16.5, 17.0, 19.5, 18.5])"
   ],
   "outputs": [],
   "metadata": {}
  },
  {
   "cell_type": "markdown",
   "source": [
    "## Produto escalar de vetores.\r\n",
    "$$\\sum^{n-1}_{i=0} x_i \\cdot y_i  = x_0 \\cdot y_0 + x_1 \\cdot y_i + ... + x_n \\cdot y_n$$"
   ],
   "metadata": {}
  },
  {
   "cell_type": "markdown",
   "source": [
    "sendo x e y, dois vetores de tamanho iguais e n o tamanho dos vetores, o produto escalar é a somatória da multiplicação de dois vetores."
   ],
   "metadata": {}
  },
  {
   "cell_type": "code",
   "execution_count": null,
   "source": [
    "x = np.array([1, 2, 3, 4])\r\n",
    "y = np.array([5, 6, 7, 8])\r\n",
    "escalar = np.dot(x, y)  \r\n",
    "#escalar  = 70  5*1 + 2*6 + 3*7 + 4*8 #"
   ],
   "outputs": [],
   "metadata": {}
  },
  {
   "cell_type": "markdown",
   "source": [
    "* Obs: para calcular a soma dos quadrados de um vetor, também podemos usar o produto escalar."
   ],
   "metadata": {}
  },
  {
   "cell_type": "markdown",
   "source": [
    "$$\\sum^{n-1}_{i=0} x^2_{i} = x_0 \\cdot x_0 + x_1 \\cdot x_1 + ... + x_n \\cdot x_n $$"
   ],
   "metadata": {}
  },
  {
   "cell_type": "code",
   "execution_count": null,
   "source": [
    "x = np.array([1, 2, 3, 4])\r\n",
    "escalar = np.dot(x, x)  \r\n",
    "# escalar =1*1 + 2*2 + 3*3 + 4*4 = 30 #"
   ],
   "outputs": [],
   "metadata": {}
  },
  {
   "cell_type": "markdown",
   "source": [
    "## Matrizes. \r\n",
    "Ela é formada por um conjunto de vetores, normalmente representada em maiúculo, como $ M[m][n] $ que tem $ m $ linhas e $n$ colunas"
   ],
   "metadata": {}
  },
  {
   "cell_type": "code",
   "execution_count": null,
   "source": [
    "M = np.matrix([[1, 2, 3, 4],\r\n",
    "               [5, 6, 7, 8]])\r\n",
    "#M[2][4]#               "
   ],
   "outputs": [],
   "metadata": {}
  },
  {
   "cell_type": "markdown",
   "source": [
    "Ou seja.\r\n",
    "$$\\begin{bmatrix}\r\n",
    "1  & 2 & 3 & 4\\\\ \r\n",
    "5 & 6 & 7 & 8\r\n",
    "\\end{bmatrix}$$"
   ],
   "metadata": {}
  },
  {
   "cell_type": "markdown",
   "source": [
    "## Soma de matrizes."
   ],
   "metadata": {}
  },
  {
   "cell_type": "code",
   "execution_count": null,
   "source": [
    "A = np.matrix([[1, 2, 3, 4], \r\n",
    "               [5, 6, 7, 8]])\r\n",
    "B = np.matrix([[1, 2, 3, 4], \r\n",
    "               [5, 6, 7, 8]])\r\n",
    "\r\n",
    "SOMA = A + B\r\n",
    "#  SOMA =  [[ 2,  4,  6,  8],\r\n",
    "#           [10, 12, 14, 16]]"
   ],
   "outputs": [],
   "metadata": {}
  },
  {
   "cell_type": "markdown",
   "source": [
    "## Transposta."
   ],
   "metadata": {}
  },
  {
   "cell_type": "code",
   "execution_count": null,
   "source": [
    "A = np.matrix([[1, 2, 3, 4], \r\n",
    "               [5, 6, 7, 8]])\r\n",
    "A.T    #      [[1, 5],\r\n",
    "       #       [2, 6],\r\n",
    "       #A.T =  [3, 7],\r\n",
    "       #       [4, 8]]"
   ],
   "outputs": [],
   "metadata": {}
  },
  {
   "cell_type": "markdown",
   "source": [
    "## Multiplicação de matrizes.\r\n",
    "Para multiplicar duas matrizes é necessário que uma matriz A tenha dimensão m x n enquanto que a matriz B tenha a dimensão n x m, como resultado temos uma matriz de dimensão m x m."
   ],
   "metadata": {}
  },
  {
   "cell_type": "code",
   "execution_count": null,
   "source": [
    "A = np.matrix([[1, 2, 3, 4], \r\n",
    "               [5, 6, 7, 8]])\r\n",
    "B = np.matrix([[1, 2],\r\n",
    "               [3, 4], \r\n",
    "               [5, 6],\r\n",
    "               [7, 8]])\r\n",
    "mult = A * B  # mult = [[ 50,  60],\r\n",
    "              #         [114, 140]]"
   ],
   "outputs": [],
   "metadata": {}
  },
  {
   "cell_type": "markdown",
   "source": [
    "## 2.2 Distância entre vetores.\r\n",
    "![img](http://www.sakurai.dev.br/images/posts/2019-06-21-revisao-algebra-linear-python-04.png)\r\n",
    "\r\n",
    "Na imagem temos o vetor [1,4] (quadrado verde) e um vetor [2,1] (quadrado azul). Temos um novo vetor [4,2] (triângulo vermelho), mas gostaríamos de classificar este novo vetor como quadrado verde ou azul. Para isso podemos verificar qual o quadrado mais próximo e usar a mesma cor, mas qual quadrado está mais perto do triângulo?\r\n",
    "\r\n"
   ],
   "metadata": {}
  },
  {
   "cell_type": "markdown",
   "source": [
    "![img](http://www.sakurai.dev.br/images/posts/2019-06-21-revisao-algebra-linear-python-05.png)"
   ],
   "metadata": {}
  },
  {
   "cell_type": "markdown",
   "source": [
    "* A distância mais conhecida para calcular é chamada de distância Euclidiana, que é dada pela equação.\r\n",
    "$$\\sqrt{\\sum^{n-1}_{i=0}} (a_i - b_i)^2 $$\r\n",
    "Utilizando a distância Euclidiana entre o quadrado verde e o triângulo vermelho é.\r\n",
    "$$\\sqrt{(1-4)^2 + (4-2)^2} = \\sqrt{9+4} = \\sqrt{13} = 3.6$$\r\n",
    "E para o quadrado azul e o triângulo vermelho.\r\n",
    "$$\\sqrt{(2-4)^2 + (1-2)^2} = \\sqrt{4+1} = 2.2$$\r\n",
    "Por tanto sabemos a menor das distâncias."
   ],
   "metadata": {}
  },
  {
   "cell_type": "code",
   "execution_count": null,
   "source": [
    "qv = np.array([1,4])    # Quadrado verde #\r\n",
    "qa = np.array([2,1])    # Quadrado azul #\r\n",
    "tv = np.array([4,2])    # Triângulo vermelho #\r\n",
    "\r\n",
    "\r\n",
    "\r\n",
    "distanciaQuadradoVerde = np.sqrt(sum((qv - tv) ** 2)) #3.6055\r\n",
    "distanciaQuadradoAzul  = np.sqrt(sum((qa - tv) ** 2)) #2.2360"
   ],
   "outputs": [],
   "metadata": {}
  }
 ],
 "metadata": {
  "orig_nbformat": 4,
  "language_info": {
   "name": "python",
   "version": "3.8.11",
   "mimetype": "text/x-python",
   "codemirror_mode": {
    "name": "ipython",
    "version": 3
   },
   "pygments_lexer": "ipython3",
   "nbconvert_exporter": "python",
   "file_extension": ".py"
  },
  "kernelspec": {
   "name": "python3",
   "display_name": "Python 3.8.11 64-bit ('base': conda)"
  },
  "interpreter": {
   "hash": "f763c5ae1380102371fc37b7f9e900cc55027b2a662d6fbcccf1534945890ce5"
  }
 },
 "nbformat": 4,
 "nbformat_minor": 2
}