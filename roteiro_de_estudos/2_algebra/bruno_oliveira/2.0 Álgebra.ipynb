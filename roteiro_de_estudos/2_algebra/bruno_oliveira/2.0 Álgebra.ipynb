{
 "cells": [
  {
   "cell_type": "markdown",
   "metadata": {},
   "source": [
    "# Álgebra"
   ]
  },
  {
   "cell_type": "markdown",
   "metadata": {},
   "source": [
    "## 2.1 - Matrizes e vetores"
   ]
  },
  {
   "cell_type": "markdown",
   "metadata": {},
   "source": [
    "### Teoria"
   ]
  },
  {
   "cell_type": "markdown",
   "metadata": {},
   "source": [
    "### Vetores:\n",
    "Um vetor é um ponto no espaço, ou seja, podemos ter um vetor de diversas dimensões, um exemplo é um vetor de 3 dimensões que terá exatamente 3 coordenadas (x,y,z). A imagem abaixo exemplifica vetores de dimensões diferentes:\n",
    "\n",
    "<img src=\"http://www.sakurai.dev.br/images/posts/2019-06-21-revisao-algebra-linear-python-01.png\"></img>"
   ]
  },
  {
   "cell_type": "markdown",
   "metadata": {},
   "source": [
    "### Matrizes:\n",
    "Uma matriz é um vetor de mais de uma dimensão, ou seja, ela é formada por um conjunto de vetores. É definida por linhas e colunas, nesta ordem: $M[linhas, colunas]$. A imagem abaixo mostra a definição de uma matriz:\n",
    "\n",
    "<img src=\"http://s3-sa-east-1.amazonaws.com/descomplica-blog/wp-content/uploads/2015/08/matriz.png\"></img>"
   ]
  },
  {
   "cell_type": "markdown",
   "metadata": {},
   "source": [
    "## 2.2 - Álgebra matricial"
   ]
  },
  {
   "cell_type": "markdown",
   "metadata": {},
   "source": [
    "### Prática"
   ]
  },
  {
   "cell_type": "markdown",
   "metadata": {},
   "source": [
    "### Vetores:\n",
    "Temos algumas operações com vetores, tais como: a soma de vetores, a subtração de vetores, o produto escalar, etc. Abaixo estão definidas estas operações:\n",
    "\n",
    "* **Adição:** temos a propriedade da adição utilizando vetores.\n",
    "\n",
    "Exemplo: Temos os seguintes vetores: $\\vec{w} = \\vec{u} + \\vec{v}$. E a sua soma é a seguinte: $\\vec{w} = (u_{x} + v_{x}, u_{y} + v_{y})$"
   ]
  },
  {
   "cell_type": "code",
   "execution_count": 3,
   "metadata": {},
   "outputs": [
    {
     "name": "stdout",
     "output_type": "stream",
     "text": [
      "A soma do vetor v ([3 5 2]) é: 10\n",
      "A soma dos vetores u ([3 5 2]) e v ([5 0 1]) é: [8 5 3]\n"
     ]
    }
   ],
   "source": [
    "import numpy as np\n",
    "v = np.array([3, 5, 2])\n",
    "print(f'A soma do vetor v ({v}) é: {v.sum()}')\n",
    "\n",
    "# ou\n",
    "\n",
    "u = np.array([3, 5, 2])\n",
    "v = np.array([5, 0, 1])\n",
    "w = u + v\n",
    "print(f'A soma dos vetores u ({u}) e v ({v}) é: {w}')"
   ]
  },
  {
   "cell_type": "markdown",
   "metadata": {},
   "source": [
    "* **Subtração:** assim como a soma, também temos a propriedade da subtração utilizando vetores.\n",
    "\n",
    "Exemplo:\n",
    "Temos os seguintes vetores: $\\vec{w} = \\vec{u} - \\vec{v}$. E a sua subtração é a seguinte: $\\vec{w} = (u_{x} - v_{x}, u_{y} - v_{y})$"
   ]
  },
  {
   "cell_type": "code",
   "execution_count": 4,
   "metadata": {},
   "outputs": [
    {
     "name": "stdout",
     "output_type": "stream",
     "text": [
      "A subtração dos vetores u ([1 8 4]) e v ([3 5 2]) é: [-2  3  2]\n"
     ]
    }
   ],
   "source": [
    "u = np.array([1, 8, 4])\n",
    "v = np.array([3, 5, 2])\n",
    "w = u - v\n",
    "print(f'A subtração dos vetores u ({u}) e v ({v}) é: {w}')"
   ]
  },
  {
   "cell_type": "markdown",
   "metadata": {},
   "source": [
    "### Matrizes:\n",
    "Assim como os vetores, também podemos fazer operações com as matrizes:\n",
    "* **Soma:** é aplicado a propriedade da adição sobre as matrizes, de maneira em que é somado matrizes de mesma dimensão, onde cada valor é somado com o seu correspondente em linhas e colunas.\n",
    "\n",
    "Ex:\n",
    "* $\\begin{bmatrix}\n",
    "1 & 3\\\\ \n",
    "2 & 0\n",
    "\\end{bmatrix}\n",
    "+\n",
    "\\begin{bmatrix}\n",
    "2 & 0\\\\ \n",
    "2 & 1\n",
    "\\end{bmatrix}\n",
    "=\n",
    "\\begin{bmatrix}\n",
    "3 & 3\\\\ \n",
    "4 & 1\n",
    "\\end{bmatrix}$"
   ]
  },
  {
   "cell_type": "code",
   "execution_count": 37,
   "metadata": {},
   "outputs": [
    {
     "name": "stdout",
     "output_type": "stream",
     "text": [
      "m1 = \t[1 3]\n",
      "\t[2 0]\n",
      "\n",
      "m2 = \t[2 0]\n",
      "\t[2 1]\n",
      "\n",
      "soma = \t[3 3]\n",
      "\t[4 1]\n"
     ]
    }
   ],
   "source": [
    "m1 = np.array([[1,3], [2,0]])\n",
    "m2 = np.array([[2,0],[2,1]])\n",
    "m = m1 + m2\n",
    "print(f'm1 = \\t{m1[0]}\\n\\t{m1[1]}\\n')\n",
    "print(f'm2 = \\t{m2[0]}\\n\\t{m2[1]}\\n')\n",
    "print(f'soma = \\t{m[0]}\\n\\t{m[1]}')"
   ]
  },
  {
   "cell_type": "markdown",
   "metadata": {},
   "source": [
    "* **Multiplicação por um número real:** é uma matriz obtida através da multiplicação de cada elemento da matriz por um número real.\n",
    "\n",
    "Ex:\n",
    "\n",
    "* $A = \\begin{bmatrix}\n",
    "1 & 2 \\\\ \n",
    "1 & 0  \n",
    "\\end{bmatrix}\n",
    ",\n",
    "2.A = \\begin{bmatrix}\n",
    "2.1 & 2.2 \\\\ \n",
    "2.1 & 2.0 \n",
    "\\end{bmatrix}\n",
    "=\n",
    "\\begin{bmatrix}\n",
    "2 & 4\\\\ \n",
    "2 & 0\n",
    "\\end{bmatrix}$"
   ]
  },
  {
   "cell_type": "code",
   "execution_count": 42,
   "metadata": {},
   "outputs": [
    {
     "name": "stdout",
     "output_type": "stream",
     "text": [
      "A = \t[1 2]\n",
      "\t[1 0]\n",
      "\n",
      "2.A = \t[2 4]\n",
      "\t[2 0]\n"
     ]
    }
   ],
   "source": [
    "a = np.array([[1,2],[1,0]])\n",
    "mult = 2 * a\n",
    "print(f'A = \\t{a[0]}\\n\\t{a[1]}\\n')\n",
    "print(f'2.A = \\t{mult[0]}\\n\\t{mult[1]}')"
   ]
  },
  {
   "cell_type": "markdown",
   "metadata": {},
   "source": [
    "* **Transposta:** é a matriz obtida através da inversão de linhas por colunas.\n",
    "\n",
    "Ex:\n",
    "* $\n",
    "\\begin{bmatrix}\n",
    "1 & 2\\\\ \n",
    "0 & 3\\\\ \n",
    "2 & 4\n",
    "\\end{bmatrix}_{3x2}\n",
    "=\n",
    "\\begin{bmatrix}\n",
    "1 & 0 & 2\\\\ \n",
    "2 & 3 & 4\n",
    "\\end{bmatrix}_{2x3}\n",
    "$"
   ]
  },
  {
   "cell_type": "code",
   "execution_count": 51,
   "metadata": {},
   "outputs": [
    {
     "name": "stdout",
     "output_type": "stream",
     "text": [
      "m = \t[1 2]\n",
      "\t[0 3]\n",
      "\t[2 4] (3, 2)\n",
      "\n",
      "T = \t[1 0 2]\n",
      "\t[2 3 4] (2, 3)\n"
     ]
    }
   ],
   "source": [
    "m = np.array([[1,2],[0,3],[2,4]])\n",
    "t = m.T\n",
    "print(f'm = \\t{m[0]}\\n\\t{m[1]}\\n\\t{m[2]} {m.shape}\\n')\n",
    "print(f'T = \\t{t[0]}\\n\\t{t[1]} {t.shape}')"
   ]
  },
  {
   "cell_type": "markdown",
   "metadata": {},
   "source": [
    "## 2.3 - Distâncias e produto interno"
   ]
  },
  {
   "cell_type": "markdown",
   "metadata": {},
   "source": [
    "* **Distância:** para calcular a distância entre vetores, podemos usar a distância Euclidiana. Essa distância é dada pela seguinte equação:\n",
    "* $\\sqrt{\\sum_{i=0}^{n-1}(a_{i} - b_{i})^{2}}$\n",
    "\n",
    "Exemplo:\n",
    "Temos os seguintes vetores: $\\vec{u}$ e $\\vec{v}$ com as seguintes coordenadas: $\\vec{u}$(1, 4) e $\\vec{v}$(4, 2), a distância é dada pela equação: $\\sqrt{(1-4)^{2} + (4-2)^{2}} = \\sqrt{13} = 3,6055$"
   ]
  },
  {
   "cell_type": "code",
   "execution_count": 76,
   "metadata": {},
   "outputs": [
    {
     "name": "stdout",
     "output_type": "stream",
     "text": [
      "A distância Euclidiana entre u[1 4] e v[4 2] é de 3.6056\n"
     ]
    }
   ],
   "source": [
    "u = np.array([1, 4])\n",
    "v = np.array([4, 2])\n",
    "d = np.sqrt(sum((u - v) ** 2))\n",
    "print('A distância Euclidiana entre u{} e v{} é de {:.4f}'.format(u, v, d))"
   ]
  },
  {
   "cell_type": "markdown",
   "metadata": {},
   "source": [
    "* **Produto escalar:** também é chamado de produto interno, e é definido como um produto entre vetores que resulta em um escalar.\n",
    "\n",
    "Exemplo:\n",
    "Temos os seguintes vetores: $\\vec{u}$ e $\\vec{v}$. E o seu produto é o seguinte: $\\vec{u} . \\vec{v} = (u_{x}.v_{x} + u_{y}.v_{y})$"
   ]
  },
  {
   "cell_type": "code",
   "execution_count": 67,
   "metadata": {},
   "outputs": [
    {
     "name": "stdout",
     "output_type": "stream",
     "text": [
      "u = [1 3 7]\n",
      "v = [2 8 1]\n",
      "u.v = 33\n"
     ]
    }
   ],
   "source": [
    "u = np.array([1, 3, 7])\n",
    "v = np.array([2, 8, 1])\n",
    "pe = np.dot(u, v)\n",
    "\n",
    "print(f'u = {u}')\n",
    "print(f'v = {v}')\n",
    "print(f'u.v = {pe}')"
   ]
  },
  {
   "cell_type": "markdown",
   "metadata": {},
   "source": [
    "## Conclusão:\n",
    "Podemos notar que as matrizes estão presentes dentro do mercado, na parte de análise de dados. Quando fazemos uma análise e manipulação dos dados, geralmente usamos um dataframe que é basicamente uma tabela onde cada coluna é representada por uma matriz. Essa tabela contém dados importantes como o OHLC (Open, High, Low e Close) que representa o preço de abertura, máxima, mínima e preço de fechamento de um candle, respectivamente."
   ]
  },
  {
   "cell_type": "code",
   "execution_count": 62,
   "metadata": {},
   "outputs": [
    {
     "name": "stdout",
     "output_type": "stream",
     "text": [
      "Dataframe do IBOV desde o começo de 2021 até o dia atual (18/08/21):\n",
      "\n",
      "                High       Low      Open          Close      Adj Close\n",
      "Date                                                                  \n",
      "2021-01-04  120354.0  118062.0  119024.0  118558.000000  118558.000000\n",
      "2021-01-05  119790.0  116756.0  118835.0  119223.000000  119223.000000\n",
      "2021-01-06  120924.0  118917.0  119377.0  119851.000000  119851.000000\n",
      "2021-01-07  121983.0  119101.0  119103.0  121956.000000  121956.000000\n",
      "2021-01-08  125324.0  122386.0  122387.0  125077.000000  125077.000000\n",
      "...              ...       ...       ...            ...            ...\n",
      "2021-08-12  122095.0  120534.0  122056.0  120701.000000  120701.000000\n",
      "2021-08-13  121275.0  120045.0  120701.0  121194.000000  121194.000000\n",
      "2021-08-16  121191.0  118684.0  121191.0  119180.000000  119180.000000\n",
      "2021-08-17  119179.0  116248.0  119179.0  117904.000000  117904.000000\n",
      "2021-08-18       0.0       0.0       0.0  116642.617188  116642.617188\n",
      "\n",
      "[155 rows x 5 columns]\n",
      "\n",
      " -=-=-=-=-=-=-=-=-=-=-=-=-=-=-=-=-=-=-=-=-=-=-=-=-=-=-=-=-=-=\n",
      "Gráfico criado através do preço de fechamento do dataframe ibov:\n"
     ]
    },
    {
     "data": {
      "text/plain": [
       "<AxesSubplot:xlabel='Date'>"
      ]
     },
     "execution_count": 62,
     "metadata": {},
     "output_type": "execute_result"
    },
    {
     "data": {
      "image/png": "[encoded data removed]",
      "text/plain": [
       "<Figure size 432x288 with 1 Axes>"
      ]
     },
     "metadata": {
      "needs_background": "light"
     },
     "output_type": "display_data"
    }
   ],
   "source": [
    "import pandas_datareader.data as web\n",
    "import matplotlib.pyplot as plt\n",
    "from datetime import datetime as dt\n",
    "\n",
    "dt_inicio = '2021-01-01'\n",
    "hoje = f'{dt.today().year}-{dt.today().month}-{dt.today().day}'\n",
    "dt_final = hoje\n",
    "\n",
    "ibov = web.DataReader('^BVSP', data_source='yahoo', start=dt_inicio, end=dt_final)\n",
    "print('Dataframe do IBOV desde o começo de 2021 até o dia atual (18/08/21):\\n')\n",
    "ibov = ibov.drop(columns=['Volume'])\n",
    "print(ibov)\n",
    "print('\\n','-=' * 30)\n",
    "print('Gráfico criado através do preço de fechamento do dataframe ibov:')\n",
    "ibov['Adj Close'].plot()"
   ]
  }
 ],
 "metadata": {
  "kernelspec": {
   "display_name": "Python 3",
   "language": "python",
   "name": "python3"
  },
  "language_info": {
   "codemirror_mode": {
    "name": "ipython",
    "version": 3
   },
   "file_extension": ".py",
   "mimetype": "text/x-python",
   "name": "python",
   "nbconvert_exporter": "python",
   "pygments_lexer": "ipython3",
   "version": "3.8.5"
  }
 },
 "nbformat": 4,
 "nbformat_minor": 5
}
