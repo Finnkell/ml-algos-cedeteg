{
 "cells": [
  {
   "cell_type": "markdown",
   "id": "7ed9f30b-1236-42cf-97d4-791ce1bc6ab5",
   "metadata": {},
   "source": [
    "# 3.0 - Métricas de avaliação de modelos:\n",
    "* 3.1 - KS (Classificação)\n",
    "* 3.2 - Gini (Classificação)\n",
    "* 3.3 - AUC (Classificação)\n",
    "* 3.4 - RMSE (Regressão) \n",
    "* 3.5 - MAE (Regressão)\n",
    "* 3.6 - F1 (Classificação)\n",
    "* 3.7 - Recall (Classificação)\n",
    "* 3.8 - Precision (Classificação)\n",
    "* 3.9 - R2 (Regressão)\n",
    "\n",
    "\n",
    "## 1 - Introdução \n",
    "\n",
    "---\n",
    "\n",
    "### 1.1 Definição de métricas de avaliação:\n",
    "\n",
    "<p>Uma métrica de avaliação quantifica o desempenho de modelo preditivo.</p>\n",
    "\n",
    "* Por quê as metricas são importantes?\n",
    "    * Objetivo de treinamento (cost function) é somente um proxy para objetivos do mundo real.\n",
    "    * Métricas ajudam a capturar um objetivo de negócio para um alvo quantitativo (nem todos os erros são iguais)\n",
    "    * Ajuda a organizar o esforço do time de ML (Machine Learning) em direção ao alvo.\n",
    "        * Geralmente na forma de melhorar a métrica no dev set.\n",
    "    * Útil em quantificar o \"vão\" entre:\n",
    "        * Performance desejada e patamar (estimativa de esforço inicial).\n",
    "        * Performance desejada e performance atual.\n",
    "        * Medida de progresso no tempo.\n",
    "    * Útil para tarefas de nível baixo e debugar.\n",
    "\n",
    "### 1.2 - Variáveis:\n",
    "\n",
    "* **TPR (True Positive Rate)**: é a probabilidade de que o modelo detecte um positivo real como positivo. Em outras palavras, é a proporção dos positivos reais  que são detectados como positivos pelo modelo. Também é conhecido como <code>sensitivity</code>. Matematicamente: $$TPR=P(\\widehat{x}=1|x=1)$$\n",
    "\n",
    "* **TNR (True Negative Rate)**: é a probabilidade de que o modelo detecte um negativo real como negativo. Em outras palavras, é a proporção dos negativos reais que são detectados como negativos pelo modelo. Também é conhecido como <code>specificity</code>. Matematicamente: $$TNR=P(\\widehat{x}=0|x=0)$$ \n",
    "\n",
    "* **FPR (False Positive Rate)**: é a probabilidade que o modelo detecte um negativo real como positivo. Em outras palavras, é a proporção dos negativos reais que são detectados como positivos pelo modelo. Também é conhecido como <code>Type I error</code>. Matematicamente: $$FPR=P(\\widehat{x}=1|x=0)$$\n",
    "\n",
    "* **FNR (False Negative Rate)**: é a probabilidade que o modelo detecte um positivo real como negativo. Em outras palavras, é a proporção dos positivos reais que são detectados como negativos pelo modelo. Também é conhecido como <code> Type II error</code>. Matematicamente: $$FNR=P(\\widehat{x}=0|x=1)$$  \n",
    "\n",
    "### 1.3 - Confusion matrix para visualização:\n",
    "* Abaixo temos um exemplo de confusion matrix:\n",
    "    * Vamos importar a função confusion_matrix do sklearn.metrics para calcular"
   ]
  },
  {
   "cell_type": "code",
   "execution_count": 42,
   "id": "01010b94-ad15-4e13-afca-2b95f9b1919a",
   "metadata": {},
   "outputs": [
    {
     "name": "stdout",
     "output_type": "stream",
     "text": [
      "[[5 2]\n",
      " [1 4]]\n"
     ]
    }
   ],
   "source": [
    "from sklearn.metrics import confusion_matrix\n",
    "\n",
    "y_true = [1, 0, 0, 1, 0, 1, 0, 0, 1, 0, 1, 0]\n",
    "y_pred =  [1, 1, 0, 1, 0, 1, 1, 0, 1, 0, 0, 0]\n",
    "confusion_m = confusion_matrix(y_true, y_pred)\n",
    "print(confusion_m)"
   ]
  },
  {
   "cell_type": "markdown",
   "id": "b3d5679c-d91a-44ff-8b1a-eab5c30b1a19",
   "metadata": {},
   "source": [
    "* Como vemos acima nos é entregue um array contendo 5, 2, 1, 4 para ilustrar melhor como interpretar vamos criar novamente os dados acima, mas agora usando pandas para que seja possível explicar de uma forma mais simples."
   ]
  },
  {
   "cell_type": "code",
   "execution_count": 39,
   "id": "5e29320c-808a-4f76-8ef2-1c2696a00c5e",
   "metadata": {},
   "outputs": [
    {
     "name": "stdout",
     "output_type": "stream",
     "text": [
      "Predicted  0  1\n",
      "Actual         \n",
      "0          5  2\n",
      "1          1  4\n"
     ]
    }
   ],
   "source": [
    "import pandas as pd\n",
    "\n",
    "data = {'y_Actual':    [1, 0, 0, 1, 0, 1, 0, 0, 1, 0, 1, 0],\n",
    "        'y_Predicted': [1, 1, 0, 1, 0, 1, 1, 0, 1, 0, 0, 0]\n",
    "        }\n",
    "\n",
    "df = pd.DataFrame(data, columns=['y_Actual','y_Predicted'])\n",
    "\n",
    "confusion_matrix = pd.crosstab(df['y_Actual'], df['y_Predicted'], rownames=['Actual'], colnames=['Predicted'])\n",
    "print (confusion_matrix)"
   ]
  },
  {
   "cell_type": "markdown",
   "id": "0ac3b77b-20a4-40a5-ab1b-db581e9a44cb",
   "metadata": {},
   "source": [
    "* Agora podemos observar que temos as colunas sendo nomeadas como 0 e 1 assim como as linha. Portanto quando temos a combinação:\n",
    "\n",
    "    * linha 0 e coluna 0 determinamos **TP (True Positive)**\n",
    "\n",
    "    * linha 0 e coluna 1 determinamos **FP (False Positive)**\n",
    "\n",
    "    * linha 1 e coluna 0 determinamos **FN (False Negative)**\n",
    "\n",
    "    * linha 1 e coluna 1 determinamos **TN (True Negative)**\n",
    "\n",
    "Portanto:"
   ]
  },
  {
   "cell_type": "code",
   "execution_count": 41,
   "id": "46f3c0f5-c316-4582-bef8-4e752f9a9e22",
   "metadata": {},
   "outputs": [
    {
     "name": "stdout",
     "output_type": "stream",
     "text": [
      "\n",
      "TP (True Positive) = 5\n",
      "FP (False Positive) = 2 \n",
      "FN (False Negative) = 1\n",
      "TN (True Negative) = 4\n"
     ]
    }
   ],
   "source": [
    "print(\"\\nTP (True Positive) = {}\\nFP (False Positive) = {} \\nFN (False Negative) = {}\\nTN (True Negative) = {}\".format(\n",
    "                            confusion_m[0][0], confusion_m[0][1],\n",
    "                            confusion_m[1][0], confusion_m[1][1]))"
   ]
  },
  {
   "cell_type": "markdown",
   "id": "a4149d5f-ed0f-488c-80be-c7f85e841764",
   "metadata": {},
   "source": [
    "* Ainda podemos criar um mapa de calor usando as bibliotecas seaborn e matplotlib para conseguirmos uma fácil e rápida identificação."
   ]
  },
  {
   "cell_type": "code",
   "execution_count": 13,
   "id": "71c42181-a4e3-4932-ad0d-2881a0f3bd43",
   "metadata": {
    "tags": []
   },
   "outputs": [
    {
     "data": {
      "image/png": "[encoded data removed]",
      "text/plain": [
       "<Figure size 640x480 with 2 Axes>"
      ]
     },
     "metadata": {},
     "output_type": "display_data"
    }
   ],
   "source": [
    "import seaborn as sn\n",
    "import matplotlib.pyplot as plt\n",
    "\n",
    "data = {'y_Actual':    [1, 0, 0, 1, 0, 1, 0, 0, 1, 0, 1, 0],\n",
    "        'y_Predicted': [1, 1, 0, 1, 0, 1, 1, 0, 1, 0, 0, 0]\n",
    "        }\n",
    "\n",
    "df = pd.DataFrame(data, columns=['y_Actual','y_Predicted'])\n",
    "confusion_matrix = pd.crosstab(df['y_Actual'], df['y_Predicted'], rownames=['Actual'], colnames=['Predicted'])\n",
    "\n",
    "sn.heatmap(confusion_matrix, annot=True)\n",
    "plt.show()"
   ]
  },
  {
   "cell_type": "markdown",
   "id": "faca1bc8-8e3a-4759-9246-53bd2f376e47",
   "metadata": {},
   "source": [
    "* Extra: podemos determinar a acuracidade do modelo com a fórmula **$\\frac{(TP+TN)}{(TP+TN+FP+FN)} = \\frac{5+4}{5+4+2+1}=\\frac{9}{12}=0.75$** . Abaixo veremos como verificar melhor a eficiência de uma modelo seguindo métricas avaliativas mais completas.\n",
    "\n",
    "    * Mas antes vamos definir como são calculados o TPR, TNR, FPR e FNR para podermos seguir com os modelos:\n",
    "\n",
    "        * **TPR (True Positive Rate)**: $\\frac{TP}{(TP+FN)}$\n",
    "        * **FNR (False Negative Rate)**: $\\frac{TN}{(TN+FP)}$\n",
    "\n",
    "        * **FPR (False Positive Rate)**: $\\frac{FP}{(FP+TN)}$\n",
    "        * **FNR (False Negative Rate)**: $\\frac{FN}{(FN+TP)}$"
   ]
  },
  {
   "cell_type": "markdown",
   "id": "ae6d23e8-043a-4d94-9728-0691d79a45f1",
   "metadata": {},
   "source": [
    "## 3.1 - KS (Kolmogorov-Smirnov) - Modelos de Classificação\n",
    "\n",
    "### 3.1.1 - Definição:\n",
    "* Em estatística esse método nos dá uma noção da **distância** entre duas distribuições. Ou seja, a distância máxima entre as funções de distribuição empíricas ou ECDFs em inglês.\n",
    "\n",
    "### 3.1.2 - Aplicação\n",
    "* Em ML podemos usar esse método quando temos um alto valor no score de treino, mas um baixo no de teste.\n",
    "* Podemos simplesmente utilizar a biblioteca scipy e importar stats usando a função <code>stats.ks_2samp()</code> usando f.d.a em ambos os dados para comparação.\n",
    "\n",
    "### 3.1.3 - Python\n",
    "* Na prática ela nos diz que quanto maior for o valor, maior será a diferença entre as distribuições. Observe o exemplo abaixo:\n"
   ]
  },
  {
   "cell_type": "code",
   "execution_count": 43,
   "id": "4dec8c39-14b1-4d0a-90c8-3b6c9a1bb25d",
   "metadata": {
    "tags": []
   },
   "outputs": [],
   "source": [
    "import seaborn as sns\n",
    "import pandas as pd\n",
    "import numpy as np\n",
    "from scipy import stats\n",
    "from sklearn.model_selection import train_test_split\n",
    "from sklearn.ensemble import RandomForestClassifier\n",
    "from sklearn.datasets import make_classification\n",
    "from sklearn.linear_model import LogisticRegression\n",
    "\n",
    "X = sns.load_dataset('iris')[20:]\n",
    "y = X.pop('species')\n",
    "X_train, X_test, y_train, y_test = train_test_split(\n",
    "     X, y, test_size=0.33, shuffle=False)"
   ]
  },
  {
   "cell_type": "code",
   "execution_count": 255,
   "id": "f6f38681-36fa-4708-8a77-646d26510501",
   "metadata": {},
   "outputs": [
    {
     "data": {
      "text/plain": [
       "KstestResult(statistic=0.5511895215183106, pvalue=9.307408954661867e-09)"
      ]
     },
     "execution_count": 255,
     "metadata": {},
     "output_type": "execute_result"
    }
   ],
   "source": [
    "stats.ks_2samp(X_train.sepal_length, X_test.sepal_length)"
   ]
  },
  {
   "cell_type": "markdown",
   "id": "4fcecd15-e88a-4be8-b2a1-bcda122d02c9",
   "metadata": {},
   "source": [
    "* Nesse caso podemos verifiar que 0.55 é muito, pois o ECDF gera probabilidades entre 0 e 1. O que faz sentido, pois quando dividimos os dados o parâmetro **shuffle** estava setado para **False**, o que simula uma divisão de dados não randomica.\n",
    "* O pvalue, em contrapartida, nos dá a noção da significância do teste estatístico. Nos conta o quanto podemos confiar no teste. Como temos $9.3e^-9$ que está próximo de 0 (usualmente seria suficiente estando abaixo de 0.05, ou até 0.1, dependendo do contexto).\n",
    "* Agora vamos retirar o **shuffle = False** e ver como se comporta."
   ]
  },
  {
   "cell_type": "code",
   "execution_count": 44,
   "id": "b6a1fc47-a1d8-419a-a19d-526fd1f31d45",
   "metadata": {},
   "outputs": [
    {
     "data": {
      "text/plain": [
       "KstestResult(statistic=0.11895215183106121, pvalue=0.7581591015148161)"
      ]
     },
     "execution_count": 44,
     "metadata": {},
     "output_type": "execute_result"
    }
   ],
   "source": [
    "X_train, X_test, y_train, y_test = train_test_split(X, y, test_size=0.33, random_state = 42)\n",
    "stats.ks_2samp(X_train.sepal_length, X_test.sepal_length)"
   ]
  },
  {
   "cell_type": "markdown",
   "id": "60570df9-8bcd-41f0-80fc-f1464b73d63c",
   "metadata": {},
   "source": [
    "* Agora temos statistic igual a 0.11 o que significa que ainda temos um diferença pequena na distribuição, entretanto como o pvalue não é pequeno isso não simboliza nenhum problema.\n",
    "\n",
    "* Podemos treinar o modelo e usar o KS para avaliar os resultados"
   ]
  },
  {
   "cell_type": "code",
   "execution_count": 45,
   "id": "79b48b5d-1b41-4833-81e0-7a3d49f8986d",
   "metadata": {},
   "outputs": [
    {
     "data": {
      "text/plain": [
       "KstestResult(statistic=0.0, pvalue=1.0)"
      ]
     },
     "execution_count": 45,
     "metadata": {},
     "output_type": "execute_result"
    }
   ],
   "source": [
    "rf = RandomForestClassifier(n_estimators = 10, n_jobs = -1)\n",
    "rf.fit(X_test, y_test)\n",
    "y_pred = rf.predict(X_test)\n",
    "stats.ks_2samp(y_test, y_pred)"
   ]
  },
  {
   "cell_type": "markdown",
   "id": "deae3c5f-767e-4150-b375-5e2347d93cd7",
   "metadata": {},
   "source": [
    "* Nesse caso como utilizamos um modelo já otimizado podemos ver que o KS nos entrega um valor-p de 1, mostrando que o modelo está otimizado, entretando, vale ressaltar que o KS é melhor aplicado em outros casos, como veremos abaixo um caso onde ele foi aplicado "
   ]
  },
  {
   "cell_type": "markdown",
   "id": "f2967e53-43e6-4e3c-b452-6ae1cdc41a68",
   "metadata": {},
   "source": [
    "### 3.1.4 - Demostração Gráfica\n",
    "* Apesar de uma análise numérica ser o suficiente para extrairmos uma conlusão válida da aplicação do método KS, podemos aplicá-lo juntamente a outros casos, abaixo veremos um caso onde o método Kolgomorov Smirnov é usado em um modelo para uma campanha de marketing, onde é usado para medir a % da população necessária para obter o maior número possível de respostas. Como mostra o modelo abaixo.\n",
    "\n",
    "![2.4](https://www.machinelearningplus.com/wp-content/uploads/2021/06/Kolmogorov_Smirnov_Chart-1-1024x597.png?ezimgfmt=ng:webp/ngcb4https://www.machinelearningplus.com/wp-content/uploads/2021/06/Kolmogorov_Smirnov_Chart-1-1024x597.png?ezimgfmt=ng:webp/ngcb4)\n",
    "\n",
    "---"
   ]
  },
  {
   "cell_type": "markdown",
   "id": "ef87adae-f9d4-486d-9266-cd01a03f83b1",
   "metadata": {},
   "source": [
    "## 3.2 - Coeficiente Gini - Modelos de Classificação\n",
    "\n",
    "### 3.2.1 - **Definição** (Primeiramente vamos entender a ROC curve para vermos como o Gini se aplica):\n",
    "* 3.2.1.1 - **ROC (Receiver Operating Characteristic) curve**:\n",
    "    * A medida abaixo da área da ROC curve plota TPR x FPR, essa curva nos possibilita visualizar a troca entre TPR e FPR. A imagem abaixo ilustra muito bem essa análise.\n",
    "        \n",
    "        \n",
    "![3.1.1 fig](https://static.wixstatic.com/media/3eee0b_e8dc1805e79e48fd9640e9e877776ef8~mv2.png/v1/fill/w_443,h_309,al_c,q_95/3eee0b_e8dc1805e79e48fd9640e9e877776ef8~mv2.webp)\n",
    "        \n",
    "### 3.2.2 - Definição\n",
    "* O coeficiente Gini é comparável ao AUC score, por ser um métrica baseada em rank que pode ser usado para medir o quão bem o seu modelo é em discriminar valores VERDADEIROS e FALSOS (0, 1).\n",
    "* A imagem abaixo demostra a diferença entre os métodos GINI e ROC-AUC\n",
    "    \n",
    "    ![AUC-GINI](https://queirozf.com/images/contents/6vM80gn.png)\n",
    "### 3.2.3 - Aplicação    \n",
    "* O Gini pode ser calculado pela função $Gini = 2 \\times \\text{ROC_curve} - 1$ e como precisamos de um modelo que gere valors VERDADEIROS e FALSOS vamos treinar um usando Logistic Regression, aplicando a métrica roc_auc_score e usar a função descrita anteriormente, juntamente com um gráfico ROC para ilustrando como visto acima:"
   ]
  },
  {
   "cell_type": "code",
   "execution_count": 31,
   "id": "8941e3cd-2b01-43ba-bcc7-6c9f59b32507",
   "metadata": {
    "tags": []
   },
   "outputs": [
    {
     "data": {
      "text/plain": [
       "0.8100057934408438"
      ]
     },
     "execution_count": 31,
     "metadata": {},
     "output_type": "execute_result"
    }
   ],
   "source": [
    "import pandas as pd\n",
    "import numpy as np\n",
    "from sklearn.model_selection import train_test_split\n",
    "from sklearn.linear_model import LogisticRegression\n",
    "from sklearn import metrics\n",
    "from sklearn.metrics import roc_auc_score, auc\n",
    "import matplotlib.pyplot as plt\n",
    "\n",
    "# importando o dataser de um arquivo csv do Git\n",
    "url = \"https://raw.githubusercontent.com/Statology/Python-Guides/main/default.csv\"\n",
    "data = pd.read_csv(url)\n",
    "\n",
    "X = data[['student', 'balance', 'income']]\n",
    "y = data['default']\n",
    "\n",
    "X_train,X_test,y_train,y_test = train_test_split(X,y,test_size=0.3,random_state=0) \n",
    "\n",
    "log_regression = LogisticRegression()\n",
    "log_regression.fit(X_train,y_train)\n",
    "\n",
    "y_pred_proba = log_regression.predict_proba(X_test)[::,1] # [::,1] significa todos os itens do array revertidos\n",
    "\n",
    "ROC_score = roc_auc_score(y_test, y_pred_proba)\n",
    "\n",
    "fpr, tpr, _ = metrics.roc_curve(y_test,  y_pred_proba)\n",
    "\n",
    "gini = ROC_score * 2 -1\n",
    "gini"
   ]
  },
  {
   "cell_type": "markdown",
   "id": "3c988868-06e0-4be2-849f-d17536e0d7d8",
   "metadata": {},
   "source": [
    "* Um modelo com coeficiente Gini maior que 60% é considerado bom, e como vemos nós temos um com 81%.\n",
    "\n",
    "### 3.2.1 - Demostração gráfica"
   ]
  },
  {
   "cell_type": "code",
   "execution_count": 353,
   "id": "9b8d7d93-7638-4dda-8c60-93bd942eb712",
   "metadata": {
    "tags": []
   },
   "outputs": [
    {
     "data": {
      "image/png": "[encoded data removed]",
      "text/plain": [
       "<Figure size 800x550 with 1 Axes>"
      ]
     },
     "metadata": {},
     "output_type": "display_data"
    }
   ],
   "source": [
    "# Criando a curva ROC\n",
    "plt.plot(fpr,tpr, c = 'green')\n",
    "plt.ylabel('True Positive Rate')\n",
    "plt.xlabel('False Positive Rate')\n",
    "plt.plot(np.array(range(0, 2)),np.array(range(0, 2)), c = 'green')\n",
    "plt.annotate('Gini: {}%'.format(round(gini, 2)*100), (0.23, 0.63))\n",
    "plt.show()"
   ]
  },
  {
   "cell_type": "markdown",
   "id": "68e50190-73c5-4ba8-bed2-ecf5d9178d2f",
   "metadata": {},
   "source": [
    "* A área destacada em verde é definida como a área do GINI como visto anteriormente acima. \n",
    "---    "
   ]
  },
  {
   "cell_type": "markdown",
   "id": "70dfde32-52ef-4041-bc9b-fd91dc0bf8ca",
   "metadata": {},
   "source": [
    "## 3.3 - AUC (Area Under ROC curve) - Modelos de Classificação\n",
    "### 3.3.1 - Definição:\n",
    "* AUC mede toda a área de duas dimensões abaixo da curva ROC ($\\int^{1}_{0} ROC\\ dx$):\n",
    "    \n",
    "![4.0](https://developers.google.com/machine-learning/crash-course/images/AUC.svg)  \n",
    "\n",
    "* Como vemos acima a AUC varia de 0 a 1 como, portanto se o modelo prevê 100% errado teremos um AUC de 0.0; e um com prvisões 100% corretas tem um AUC de 1.0.\n",
    "    \n",
    "* AUC é desejável pelas razões:\n",
    "    * AUC é **scale-invariant**, ou seja, ele mede o quão boas as previsões são elencadas, ao invés de seus valores absolutos\n",
    "        * AUC é **classification-threshold-invariant**, ou seja, ele mede a qualidade das previsões do modelo independentemente do limiar escolhido para a classificação\n",
    "        \n",
    "    * Entretanto essas razões trazem algumas ressalvas:\n",
    "        * **Scale-invariance** não é sempre desejável, quando, nós realmente precisamos de saídas bem valibradas, e a AUC não nos irá dizer sobre isso.\n",
    "        * **Classification-threshold-invariance** não é desejável, quando, em casos onde temos grandes disparidades pelo custo de FN x FP, pode ser crítico minimizar um dos erros de classificação.\n",
    "\n",
    "### 3.3.2 - Aplicação:\n",
    "* Em python basta importarmos da bliblioteca <code>metrics</code> do scikit lean a função <code>auc</code> \n",
    "\n",
    "### 3.3.3 - Como interpretar:\n",
    "* Vamos usar o mesmo modelo utilizado acima GINI e simplesmente calcular a métrica <code>auc</code>"
   ]
  },
  {
   "cell_type": "code",
   "execution_count": 312,
   "id": "57674f2f-d9a9-48f9-ac79-b42077476a4f",
   "metadata": {},
   "outputs": [
    {
     "data": {
      "text/plain": [
       "0.9050028967204219"
      ]
     },
     "execution_count": 312,
     "metadata": {},
     "output_type": "execute_result"
    }
   ],
   "source": [
    "auc(fpr, tpr)"
   ]
  },
  {
   "cell_type": "markdown",
   "id": "6f96e2c7-43b4-4811-b871-6c96c004939f",
   "metadata": {},
   "source": [
    "* Como vemos foi ternado um valor de 90%, valores acima de 80% já são considerados bons para certos modelos de classificação.\n",
    "\n",
    "### 3.3.4 - Demostração gráfica:\n",
    "* Vamos novamente utilizar os mesmos dados anteriores para gerar um gráfico"
   ]
  },
  {
   "cell_type": "code",
   "execution_count": 354,
   "id": "03b03414-51ff-458d-9348-72cfaa8b510b",
   "metadata": {},
   "outputs": [
    {
     "data": {
      "image/png": "[encoded data removed]",
      "text/plain": [
       "<Figure size 800x550 with 1 Axes>"
      ]
     },
     "metadata": {},
     "output_type": "display_data"
    }
   ],
   "source": [
    "# Criando a curva ROC\n",
    "plt.plot(fpr,tpr, c = 'green')\n",
    "plt.ylabel('True Positive Rate')\n",
    "plt.xlabel('False Positive Rate')\n",
    "plt.plot([0,1],[0,0], c = 'green') \n",
    "plt.plot([1,1],[0,1], c = 'green') \n",
    "#plt.plot(np.array(range(0, 2)),np.array(range(0, 2)), c = 'blue', linestyle = '--') \n",
    "plt.annotate('AUC: {}%'.format(round(auc(fpr, tpr), 2)*100), (0.63, 0.1))\n",
    "plt.show()"
   ]
  },
  {
   "cell_type": "markdown",
   "id": "1dc1a205",
   "metadata": {},
   "source": [
    "---\n",
    "## 3.4 - RMSE (Root Mean Square Error)\n",
    "### 3.4.1 - Definição:\n",
    "* É o desvio padrão dos erros que ocorreram quando um previsão foi realizada em um dataset. Sendo similar ao MSE (Mean Squared Error), mas a raiz quadrada é considerada enquanto determinando a precisão do modelo:\n",
    "    * MSE = $\\sum^{n}_{i=1} {\\frac{(Y_i - \\widehat{Y}_i)^2}{n}}$\n",
    "    \n",
    "    * RMSE = $\\sqrt{\\sum^{n}_{i=1} {\\frac{(Y_i - \\hat{Y}_i)^2}{n}}}$\n",
    "### 3.4.2 - Aplicação\n",
    "* Em Python podemos usar a função <code>mean_squared_error</code> da biblioteca <code>metric</code> do <code>skleran</code> e tirando a raiz dessa função encontramos a RMSE conforme demostrado acima\n",
    "\n",
    "### 3.4.3 - Como interpretar\n",
    "* Como se trata de 'error' devemos lembrar que queremos que esse indicador tenha o menor valor possível para assim conseguimos avaliar nosso modelo de regressão, podemos analisar o exemplo abaixo:"
   ]
  },
  {
   "cell_type": "code",
   "execution_count": 23,
   "id": "ff8ec954",
   "metadata": {},
   "outputs": [
    {
     "name": "stdout",
     "output_type": "stream",
     "text": [
      "RMSE = 50.48\n"
     ]
    }
   ],
   "source": [
    "import matplotlib.pyplot as plt\n",
    "import numpy as np\n",
    "from sklearn.linear_model import LinearRegression\n",
    "from sklearn import datasets\n",
    "from sklearn.metrics import mean_squared_error, r2_score\n",
    "\n",
    "diabetes_X, diabetes_y = datasets.load_diabetes(return_X_y=True)\n",
    "diabetes_X = diabetes_X[:, np.newaxis, 2]\n",
    "diabetes_y_train = diabetes_y[:-20]\n",
    "diabetes_y_test = diabetes_y[-20:]\n",
    "regr = LinearRegression()\n",
    "regr.fit(diabetes_X_train, diabetes_y_train)\n",
    "diabetes_y_pred = regr.predict(diabetes_X_test)\n",
    "print(\"RMSE = {:.2f}\".format(np.sqrt(mean_squared_error(diabetes_y_test, diabetes_y_pred))))"
   ]
  },
  {
   "cell_type": "markdown",
   "id": "a7d6057f",
   "metadata": {},
   "source": [
    "* Como podemos observar o RMSE está muito elavado, mostrando que os dados estão muito dispersos e que o modelo não apresenta previsões satisfatórias.\n",
    "\n",
    "### 3.4.4 - Demostração Gráfica\n",
    "* Abaixo visualizamos o motivo do RMSE estar muito elevado, enquanto temos o modelo com a regressão linear cruzando o gráfico, vamos que há uma dispersão distante da regressão."
   ]
  },
  {
   "cell_type": "code",
   "execution_count": 9,
   "id": "74ede14b",
   "metadata": {},
   "outputs": [
    {
     "data": {
      "image/png": "[encoded data removed]",
      "text/plain": [
       "<Figure size 1152x648 with 1 Axes>"
      ]
     },
     "metadata": {},
     "output_type": "display_data"
    }
   ],
   "source": [
    "# Plot outputs\n",
    "fig, ax = plt.subplots(figsize = (16,9))\n",
    "ax.scatter(diabetes_X_test, diabetes_y_test,  color='black')\n",
    "ax.plot(diabetes_X_test, diabetes_y_pred, color='blue', linewidth=3)\n",
    "\n",
    "plt.xticks(())\n",
    "plt.yticks(())\n",
    "\n",
    "plt.show()"
   ]
  },
  {
   "cell_type": "markdown",
   "id": "0da882bd",
   "metadata": {},
   "source": [
    "## 3.5 - MAE (Mean Absolute Error)\n",
    "### 3.5.1 - Definição\n",
    "* É muito similar ao MSE, entretanto, enquanto o MSE usa soma dos quadrados dos erros, o MAE usa a suma do valor absoluto do erro\n",
    "* MAE = $\\sum^{n}_{i=1} \\frac{|y_i - \\hat{y}_i|}{n}$\n",
    "* Comparando a MSE ou RMSE, MAE é uma representação mais direta na soma dos erros. MSE entrega uma grande penalidade para previsões erradas ao quadraro enquanto MAE trata todos os erros iguais.\n",
    "\n",
    "### 3.5.2 - Aplicação\n",
    "* Em python podemos importar a função <code>mean_absolute_error</code> da biblioteca <code>metrics</code> do <code>sklearn</code>. Vamos usar novamente o exemplo acima para calcular a MAE:"
   ]
  },
  {
   "cell_type": "code",
   "execution_count": 22,
   "id": "2a0eb2e6",
   "metadata": {},
   "outputs": [
    {
     "name": "stdout",
     "output_type": "stream",
     "text": [
      "MAE = 41.23\n"
     ]
    }
   ],
   "source": [
    "from sklearn.metrics import mean_absolute_error\n",
    "print(\"MAE = {:.2f}\".format(mean_absolute_error(diabetes_y_test, diabetes_y_pred)))"
   ]
  },
  {
   "cell_type": "markdown",
   "id": "358f66d3",
   "metadata": {},
   "source": [
    "### 3.5.3 - Como interpretar\n",
    "* Assim como MSE e RMSE quanto menor o valor melhor, se RSME = MAE, etão todos os erros possuem a mesma magnitude.\n",
    "\n",
    "### 3.5.4 - Demostração Gráfica\n",
    "* Vamos utilizar o mesmo gráfico anterior somente para visualizarmos novamente a dispersão dos dados:"
   ]
  },
  {
   "cell_type": "code",
   "execution_count": 24,
   "id": "fe0bfb75",
   "metadata": {},
   "outputs": [
    {
     "data": {
      "image/png": "[encoded data removed]",
      "text/plain": [
       "<Figure size 1152x648 with 1 Axes>"
      ]
     },
     "metadata": {},
     "output_type": "display_data"
    }
   ],
   "source": [
    "# Plot outputs\n",
    "fig, ax = plt.subplots(figsize = (16,9))\n",
    "ax.scatter(diabetes_X_test, diabetes_y_test,  color='black')\n",
    "ax.plot(diabetes_X_test, diabetes_y_pred, color='blue', linewidth=3)\n",
    "\n",
    "plt.xticks(())\n",
    "plt.yticks(())\n",
    "\n",
    "plt.show()"
   ]
  },
  {
   "cell_type": "markdown",
   "id": "b53aa2e3",
   "metadata": {},
   "source": [
    "---\n",
    "\n",
    "## 3.6 - Precision\n",
    "### 3.6.1 - Definição\n",
    "* Nos traz o quão relevantes são as detecções positivas. Quanto maior a precision melhor o nosso mecanismo de detecção. Seguindo a fórmula: $Precision=\\frac{\\text{TP}}{\\text{TP + FP}}=\\frac{\\text{TP}}{\\text{Total Predicted Positive}}$\n",
    "* Quando o custo do FP é alto é bom em determinar.\n",
    "### 3.6.2 - Aplicação\n",
    "* Em python podemos importar a função <code>precison_score</code> da biblioteca <code>metrics</code> do <code>sklearn</code>. Ainda dentro da função temos que definir 'average' em:\n",
    "    * 'binary' (padrão): somente analisa para a classe especificada em <code>pos_label</code>. É aplicável somente se o objeto (<code>y_{true, pred}</code> é binário.\n",
    "    * 'micro': calcula as métricas de forma global, contando o total de TP, FN e FP.\n",
    "    * 'macro': calcula as métricas para cada rótulo, e encontra sua média sem peso. Não toma o desiquilíbrio dos rótulos em consideração.\n",
    "    * 'weighted': calcula as métricas para cada rótulo, e encontra a média deles pelo peso do suporte (o número de instâncias para cada rótulo).\n",
    "    * 'samples': calcula as métricas para cada instância, e encontra as suas média.\n",
    "* É aplicável para modelos de classificação como: <code>Neural Networks</code>, <code>k-nearest neighbors</code>, <code>Naive Bayes</code>, <code>Decision Trees</code>, <code>Support vector machines</code> e <code>Hierarchical classification</code>   "
   ]
  },
  {
   "cell_type": "code",
   "execution_count": 54,
   "id": "0d5378bb-6757-4a19-8d00-72775a1353c6",
   "metadata": {},
   "outputs": [
    {
     "name": "stdout",
     "output_type": "stream",
     "text": [
      "Micro : 1.0\n",
      "Macro : 1.0\n",
      "Weighted : 1.0\n"
     ]
    }
   ],
   "source": [
    "from sklearn.metrics import precision_score\n",
    "\n",
    "print('Micro : {}'.format(precision_score(y_test, y_pred, average = 'micro')))\n",
    "print('Macro : {}'.format(precision_score(y_test, y_pred, average = 'macro')))\n",
    "print('Weighted : {}'.format(precision_score(y_test, y_pred, average = 'weighted')))"
   ]
  },
  {
   "cell_type": "markdown",
   "id": "c0297730-56e8-41c1-bbf6-d8c8fa4c7548",
   "metadata": {},
   "source": [
    "* Como pegamos um exemplo onde usamos uma Classification tree que nos entrega previsões não binárias, não podemos usar a opção <code>binary</code>, entretanto podemos ver que as outras opções são aplicáveis, e como o modelo está otimizado é possível verificar que todos estão dando 100%.\n",
    "\n",
    "### 3.6.3 - Como interpretar\n",
    "* Quanto maior o valor melhor, o mesmo como visto acima chega ao máximo em 100% ou 1.\n",
    "---"
   ]
  },
  {
   "cell_type": "markdown",
   "id": "80bf2052-4d2a-45d5-b720-517928df465c",
   "metadata": {},
   "source": [
    "## 3.7 - Recall\n",
    "### 3.7.1 - Definição:\n",
    "* O Recall calcula quantos dos Positivos realmente foram captados pelo modelo através da rotulação como positivo (TP). Ele será a métrica usada quando o nosso modelo ter um alto custo associado com o FN. Podemos pbservar melhor pela sua função: $Recall=\\frac{\\text{TP}}{\\text{TP + FN}}=\\frac{\\text{TP}}{\\text{Total Actual Positive}}$\n",
    "### 3.7.2 - Aplicação:\n",
    "* Em python podemos importar a função <code>recall_score</code> da biblioteca <code>metrics</code> do <code>sklearn</code>. Ainda dentro da função temos que definir 'average' em:\n",
    "    * 'binary' (padrão): somente analisa para a classe especificada em <code>pos_label</code>. É aplicável somente se o objeto (<code>y_{true, pred}</code> é binário.\n",
    "    * 'micro': calcula as métricas de forma global, contando o total de TP, FN e FP.\n",
    "    * 'macro': calcula as métricas para cada rótulo, e encontra sua média sem peso. Não toma o desiquilíbrio dos rótulos em consideração.\n",
    "    * 'weighted': calcula as métricas para cada rótulo, e encontra a média deles pelo peso do suporte (o número de instâncias para cada rótulo).\n",
    "    * 'samples': calcula as métricas para cada instância, e encontra as suas média.\n",
    "* É aplicável para modelos de classificação como: <code>Neural Networks</code>, <code>k-nearest neighbors</code>, <code>Naive Bayes</code>, <code>Decision Trees</code>, <code>Support vector machines</code> e <code>Hierarchical classification</code>  "
   ]
  },
  {
   "cell_type": "code",
   "execution_count": 55,
   "id": "156fbd88-5c2d-429b-bed5-fe0b6f46d0f0",
   "metadata": {},
   "outputs": [
    {
     "name": "stdout",
     "output_type": "stream",
     "text": [
      "Micro : 1.0\n",
      "Macro : 1.0\n",
      "Weighted : 1.0\n"
     ]
    }
   ],
   "source": [
    "from sklearn.metrics import recall_score\n",
    "\n",
    "print('Micro : {}'.format(recall_score(y_test, y_pred, average = 'micro')))\n",
    "print('Macro : {}'.format(recall_score(y_test, y_pred, average = 'macro')))\n",
    "print('Weighted : {}'.format(recall_score(y_test, y_pred, average = 'weighted')))"
   ]
  },
  {
   "cell_type": "markdown",
   "id": "3c191199-6544-47f8-a511-836fe680d2d9",
   "metadata": {},
   "source": [
    "* Como pegamos um exemplo onde usamos uma Classification tree que nos entrega previsões não binárias, não podemos usar a opção <code>binary</code>, entretanto podemos ver que as outras opções são aplicáveis, e como o modelo está otimizado é possível verificar que todos estão dando 100%.\n",
    "\n",
    "### 3.6.3 - Como interpretar\n",
    "* Quanto maior o valor melhor, o mesmo como visto acima chega ao máximo em 100% ou 1.\n",
    "---"
   ]
  },
  {
   "cell_type": "markdown",
   "id": "3038f8f0-db36-4db6-8d17-e6d174c6dd3e",
   "metadata": {},
   "source": [
    "\n",
    "## 3.6 - F1 Score\n",
    "### 3.6.1 - Definição\n",
    "* É a média harmônica entre precision e recall. Tendo um intervalo de [0, 1]. Diz o quão preciso o classificador é (quantas instâncias são classificadas corretamente), e quanto elas são robustas (não perde um número significante de instâncias): $F1=2\\times{\\frac{\\text{Precision} \\times \\text{Recall}}{\\text{Precision+Recall}}}$\n",
    "* Pode ser uma boa métrica se é necessário buscar um equilíbrio entre Precision e Recall e quando há uma distribuição de classe desigual.\n",
    "### 3.6.2 - Aplicação\n",
    "* Em python podemos importar a função <code>fi_score</code> da biblioteca <code>metrics</code> do <code>sklearn</code>. Ainda dentro da função temos que definir 'average' em:\n",
    "    * 'binary' (padrão): somente analisa para a classe especificada em <code>pos_label</code>. É aplicável somente se o objeto (<code>y_{true, pred}</code> é binário.\n",
    "    * 'micro': calcula as métricas de forma global, contando o total de TP, FN e FP.\n",
    "    * 'macro': calcula as métricas para cada rótulo, e encontra sua média sem peso. Não toma o desiquilíbrio dos rótulos em consideração.\n",
    "    * 'weighted': calcula as métricas para cada rótulo, e encontra a média deles pelo peso do suporte (o número de instâncias para cada rótulo).\n",
    "    * 'samples': calcula as métricas para cada instância, e encontra as suas média.\n",
    "* É aplicável para modelos de classificação como: <code>Neural Networks</code>, <code>k-nearest neighbors</code>, <code>Naive Bayes</code>, <code>Decision Trees</code>, <code>Support vector machines</code> e <code>Hierarchical classification</code>  "
   ]
  },
  {
   "cell_type": "code",
   "execution_count": 57,
   "id": "1a1c2c04-53df-49e5-aed4-215f7b711c99",
   "metadata": {},
   "outputs": [
    {
     "name": "stdout",
     "output_type": "stream",
     "text": [
      "Micro : 1.0\n",
      "Macro : 1.0\n",
      "Weighted : 1.0\n"
     ]
    }
   ],
   "source": [
    "from sklearn.metrics import f1_score\n",
    "print('Micro : {}'.format(f1_score(y_test, y_pred, average = 'micro')))\n",
    "print('Macro : {}'.format(f1_score(y_test, y_pred, average = 'macro')))\n",
    "print('Weighted : {}'.format(f1_score(y_test, y_pred, average = 'weighted')))"
   ]
  },
  {
   "cell_type": "markdown",
   "id": "d6d20c7e-84c9-43b9-afae-c2cc36d4a16e",
   "metadata": {},
   "source": [
    "* Como pegamos um exemplo onde usamos uma Classification tree que nos entrega previsões não binárias, não podemos usar a opção <code>binary</code>, entretanto podemos ver que as outras opções são aplicáveis, e como o modelo está otimizado é possível verificar que todos estão dando 100%.\n",
    "\n",
    "### 3.6.3 - Como interpretar\n",
    "* Quanto maior o valor melhor, o mesmo como visto acima chega ao máximo em 100% ou 1.\n",
    "---"
   ]
  },
  {
   "cell_type": "markdown",
   "id": "c6311c0b-ed53-42a8-9f88-16ab90ee3986",
   "metadata": {},
   "source": [
    "## 3.7 - R2\n",
    "### 3.7.1 - Definição:\n",
    "* Mede quanto variabilidade em certa variável pode ser explicada pelo modelo. Sendo definido por: $R^2=1-\\frac{SS_\\text{Regression}}{SS_\\text{Total}}=1-\\frac{\\sum_i (y_i - \\hat{y}_i)^2}{\\sum_i (y_i - \\overline{y})^2}$\n",
    "* Sendo calculado pela suma do quadrado do erro da previsão dividido pela soma total do quadrado que substitui previsão calculada pela média.\n",
    "* Bem aplicado em determinar o quão bem o modelo se encaixa em variáveis dependentes. Entretanto, não leva em consideração problemas de overfitting. Se o modelo possui muitas variáveis independentes, por causa do modelo ser muito complexo, pode se sair muito bem nos dados de treino, mas ter um desempenho não desejado nos dados de teste.\n",
    "### 3.7.2 - Aplicação:\n",
    "* Em python podemos importar a função <code>r2_score</code> da biblioteca <code>metrics</code> do <code>sklearn</code>. Vamos ilustrar agora com um caso simples, somente para demonstração:"
   ]
  },
  {
   "cell_type": "code",
   "execution_count": 58,
   "id": "acfb77c0-4b8d-47cf-aa77-e0802381c8df",
   "metadata": {},
   "outputs": [
    {
     "data": {
      "text/plain": [
       "0.9486081370449679"
      ]
     },
     "execution_count": 58,
     "metadata": {},
     "output_type": "execute_result"
    }
   ],
   "source": [
    "from sklearn.metrics import r2_score\n",
    "y_true = [3, -0.5, 2, 7]\n",
    "y_pred = [2.5, 0.0, 2, 8]\n",
    "r2_score(y_true, y_pred)"
   ]
  }
 ],
 "metadata": {
  "kernelspec": {
   "display_name": "Python 3",
   "language": "python",
   "name": "python3"
  },
  "language_info": {
   "codemirror_mode": {
    "name": "ipython",
    "version": 3
   },
   "file_extension": ".py",
   "mimetype": "text/x-python",
   "name": "python",
   "nbconvert_exporter": "python",
   "pygments_lexer": "ipython3",
   "version": "3.8.11"
  }
 },
 "nbformat": 4,
 "nbformat_minor": 5
}
