{
 "cells": [
  {
   "cell_type": "markdown",
   "id": "7ed9f30b-1236-42cf-97d4-791ce1bc6ab5",
   "metadata": {},
   "source": [
    "# Métricas de avaliação de modelos:\n",
    "* KS\n",
    "* Gini\n",
    "* AUC\n",
    "* RMSE\n",
    "* MAE\n",
    "* F1\n",
    "* Recall\n",
    "* Precision\n",
    "* R2\n",
    " ---\n",
    "## Definição de métricas de avaliação:\n",
    "\n",
    "<p>Uma métrica de avaliação quantifica o desempenho de modelo preditivo.</p>\n",
    "\n",
    "* Por quê as metricas são importantes?\n",
    "    * Objetivo de treinamento (cost function) é somente um proxy para objetivos do mundo real.\n",
    "    * Métricas ajudam a capturar um objetivo de negócio para um alvo quantitativo (nem todos os erros são iguais)\n",
    "    * Ajuda a organizar o esforço do time de ML (Machine Learning) em direção ao alvo.\n",
    "        * Geralmente na forma de melhorar a métrica no dev set.\n",
    "    * Útil em quantificar o \"vão\" entre:\n",
    "        * Performance desejada e patamar (estimativa de esforço inicial).\n",
    "        * Performance desejada e performance atual.\n",
    "        * Medida de progresso no tempo.\n",
    "    * Útil para tarefas de nível baixo e debugar.\n",
    "---    \n",
    "## Conhecimento base:\n",
    "\n",
    "* **TPR (True Positive Rate)**: é a probabilidade de que o modelo detecte um positivo real como positivo. Em outras palavras, é a proporção dos positivos reais  que são detectados como positivos pelo modelo. Também é conhecido como <code>sensitivity</code>. Matematicamente: $$TPR=P(\\widehat{x}=1|x=1)$$\n",
    "\n",
    "* **TNR (True Negative Rate)**: é a probabilidade de que o modelo detecte um negativo real como negativo. Em outras palavras, é a proporção dos negativos reais que são detectados como negativos pelo modelo. Também é conhecido como <code>specificity</code>. Matematicamente: $$TNR=P(\\widehat{x}=0|x=0)$$ \n",
    "\n",
    "* **FPR (False Positive Rate)**: é a probabilidade que o modelo detecte um negativo real como positivo. Em outras palavras, é a proporção dos negativos reais que são detectados como positivos pelo modelo. Também é conhecido como <code>Type I error</code>. Matematicamente: $$FPR=P(\\widehat{x}=1|x=0)$$\n",
    "\n",
    "* **FNR (False Negative Rate)**: é a probabilidade que o modelo detecte um positivo real como negativo. Em outras palavras, é a proporção dos positivos reais que são detectados como negativos pelo modelo. Também é conhecido como <code> Type II error</code>. Matematicamente: $$FNR=P(\\widehat{x}=0|x=1)$$  \n",
    "\n",
    "**Um bom método de apresentar os números é com confusion matrix/contingency.**\n",
    "\n",
    "* Abaixo temos um exemplo de confusion matrix:\n",
    "    * Vamos importar a função confusion_matrix do sklearn.metrics para calcular"
   ]
  },
  {
   "cell_type": "code",
   "execution_count": 42,
   "id": "01010b94-ad15-4e13-afca-2b95f9b1919a",
   "metadata": {},
   "outputs": [
    {
     "name": "stdout",
     "output_type": "stream",
     "text": [
      "[[5 2]\n",
      " [1 4]]\n"
     ]
    }
   ],
   "source": [
    "from sklearn.metrics import confusion_matrix\n",
    "\n",
    "y_true = [1, 0, 0, 1, 0, 1, 0, 0, 1, 0, 1, 0]\n",
    "y_pred =  [1, 1, 0, 1, 0, 1, 1, 0, 1, 0, 0, 0]\n",
    "confusion_m = confusion_matrix(y_true, y_pred)\n",
    "print(confusion_m)"
   ]
  },
  {
   "cell_type": "markdown",
   "id": "b3d5679c-d91a-44ff-8b1a-eab5c30b1a19",
   "metadata": {},
   "source": [
    "Como vemos acima nos é entregue um array contendo 5, 2, 1, 4 para ilustrar melhor como interpretar vamos criar novamente os dados acima, mas agora usando pandas para que seja possível explicar de uma forma mais simples."
   ]
  },
  {
   "cell_type": "code",
   "execution_count": 39,
   "id": "5e29320c-808a-4f76-8ef2-1c2696a00c5e",
   "metadata": {},
   "outputs": [
    {
     "name": "stdout",
     "output_type": "stream",
     "text": [
      "Predicted  0  1\n",
      "Actual         \n",
      "0          5  2\n",
      "1          1  4\n"
     ]
    }
   ],
   "source": [
    "import pandas as pd\n",
    "\n",
    "data = {'y_Actual':    [1, 0, 0, 1, 0, 1, 0, 0, 1, 0, 1, 0],\n",
    "        'y_Predicted': [1, 1, 0, 1, 0, 1, 1, 0, 1, 0, 0, 0]\n",
    "        }\n",
    "\n",
    "df = pd.DataFrame(data, columns=['y_Actual','y_Predicted'])\n",
    "\n",
    "confusion_matrix = pd.crosstab(df['y_Actual'], df['y_Predicted'], rownames=['Actual'], colnames=['Predicted'])\n",
    "print (confusion_matrix)"
   ]
  },
  {
   "cell_type": "markdown",
   "id": "0ac3b77b-20a4-40a5-ab1b-db581e9a44cb",
   "metadata": {},
   "source": [
    "Agora podemos observar que temos as colunas sendo nomeadas como 0 e 1 assim como as linha. Portanto quando temos a combinação:\n",
    "\n",
    "linha 0 e coluna 0 determinamos **TP (True Positive)**\n",
    "\n",
    "linha 0 e coluna 1 determinamos **FP (False Positive)**\n",
    "\n",
    "linha 1 e coluna 0 determinamos **FN (False Negative)**\n",
    "\n",
    "linha 1 e coluna 1 determinamos **TN (True Negative)**\n",
    "\n",
    "Portanto:"
   ]
  },
  {
   "cell_type": "code",
   "execution_count": 41,
   "id": "46f3c0f5-c316-4582-bef8-4e752f9a9e22",
   "metadata": {},
   "outputs": [
    {
     "name": "stdout",
     "output_type": "stream",
     "text": [
      "\n",
      "TP (True Positive) = 5\n",
      "FP (False Positive) = 2 \n",
      "FN (False Negative) = 1\n",
      "TN (True Negative) = 4\n"
     ]
    }
   ],
   "source": [
    "print(\"\\nTP (True Positive) = {}\\nFP (False Positive) = {} \\nFN (False Negative) = {}\\nTN (True Negative) = {}\".format(\n",
    "                            confusion_m[0][0], confusion_m[0][1],\n",
    "                            confusion_m[1][0], confusion_m[1][1]))"
   ]
  },
  {
   "cell_type": "markdown",
   "id": "a4149d5f-ed0f-488c-80be-c7f85e841764",
   "metadata": {},
   "source": [
    "Ainda podemos criar um mapa de calor usando as bibliotecas seaborn e matplotlib para conseguirmos uma fácil e rápida identificação."
   ]
  },
  {
   "cell_type": "code",
   "execution_count": 13,
   "id": "71c42181-a4e3-4932-ad0d-2881a0f3bd43",
   "metadata": {
    "tags": []
   },
   "outputs": [
    {
     "data": {
      "image/png": "[encoded data removed]",
      "text/plain": [
       "<Figure size 640x480 with 2 Axes>"
      ]
     },
     "metadata": {},
     "output_type": "display_data"
    }
   ],
   "source": [
    "import seaborn as sn\n",
    "import matplotlib.pyplot as plt\n",
    "\n",
    "data = {'y_Actual':    [1, 0, 0, 1, 0, 1, 0, 0, 1, 0, 1, 0],\n",
    "        'y_Predicted': [1, 1, 0, 1, 0, 1, 1, 0, 1, 0, 0, 0]\n",
    "        }\n",
    "\n",
    "df = pd.DataFrame(data, columns=['y_Actual','y_Predicted'])\n",
    "confusion_matrix = pd.crosstab(df['y_Actual'], df['y_Predicted'], rownames=['Actual'], colnames=['Predicted'])\n",
    "\n",
    "sn.heatmap(confusion_matrix, annot=True)\n",
    "plt.show()"
   ]
  },
  {
   "cell_type": "markdown",
   "id": "faca1bc8-8e3a-4759-9246-53bd2f376e47",
   "metadata": {},
   "source": [
    "Podemos determinar a acuracidade do modelo com a fórmula **$\\frac{(TP+TN)}{(TP+TN+FP+FN)} = \\frac{5+4}{5+4+2+1}=\\frac{9}{12}=0.75$** . Abaixo veremos como verificar melhor a eficiência de uma modelo seguindo métricas avaliativas mais completas.\n",
    "\n",
    "Mas antes vamos definir como são calculados o TPR, TNR, FPR e FNR para podermos seguir com os modelos:\n",
    "\n",
    "* **TPR (True Positive Rate)**: $\\frac{TP}{(TP+FN)}$\n",
    "* **FNR (False Negative Rate)**: $\\frac{TN}{(TN+FP)}$\n",
    "\n",
    "* **FPR (False Positive Rate)**: $\\frac{FP}{(FP+TN)}$\n",
    "* **FNR (False Negative Rate)**: $\\frac{FN}{(FN+TP)}$"
   ]
  },
  {
   "cell_type": "markdown",
   "id": "ae6d23e8-043a-4d94-9728-0691d79a45f1",
   "metadata": {},
   "source": [
    "## KS (Kolmogorov-Smirnov)\n",
    "\n",
    "É a diferença máxima entre TPR e FPR.\n",
    "\n",
    "Como computar KS?\n",
    "\n",
    "* **Passo 01**: ume vez que a probabilidade de previsão do modelo foi obtida, as observações são classificadas em ordem decrescente pela pontuação de probabilidade. Dessa forma podemos experar que as linha em cima possam ser classificadas como 1, enquanto as linhas ao fim serão 0.\n",
    "\n",
    "* **Passo 02**: Todas as observações são então divididas em 10 buckets de tamanhos iguais (bins).\n",
    "\n",
    "* **Passo 03**: Então, como falado anteriormente KS é a diferença máxima entre TPR (nesse caso 1) e FPR (nesse caso 0)."
   ]
  }
 ],
 "metadata": {
  "kernelspec": {
   "display_name": "Python 3",
   "language": "python",
   "name": "python3"
  },
  "language_info": {
   "codemirror_mode": {
    "name": "ipython",
    "version": 3
   },
   "file_extension": ".py",
   "mimetype": "text/x-python",
   "name": "python",
   "nbconvert_exporter": "python",
   "pygments_lexer": "ipython3",
   "version": "3.8.11"
  }
 },
 "nbformat": 4,
 "nbformat_minor": 5
}
