{
 "cells": [
  {
   "cell_type": "markdown",
   "metadata": {},
   "source": [
    "# 3.1 - Métricas de avaliação de modelos: Accuracy, Precision, Recall, F1, AUC, Gini, K-S, R2, MAE, RMSE"
   ]
  },
  {
   "cell_type": "markdown",
   "metadata": {},
   "source": [
    "## 3.1.1 - Introdução:"
   ]
  },
  {
   "cell_type": "markdown",
   "metadata": {},
   "source": [
    "Ao usar determinado modelo em Machine Learning, usamos as métricas de avaliação para saber se aquele modelo obteve os resultados esperados. Podemos utilizar mais de uma métrica para garantir que não ocorra nenhum problema de predição do modelo. Mas não podemos escolher qualquer tipo de métrica, pois cada uma delas se encaixa melhor em determinado modelo e situação. E o uso de uma métrica apropriada em um problema, é fundamental para o sucesso em um modelo de Machine Learning."
   ]
  },
  {
   "cell_type": "markdown",
   "metadata": {},
   "source": [
    "### Métricas para modelos de classificação:\n",
    "São as métricas usadas na classificação de problemas, ou seja, decidimos em qual categoria os dados de uma amostra são definidos, por exemplo ao decidir se um email é spam ou não. As classificações binárias são muito usadas, desse modo escolhemos em qual das duas categorias possíveis (0 e 1), que os dados pertencem."
   ]
  },
  {
   "cell_type": "markdown",
   "metadata": {},
   "source": [
    "### Matriz de Confusão:\n",
    "Também chamada de matriz de erro, é uma forma bem simples e comum de entender e visualizar a performance de um modelo de classificação. Ela consiste por uma matriz de duas linhas e duas colunas, onde as colunas indicam os valores preditos e as linhas indicam os valores reais. Cada quadrante indica uma combinação específica dos exemplos de um grupo. A matriz permite identificar quantos exemplos foram classificados corretamente e erroneamente. Abaixo estão definidos os respectivos quadrantes:\n",
    "\n",
    "* **Verdadeiro Positivo (TP - True Positive):** valores positivos que o modelo conseguiu classificar corretamente;\n",
    "* **Falso Positivo (FP - False Positive):** valores negativos que o modelo previu como valores positivos;\n",
    "* **Falso Negativo (FN - False Negative):** valores positivos que o modelo previu como valores negativos;\n",
    "* **Verdadeiro Negativo (TN - True Negative):** valores negativos que o modelo conseguiu classificar corretamente.\n",
    "<img src=\"https://diegonogare.net/wp-content/uploads/2020/04/matrizConfusao-600x381.png\" width=500px></img>"
   ]
  },
  {
   "cell_type": "markdown",
   "metadata": {},
   "source": [
    "## 3.1.2 - Acurácia (Accuracy):"
   ]
  },
  {
   "cell_type": "markdown",
   "metadata": {},
   "source": [
    "É a métrica mais simples, pois ela representa todos os valores que foram classificados corretamente, independente se a classe for positiva ou negativa. Por conta disso, ela não é muito usada quando os dados não estão balanceados. Apesar de ser uma métrica bem simples e de fácil uso, a sua principal desvantagem é no uso de dados desbalanceados, pois ela passa uma falsa impressão de um bom desempenho. É definida pela fórmula abaixo:\n",
    "* $$\\frac{TP + TN}{TP + TN + FP + FN}$$"
   ]
  },
  {
   "cell_type": "code",
   "execution_count": 3,
   "metadata": {},
   "outputs": [
    {
     "name": "stdout",
     "output_type": "stream",
     "text": [
      "Acurácia: 0.740000\n"
     ]
    }
   ],
   "source": [
    "from sklearn.neighbors import KNeighborsClassifier\n",
    "from sklearn.model_selection import train_test_split\n",
    "from sklearn.metrics import accuracy_score\n",
    "import pandas as pd\n",
    "\n",
    "url = 'https://raw.githubusercontent.com/scudilio/classification_metrics/master/dataset_Social_Network_Ads.csv'\n",
    "data = pd.read_csv(url)\n",
    "\n",
    "y = data['Purchased']\n",
    "X = data.iloc[ :, [2,3]].values\n",
    "\n",
    "x_treino, x_teste, y_treino, y_teste  = train_test_split(X, y, test_size = 0.25, random_state = 1)\n",
    "knn = KNeighborsClassifier()\n",
    "knn.fit(x_treino, y_treino)\n",
    "resultado_knn = knn.predict(x_teste)\n",
    "\n",
    "acuracia = accuracy_score(y_teste, resultado_knn)\n",
    "print('Acurácia: %f' % acuracia)"
   ]
  },
  {
   "cell_type": "markdown",
   "metadata": {},
   "source": [
    "## 3.1.3 - Precisão (Precision):"
   ]
  },
  {
   "cell_type": "markdown",
   "metadata": {},
   "source": [
    "Outra métrica simples que é muito usada. É definida pela razão entre a quantidade de valores classificados corretamente positivos, pelo total de valores classificados como positivos. É definida pela fórmula abaixo:\n",
    "* $$\\frac{TP}{TP + FP}$$"
   ]
  },
  {
   "cell_type": "markdown",
   "metadata": {},
   "source": [
    "## 3.1.4 - Recall:"
   ]
  },
  {
   "cell_type": "markdown",
   "metadata": {},
   "source": [
    "Esta métrica é o inverso da métrica Precision, pois ela considera dá uma maior ênfase para os erros falsos, enquanto a Precision dá maior ênfase aos erros positivos. É definida pela razão entre a quantidade de valores classificados corretamente positivos, pelos valores que foram classificados corretamente, tanto os positivos quanto os negativos. É definida pela fórmula abaixo:\n",
    "* $$\\frac{TP}{TP + FN}$$"
   ]
  },
  {
   "cell_type": "markdown",
   "metadata": {},
   "source": [
    "## 3.1.5 - F1 Score:"
   ]
  },
  {
   "cell_type": "markdown",
   "metadata": {},
   "source": [
    "É a métrica definida pela média harmônica entre a Precision e a Recall. Desta maneira esta métrica é boa quando temos um conjunto de dados com classes desbalanceados, e o modelo não emite probabilidades. Se a Precision ou o Recall forem zero ou um valor próximo disso, o F1 - Score também será baixo. Em contra partida, se as duas métricas forem um valor alto, o F1 também será alto. É definido pela fórmula abaixo:\n",
    "* $$F_{1} = 2 * \\frac{Precision * Recall}{Precision + Recall}$$"
   ]
  },
  {
   "cell_type": "code",
   "execution_count": 3,
   "metadata": {},
   "outputs": [
    {
     "name": "stdout",
     "output_type": "stream",
     "text": [
      "Precision: 0.701493\n",
      "Recall: 0.552941\n",
      "F1 score: 0.618421\n"
     ]
    }
   ],
   "source": [
    "import warnings\n",
    "from sklearn import model_selection\n",
    "from sklearn.linear_model import LogisticRegression\n",
    "from sklearn.metrics import log_loss\n",
    "from sklearn.metrics import precision_recall_fscore_support as score, precision_score, recall_score, f1_score\n",
    "\n",
    "warnings.filterwarnings('ignore')\n",
    "\n",
    "url = \"https://raw.githubusercontent.com/jbrownlee/Datasets/master/pima-indians-diabetes.data.csv\"\n",
    "dataframe = pd.read_csv(url)\n",
    "dat = dataframe.values\n",
    "X = dat[:,:-1]\n",
    "y = dat[:,-1]\n",
    "test_size = 0.33\n",
    "seed = 7\n",
    "\n",
    "model = LogisticRegression()\n",
    "#split data\n",
    "X_train, X_test, y_train, y_test = model_selection.train_test_split(X, y, test_size=test_size, random_state=seed)\n",
    "model.fit(X_train, y_train)\n",
    "pred = model.predict(X_test)\n",
    "\n",
    "precision = precision_score(y_test, pred)\n",
    "print('Precision: %f' % precision)\n",
    "\n",
    "recall = recall_score(y_test, pred)\n",
    "print('Recall: %f' % recall)\n",
    "\n",
    "f1 = f1_score(y_test, pred)\n",
    "print('F1 score: %f' % f1)"
   ]
  },
  {
   "cell_type": "markdown",
   "metadata": {},
   "source": [
    "## 3.1.6 - AUC (Area Under the Curve):"
   ]
  },
  {
   "cell_type": "markdown",
   "metadata": {},
   "source": [
    "Para entendermos o que é AUC, antes precisamos entender outros conceitos:\n",
    "* **Sensibilidade ou Recall (TPR):** Definida pela seguinte fórmula:\n",
    " $\\frac{TP}{TP + FN}$\n",
    "\n",
    "* **Especifidade (FPR):** Definida pela seguinte fórmula:\n",
    " $\\frac{FP}{FP + TN}$\n",
    " \n",
    "\n",
    "* **Curva ROC (Receiver Operating Characteristic):** É muito utilizada para avaliar a performance de um classificador para diferentes liminares de classificação. É definida pela relação entre TPR e FPR. Uma vantagem da curva ROC, é a possibilidade de escolher o ponto de corte que otimiza o desempenho do modelo.\n",
    "\n",
    "Com esses conceitos definidos, podemos entender o que é AUC:\n",
    "* **AUC (Area Under the Curve) ou AUROC (Area Under the ROC curve):** É a área sob a curva ROC, que pode ser utilizada como uma métrica de qualidade de um modelo, pois quanto mais próxima a curva estiver do canto superior esquerdo, maior será o AUC e melhor será o modelo. Esta métrica não é sensível aos dados desbalanceados, desta forma ela se comporta melhor com estes tipos de dados, assim sendo mais eficiente que a acúracia."
   ]
  },
  {
   "cell_type": "code",
   "execution_count": 2,
   "metadata": {},
   "outputs": [
    {
     "name": "stdout",
     "output_type": "stream",
     "text": [
      "AUC - Test Set: 82.85%\n"
     ]
    },
    {
     "data": {
      "image/png": "[encoded data removed]",
      "text/plain": [
       "<Figure size 432x288 with 1 Axes>"
      ]
     },
     "metadata": {
      "needs_background": "light"
     },
     "output_type": "display_data"
    }
   ],
   "source": [
    "from sklearn.metrics import roc_auc_score, roc_curve\n",
    "import matplotlib.pyplot as plt \n",
    "\n",
    "warnings.filterwarnings('ignore')\n",
    "\n",
    "# predict probabilities\n",
    "probs = model.predict_proba(X_test)\n",
    "# keep probabilities for the positive outcome only\n",
    "probs = probs[:, 1]\n",
    "\n",
    "auc = roc_auc_score(y_test, probs)\n",
    "print('AUC - Test Set: %.2f%%' % (auc*100))\n",
    "\n",
    "# calculate roc curve\n",
    "fpr, tpr, thresholds = roc_curve(y_test, probs)\n",
    "# plot no skill\n",
    "plt.plot([0, 1], [0, 1], linestyle='--')\n",
    "# plot the roc curve for the model\n",
    "plt.plot(fpr, tpr, marker='.')\n",
    "plt.xlabel('Especifidade (FPR)')\n",
    "plt.ylabel('Sensibilidade ou Recall (TPR)')\n",
    "# show the plot\n",
    "plt.show()"
   ]
  },
  {
   "cell_type": "markdown",
   "metadata": {},
   "source": [
    "## 3.1.7 - Gini:"
   ]
  },
  {
   "cell_type": "markdown",
   "metadata": {},
   "source": [
    "Também chamada de coeficiente Gini ou índice Gini, é uma métrica usada quando temos dados não balanceados. O valor do coeficiente varia de 0 a 1, onde 0 representa uma igualdade perfeita e 1 representa uma desigualdade perfeita. Se o valor do índice for alto, os dados serão mais dispersos. Essa métrica pode ser calculada através da AUC. É definida pela fórmula abaixo:\n",
    "* $$Gini = (2 * AUC) - 1$$"
   ]
  },
  {
   "cell_type": "code",
   "execution_count": 9,
   "metadata": {},
   "outputs": [
    {
     "data": {
      "text/plain": [
       "<matplotlib.legend.Legend at 0x29695fcbc10>"
      ]
     },
     "execution_count": 9,
     "metadata": {},
     "output_type": "execute_result"
    },
    {
     "data": {
      "image/png": "[encoded data removed]",
      "text/plain": [
       "<Figure size 432x288 with 1 Axes>"
      ]
     },
     "metadata": {
      "needs_background": "light"
     },
     "output_type": "display_data"
    }
   ],
   "source": [
    "import numpy as np\n",
    "\n",
    "def G(v):\n",
    "    bins = np.linspace(0., 100., 11)\n",
    "    total = float(np.sum(v))\n",
    "    yvals = []\n",
    "    for b in bins:\n",
    "        bin_vals = v[v <= np.percentile(v, b)]\n",
    "        bin_fraction = (np.sum(bin_vals) / total) * 100.0\n",
    "        yvals.append(bin_fraction)\n",
    "    # perfect equality area\n",
    "    pe_area = np.trapz(bins, x=bins)\n",
    "    # lorenz area\n",
    "    lorenz_area = np.trapz(yvals, x=bins)\n",
    "    gini_val = (pe_area - lorenz_area) / float(pe_area)\n",
    "    return bins, yvals, gini_val\n",
    "\n",
    "v = np.random.rand(500)\n",
    "bins, result, gini_val = G(v)\n",
    "plt.figure()\n",
    "plt.subplot(2, 1, 1)\n",
    "plt.plot(bins, result, label=\"observed\")\n",
    "plt.plot(bins, bins, '--', label=\"perfect eq.\")\n",
    "plt.xlabel(\"fraction of population\")\n",
    "plt.ylabel(\"fraction of wealth\")\n",
    "plt.title(\"GINI: %.4f\" %(gini_val))\n",
    "plt.legend()"
   ]
  },
  {
   "cell_type": "markdown",
   "metadata": {},
   "source": [
    "## 3.1.8 - K-S (Kolmogorov-Smirnov):"
   ]
  },
  {
   "cell_type": "markdown",
   "metadata": {},
   "source": [
    "Esta métrica mede a performance dos modelos de classificação. É definido pelo grau de separação entre as distribuições positivas e negativas. O valor de K-S varia de 0 a 100, onde 100 indica que ocorreu uma separação do grupo de dados em duas partes, onde um grupo contém todos os positivos e o outro os negativos. E se o K-S não conseguir diferenciar os valores postivos dos negativos, ele escolhe casos randomicamente da população. A estatística de K–S para uma certa f.d.a F(x) é definida pela fórmula abaixo:\n",
    "* $$D_{n} = sup_{x}[|F(x) - S(x)|]$$\n",
    "\n",
    "A imagem abaixo mostra o K-S sobre uma classificação de homens e mulheres:\n",
    "\n",
    "<img src=\"https://i.stack.imgur.com/eN3mW.png\" width=500px></img>"
   ]
  },
  {
   "cell_type": "markdown",
   "metadata": {},
   "source": [
    "### Métricas para modelos de regressão:\n",
    "São métricas usadas em modelos de regressão, ou seja, em modelos onde nós conseguimos estimar a relação entre duas variáveis. Utilizando a regressão como ferramenta, conseguimos entender o presente para estimar o futuro."
   ]
  },
  {
   "cell_type": "markdown",
   "metadata": {},
   "source": [
    "## 3.1.9 - R² (R-Quadrado):"
   ]
  },
  {
   "cell_type": "markdown",
   "metadata": {},
   "source": [
    "É uma métrica muito usada na área de finanças. Ela determina a porcentagem da variância que vai ser prevista pelo modelo, ou seja, ela diz o quão próximo as medidas reais estão do nosso modelo. Os valores variam de 0 a 1 e geralmente é transformado em porcentagem. É definida pela fórmula abaixo:\n",
    "* $$R^{2} = 1 - \\frac{Variancia Residual}{Variancia Total}$$\n",
    "\n",
    "<img src=\"https://miro.medium.com/max/700/1*ovulJZVeDOHyTqlzSLnQAg.png\"></img>"
   ]
  },
  {
   "cell_type": "code",
   "execution_count": 5,
   "metadata": {},
   "outputs": [
    {
     "name": "stdout",
     "output_type": "stream",
     "text": [
      "R2:  0.5157379964034983\n"
     ]
    }
   ],
   "source": [
    "import pandas_datareader.data as web\n",
    "from sklearn.linear_model import LinearRegression\n",
    "from sklearn.metrics import r2_score\n",
    "from datetime import datetime as dt\n",
    "\n",
    "dt_inicio = '2021-01-01'\n",
    "hoje = f'{dt.today().year}-{dt.today().month}-{dt.today().day}'\n",
    "dt_final = hoje\n",
    "\n",
    "ibov = web.DataReader('^BVSP', data_source='yahoo', start=dt_inicio, end=dt_final)\n",
    "ibov = ibov.drop(columns=['Volume'])\n",
    "\n",
    "X_train, X_test, y_train, y_test = train_test_split(X, y,test_size=0.3, random_state=0) \n",
    "\n",
    "model = LinearRegression()\n",
    "model.fit(X_train,y_train)\n",
    "y_pred = model.predict(X_test)\n",
    "r2 = r2_score(y_test,y_pred)\n",
    "print('R2: ', r2)"
   ]
  },
  {
   "cell_type": "markdown",
   "metadata": {},
   "source": [
    "## 3.1.10 - MAE (Mean Absolute Error):"
   ]
  },
  {
   "cell_type": "markdown",
   "metadata": {},
   "source": [
    "Esta métrica é definida como o erro absoluto médio, ou seja, consiste na média das distâncias entre os valores reais e preditos. O valor mínimo é 0 e não apresenta um valor máximo. É uma métrica usada para modelos que devem prever muitos dados ou dados sazonais. Um uso interessante, é sobre as previsões de números de casos de uma doença. É definida pela fórmula abaixo:\n",
    "* $$MAE = \\frac{1}{n}\\sum_{i=1}^{n}\\left |\\hat{y}_{i} - y_{i} \\right |$$"
   ]
  },
  {
   "cell_type": "code",
   "execution_count": 6,
   "metadata": {},
   "outputs": [
    {
     "name": "stdout",
     "output_type": "stream",
     "text": [
      "MAE:  0.2696995647488142\n"
     ]
    }
   ],
   "source": [
    "from sklearn.metrics import mean_absolute_error\n",
    "\n",
    "MAE = mean_absolute_error(y_test,y_pred)\n",
    "print('MAE: ', MAE)"
   ]
  },
  {
   "cell_type": "markdown",
   "metadata": {},
   "source": [
    "## 3.1.11 - RMSE (Root Mean Square Error):"
   ]
  },
  {
   "cell_type": "markdown",
   "metadata": {},
   "source": [
    "Para entender esta métrica, devemos definir a métrica MSE (Mean Squared Error):\n",
    "\n",
    "* **MSE (Mean Squared Error):** É definida como o erro quadrático médio, ou seja, consiste na média dos erros de previsões ao quadrado. Esta métrica usa a diferença entre o valor real e o valor predito pelo modelo e eleva ao quadrado, faz isso com os outros pontos, soma-os e divide-se pelo número de valores preditos. E quanto maior esse resultado, pior é o modelo que estamos trabalhando. É muito utilizada em problemas onde grandes erros não são tolerados, por exemplo, em exames médicos e projeções de preços no mercado financeiro.\n",
    "\n",
    "* **RMSE (Root Mean Squared Error):** É definida como a raiz do erro quadrático médio, ou seja, é uma métrica que deseja otimizar a MSE, porém assim como a MSE, ela penaliza predições muito distantes da real. É definida pela fórmula abaixo:\n",
    "* $$RMSE = \\sqrt{\\frac{1}{n}\\sum_{i=1}^{n} (\\hat{y}_{i} - y_{i})^{2}}$$"
   ]
  },
  {
   "cell_type": "code",
   "execution_count": 7,
   "metadata": {},
   "outputs": [
    {
     "name": "stdout",
     "output_type": "stream",
     "text": [
      "RMSE:  0.3300383636842959\n"
     ]
    }
   ],
   "source": [
    "from sklearn.metrics import mean_squared_error\n",
    "\n",
    "RMSE = mean_squared_error(y_test,y_pred,squared=False) \n",
    "print('RMSE: ', RMSE)"
   ]
  },
  {
   "cell_type": "markdown",
   "metadata": {},
   "source": [
    "## 3.1.12 - Conclusão:"
   ]
  },
  {
   "cell_type": "markdown",
   "metadata": {},
   "source": [
    "Os erros médios absolutos e quadráticos conseguem ter um desempenho melhor quando se trata de tendências, e isso é muito interessante no mercado financeiro, pois ele se move em tendências, nesse caso poderiamos usar o MAE e o MSE para prever os preços de ativos dentro de tendências.\n",
    "\n",
    "<img src=\"https://www.bussoladoinvestidor.com.br/wp-content/uploads/2013/04/tendencias_analise_tecnica.jpg\"></img>"
   ]
  }
 ],
 "metadata": {
  "kernelspec": {
   "display_name": "Python 3",
   "language": "python",
   "name": "python3"
  },
  "language_info": {
   "codemirror_mode": {
    "name": "ipython",
    "version": 3
   },
   "file_extension": ".py",
   "mimetype": "text/x-python",
   "name": "python",
   "nbconvert_exporter": "python",
   "pygments_lexer": "ipython3",
   "version": "3.8.5"
  }
 },
 "nbformat": 4,
 "nbformat_minor": 5
}
