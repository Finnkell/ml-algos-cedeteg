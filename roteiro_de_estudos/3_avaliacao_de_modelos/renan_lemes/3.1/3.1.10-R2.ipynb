{
 "cells": [
  {
   "cell_type": "markdown",
   "source": [
    "# Coeficiente de determinação - R2."
   ],
   "metadata": {}
  },
  {
   "cell_type": "markdown",
   "source": [
    "É a proporção da variação na variável dependente que é previsível a partir da (s) variável (is) independente (s), ultilizado no contexto de modelos estátisticos cujo objetivo principal é a previsão de resultados futuros ou teste de hipótese, com base em outras informações relacionadas. Ele fornece uma medida de quão bem os resultados observados são replicados pelo modelo, com base na proporção da variação total."
   ],
   "metadata": {}
  },
  {
   "cell_type": "markdown",
   "source": [
    "Um conjunto de dados tem $n$ valores marcados $y_1,...,y_n$ conhecidos coletivamentes como $y_i$ ou como um vetor $y = { y_1, ... , y_n}$ cada um associado a um ajuste, o valor $f_1 , ..., f_n$ então temos:\r\n",
    "* $\\widehat{y}$ é a média dos dados observado.\r\n",
    "$$ \\widehat{y} = \\frac{1}{n} \\sum^{n}_{i=1} y_i$$\r\n",
    "* a soma total dos quadrados.\r\n",
    "$$SS_{tot} = \\sum_{i} (y_i - \\widehat{y})$$\r\n",
    "* A soma dos quadrados dos resíduos, também chamado de soma dos quadrados residuais:\r\n",
    "$$SS_{res} = \\sum_{i} (y_i - f_i)^2 = \\sum_{i} e^{2}_{i}$$\r\n",
    "* Então a definição mais geral do coeficiente de determinação é:\r\n",
    "$$ R^2 = 1 - \\frac{SS_{res}}{SS_{tot}}$$"
   ],
   "metadata": {}
  },
  {
   "cell_type": "markdown",
   "source": [
    "# Gráfico.\r\n",
    "\r\n",
    "![img](https://upload.wikimedia.org/wikipedia/commons/thumb/8/86/Coefficient_of_Determination.svg/800px-Coefficient_of_Determination.svg.png)\r\n",
    "\r\n",
    "* $SS_{res} $ azul.\r\n",
    "* $SS_{tot}$ vermelho.\r\n"
   ],
   "metadata": {}
  },
  {
   "cell_type": "markdown",
   "source": [
    "# Prática."
   ],
   "metadata": {}
  },
  {
   "cell_type": "code",
   "execution_count": 1,
   "source": [
    "from sklearn.metrics import r2_score\r\n",
    "y_true = [3, -0.5, 2, 7]\r\n",
    "y_pred = [2.5, 0.0, 2, 8]\r\n",
    "r2_score(y_true, y_pred)"
   ],
   "outputs": [
    {
     "output_type": "execute_result",
     "data": {
      "text/plain": [
       "0.9486081370449679"
      ]
     },
     "metadata": {},
     "execution_count": 1
    }
   ],
   "metadata": {}
  }
 ],
 "metadata": {
  "orig_nbformat": 4,
  "language_info": {
   "name": "python",
   "version": "3.9.0",
   "mimetype": "text/x-python",
   "codemirror_mode": {
    "name": "ipython",
    "version": 3
   },
   "pygments_lexer": "ipython3",
   "nbconvert_exporter": "python",
   "file_extension": ".py"
  },
  "kernelspec": {
   "name": "python3",
   "display_name": "Python 3.9.0 64-bit"
  },
  "interpreter": {
   "hash": "63fd5069d213b44bf678585dea6b12cceca9941eaf7f819626cde1f2670de90d"
  }
 },
 "nbformat": 4,
 "nbformat_minor": 2
}