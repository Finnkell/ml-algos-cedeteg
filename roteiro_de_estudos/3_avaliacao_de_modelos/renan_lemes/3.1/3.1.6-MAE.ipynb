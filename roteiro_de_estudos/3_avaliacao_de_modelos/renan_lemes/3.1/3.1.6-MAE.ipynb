{
 "cells": [
  {
   "cell_type": "markdown",
   "source": [
    "# Mean absolute error - MAE.\r\n",
    "O erro médio absoluto é uma media de erros entre observações pareadas que expressam o mesmo fenômeno\r\n",
    "$$MAE = \\frac{\\sum^{n}_{i=1} |y_i - x_i|}{n} = \\frac{\\sum^{n}_{i=1} e^i}{n}$$\r\n",
    "$\\newline$ Portanto é uma média aritmética dos erros absolutos $|e_i| = |y_i - x_i|$, onde $y_i$ é a previsão e $x_i$ o verdadeiro valor. Podemos notar que alternativas podem incluir frequências relativas como fatores de peso, o erro absoluto é uma medida comum de erro de previsão na análise de série temporal."
   ],
   "metadata": {}
  },
  {
   "cell_type": "markdown",
   "source": [
    "# Diferença entre MSE RSME e MAE.\r\n",
    "* MSE é uma função diferenciável que torna fácil realizar operações matemáticas em comparação com uma função não diferenciável como MAE. Portanto, em muitos modelos, o RMSE é usado como uma métrica padrão para calcular a Função de Perda, apesar de ser mais difícil de interpretar do que o MAE.\r\n",
    "* O erro quadrático médio (MSE) e o erro quadrático médio penalizam os grandes erros de predição em relação ao erro médio absoluto (MAE). No entanto, RMSE é amplamente usado do que MSE para avaliar o desempenho do modelo de regressão com outros modelos aleatórios, pois tem as mesmas unidades que a variável dependente (eixo Y).\r\n",
    "* O MAE é mais robusto para dados com outliers.\r\n",
    "* O menor valor de MAE, MSE e RMSE implica maior precisão de um modelo de regressão. No entanto, um valor mais alto de R ao quadrado é considerado desejável."
   ],
   "metadata": {}
  },
  {
   "cell_type": "markdown",
   "source": [
    "# Grafico.\r\n"
   ],
   "metadata": {}
  },
  {
   "cell_type": "markdown",
   "source": [
    "![img](https://miro.medium.com/max/1838/1*e87x2_8AG_LcQecdhwwPVA.png)"
   ],
   "metadata": {}
  },
  {
   "cell_type": "markdown",
   "source": [
    "# Pratica."
   ],
   "metadata": {}
  }
 ],
 "metadata": {
  "orig_nbformat": 4,
  "language_info": {
   "name": "python"
  }
 },
 "nbformat": 4,
 "nbformat_minor": 2
}