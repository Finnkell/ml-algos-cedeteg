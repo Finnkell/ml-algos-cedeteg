{
 "cells": [
  {
   "cell_type": "code",
   "execution_count": null,
   "source": [],
   "outputs": [],
   "metadata": {}
  },
  {
   "cell_type": "markdown",
   "source": [
    "# Mean absolute error - MAE.\r\n",
    "O erro médio absoluto é uma media de erros entre observações pareadas que expressam o mesmo fenômeno\r\n",
    "$$MAE = \\frac{\\sum^{n}_{i=1} |y_i - x_i|}{n} = \\frac{\\sum^{n}_{i=1} e^i}{n}$$\r\n",
    "$\\newline$ Portanto é uma média aritmética dos erros absolutos $|e_i| = |y_i - x_i|$, onde $y_i$ é a previsão e $x_i$ o verdadeiro valor. Podemos notar que alternativas podem incluir frequências relativas como fatores de peso, o erro absoluto é uma medida comum de erro de previsão na análise de série temporal."
   ],
   "metadata": {}
  },
  {
   "cell_type": "markdown",
   "source": [
    "# Diferença entre MSE RSME e MAE.\r\n",
    "* MSE é uma função diferenciável que torna fácil realizar operações matemáticas em comparação com uma função não diferenciável como MAE. Portanto, em muitos modelos, o RMSE é usado como uma métrica padrão para calcular a Função de Perda, apesar de ser mais difícil de interpretar do que o MAE.\r\n",
    "* O erro quadrático médio (MSE) e o erro quadrático médio penalizam os grandes erros de predição em relação ao erro médio absoluto (MAE). No entanto, RMSE é amplamente usado do que MSE para avaliar o desempenho do modelo de regressão com outros modelos aleatórios, pois tem as mesmas unidades que a variável dependente (eixo Y).\r\n",
    "* O MAE é mais robusto para dados com outliers.\r\n",
    "* O menor valor de MAE, MSE e RMSE implica maior precisão de um modelo de regressão. No entanto, um valor mais alto de R ao quadrado é considerado desejável."
   ],
   "metadata": {}
  },
  {
   "cell_type": "markdown",
   "source": [
    "# Grafico.\r\n"
   ],
   "metadata": {}
  },
  {
   "cell_type": "markdown",
   "source": [
    "![img](https://miro.medium.com/max/1838/1*e87x2_8AG_LcQecdhwwPVA.png)"
   ],
   "metadata": {}
  },
  {
   "cell_type": "markdown",
   "source": [
    "# Pratica."
   ],
   "metadata": {}
  },
  {
   "cell_type": "code",
   "execution_count": 4,
   "source": [
    "import pandas as pd\r\n",
    "from sklearn.metrics import mean_absolute_error\r\n",
    "import matplotlib.pyplot as plt \r\n"
   ],
   "outputs": [],
   "metadata": {}
  },
  {
   "cell_type": "code",
   "execution_count": 6,
   "source": [
    "y_true = [3, -0.5, 2, 7]\r\n",
    "y_pred = [2.5, 0.0, 2, 8]\r\n",
    "\r\n",
    "mean_absolute_error(y_true,y_pred)\r\n"
   ],
   "outputs": [
    {
     "output_type": "execute_result",
     "data": {
      "text/plain": [
       "0.5"
      ]
     },
     "metadata": {},
     "execution_count": 6
    }
   ],
   "metadata": {}
  },
  {
   "cell_type": "code",
   "execution_count": 15,
   "source": [
    "y_true = [[0.5, 1], [-1, 1], [7, -6]]\r\n",
    "y_pred = [[0, 2], [-1, 2], [8, -5]]\r\n",
    "x = mean_absolute_error(y_true, y_pred)\r\n",
    "x"
   ],
   "outputs": [
    {
     "output_type": "execute_result",
     "data": {
      "text/plain": [
       "0.75"
      ]
     },
     "metadata": {},
     "execution_count": 15
    }
   ],
   "metadata": {}
  },
  {
   "cell_type": "code",
   "execution_count": 20,
   "source": [
    "y = mean_absolute_error(y_true, y_pred, multioutput='raw_values')\r\n",
    "y"
   ],
   "outputs": [
    {
     "output_type": "execute_result",
     "data": {
      "text/plain": [
       "array([0.5, 1. ])"
      ]
     },
     "metadata": {},
     "execution_count": 20
    }
   ],
   "metadata": {}
  },
  {
   "cell_type": "code",
   "execution_count": 19,
   "source": [
    "\r\n",
    "z = mean_absolute_error(y_true, y_pred, multioutput=[0.3, 0.7])\r\n",
    "z"
   ],
   "outputs": [
    {
     "output_type": "execute_result",
     "data": {
      "text/plain": [
       "0.85"
      ]
     },
     "metadata": {},
     "execution_count": 19
    }
   ],
   "metadata": {}
  },
  {
   "cell_type": "code",
   "execution_count": 45,
   "source": [
    "bins = x\r\n",
    "result = y\r\n",
    "mae = z\r\n"
   ],
   "outputs": [],
   "metadata": {}
  }
 ],
 "metadata": {
  "orig_nbformat": 4,
  "language_info": {
   "name": "python",
   "version": "3.9.0",
   "mimetype": "text/x-python",
   "codemirror_mode": {
    "name": "ipython",
    "version": 3
   },
   "pygments_lexer": "ipython3",
   "nbconvert_exporter": "python",
   "file_extension": ".py"
  },
  "kernelspec": {
   "name": "python3",
   "display_name": "Python 3.9.0 64-bit"
  },
  "interpreter": {
   "hash": "63fd5069d213b44bf678585dea6b12cceca9941eaf7f819626cde1f2670de90d"
  }
 },
 "nbformat": 4,
 "nbformat_minor": 2
}