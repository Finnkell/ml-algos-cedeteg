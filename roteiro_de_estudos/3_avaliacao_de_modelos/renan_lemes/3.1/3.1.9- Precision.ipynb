{
 "cells": [
  {
   "cell_type": "markdown",
   "source": [
    "# Precison."
   ],
   "metadata": {}
  },
  {
   "cell_type": "markdown",
   "source": [
    "A precisão é a fração de instânciais relevantes entre as instâncias recuperadas, enquanto a recuperação ou sensibilidade, que é a fração de instância relevantes que foram recuperadas, a precisão e a recuperação são, portanto, baseadas na relevâncias.\r\n",
    "* Exemplo.\r\n",
    "$\\newline$ Considere um programa de computador para reconhecer cães (o elemento relevante ) em uma coleção digitalizada de fotografias . Ao fazer uma consulta , o programa identifica oito cães em uma imagem contendo dez gatos e doze cães, e dos oito que identifica como cães, cinco são na verdade cães (verdadeiros positivos), enquanto os outros três são gatos (falsos positivos). Sete cães foram perdidos (falsos negativos) e sete gatos foram corretamente excluídos (negativos verdadeiros). A precisão do programa é então 5/8 (verdadeiros positivos / elementos selecionados), enquanto sua recuperação é 5/12 (verdadeiros positivos / elementos relevantes).\r\n",
    "$\\newline$ Quando um mecanismo de pesquisa retorna 30 páginas, das quais apenas 20 são relevantes, embora não retorne 40 páginas relevantes adicionais, sua precisão é 20/30 = 2/3, o que nos diz quão válidos são os resultados, enquanto sua recuperação é 20 / 60 = 1/3, o que nos diz o quão completos são os resultados."
   ],
   "metadata": {}
  },
  {
   "cell_type": "markdown",
   "source": [
    "No campo de recuperação de informações, a precisão é a fração dos documentos que são relevantes para a consulta:\r\n",
    "$$precision = \\frac{|relevant documents \\cap retrieved documents|}{|retrieved documents|}$$"
   ],
   "metadata": {}
  },
  {
   "cell_type": "markdown",
   "source": [
    "## Quando usar o método.\r\n",
    "A precisão pode ser usada em uma situação em que os Falsos Positivos são considerados mais prejudiciais que os Falsos Negativos. Por exemplo, ao classificar uma ação como um bom investimento, é necessário que o modelo esteja correto, mesmo que acabe classificando bons investimentos como maus investimentos (situação de Falso Negativo) no processo. Ou seja, o modelo deve ser preciso em suas classificações, pois a partir do momento que consideramos um investimento bom quando na verdade ele não é, uma grande perda de dinheiro pode acontecer."
   ],
   "metadata": {}
  },
  {
   "cell_type": "markdown",
   "source": [
    "# Prática.\r\n",
    "* Se encontra no arquivo *(3.1.7-8-9_Pratica)*."
   ],
   "metadata": {}
  }
 ],
 "metadata": {
  "orig_nbformat": 4,
  "language_info": {
   "name": "python"
  }
 },
 "nbformat": 4,
 "nbformat_minor": 2
}