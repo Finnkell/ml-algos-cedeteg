{
 "cells": [
  {
   "cell_type": "markdown",
   "source": [
    "# Teste de Kolmogorov-Smirnov.\r\n",
    "\r\n"
   ],
   "metadata": {}
  },
  {
   "cell_type": "markdown",
   "source": [
    "## Definição.\r\n",
    "A estatística de Kolmogorov–Smirnov quantifica a distância entre a função distribuição empírica da amostra e a função distribuição acumulada da distribuição de referência ou entre as funções distribuição empírica de duas amostras. A distribuição nula desta estatística é calculada sob a hipótese nula de que a amostra é retirada da distribuição de referência (no caso uniamostral) ou de que as amostras são retiradas da mesma distribuição (no caso biamostral). Em cada caso, as distribuições consideradas sob a hipótese nula são distribuições contínuas, mas não restritas.\r\n",
    "$\\newline$ O teste K–S biamostral é um dos métodos não paramétricos mais úteis e difundidos para a comparação de duas amostras, já que é sensível a diferenças tanto no local, como na forma das funções distribuição acumulada empírica das duas amostras."
   ],
   "metadata": {}
  },
  {
   "cell_type": "markdown",
   "source": [
    "### Kolmogorov-Smirnov\r\n",
    "Para uma distribuição impirica:\r\n",
    "$$F_n(x) = \\frac{1}{n} \\sum^{n}_{i=1} I_{[-\\infty,x ]} (X_i)$$\r\n",
    "Função Indicadora:\r\n",
    "$$I_{[-\\infty,x ]} =   \\begin{cases}\r\n",
    " & \\text{ 1 se } x \\in [-\\infty,x ]\\\\ \r\n",
    " & \\text{ 0 se } x \\not\\in [-\\infty,x ]\r\n",
    "\\end{cases}$$\r\n",
    "\r\n",
    "Para uma função distribuição acumulada:\r\n",
    "$$D_n = sup_n|F_n(x) - F(x)|$$"
   ],
   "metadata": {}
  },
  {
   "cell_type": "markdown",
   "source": [
    "## Vantagens.\r\n",
    "* Pode ser aplicado, sem restrição, para pequenas amostras.\r\n",
    "* A distribuição da estátistica K-S não depende da distribuição acumulada que está sendo testada.\r\n",
    "* Ele tem poder assintótico 1.\r\n",
    "* Pode ser usado para obter  as bandas de confiaça para $F(x)$\r\n",
    "## Limitações.\r\n",
    "* Somente se aplica à distribuições contìnuas.\r\n",
    "* Mais próximos ao centro da distribuição do que para as caudas.\r\n",
    "* A distribuição deve ser completamente especificada. Ou seja, se os parâmetros de locação, escala e forma são estimados dos dados, a região crítica do teste K-S não é mais válida."
   ],
   "metadata": {}
  },
  {
   "cell_type": "markdown",
   "source": [
    "## Pratica."
   ],
   "metadata": {}
  },
  {
   "cell_type": "code",
   "execution_count": 3,
   "source": [
    "import numpy as np\r\n",
    "from scipy.stats import kstest\r\n",
    "\r\n",
    "mu,sigma = 0.07, 0.89\r\n",
    "kstest(np.random.normal(mu,sigma,10000),'norm')"
   ],
   "outputs": [
    {
     "output_type": "execute_result",
     "data": {
      "text/plain": [
       "KstestResult(statistic=0.053078481633464514, pvalue=6.307737525545813e-25)"
      ]
     },
     "metadata": {},
     "execution_count": 3
    }
   ],
   "metadata": {}
  },
  {
   "cell_type": "code",
   "execution_count": 5,
   "source": [
    "In [22]: import numpy as np\r\n",
    "In [23]: import scipy.stats as stats\r\n",
    "In [24]: stats.kstest(np.random.normal(0,1,10000),'norm')\r\n",
    "Out[24]: (0.007038739782416259, 0.70477679457831155)"
   ],
   "outputs": [],
   "metadata": {}
  },
  {
   "cell_type": "code",
   "execution_count": 12,
   "source": [
    "data=np.random.normal(mu,sigma,10000)\r\n",
    "normed_data=(data-mu)/sigma\r\n",
    "print(stats.kstest(normed_data,'norm'))"
   ],
   "outputs": [
    {
     "output_type": "stream",
     "name": "stdout",
     "text": [
      "KstestResult(statistic=0.012457512094157908, pvalue=0.08900378227659689)\n"
     ]
    }
   ],
   "metadata": {}
  },
  {
   "cell_type": "code",
   "execution_count": 13,
   "source": [
    "data=np.random.normal(mu,sigma,10000)\r\n",
    "normed_data=(data-mu)/sigma\r\n",
    "print(stats.kstest(normed_data,'norm'))"
   ],
   "outputs": [
    {
     "output_type": "stream",
     "name": "stdout",
     "text": [
      "KstestResult(statistic=0.007667408844326484, pvalue=0.5962981565597276)\n"
     ]
    }
   ],
   "metadata": {}
  },
  {
   "cell_type": "markdown",
   "source": [
    "## Conclusão.\r\n",
    "De acordo com a documentação, o uso do kstest retorna dois números, a KS estatística do teste D e o valor p. Se o valor p for maior que o nível de significância (digamos 5%), então nós não podemos rejeitar a hipótese de que os dados provêm da distribuição fornecida.\r\n",
    "$\\newline$ O que mostra que stats.kstest não pode rejeitar o número esperado de hipóteses nulas se a amostra for normalizada usando a média e o desvio padrão da amostra."
   ],
   "metadata": {}
  },
  {
   "cell_type": "code",
   "execution_count": 15,
   "source": [
    "normed_data = (data - data.mean()) / data.std()\r\n",
    "normed_data"
   ],
   "outputs": [
    {
     "output_type": "execute_result",
     "data": {
      "text/plain": [
       "array([ 0.59350596,  1.86042323,  2.01506618, ...,  0.23074382,\n",
       "        1.59235881, -2.30091472])"
      ]
     },
     "metadata": {},
     "execution_count": 15
    }
   ],
   "metadata": {}
  },
  {
   "cell_type": "markdown",
   "source": [
    "# Gráfico Discritivo KS.\r\n",
    "* Linha vermelha representa a distribuição acumulada.\r\n",
    "* Já a azul é a função distribuição empírica.\r\n",
    "* Seta preta é a K-S.\r\n",
    "\r\n",
    "![img](https://upload.wikimedia.org/wikipedia/commons/c/cf/KS_Example.png)"
   ],
   "metadata": {}
  }
 ],
 "metadata": {
  "orig_nbformat": 4,
  "language_info": {
   "name": "python",
   "version": "3.8.11",
   "mimetype": "text/x-python",
   "codemirror_mode": {
    "name": "ipython",
    "version": 3
   },
   "pygments_lexer": "ipython3",
   "nbconvert_exporter": "python",
   "file_extension": ".py"
  },
  "kernelspec": {
   "name": "python3",
   "display_name": "Python 3.8.11 64-bit ('base': conda)"
  },
  "interpreter": {
   "hash": "f763c5ae1380102371fc37b7f9e900cc55027b2a662d6fbcccf1534945890ce5"
  }
 },
 "nbformat": 4,
 "nbformat_minor": 2
}