{
 "cells": [
  {
   "cell_type": "markdown",
   "source": [
    "# F1 - F-score.\r\n",
    "Na análise estatística da classificação binária , o escore F ou medida F é uma medida da precisão de um teste . É calculado a partir da precisão e recall do teste, onde a precisão é o número de resultados positivos verdadeiros dividido pelo número de todos os resultados positivos, incluindo aqueles não identificados corretamente, e o recall é o número de resultados positivos verdadeiros dividido pelo número de todas as amostras que deveriam ter sido identificadas como positivas. A precisão também é conhecida como valor preditivo positivo e a recuperação também é conhecida como sensibilidade na classificação binária de diagnóstico.\r\n",
    "$\\newline$ A pontuação F 1 é a média harmônica da precisão e recall. O mais genérico score aplica pesos adicionais, valorizando um de precisão ou recall mais do que o outro."
   ],
   "metadata": {}
  },
  {
   "cell_type": "markdown",
   "source": [
    "## Grafico.\r\n",
    "![img](https://media.springernature.com/lw685/springer-static/image/art%3A10.1186%2Fs12864-019-6413-7/MediaObjects/12864_2019_6413_Fig2_HTML.png)"
   ],
   "metadata": {}
  },
  {
   "cell_type": "markdown",
   "source": [
    "## Como calcular.\r\n",
    "* Média harmónica de  precisão e sencibilidade.\r\n",
    "$$F_1 = \\frac{2}{recall^{-1} + precision^{-1}} = 2 \\cdot \\frac{precision \\cdot recall }{precision + recall}$$"
   ],
   "metadata": {}
  },
  {
   "cell_type": "markdown",
   "source": [
    "## Quando usar o método.\r\n",
    "O F1-Score é simplesmente uma maneira de observar somente 1 métrica ao invés de duas (precisão e recall) em alguma situação. É uma média harmônica entre as duas, que está muito mais próxima dos menores valores do que uma média aritmética simples. Ou seja, quando tem-se um F1-Score baixo, é um indicativo de que ou a precisão ou o recall está baixo."
   ],
   "metadata": {}
  },
  {
   "cell_type": "markdown",
   "source": [
    "# Prática."
   ],
   "metadata": {}
  }
 ],
 "metadata": {
  "orig_nbformat": 4,
  "language_info": {
   "name": "python",
   "version": "3.9.0",
   "mimetype": "text/x-python",
   "codemirror_mode": {
    "name": "ipython",
    "version": 3
   },
   "pygments_lexer": "ipython3",
   "nbconvert_exporter": "python",
   "file_extension": ".py"
  },
  "kernelspec": {
   "name": "python3",
   "display_name": "Python 3.9.0 64-bit"
  },
  "interpreter": {
   "hash": "63fd5069d213b44bf678585dea6b12cceca9941eaf7f819626cde1f2670de90d"
  }
 },
 "nbformat": 4,
 "nbformat_minor": 2
}