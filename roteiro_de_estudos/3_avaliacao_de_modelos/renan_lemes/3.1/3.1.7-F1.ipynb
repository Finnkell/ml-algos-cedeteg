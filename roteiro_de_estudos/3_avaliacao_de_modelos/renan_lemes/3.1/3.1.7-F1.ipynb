{
 "cells": [
  {
   "cell_type": "markdown",
   "source": [
    "# F1 - F-score.\r\n",
    "Na análise estatística da classificação binária , o escore F ou medida F é uma medida da precisão de um teste . É calculado a partir da precisão e recall do teste, onde a precisão é o número de resultados positivos verdadeiros dividido pelo número de todos os resultados positivos, incluindo aqueles não identificados corretamente, e o recall é o número de resultados positivos verdadeiros dividido pelo número de todas as amostras que deveriam ter sido identificadas como positivas. A precisão também é conhecida como valor preditivo positivo e a recuperação também é conhecida como sensibilidade na classificação binária de diagnóstico.\r\n",
    "$\\newline$ A pontuação F 1 é a média harmônica da precisão e recall. O mais genérico score aplica pesos adicionais, valorizando um de precisão ou recall mais do que o outro."
   ],
   "metadata": {}
  },
  {
   "cell_type": "markdown",
   "source": [
    "## Grafico.\r\n",
    "\r\n",
    "![img](https://upload.wikimedia.org/wikipedia/commons/thumb/2/26/Precisionrecall.svg/330px-Precisionrecall.svg.png)\r\n",
    "\r\n"
   ],
   "metadata": {}
  },
  {
   "cell_type": "markdown",
   "source": [
    "## Como calcular.\r\n",
    "* Média harmónica de  precisão e sencibilidade.\r\n",
    "$$F_1 = \\frac{2}{recall^{-1} + precision^{-1}} = 2 \\cdot \\frac{precision \\cdot recall }{precision + recall}$$"
   ],
   "metadata": {}
  },
  {
   "cell_type": "markdown",
   "source": [
    "# Prática."
   ],
   "metadata": {}
  },
  {
   "cell_type": "markdown",
   "source": [],
   "metadata": {}
  }
 ],
 "metadata": {
  "orig_nbformat": 4,
  "language_info": {
   "name": "python"
  }
 },
 "nbformat": 4,
 "nbformat_minor": 2
}