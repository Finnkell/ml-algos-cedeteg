{
 "cells": [
  {
   "cell_type": "markdown",
   "source": [
    "# Recall."
   ],
   "metadata": {}
  },
  {
   "cell_type": "markdown",
   "source": [
    "Na recuperação de informações, recall é a fração dos documentos relevantes que são recuperados com sucesso.\r\n",
    "$$recall = \\frac{|{relevant documents} \\cap {retrieved documents}|}{|relevant documents|}$$\r\n",
    "$\\newline$ Exemplo, para uma pesquisa de texto em um conjunto de documentos, recall é o número de resultados corretos dividido pelo número de resultados que deveriam ter sido retornados.\r\n",
    "$\\newline$ Na classificação binária, a recordação é chamada de sensibilidade, pode ser visto como a probabilidade de que um documento relevante seja recuperado pela consulta, é trivial atingir 100% de recuperação retornando todos os documentos em resposta a qualquer consulta, ou seja, a recuperação por si só não é suficiente, mas também é necessário medir o número de documentos não relevantes."
   ],
   "metadata": {}
  },
  {
   "cell_type": "markdown",
   "source": [
    "## Gráfico.\r\n",
    "![img](https://upload.wikimedia.org/wikipedia/commons/thumb/2/26/Precisionrecall.svg/330px-Precisionrecall.svg.png)"
   ],
   "metadata": {}
  },
  {
   "cell_type": "markdown",
   "source": [
    "## Quando usar o método.\r\n",
    "O recall pode ser usada em uma situação em que os Falsos Negativos são considerados mais prejudiciais que os Falsos Positivos. Por exemplo, o modelo deve de qualquer maneira encontrar todos os pacientes doentes, mesmo que classifique alguns saudáveis como doentes (situação de Falso Positivo) no processo. Ou seja, o modelo deve ter alto recall, pois classificar pacientes doentes como saudáveis pode ser uma tragédia."
   ],
   "metadata": {}
  },
  {
   "cell_type": "markdown",
   "source": [
    "# Prática."
   ],
   "metadata": {}
  }
 ],
 "metadata": {
  "orig_nbformat": 4,
  "language_info": {
   "name": "python"
  }
 },
 "nbformat": 4,
 "nbformat_minor": 2
}