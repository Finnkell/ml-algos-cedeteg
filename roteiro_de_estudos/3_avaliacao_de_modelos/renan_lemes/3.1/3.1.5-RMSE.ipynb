{
 "cells": [
  {
   "cell_type": "markdown",
   "source": [
    "# RMSE - Root mean square deviation - Desvio médio quadrático.\r\n",
    "é uma medida frequentemente usada das diferenças entre os valores (valores de amostra ou população) previstos por um modelo ou um estimador e os valores observados. O RMSD representa a raiz quadrada do segundo momento amostral das diferenças entre os valores previstos e os valores observados ou a média quadrática dessas diferenças. Esses desvios são chamados de resíduos quando os cálculos são realizados sobre a amostra de dados que foi usada para a estimativa e são chamados de erros(ou erros de predição) quando calculado fora da amostra. O RMSD serve para agregar as magnitudes dos erros nas previsões para vários pontos de dados em uma única medida de poder preditivo. RMSD é uma medida de precisão para comparar erros de previsão de diferentes modelos para um determinado conjunto de dados e não entre conjuntos de dados, pois depende da escala.\r\n",
    "$\\newline$ O RMSD é sempre não negativo e um valor 0 (quase nunca alcançado na prática) indicaria um ajuste perfeito aos dados. Em geral, um RMSD mais baixo é melhor do que um mais alto. No entanto, as comparações entre diferentes tipos de dados seriam inválidas porque a medida depende da escala dos números usados.\r\n"
   ],
   "metadata": {}
  },
  {
   "cell_type": "markdown",
   "source": [
    "## Como é calculado.\r\n",
    "$$RMSD(\\theta) = \\sqrt{MSE(\\theta)} = \\sqrt{E (\\theta^{'} - \\theta) }$$\r\n",
    "## Medindo a diferença entre duas séries  temporais.\r\n",
    "$$RMSD = \\sqrt{\\frac{\\sum^{T}_{t=1} (x_{1,t} - x_{2,t})^2 }{T}}$$"
   ],
   "metadata": {}
  },
  {
   "cell_type": "markdown",
   "source": [
    "## Erro médio abosluto. \r\n",
    "Alguns pesquisadores recomendaram o uso do erro médio absoluto (MAE) em vez do desvio quadrático médio. O MAE possui vantagens na interpretabilidade sobre o RMSD. MAE é a média dos valores absolutos dos erros. O MAE é fundamentalmente mais fácil de entender do que a raiz quadrada da média dos erros quadrados. Além disso, cada erro influencia o MAE em proporção direta ao valor absoluto do erro, o que não é o caso do RMSD."
   ],
   "metadata": {}
  },
  {
   "cell_type": "markdown",
   "source": [
    "## Grafico.\r\n",
    "\r\n",
    "![img](http://regisely.com/images/rmse-models.png)"
   ],
   "metadata": {}
  },
  {
   "cell_type": "markdown",
   "source": [
    "# Pratica."
   ],
   "metadata": {}
  }
 ],
 "metadata": {
  "orig_nbformat": 4,
  "language_info": {
   "name": "python"
  }
 },
 "nbformat": 4,
 "nbformat_minor": 2
}