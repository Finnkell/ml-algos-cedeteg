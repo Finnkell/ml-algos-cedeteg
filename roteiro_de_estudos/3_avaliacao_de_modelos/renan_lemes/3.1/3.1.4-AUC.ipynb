{
 "cells": [
  {
   "cell_type": "markdown",
   "source": [
    "# AUC.\r\n",
    "O valor do AUC varia de 0,0 até 1,0 e o limiar entre a classe é 0,5. Ou seja, acima desse limite, o algoritmo classifica em uma classe e abaixo na outra classe.\r\n",
    "$\\newline$ Um modelo cujas previsões estão 100% erradas tem uma AUC de 0, enquanto um modelo cujas previsões são 100% corretas tem uma AUC de 1. Cada modelo apresentará um valor de AUC, o que irá te auxiliar na escolha do melhor. AUC fornece uma medida agregada de desempenho em todos os limites de classificação possíveis, uma maneira de interpretar AUC é como a probabilidade de que o modelo classifique um exemplo positivo aleatório mais alto do que um exemplo negativo aleatório. Dados os seguintes exemplos, que são organizados da esquerda para a direita em ordem crescente de previsões de regressão logística:\r\n",
    "\r\n",
    "![img](https://developers.google.com/machine-learning/crash-course/images/AUCPredictionsRanked.svg)\r\n",
    "\r\n",
    "* AUC representa a probabilidade de que um exemplo aleatório positivo (verde) seja posicionado à direita de um exemplo aleatório negativo (vermelho).\r\n",
    "\r\n",
    "* AUC varia em valores de 0 a 1. Um modelo cujas previsões estão 100% erradas tem uma AUC de 0,0; aquele cujas previsões são 100% corretas tem uma AU*C de 1,0."
   ],
   "metadata": {}
  },
  {
   "cell_type": "markdown",
   "source": [
    "# Grafico.\r\n",
    "\r\n",
    "![img](https://developers.google.com/machine-learning/crash-course/images/AUC.svg)\r\n",
    "\r\n",
    "* AUC significa \"Área sob a Curva ROC\". Ou seja, AUC mede toda a área bidimensional abaixo de toda a curva ROC (pense no cálculo integral) de (0,0) a (1,1)"
   ],
   "metadata": {}
  },
  {
   "cell_type": "markdown",
   "source": [
    "## Como é calculado.\r\n",
    "$$AUC_{total} = \\sum_{c_i \\in C} AUC(c_i)p(c_i)$$"
   ],
   "metadata": {}
  },
  {
   "cell_type": "markdown",
   "source": [
    "# Prática."
   ],
   "metadata": {}
  },
  {
   "cell_type": "code",
   "execution_count": null,
   "source": [],
   "outputs": [],
   "metadata": {}
  }
 ],
 "metadata": {
  "orig_nbformat": 4,
  "language_info": {
   "name": "python"
  }
 },
 "nbformat": 4,
 "nbformat_minor": 2
}