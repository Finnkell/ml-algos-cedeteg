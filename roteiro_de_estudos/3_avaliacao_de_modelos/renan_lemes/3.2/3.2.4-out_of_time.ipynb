{
 "cells": [
  {
   "cell_type": "markdown",
   "source": [
    "# Out of time"
   ],
   "metadata": {}
  },
  {
   "cell_type": "markdown",
   "source": [
    "A validação fora do tempo é apenas uma validação fora da amostra em um conjunto de dados posterior ao qual você ajustou seu modelo; onde a aplicação de um modelo a uma população que muda ao longo do tempo é a preocupação, ao invés da aplicação a populações de diferentes cidades, espécies, materiais ou o que quer que seja. Então, para fazer isso, você precisaria de amostras de tempos diferentes (e observe que se você as tivesse no momento de ajustar o modelo, normalmente seria mais útil usar todo o conjunto de dados e incluir o tempo no modelo). É uma incógnita se isso o teria alertado sobre um problema neste caso específico."
   ],
   "metadata": {}
  },
  {
   "cell_type": "markdown",
   "source": [
    "![img](https://miro.medium.com/max/638/0*YtnX1mfex82eyrU6.png)"
   ],
   "metadata": {}
  },
  {
   "cell_type": "markdown",
   "source": [
    "## Exemplo.\r\n",
    "Vamos considerar o que acontece se ignorarmos a dimensão de tempo dos dados e dividir todos os dados rotulados, independentemente de sua dimensão de tempo. Treinamos, validamos e testamos o modelo usando dados do mesmo período . Fazemos previsões para novos dados (digamos, 2019) usando um modelo treinado, validado e testado em dados rotulados de 2015-2018. A figura abaixo ilustra essa configuração. A vantagem é que usamos os dados mais recentes para treinar o modelo. A desvantagem é que pressupõe que os relacionamentos que existiam no passado serão os mesmos no futuro. Se as relações mudarem ao longo do tempo, nossas medidas de desempenho estimadas (que calculamos usando dados de teste in-time ) irão exagerar o verdadeiro desempenho do modelo, ou seja, uma vez implantado, o modelo terá um desempenho pior do que esperamos."
   ],
   "metadata": {}
  }
 ],
 "metadata": {
  "orig_nbformat": 4,
  "language_info": {
   "name": "python",
   "version": "3.9.0"
  },
  "kernelspec": {
   "name": "python3",
   "display_name": "Python 3.9.0 64-bit"
  },
  "interpreter": {
   "hash": "63fd5069d213b44bf678585dea6b12cceca9941eaf7f819626cde1f2670de90d"
  }
 },
 "nbformat": 4,
 "nbformat_minor": 2
}