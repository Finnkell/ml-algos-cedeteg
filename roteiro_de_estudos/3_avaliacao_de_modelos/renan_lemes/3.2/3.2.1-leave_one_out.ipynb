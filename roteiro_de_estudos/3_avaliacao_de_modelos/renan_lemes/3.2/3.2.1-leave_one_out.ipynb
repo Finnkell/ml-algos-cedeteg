{
 "cells": [
  {
   "cell_type": "markdown",
   "source": [
    "# Leave one out.\r\n",
    "O método leave-one-out é um caso especifico do k-ford, com $k$ igual ao número total de dados  $N$. Nesta abordagem são realizados $N$ cálculos de erro, um para cada dado. Apesar de apresentar uma investigação completa sobre o modelo em relação aos dados utilizados, este método possui um alto custo computacional, aonde é indicado para a situação onde poucos dados estão disponiveis."
   ],
   "metadata": {}
  },
  {
   "cell_type": "markdown",
   "source": [
    "Ou seja cada interação,  a amostra de validação será correspondentea a uma observação $d_k ={(y_k, x_k)}, k = 1,2,...,n$ e a amostra de treino para criar o  preditor é feito com as outras $n-1$ observações, onde usaremos a notação $d_{-k}$ , ou seja, é o conjunto de todas as observações exeto a k-ésima. A estimativa do risco esperado pode ser definido como:\r\n",
    "$$loo = \\frac{1}{n} \\sum^{n}_{k=1} L(y_k, f_{-k}(x_k))$$\r\n",
    "* $loo$ é um estimador quase não viesado do erro, pois a amostra de treino é quase a base toda, principalmente quando $n$ é grande, porem $loo$ tem alta variabilidade."
   ],
   "metadata": {}
  },
  {
   "cell_type": "markdown",
   "source": [
    "![img](https://i2.wp.com/neptune.ai/wp-content/uploads/Cross-validation-leave-one-out.jpg?resize=564%2C440&ssl=1)"
   ],
   "metadata": {}
  },
  {
   "cell_type": "markdown",
   "source": [
    "# Prática."
   ],
   "metadata": {}
  },
  {
   "cell_type": "code",
   "execution_count": 3,
   "source": [
    "from sklearn.model_selection import LeaveOneOut\r\n"
   ],
   "outputs": [],
   "metadata": {}
  },
  {
   "cell_type": "code",
   "execution_count": 5,
   "source": [
    "X = [1,2,3,4]\r\n",
    "loo = LeaveOneOut()\r\n",
    "for train, test in loo.split(X):\r\n",
    "    print(\"%s %s\" % (train,test))"
   ],
   "outputs": [
    {
     "output_type": "stream",
     "name": "stdout",
     "text": [
      "[1 2 3] [0]\n",
      "[0 2 3] [1]\n",
      "[0 1 3] [2]\n",
      "[0 1 2] [3]\n"
     ]
    }
   ],
   "metadata": {}
  },
  {
   "cell_type": "code",
   "execution_count": 7,
   "source": [
    "Y = [[1,2,3] , [4,5,6], [7,8,9], [10,11,12],[13,14,15]]\r\n",
    "\r\n",
    "for train, test in loo.split(Y):\r\n",
    "    print(\" %s %s \" %(train,test))"
   ],
   "outputs": [
    {
     "output_type": "stream",
     "name": "stdout",
     "text": [
      " [1 2 3 4] [0] \n",
      " [0 2 3 4] [1] \n",
      " [0 1 3 4] [2] \n",
      " [0 1 2 4] [3] \n",
      " [0 1 2 3] [4] \n"
     ]
    }
   ],
   "metadata": {}
  }
 ],
 "metadata": {
  "orig_nbformat": 4,
  "language_info": {
   "name": "python",
   "version": "3.8.11",
   "mimetype": "text/x-python",
   "codemirror_mode": {
    "name": "ipython",
    "version": 3
   },
   "pygments_lexer": "ipython3",
   "nbconvert_exporter": "python",
   "file_extension": ".py"
  },
  "kernelspec": {
   "name": "python3",
   "display_name": "Python 3.8.11 64-bit ('base': conda)"
  },
  "interpreter": {
   "hash": "f763c5ae1380102371fc37b7f9e900cc55027b2a662d6fbcccf1534945890ce5"
  }
 },
 "nbformat": 4,
 "nbformat_minor": 2
}