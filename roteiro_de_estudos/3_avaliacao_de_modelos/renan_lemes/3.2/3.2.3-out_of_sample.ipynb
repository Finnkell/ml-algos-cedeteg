{
 "cells": [
  {
   "cell_type": "markdown",
   "source": [
    "# Out of sample"
   ],
   "metadata": {}
  },
  {
   "cell_type": "markdown",
   "source": [
    "Teste fora da amostra refere-se ao uso de “novos” dados que não são encontrados no conjunto de dados usado para construir o modelo. Este é frequentemente considerado o melhor método para testar a qualidade do modelo para prever resultados em novos dados não vistos: seu “desempenho preditivo”."
   ],
   "metadata": {}
  },
  {
   "cell_type": "markdown",
   "source": [
    "Normalmente, o teste fora da amostra refere-se à validação cruzada. É aqui que o modelo é construído primeiro em uma subseção dos dados - o conjunto de “treinamento” - e então testado nos dados que não foram usados ​​para criá-lo - o conjunto de “teste” ou “validação”. Isso nos dá uma maneira de ver o quão bom é o modelo na previsão de resultados para novos dados, pois podemos aplicar o modelo aos dados efetivamente “invisíveis”. Uma vez que estamos usando o conjunto de validação dos dados originais, temos a vantagem de saber qual é o resultado verdadeiro da \"vida real\" para cada ponto de dados, o que significa que podemos avaliar a precisão do modelo comparando os resultados previstos com o resultados reais."
   ],
   "metadata": {}
  },
  {
   "cell_type": "markdown",
   "source": [
    "* Exemplo. \r\n",
    "$\\newline$ Magine se antes de executarmos o modelo nos dados históricos da campanha de marketing, tivéssemos dividido 10% dos dados e apenas executássemos o modelo nos 90% restantes. Poderíamos então usar nosso modelo para prever se os 10% restantes dos clientes comprariam o produto ou não, com base em seus atributos de cliente. Poderíamos então comparar as previsões de nosso modelo com os resultados reais. Quanto mais próximas nossas previsões estiverem dos resultados reais dos dados, melhor será o desempenho de nosso modelo para previsão. Para um modelo logístico (com um resultado binário) como este, podemos estar interessados ​​no desempenho em termos de sensibilidade, especificidade e valores preditivos , calibração ou ganhos cumulativos e curvas de elevação associadas ao modelo."
   ],
   "metadata": {}
  },
  {
   "cell_type": "markdown",
   "source": [
    "# Diferença entre dentro da amostra e fora da amostra.\r\n",
    "Uma previsão dentro da amostra utiliza um subconjunto dos dados disponíveis para prever valores fora do período de estimativa e compará-los aos resultados conhecidos ou reais correspondentes. Isso é feito para avaliar a capacidade do modelo de prever valores conhecidos. Por exemplo, uma previsão dentro da amostra de 1980 a 2015 pode usar dados de 1980 a 2012 para estimar o modelo. Usando este modelo, o previsor poderia então prever valores para 2013-2015 e comparar os valores previstos com os valores reais conhecidos. Em vez disso, uma previsão fora da amostra usa todos os dados disponíveis na amostra para estimar um modelo."
   ],
   "metadata": {}
  }
 ],
 "metadata": {
  "orig_nbformat": 4,
  "language_info": {
   "name": "python"
  }
 },
 "nbformat": 4,
 "nbformat_minor": 2
}