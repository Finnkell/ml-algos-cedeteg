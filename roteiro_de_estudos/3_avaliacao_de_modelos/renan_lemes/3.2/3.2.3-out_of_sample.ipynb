{
 "cells": [
  {
   "cell_type": "markdown",
   "source": [
    "# Out of sample"
   ],
   "metadata": {}
  }
 ],
 "metadata": {
  "orig_nbformat": 4,
  "language_info": {
   "name": "python"
  }
 },
 "nbformat": 4,
 "nbformat_minor": 2
}