{
 "cells": [
  {
   "cell_type": "markdown",
   "source": [
    "# 3.1.1Métricas\r\n",
    "Durante o processo de criação de um modelo de machine learning nós precisamos medir a qualidade dele de acordo com o objetivo da tarefa. Existem funções matemáticas que nos ajudam a avaliar a capacidade de erro e acerto dos nossos modelos, e agora você conhecerá algumas das mais utilizadas. No artigo, usarei a palavra métrica para me referir a essas funções.\r\n",
    "\r\n",
    "Tão importante quanto saber escolher um bom modelo, é saber escolher a métrica correta para decidir qual é o melhor entre eles.\r\n",
    "\r\n",
    "Existem métricas mais simples, outras mais complexas, algumas que funcionam melhor para datasets com determinadas características, ou outras personalizadas de acordo com o objetivo final do modelo.\r\n",
    "* Exemplos de métricas usadas:\r\n",
    "    * Registro de defeitos: quantidade de defeitos descobertos em relação aos resolvidos, por iteração;\r\n",
    "    * Cobertura de caso de teste: quantidade de casos de teste executados em relação à quantidade total de casos de teste;\r\n",
    "    * Cobertura de código: percentual do código que foi testando.\r\n",
    "\r\n",
    "    \r\n"
   ],
   "metadata": {}
  },
  {
   "cell_type": "markdown",
   "source": [
    "# 3.1.2 Váriaveis.\r\n",
    "* TP - True positive - significa uma classificação correta da classe positiva, exemplo a classe real é possitivo e o modelo classificou como possitivo.\r\n",
    "* TN - True negative - significa uma classificação correta da classe negative, exemplo a classe real é negativo e o modelo classificou como negativo.\r\n",
    "* FP - False positive - significa uma classificação errada da classe possitivo, exemplo a classe real é negativo e o modelo classificou como positivo.\r\n",
    "* FN - False negative - significa uma classificação errada da classe negativo, por exemplo, a classe real é positivo e o modelo classificou como negativo.\r\n",
    "### Calculando.\r\n",
    "* TPR\r\n",
    "\r\n",
    "* TNR\r\n",
    "\r\n",
    "\r\n",
    "* FPR\r\n",
    "\r\n",
    "* FNR \r\n"
   ],
   "metadata": {}
  },
  {
   "cell_type": "markdown",
   "source": [],
   "metadata": {}
  },
  {
   "cell_type": "code",
   "execution_count": null,
   "source": [],
   "outputs": [],
   "metadata": {}
  }
 ],
 "metadata": {
  "orig_nbformat": 4,
  "language_info": {
   "name": "python"
  }
 },
 "nbformat": 4,
 "nbformat_minor": 2
}