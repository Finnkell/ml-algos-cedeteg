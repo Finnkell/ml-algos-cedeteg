{
 "cells": [
  {
   "cell_type": "markdown",
   "metadata": {},
   "source": [
    "# Função densidade de probabilidade e distribuição acumulada"
   ]
  },
  {
   "cell_type": "markdown",
   "metadata": {},
   "source": [
    "## Teoria:"
   ]
  },
  {
   "cell_type": "markdown",
   "metadata": {},
   "source": [
    "### Definição:"
   ]
  },
  {
   "cell_type": "markdown",
   "metadata": {},
   "source": [
    "* **Função densidade de probabilidade (fdp):** É um conceito presente na teoria da probabilidade e na estatística, sendo definida como uma função que descreve a probabilidade de uma variável contínua ser um certo valor. Como estamos trabalhando com variáveis contínuas, esta função utiliza um intervalo ou uma faixa particular, e este intervalo é dado pela integral da variável.\n",
    "\n",
    "![function](./Images/function.jpg)"
   ]
  },
  {
   "cell_type": "markdown",
   "metadata": {},
   "source": [
    "### Fórmula:"
   ]
  },
  {
   "cell_type": "markdown",
   "metadata": {},
   "source": [
    "* $F\\chi(x) = P\\left [ a\\leq  X\\leq b  \\right ] = \\int_{a}^{b} f(x)dx$ \n",
    "\n",
    "Onde uma variável aleatória contínua tem densidade f(x), se f é uma função não-negativa integrável à Lebesgue tal que a probabilidade no intervalo [a,b] é dada por $\\int_{a}^{b} f(x)dx$"
   ]
  }
 ],
 "metadata": {
  "kernelspec": {
   "display_name": "Python 3",
   "language": "python",
   "name": "python3"
  },
  "language_info": {
   "codemirror_mode": {
    "name": "ipython",
    "version": 3
   },
   "file_extension": ".py",
   "mimetype": "text/x-python",
   "name": "python",
   "nbconvert_exporter": "python",
   "pygments_lexer": "ipython3",
   "version": "3.8.5"
  }
 },
 "nbformat": 4,
 "nbformat_minor": 4
}
