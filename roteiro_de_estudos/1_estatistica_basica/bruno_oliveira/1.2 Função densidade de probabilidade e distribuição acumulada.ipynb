{
 "cells": [
  {
   "cell_type": "markdown",
   "metadata": {},
   "source": [
    "# Função densidade de probabilidade e distribuição acumulada"
   ]
  },
  {
   "cell_type": "markdown",
   "metadata": {},
   "source": [
    "## Teoria:"
   ]
  },
  {
   "cell_type": "markdown",
   "metadata": {},
   "source": [
    "## Função densidade de probabilidade (fdp): \n",
    "É um conceito presente na teoria da probabilidade e na estatística, sendo definida como uma função que descreve a probabilidade de uma variável contínua ser um certo valor. Como estamos trabalhando com variáveis contínuas, esta função utiliza um intervalo ou uma faixa particular, e este intervalo é dado pela integral da variável.\n",
    "\n",
    "<img src=\"https://www.inf.ufsc.br/~andre.zibetti/probabilidade/figures/norm3-1.png\" width=500px height=200px></img>"
   ]
  },
  {
   "cell_type": "markdown",
   "metadata": {},
   "source": [
    "### Fórmula:"
   ]
  },
  {
   "cell_type": "markdown",
   "metadata": {},
   "source": [
    "* $F\\chi(x) = P\\left [ a\\leq  X\\leq b  \\right ] = \\int_{a}^{b} f(x)dx$ \n",
    "\n",
    "Onde uma variável aleatória contínua tem densidade f(x), se f é uma função não-negativa integrável à Lebesgue tal que a probabilidade no intervalo [a,b] é dada por $\\int_{a}^{b} f(x)dx$\n",
    "\n",
    "---"
   ]
  },
  {
   "cell_type": "markdown",
   "metadata": {},
   "source": [
    "## Função distribuição acumulada (fda): \n",
    "Também é um conceito presente na teoria da probabilidade, que é definida como uma função que calcula a probabilidade acumulada de uma variável x, ou seja, a função densidade de probabilidade, descreve a probabilidade dos valores e a função distribuição acumulada, fornece a probabilidade acumulada para cada x.\n",
    "\n",
    "<img src=\"https://encrypted-tbn0.gstatic.com/images?q=tbn:ANd9GcSX9i-ztMiy_m0YL3VTDgwj1DI1zYcMlH8r6g&usqp=CAU\"></img>"
   ]
  },
  {
   "cell_type": "markdown",
   "metadata": {},
   "source": [
    "### Fórmula:"
   ]
  },
  {
   "cell_type": "markdown",
   "metadata": {},
   "source": [
    "* $F(x) = \\sum_{x_{i} \\leq x} f(x_{i})$\n",
    "\n",
    "A função distribuição, no caso de uma variável aleatória discreta\n",
    "\n",
    "* $F(x) = \\int_{-\\infty }^{x} f(x_{i})dx$\n",
    "\n",
    "A função distribuição, no caso de uma variável aleatória contínua\n",
    "\n",
    "---"
   ]
  },
  {
   "cell_type": "markdown",
   "metadata": {},
   "source": [
    "## Prática:"
   ]
  },
  {
   "cell_type": "markdown",
   "metadata": {},
   "source": [
    "### Aplicação:\n",
    "O código a seguir é um exemplo gráfico da aplicação de uma f.d.p dentro de um gráfico de distribuição normal ou distribuição Gaussiana. Podemos notar claramente o formato em \"sino\", o que é uma característica do gráfico de uma distribuição normal."
   ]
  },
  {
   "cell_type": "code",
   "execution_count": 45,
   "metadata": {},
   "outputs": [
    {
     "data": {
      "text/plain": [
       "<matplotlib.collections.PolyCollection at 0x251ddf266d0>"
      ]
     },
     "execution_count": 45,
     "metadata": {},
     "output_type": "execute_result"
    },
    {
     "data": {
      "image/png": "[encoded data removed]",
      "text/plain": [
       "<Figure size 720x432 with 1 Axes>"
      ]
     },
     "metadata": {
      "needs_background": "light"
     },
     "output_type": "display_data"
    }
   ],
   "source": [
    "import scipy.stats as stats\n",
    "import numpy as np\n",
    "import matplotlib.pyplot as plt\n",
    "\n",
    "plt.rcParams['figure.figsize'] = (10,6)\n",
    "plt.fill_between(x=np.arange(-4, -1, 0.01),\n",
    "                y1=stats.norm.pdf(np.arange(-4, -1, 0.01)),\n",
    "                facecolor='blue',\n",
    "                alpha=0.35)\n",
    "plt.fill_between(x=np.arange(1, 4, 0.01),\n",
    "                y1=stats.norm.pdf(np.arange(1, 4, 0.01)),\n",
    "                facecolor='blue',\n",
    "                alpha=0.35)\n",
    "plt.fill_between(x=np.arange(-1, 1, 0.01),\n",
    "                y1=stats.norm.pdf(np.arange(-1, 1, 0.01)),\n",
    "                facecolor='red',\n",
    "                alpha=0.35)"
   ]
  },
  {
   "cell_type": "markdown",
   "metadata": {},
   "source": [
    "## Conclusão:\n",
    "Uma função densidade de probabilidade, diz respeito as variáveis aleatórias contínuas. Podemos usar esse conceito no mercado financeiro para fazer uma análise do gráfico de um ativo em um determinado período de tempo. Fazemos isso usando uma f.d.p, para encontrar o intervalo no gráfico onde o preço do ativo chegou ao seu máximo. Deste modo isolando um intervalo de um topo, encontramos uma região de preço interessante para os vendedores. Podemos também fazer o inverso, isolando um preço minimo do gráfico para encontar fundos, ou seja, uma região de preço interessante para os compradores.\n",
    "\n",
    "\n",
    "<img src=\"https://dvinvest.com.br/storage/images/posts/content/ZdHGfrEI1uIM6fiHnYMPICGqlgFNP8Ycc2DqiGrt.gif\" width=500px height=200px></img>"
   ]
  }
 ],
 "metadata": {
  "kernelspec": {
   "display_name": "Python 3",
   "language": "python",
   "name": "python3"
  },
  "language_info": {
   "codemirror_mode": {
    "name": "ipython",
    "version": 3
   },
   "file_extension": ".py",
   "mimetype": "text/x-python",
   "name": "python",
   "nbconvert_exporter": "python",
   "pygments_lexer": "ipython3",
   "version": "3.8.5"
  }
 },
 "nbformat": 4,
 "nbformat_minor": 4
}
