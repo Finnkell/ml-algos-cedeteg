{
 "cells": [
  {
   "cell_type": "markdown",
   "id": "dc4507e4",
   "metadata": {},
   "source": [
    "# Propriedades de distribuições: médias, medianas, quartis, moda, variância"
   ]
  },
  {
   "cell_type": "markdown",
   "id": "008065c1",
   "metadata": {},
   "source": [
    "## Teoria"
   ]
  },
  {
   "cell_type": "markdown",
   "id": "7053e6eb",
   "metadata": {},
   "source": [
    "Para entender as suas propriedades, precisamos antes definir o que é distribuição:\n",
    "* **Distribuição Normal:** É uma distribuição que gera uma curva simétrica, e se essa curva for refinada ela fica em formato de um \"sino\":\n",
    "\n",
    "![dist](https://proeducacional.com/packages/uploads/2020/08/img_5f2ae87aaa0c2.png)"
   ]
  },
  {
   "cell_type": "markdown",
   "id": "7fe7af43",
   "metadata": {},
   "source": [
    "### Fórmula:\n",
    "* $f(x) = \\frac{1}{\\sqrt{(2\\pi \\sigma^{2})}} exp - \\frac{( x - \\lambda)^{2}}{2\\sigma^{2}}$\n",
    "\n",
    "Essa distribuição é simétrica em torno da **média**, o que implica que a **média**, a **mediana** e a **moda** se coincidem, a equação acima explica a curva desta distribuição"
   ]
  },
  {
   "cell_type": "markdown",
   "id": "f448592a",
   "metadata": {},
   "source": [
    "### Média:\n",
    "Uma média é a concentração dos dados em uma distribuição, ou seja, é um ponto uniforme dos dados. Existem alguns tipos de média:\n",
    "\n",
    "* **Média Aritmética:** conhecida como média simples, dada pela equação:\n",
    "<p>$x = \\frac{x_{1} + x_{2} + ... + x_{n}}{n}$</p>\n",
    "\n",
    "* **Média Ponderada:** é uma extensão da média simples, porém adiciona pesos nos conjuntos de dados, dada pela seguinte equação:\n",
    "<p>$M_{p} = \\frac{P_{1}.x_{1} + P_{2}.x_{2} + ... + P_{n}.x_{n}}{P_{1} + P_{2} + ... + P_{n}}$</p>\n",
    "\n",
    "* **Média Geométrica:** obtida através da n-ésima raiz do produto dos valores, dada pela equação:\n",
    "<p>$x = \\sqrt[n]{x_{1}x_{2}...x_{n}}$</p>\n",
    "\n",
    "* **Média Harmônica:** é uma média inversa da média aritmética, e ela é usada em casos onde queremos uma média entre taxas, a sua equação é a seguinte:\n",
    "<p>$x = \\frac{n}{\\frac{1}{x_{1}} + \\frac{1}{x_{2}} + ... + \\frac{1}{x_{n}}}$</p>"
   ]
  },
  {
   "cell_type": "markdown",
   "id": "d1ebef54",
   "metadata": {},
   "source": [
    "### Mediana:\n",
    "Corresponde ao valor central de um conjunto de dados ordenados, ou seja, primeiro devemos ordenar nossos dados, e após isso verificar se a quantidade de dados é **par** ou **ímpar**.\n",
    "* **Quantidade par:** com os dados ordenados, fazemos uma média aritmética com os valores centrais do conjunto de dados: $M.A. = \\frac{x_{1} + x_{2}}{2}$\n",
    "* **Quantidade ímpar:** com os ordenados, conseguimos identificar facilmente o valor central, pois ele está bem no \"meio\" do conjunto. Na computação, para fazer isso, removemos um valor do inicio e outro do final, até restar um único valor central."
   ]
  },
  {
   "cell_type": "markdown",
   "id": "75c1e884",
   "metadata": {},
   "source": [
    "### Moda:\n",
    "Corresponde ao valor que aparece com mais frequência em um conjunto de dados. Quando apenas um valor aparece mais vezes, chamamos o conjunto de dados de sequência modal. Já se dois valores tiverem a mesma quantidade de valores, chamamos de sequência bimodal. Mas se três ou mais valores tiverem mesma quantidade, chamamos de sequência polimodal. Exemplos:\n",
    "* **Modal:** $[1 1 2 3 4 1]$, Moda = 1\n",
    "* **Bimodal:** $[1 1 2 3 4 2]$, Moda = 1 e 2\n",
    "* **Polimodal:** $[1 1 2 3 4 3 2]$, Moda = 1, 2 e 3"
   ]
  }
 ],
 "metadata": {
  "kernelspec": {
   "display_name": "Python 3",
   "language": "python",
   "name": "python3"
  },
  "language_info": {
   "codemirror_mode": {
    "name": "ipython",
    "version": 3
   },
   "file_extension": ".py",
   "mimetype": "text/x-python",
   "name": "python",
   "nbconvert_exporter": "python",
   "pygments_lexer": "ipython3",
   "version": "3.8.11"
  }
 },
 "nbformat": 4,
 "nbformat_minor": 5
}
