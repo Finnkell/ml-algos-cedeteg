{
 "cells": [
  {
   "cell_type": "markdown",
   "id": "19afe003",
   "metadata": {},
   "source": [
    "# Testes de hipóteses"
   ]
  },
  {
   "cell_type": "markdown",
   "id": "d0c1ba5a",
   "metadata": {},
   "source": [
    "## Teoria"
   ]
  },
  {
   "cell_type": "markdown",
   "id": "58228a38",
   "metadata": {},
   "source": [
    "O objetivo de um teste de hipóteses, é auxiliar na tomada de decisões sobre uma população com base em uma amostra. E com base nos resultados, nós podemos verificar se os dados amostrais apoiam ou não uma hipótese estatística. Para tomar as decisões, fazemos suposições sobre as populações, isso porque normalmente os valores da população são valores desconhecidos. Essas suposições são chamadas de **Hipóteses Estatísticas**.\n",
    "\n",
    "Para fazer os testes populacionais, devemos ter um par de hipóteses: a primeira que represente uma afirmação e a outra que complemente a primeira hipótese. E quando uma dessas afirmações for falsa, a outra deve ser verdadeira. Definimos estas hipóteses como: \n",
    "1. **Hipótese Nula ($H_{0}$):** hipótese que contém uma afirmação de igualdade, tal como $\\leq$ e $\\geq$ \n",
    "2. **Hipótese Alternativa ($H_{a}$ ou $H_{1}$):** uma hipótese complementar a hipótese nula. Deve ser verdadeira caso a hipótese nula for falsa e contém uma afirmação de desigualdade, tal como $<$, $\\neq$ ou $>$"
   ]
  },
  {
   "cell_type": "markdown",
   "id": "0d8fdbf1",
   "metadata": {},
   "source": [
    "#### Tipos de teste:\n",
    "* **Teste Bilateral ou Bicaudal:** é um teste em que a hipótese alternativa, utiliza simbolos de diferença. Ex:\n",
    "<p>$\\left\\{\\begin{matrix}\n",
    "H_{0}: \\mu = k\\\\ H_{a}: \\mu \\neq k\n",
    "\\end{matrix}\\right.$</p>\n",
    "\n",
    "* **Teste Unilateral ou Unicaudal:** é um teste em que a hipótese alternativa, utiliza simbolos de maior e de menor. Ex:\n",
    "\n",
    "$\\left\\{\\begin{matrix}\n",
    "H_{0}: \\mu = k\\\\ H_{a}: \\mu > k\n",
    "\\end{matrix}\\right.$,\n",
    "$\\left\\{\\begin{matrix}\n",
    "H_{0}: \\mu = k\\\\ H_{a}: \\mu < k\n",
    "\\end{matrix}\\right.$,\n",
    "$\\left\\{\\begin{matrix}\n",
    "H_{0}: \\mu \\leq  k\\\\ H_{a}: \\mu > k\n",
    "\\end{matrix}\\right.$,\n",
    "$\\left\\{\\begin{matrix}\n",
    "H_{0}: \\mu \\geq  k\\\\ H_{a}: \\mu < k\n",
    "\\end{matrix}\\right.$"
   ]
  },
  {
   "cell_type": "markdown",
   "id": "a7cbf461",
   "metadata": {},
   "source": [
    "A imagem abaixo ilustra um gráfico com os tipos de teste:\n",
    "\n",
    "<img src=\"https://proeducacional.com/packages/uploads/2020/08/img_5f2c551f6a79d.png\" width=650px></img>"
   ]
  },
  {
   "cell_type": "markdown",
   "id": "1506bbe8",
   "metadata": {},
   "source": [
    "* **Erro:** Ao trabalhar com inferências estatíticas, tentamos supor um valor com base em uma amostra. Porém ao se fazer isso, é gerado erros amostrais. Esses erros não poderão ser nulos, pois não é possível tomar decisões definitivamente corretas. Existem dois tipos de erros:\n",
    "1. **Erro do tipo 1:** é a probabilidade de se rejeitar a hipótese nula quando a mesma é verdadeira. Também é conhecida como **nível de significância ($\\alpha$)**. Quando não mencionado esse valor recebe $\\alpha$ = 5%.\n",
    "2. **Erro do tipo 2:** é a probabilidade de se rejeitar a hipótese alternativa quando a mesma é verdadeira."
   ]
  },
  {
   "cell_type": "markdown",
   "id": "e9e23a11",
   "metadata": {},
   "source": [
    "## Prática:"
   ]
  },
  {
   "cell_type": "markdown",
   "id": "2dd7ec1f",
   "metadata": {},
   "source": [
    "### Aplicação:\n",
    "Neste exemplo, estamos fazendo um teste de hipótese unicaudal sobre os dados do IBOV no período de 2021. Como a tolerância é menor o igual a 0.05, podemos aceitar o teste de hipótese sobre os dados"
   ]
  },
  {
   "cell_type": "code",
   "execution_count": 4,
   "id": "e4e3f2af",
   "metadata": {},
   "outputs": [
    {
     "name": "stdout",
     "output_type": "stream",
     "text": [
      "P Valor: 0.006591926265131612\n",
      "Média: 122180.29220779221\n",
      "Podemos aceitar H0\n"
     ]
    }
   ],
   "source": [
    "import pandas_datareader.data as web\n",
    "from scipy.stats import normaltest\n",
    "import matplotlib.pyplot as plt\n",
    "from datetime import datetime as dt\n",
    "\n",
    "sig = 0.05\n",
    "\n",
    "dt_inicio = '2021-01-01'\n",
    "hoje = f'{dt.today().year}-{dt.today().month}-{dt.today().day}'\n",
    "dt_final = hoje\n",
    "\n",
    "ibov = web.DataReader('^BVSP', data_source='yahoo', start=dt_inicio, end=dt_final)\n",
    "\n",
    "stat_test, p_valor = normaltest(ibov['High'])\n",
    "media = ibov['High'].mean()\n",
    "print(f'P Valor: {p_valor}')\n",
    "print(f'Média: {media}')\n",
    "\n",
    "if p_valor <= media:\n",
    "    print(\"Podemos aceitar H0\")"
   ]
  },
  {
   "cell_type": "markdown",
   "id": "191023bb",
   "metadata": {},
   "source": [
    "## Conclusão:\n",
    "Podemos utilizar o teste de hipóteses sobre um ativo, para saber se ele suporta uma distribuição normal. Fazemos isso com base em um valor de tolerância, no exemplo acima conseguimos aceitar o teste de hipótese nula, pois o valor de p era menor que a média aplicada sobre o gráfico"
   ]
  }
 ],
 "metadata": {
  "kernelspec": {
   "display_name": "Python 3",
   "language": "python",
   "name": "python3"
  },
  "language_info": {
   "codemirror_mode": {
    "name": "ipython",
    "version": 3
   },
   "file_extension": ".py",
   "mimetype": "text/x-python",
   "name": "python",
   "nbconvert_exporter": "python",
   "pygments_lexer": "ipython3",
   "version": "3.8.11"
  }
 },
 "nbformat": 4,
 "nbformat_minor": 5
}
