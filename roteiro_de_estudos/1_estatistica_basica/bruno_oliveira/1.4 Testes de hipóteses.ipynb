{
 "cells": [
  {
   "cell_type": "markdown",
   "metadata": {},
   "source": [
    "# Testes de hipóteses"
   ]
  },
  {
   "cell_type": "markdown",
   "metadata": {},
   "source": [
    "## Teoria"
   ]
  },
  {
   "cell_type": "markdown",
   "metadata": {},
   "source": [
    "O objetivo de um teste de hipóteses, é auxiliar na tomada de decisões sobre uma população com base em uma amostra. E com base nos resultados, nós podemos verificar se os dados amostrais apoiam ou não uma hipótese estatística. Para tomar as decisões, fazemos suposições sobre as populações, isso porque normalmente os valores da população são valores desconhecidos. Essas suposições são chamadas de **Hipóteses Estatísticas**.\n",
    "\n",
    "Para fazer os testes populacionais, devemos ter um par de hipóteses: a primeira que represente uma afirmação e a outra que complemente a primeira hipótese. E quando uma dessas afirmações for falsa, a outra deve ser verdadeira. Definimos estas hipóteses como: \n",
    "1. **Hipótese Nula ($H_{0}$):** hipótese que contém uma afirmação de igualdade, tal como $\\leq$, $=$ ou $\\geq$ \n",
    "2. **Hipótese Alternativa ($H_{a}$ ou $H_{1}$):** uma hipótese complementar a hipótese nula. Deve ser verdadeira caso a hipótese nula for falsa e contém uma afirmação de desigualdade, tal como $<$, $\\neq$ ou $>$"
   ]
  },
  {
   "cell_type": "markdown",
   "metadata": {},
   "source": [
    "#### Tipos de teste:\n",
    "* **Teste Bilateral ou Bicaudal:** é um teste em que a hipótese alternativa, utiliza simbolos de diferença. Ex:\n",
    "<p>$\\left\\{\\begin{matrix}\n",
    "H_{0}: \\mu = k\\\\ H_{a}: \\mu \\neq k\n",
    "\\end{matrix}\\right.$</p>\n",
    "\n",
    "* **Teste Unilateral ou Unicaudal:** é um teste em que a hipótese alternativa, utiliza simbolos de maior e de menor. Ex:\n",
    "\n",
    "$\\left\\{\\begin{matrix}\n",
    "H_{0}: \\mu = k\\\\ H_{a}: \\mu > k\n",
    "\\end{matrix}\\right.$,\n",
    "$\\left\\{\\begin{matrix}\n",
    "H_{0}: \\mu = k\\\\ H_{a}: \\mu < k\n",
    "\\end{matrix}\\right.$,\n",
    "$\\left\\{\\begin{matrix}\n",
    "H_{0}: \\mu \\leq  k\\\\ H_{a}: \\mu > k\n",
    "\\end{matrix}\\right.$,\n",
    "$\\left\\{\\begin{matrix}\n",
    "H_{0}: \\mu \\geq  k\\\\ H_{a}: \\mu < k\n",
    "\\end{matrix}\\right.$"
   ]
  },
  {
   "cell_type": "markdown",
   "metadata": {},
   "source": [
    "A imagem abaixo ilustra um gráfico com os tipos de teste:\n",
    "\n",
    "<img src=\"https://proeducacional.com/packages/uploads/2020/08/img_5f2c551f6a79d.png\" width=650px></img>"
   ]
  },
  {
   "cell_type": "markdown",
   "metadata": {},
   "source": [
    "* **Erro:** Ao trabalhar com inferências estatíticas, tentamos supor um valor com base em uma amostra. Porém ao se fazer isso, é gerado erros amostrais. Esses erros não poderão ser nulos, pois não é possível tomar decisões definitivamente corretas. Existem dois tipos de erros:\n",
    "1. **Erro do tipo 1:** é a probabilidade de se rejeitar a hipótese nula quando a mesma é verdadeira. Também é conhecida como **nível de significância ($\\alpha$)**. Quando não mencionado esse valor recebe $\\alpha$ = 5%.\n",
    "2. **Erro do tipo 2:** é a probabilidade de se rejeitar a hipótese alternativa quando a mesma é verdadeira."
   ]
  },
  {
   "cell_type": "markdown",
   "metadata": {},
   "source": [
    "## Prática:"
   ]
  },
  {
   "cell_type": "markdown",
   "metadata": {},
   "source": [
    "### Aplicação:"
   ]
  },
  {
   "cell_type": "markdown",
   "metadata": {},
   "source": [
    "## Conclusão:"
   ]
  }
 ],
 "metadata": {
  "kernelspec": {
   "display_name": "Python 3",
   "language": "python",
   "name": "python3"
  },
  "language_info": {
   "codemirror_mode": {
    "name": "ipython",
    "version": 3
   },
   "file_extension": ".py",
   "mimetype": "text/x-python",
   "name": "python",
   "nbconvert_exporter": "python",
   "pygments_lexer": "ipython3",
   "version": "3.8.5"
  }
 },
 "nbformat": 4,
 "nbformat_minor": 5
}
