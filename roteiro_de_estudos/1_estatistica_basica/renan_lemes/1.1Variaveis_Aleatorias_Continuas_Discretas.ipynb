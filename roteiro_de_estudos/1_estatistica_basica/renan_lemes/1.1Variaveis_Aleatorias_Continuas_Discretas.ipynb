{
 "cells": [
  {
   "cell_type": "markdown",
   "source": [
    "# Variáveis Aleatórias Contínuas e Discretas.\r\n",
    "\r\n",
    "## Teórico:\r\n",
    "---\r\n",
    "Uma variável aleatória quantitativa depende de valores aleatórios, vamos dar um exemplo de um lançamento de um dado que pode dar qualquer número entre 1 a 6 embora sabendo os possíveis resultados,\r\n",
    "assim podemos separar as variáveis em aleatória discretas, contínuas ou mistas.\r\n",
    "*  Discreta:\r\n",
    "    Ela pode assumir valores que podem ser \"contados\" ou seja, uma variável aleátoria discreta é uma variável para qual o conjunto A é um finito ou infinito, por exemplo o conjuto. <p>$$ A = {1,2,3,4,5,6, ...} $$</p>\r\n",
    "    * Vamos dar um exemplo mais prático como o lançamento de uma moeda. \r\n",
    "        Uma variável aleatória  pode ser usada para descrever os possíveis resultados do lançamento de uma moeda, os possíveis resultados para um lançamento podem ser descritos por \r\n",
    "        um espaço amostral como:<p>$$ Y(x) = \\begin{cases}&\\text{ 1, se }x = cara\\\\&\\text{ 0, se }x = coroa\\end{cases}$$</p>\r\n",
    "* Contínuas:\r\n",
    "    Uma variável aleatória contínua pode assumir qualquer valor numérico em um certo intervalo ou série de intervalos, ou seja, uma variável aleatória contínua é uma variável com o onde \r\n",
    "    o conjunto A é um conjunto infinito não enumerável.\r\n",
    "    Exemplo, considere um relógio, onde as horas são variáveis aleatórias discretas e que assumimos suas possiveis horas minutos e segundos por um intervalo como $[0,360) = {X \\in {R} : 0 \\le X < 360}$.\r\n",
    "* Mista:\r\n",
    "    Nessa situação as variáveis podendo ser tanto variáveis aleatórias discretas como contínuas, portanto as chamamos de variáveis aleatórias mista.\r\n",
    "    Um emxeplo que podemos apresentar é o de uma moeda e uma roleta, onde jogamos a moeda e rodamos a roleta simultêneamente ou seja temos tanto uma variável discreta como uma contínua."
   ],
   "metadata": {}
  },
  {
   "cell_type": "markdown",
   "source": [
    "# Prática.\n",
    "---\n",
    "## Vamos analisar tanto como variáveis continuas, discretas e mistas. \n",
    "Tudo vai ser desenvolvido em python e analisaremos suas diferenças e tais como:"
   ],
   "metadata": {}
  },
  {
   "cell_type": "code",
   "execution_count": 1,
   "source": [
    "## importando as blibliotecas ##\r\n",
    "import random as rd\r\n",
    "import pandas as pd\r\n",
    "import numpy as np\r\n",
    "import matplotlib.pyplot as plt\r\n"
   ],
   "outputs": [],
   "metadata": {}
  },
  {
   "cell_type": "code",
   "execution_count": 3,
   "source": [
    "x = rd.randint(1,6) \r\n",
    "y = rd.randint(1,6) \r\n",
    "z = rd.randint(1,6) \r\n",
    "h = rd.randint(1,6) \r\n",
    "j = rd.randint(1,6) \r\n",
    "\r\n",
    "df_discreta = [x,y,z,h,j]\r\n",
    "df_discreta \r\n",
    "\r\n",
    "## ou seja aqui ele temos uma pequena lista de números aleatórios e inteiros ou seja Variáveis Discretas simulando a jogada de 5 vezes um dado##"
   ],
   "outputs": [
    {
     "output_type": "execute_result",
     "data": {
      "text/plain": [
       "[5, 2, 5, 1, 2]"
      ]
     },
     "metadata": {},
     "execution_count": 3
    }
   ],
   "metadata": {}
  },
  {
   "cell_type": "code",
   "execution_count": 4,
   "source": [
    "x = rd.randint(0,580) /100\r\n",
    "y = rd.randint(0,580) /100\r\n",
    "z = rd.randint(0,580) /100\r\n",
    "h = rd.randint(0,580) /100\r\n",
    "j = rd.randint(0,580) /100\r\n",
    "\r\n",
    "df_discreta = [x,y,z,h,j]\r\n",
    "df_discreta \r\n",
    "\r\n",
    "## Já aqui temos uma pequena lista porem com Váriaveis Continuas como kg , mg , ou altura de uma pessoa no caso se basea por um intervalo ou até mesmo porcentagem. ##"
   ],
   "outputs": [
    {
     "output_type": "execute_result",
     "data": {
      "text/plain": [
       "[1.59, 0.9, 1.21, 3.87, 0.22]"
      ]
     },
     "metadata": {},
     "execution_count": 4
    }
   ],
   "metadata": {}
  },
  {
   "cell_type": "code",
   "execution_count": 2,
   "source": [
    "## vamos agora simular uma pessoa girando uma roleta de 0 a 360 possibilidades de o evento acontecer ela vai girar 5 vezes  ##\r\n",
    "df =  pd.DataFrame\r\n",
    "a = rd.randint(0,360)\r\n",
    "b = rd.randint(0,360)\r\n",
    "c = rd.randint(0,360)\r\n",
    "d = rd.randint(0,360)\r\n",
    "e = rd.randint(0,360)\r\n",
    "n_de_tentativas = [1,2,3,4,5]\r\n",
    "tentativas = [a,b,c,d,e]\r\n",
    "df = n_de_tentativas,tentativas\r\n",
    "df = pd.DataFrame(df)\r\n",
    "df = df.T\r\n",
    "df.plot(x=0,y=1)\r\n",
    "plt.ylabel('Angulos')\r\n",
    "plt.xlabel('Tentativas')\r\n",
    "plt.show()"
   ],
   "outputs": [
    {
     "output_type": "display_data",
     "data": {
      "text/plain": [
       "<Figure size 432x288 with 1 Axes>"
      ],
      "image/png": "[encoded data removed]"
     },
     "metadata": {
      "needs_background": "light"
     }
    }
   ],
   "metadata": {}
  },
  {
   "cell_type": "markdown",
   "source": [
    "# Conclusão:\n",
    "Análisando as variáveis tanto como continuas ou discretas podemos definir tratamentos especificos pra tais dados.\n",
    "* Exemplo:\n",
    "Análisando o mercado finaceiro, temos tantos como variáveis relacionadas como data e outras como preço ou seja \n",
    "data como continua e preço como discreta porem dependendo da \"moeda\".\n"
   ],
   "metadata": {}
  }
 ],
 "metadata": {
  "kernelspec": {
   "display_name": "Python 3",
   "language": "python",
   "name": "python3"
  },
  "language_info": {
   "codemirror_mode": {
    "name": "ipython",
    "version": 3
   },
   "file_extension": ".py",
   "mimetype": "text/x-python",
   "name": "python",
   "nbconvert_exporter": "python",
   "pygments_lexer": "ipython3",
   "version": "3.8.8"
  }
 },
 "nbformat": 4,
 "nbformat_minor": 5
}