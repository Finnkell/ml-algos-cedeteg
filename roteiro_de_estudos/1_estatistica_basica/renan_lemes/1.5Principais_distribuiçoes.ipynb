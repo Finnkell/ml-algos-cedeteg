{
 "cells": [
  {
   "cell_type": "markdown",
   "source": [
    "# Principais distribuições.\r\n",
    "### Distribuição uniforme discreta.\r\n",
    "Uma váriavel possui distribuição uniforme discreta quando os valores finitos em um intervalo recebem a mesma chance de ocorrer, ou seja entre $n$ valores possiveis, cada um recebe a probabilidade de $\\frac{1}{n}$ a probabilidade de evento e a mesma pra todos.\r\n",
    "Se $a$ é o valor mínimo e $b$ é o valor maximo dadistribuição uniforme , $n=b-a+1$ e a média sera: \r\n",
    "$$E(x) = \\frac{a+b}{2}$$\r\n",
    "\r\n",
    "## Distribuição de Bernoulli.\r\n",
    "A Distribuição de bernoulli é a distribuição discreta de espaço amostral de ${0,1}$ tem-se 1 para sucesso e 0 para fracasso.\r\n",
    "\r\n",
    "## Distribuição binomial.\r\n",
    "A distribuição binomial é a probabilidade de um número de sucessos em uma sequência de $n$ experimentos independentes com a probabilidade de ocorrencia $p$. Ela é frequentemente usada para modelar números de sucessos de uma amostra $n$ desenhada com substituição de uma população de tamanho $N$\r\n",
    "\r\n",
    "![img](https://proeducacional.com/packages/uploads/2020/08/img_5f2c365599bdd.png)\r\n",
    "\r\n",
    "A função massa de probabilidade da distribuição e dada por :\r\n",
    "$$f(k,n,p)= P(X=k) =  \\binom{n}{k} p^k (1-p)^{n-k}$$\r\n",
    "Exemplo: Considere o lançamento de uma moeda justa, em que o resultado de sucesso é cara , se lançarmos a moeda 10 vezes qual a probabilidade de observarmos a face cara 8 vezes ?\r\n",
    "Sabemos que $k=8$ e $n=10$\r\n",
    "$$P(X=8) = \\binom{10}{8} \\cdot \\frac{1^8}{2} \\cdot (1-\\frac{1}{2})^{10-8}$$\r\n",
    "$$= \\frac{10 * 9}{2} \\cdot \\frac{1}{256} \\cdot \\frac{1}{4} = \\frac{45}{1024} = 4,39$$\r\n",
    "\r\n",
    "\r\n",
    "## Distribuição geométrica.\r\n",
    "O experimento consiste em um numero de $n$ ensaios cada ensaio pode dizer sucesso ou falha, ou seja eles são independentes, então nossa distribuição geométrica conta os números de falhas até o primeiro sucesso. \r\n",
    "$$P(X=i) = (1-P)^i \\cdot P$$\r\n",
    "* Média da geométrica e dada por :\r\n",
    "$$E(x) = \\frac{1-P}{P}$$\r\n",
    "* Já a variância da geométrica temos por:\r\n",
    "$$\\sigma^2(X) = \\frac{1-P}{P^2}$$\r\n",
    "\r\n",
    "## Distribuição de Poisson.\r\n"
   ],
   "metadata": {}
  },
  {
   "cell_type": "code",
   "execution_count": null,
   "source": [],
   "outputs": [],
   "metadata": {}
  }
 ],
 "metadata": {
  "orig_nbformat": 4,
  "language_info": {
   "name": "python"
  }
 },
 "nbformat": 4,
 "nbformat_minor": 2
}