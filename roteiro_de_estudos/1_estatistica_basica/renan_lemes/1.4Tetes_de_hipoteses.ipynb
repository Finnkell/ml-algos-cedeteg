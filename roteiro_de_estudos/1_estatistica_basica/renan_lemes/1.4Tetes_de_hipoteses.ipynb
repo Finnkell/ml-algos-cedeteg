{
 "cells": [
  {
   "cell_type": "markdown",
   "source": [
    "# Teste de hipótese.\r\n",
    "É um teste estátistico de significância que permite tomar uma decisão entre duas ou mais hipóteses, utilizando dados de um determinado experimento, tem varios tipos de métodos para realizar como:\r\n",
    "* Método de Fisher\r\n",
    "Geralmente é utilizado em que temos amostras pequenas e é valido todos os tamanhos de amostras porem para variáveis qualitativas .\r\n",
    "$$$$\r\n",
    "* Método de Neyman-Pearson\r\n",
    "* Método de Bayes "
   ],
   "metadata": {}
  }
 ],
 "metadata": {
  "orig_nbformat": 4,
  "language_info": {
   "name": "python"
  }
 },
 "nbformat": 4,
 "nbformat_minor": 2
}