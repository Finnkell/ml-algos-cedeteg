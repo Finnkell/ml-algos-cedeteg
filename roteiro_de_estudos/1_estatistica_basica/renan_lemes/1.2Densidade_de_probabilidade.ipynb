{
 "cells": [
  {
   "cell_type": "markdown",
   "source": [
    "# Densidade de probabilidade.\r\n",
    "A densidade se basea por uma variável aleatória continua é uma função que vê ela tomar um valor dado ,ela cai em uma faixa baixa dada pela área a integral da desensidade dessa variável aleatória a função densidade ou seja por ser uma área não é negativa e sua integral sobre o espaço é igual a 1.\r\n",
    "* Função distribuição Acumulada :\r\n",
    "    $$F(x) = \\sum_{x_i \\leq x} f(x_i)$$\r\n",
    "    Descreve completamente a distribuição de probabilidades de uma variável aleatória X para cada valor de x.\r\n",
    "    $$F(x) = \\int^{x}_{-\\infty} f(x_i)$$\r\n",
    "    No caso X for uma variável discreta, então obtemos para valores $x_1, x_2, ...$ com a probabilidade sera descontinua ou seja segue a distribuição de Bernoulli que no caso a distribuição amostral ${0, 1}$ que tem valor de 1 para sucesso do evento e valor 0 para falha do evento.\r\n",
    "    $$f(k;p) = p^k(1-p)^{1-k}$$\r\n",
    "    \r\n",
    "## Diferença de função de probabilidade e função densidade de probabilidade.\r\n",
    "Função desidade de probabilidade, consideramos um dado não viciado a função de probabilidade resultado do dado as ocorrência ou seja $\\frac{1}{6}$ a diferença é que este se referea variáveis aleatórias continuas.\r\n",
    "## Exemplo:\r\n",
    "Seja a função densidade multidimensional no caso simples de uma função de duas variáveis. Chamaremos um vetor $v$ de duas dimensões com coordenadas (x,t) então temos:\r\n",
    "    $$Pr(X>0,T>0) = \\int_{0}^{\\infty} \\int_{0}^{\\infty} f_{X,T}(x,t)dxdt $$\r\n",
    "\r\n",
    "# Pratica.\r\n"
   ],
   "metadata": {}
  },
  {
   "cell_type": "code",
   "execution_count": 12,
   "source": [
    "import random as rd\r\n",
    "import matplotlib.pylab as fig\r\n",
    "from scipy.stats import norm\r\n",
    "import statistics as st\r\n",
    "import numpy as np\r\n"
   ],
   "outputs": [],
   "metadata": {}
  },
  {
   "cell_type": "code",
   "execution_count": null,
   "source": [],
   "outputs": [],
   "metadata": {}
  }
 ],
 "metadata": {
  "kernelspec": {
   "name": "python3",
   "display_name": "Python 3.9.0 64-bit"
  },
  "language_info": {
   "codemirror_mode": {
    "name": "ipython",
    "version": 3
   },
   "file_extension": ".py",
   "mimetype": "text/x-python",
   "name": "python",
   "nbconvert_exporter": "python",
   "pygments_lexer": "ipython3",
   "version": "3.9.0"
  },
  "interpreter": {
   "hash": "63fd5069d213b44bf678585dea6b12cceca9941eaf7f819626cde1f2670de90d"
  }
 },
 "nbformat": 4,
 "nbformat_minor": 5
}