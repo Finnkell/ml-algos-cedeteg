{
 "cells": [
  {
   "cell_type": "markdown",
   "id": "6bf4e367-c25e-4b59-a5aa-750ae02a6fd0",
   "metadata": {},
   "source": [
    "# Densidade de probabilidade\n",
    "A densidade se basea por uma variável aleatória continua é uma função que vê ela tomar um valor dado ,ela cai em uma faixa baixa dada pela área a integral da desensidade dessa variável aleatória a função densidade ou seja por ser uma área não é negativa e sua integral sobre o espaço é igual a 1.\n",
    "* Função distribuição Acumulada :\n",
    "    $$F(x) = \\sum_{x_i \\leq x} f(x_i)$$\n",
    "    Descreve completamente a distribuição de probabilidades de uma variável aleatória X para cada valor de x.\n",
    "    $$F(x) = \\int^{x}_{-\\infty} f(x_i)$$\n",
    "    No caso X for uma variável discreta, então obtemos para valores $x_1, x_2, ...$ com a probabilidade sera descontinua ou seja segue a distribuição de Bernoulli que no caso a distribuição amostral ${0, 1}$ que tem valor de 1 para sucesso do evento e valor 0 para falha do evento.\n",
    "    $$f(k;p) = p^k(1-p)^{1-k}$$\n",
    "    \n",
    "## Diferença de função de probabilidade e função densidade de probabilidade\n",
    "Função desidade de probabilidade, consideramos um dado não viciado a função de probabilidade resultado do dado as ocorrência "
   ]
  },
  {
   "cell_type": "code",
   "execution_count": null,
   "id": "f717d1ac-877e-4d89-8067-6294bf2ca2c6",
   "metadata": {},
   "outputs": [],
   "source": []
  }
 ],
 "metadata": {
  "kernelspec": {
   "display_name": "Python 3",
   "language": "python",
   "name": "python3"
  },
  "language_info": {
   "codemirror_mode": {
    "name": "ipython",
    "version": 3
   },
   "file_extension": ".py",
   "mimetype": "text/x-python",
   "name": "python",
   "nbconvert_exporter": "python",
   "pygments_lexer": "ipython3",
   "version": "3.8.11"
  }
 },
 "nbformat": 4,
 "nbformat_minor": 5
}
