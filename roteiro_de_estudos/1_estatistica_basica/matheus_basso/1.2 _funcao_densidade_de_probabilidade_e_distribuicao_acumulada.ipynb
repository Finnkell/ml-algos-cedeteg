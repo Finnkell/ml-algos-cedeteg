{
 "cells": [
  {
   "cell_type": "markdown",
   "id": "463f91fe-d6ab-497e-b67f-0042593133d5",
   "metadata": {
    "jp-MarkdownHeadingCollapsed": true,
    "tags": []
   },
   "source": [
    "# Função densidade de Probabilidade e Distribuição Acumulada\n",
    "<p><font size=\"1.5\">O presente documento caso esteja sendo lido no GitHub pode estar desconfigurado devido ao markdown, por isso recomendo baixar o mesmo e abrir em seu prórpio computador para uma visualização adequada do conteúdo.</font> </p>\n",
    "\n",
    "---\n",
    "## Teórico\n",
    "* **Definição**: a teoria da probabilidade é a base da inferência estatística. Através da inferência estatística podemos buscar inferir características da população a partir de uma amostra de dados obtidos ao acaso. Modelos probabilísitcos são modelos teóricos que nos descrevem a distribuição de frequências de um fenômeno, quando se tem uma amostra representativa de dados obtidos ao acaso. Modelos probabilísticos são descritos através de:\n",
    "    * Um espaço amostral\n",
    "    * Uma probabilidade para cada ponto amostral\n",
    "* **Algumas propriedades:**\n",
    "    * A probabilidade de qualquer evento é maior ou igual a zero e menor ou igual a um. ($ 0 \\le evento \\le 1$)\n",
    "    * A probabilidade de todo o espaço amostral é igual a um. ($ \\Omega = 1$)\n",
    "    * A probabilidade do conjunto vazio é igual a zero. ($\\emptyset = 0$)\n",
    "---    \n",
    "* Por definição, a intersecção de dois eventos A e B ocorre quando dois eventos ocorrem simultaneamente. ($A\\cap B$)    \n",
    "* Já na reunião de dois eventos A e B, temos que pelo menos um dos eventos deve ocorrer. ($A \\cup B$)\n",
    "* Um evento B é complementar ao evento A se ele compreender todos os pontos amostrais do espaço amostral que não pertençam ao evento A. $B = \\{x\\ |\\  x \\in U \\ e\\  x \\notin A\\}$ onde $U = A \\cup B$, sendo um conjunto universal.\n",
    "---\n",
    "\n",
    "### Função distribuição Acumulada (f.d.a)\n",
    "* A função distribuição acumulada de uma variável aleatória $X$ associa a cada valor possível de $X$ a probabilidade de ocorrência de um valor menor ou igual a $x$. Denota-se $F(x) = P(X\\le x)$, ou seja, a função de nome $F$ é igual à probabilidade de que a variável aleatória $X$ assuma um valor inferior ou igual a determinado $x$. Note que, via de regra, para cada $x$, a função $F$ assumirá um valor diferente.\n",
    "    * Para uma variável aleatória: $F(x) = \\sum_{x_i\\le x}^{} f(x_i)$:\n",
    "    \n",
    "    ![f.d.a discreta](https://anotacoesdeaula.files.wordpress.com/2011/06/grafico3.png)\n",
    "\n",
    "    \n",
    "### Função Distribuição de Probabilidade (f.d.p)\n",
    "* É uma função que descreve a semelhança de uma variável aleatória tomar um valor dado. A probabilidade da variável dada cair em uma faixa particular é dada pela integral da densidade dessa variável sobre tal faixa, ou seja, é dada pela área abaixo da função densidade mas acima do eixo horizontal e entre o menor e o maior valor dessa faixa.\n",
    "* **Algumas propriedades**:\n",
    "    * A função densidade de probabilidade é não negativa sempre. Pois em estatística não existe probabilidade negativa. \n",
    "    * Sua integral sobre todo o espaço é igual a um. Pois em estatística o valor máximo que podemos ter é 1 o qual é igual a 100% e não podemos ter uma chance maior que isso por definição.\n",
    "    \n",
    "### Fórmulas:\n",
    "* Variável aleatória $x$: $\\int_{-\\infty}^{+\\infty}f(x)dx=1$\n",
    "\n",
    "![reprentacao](https://lh3.googleusercontent.com/proxy/9CIk0D3HdfsdFs9HM1TevmM8ctLAmjFKgafplkfKzLLmvGONRolSk6g5ikEhwGpo9rjmVeccBgETnu2lh0Zpl0gk3SHwgujFFvAZ8AR5wCjglVbjziShJ2T_Hsa1vDBoFuof-WP3BdmZKxTueL5sX6alQI-YEmeSFc1NNwQDhg)\n",
    "\n",
    "* podemos pegar essa imagem para demonstrar como a função é aplicada, na imagem temos uma grafico seguindo uma distribuição binomial, que veremos nos próximos arquivos, usando um f(x) qualquer e onde a probabilidade é calculada no intervalo de [5, 8] onde a integral definida nesse intervalor nos entrega a probabilidade do evento ocorrer. $\\int_{5}^{8} f(x)dx = a probabilidade\\ do\\ evento\\ ocorrer$.\n",
    "\n",
    "### Aplicação:\n",
    "* Como o f.d.p é voltado para variáveis contínuas é o correto para aplicarmos em uma análise do mercado financeiro, onde é possível usar para explicar a maioria das variaçõs do mercado. O estudo abaixo ilustra essa aplicação e os resultados obtidos:\n",
    "\n",
    "https://file.scirp.org/pdf/JMF_2015112614272762.pdf"
   ]
  }
 ],
 "metadata": {
  "kernelspec": {
   "display_name": "Python 3",
   "language": "python",
   "name": "python3"
  },
  "language_info": {
   "codemirror_mode": {
    "name": "ipython",
    "version": 3
   },
   "file_extension": ".py",
   "mimetype": "text/x-python",
   "name": "python",
   "nbconvert_exporter": "python",
   "pygments_lexer": "ipython3",
   "version": "3.8.11"
  }
 },
 "nbformat": 4,
 "nbformat_minor": 5
}
