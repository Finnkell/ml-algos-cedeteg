{
 "cells": [
  {
   "cell_type": "markdown",
   "id": "1d78ed1c-ece6-40c6-85fb-cc10c39d7931",
   "metadata": {},
   "source": [
    "# Testes de Hipósteses\n",
    "---\n",
    "\n",
    "## Teoria:\n",
    "  É uma metodologia estatística que nos auxilia a tomar decisões sobre uma ou mais populações baseado na informação obtida da amostra.\n",
    "Nos permite verificar se os dados amostrais trazem evidências que apoiem ou não uma hipótese estatística formulada.\n",
    "Ao tentarmos tomar decisões, é conveniente a formulação de suposições ou de conjecturas sobre as populações de interesse, que, em geral, consistem em **considerações sobre parâmetros** ($\\mu , \\sigma^2, p$) das mesmas. Essas suposições, que podem ser ou não verdadeiras, são denominadas de **Hipóteses Estatísticas**. Em muitas situações práticas o interesse do pesquisador é verificar a veracidade sobre um ou mais parâmetros populacionais ($\\mu , \\sigma^2, p$) ou sobre a distribuição de uma variável aleatória.\n",
    "\n",
    "### Objetivo:\n",
    "\n",
    "* O objetivo de um teste estatístico de hipóteses é fornecer ferramentas que nos permitam aceitar ou rejeitar uma hipótese estatística através dos resultados de uma amostra.\n",
    "\n",
    "### Conceitos fundamentais:\n",
    "\n",
    "* Hipótese nula ($H_0$): é a hipótese assumida com verdadeira para a contstrução do teste. É a teoria, o efeito ou a alternativa que se está interessado em testar\n",
    "* Hipótese alternativa ($H_1$): é considerada quando a hipótese nula não tem evidência estatística.\n",
    "* Erro do tipo I ($\\alpha$): é a probabilidade de se rejeitar a hipótese nula quando ela é verdadeira.\n",
    "* Erro do tipo II: é a probabilidade de se rejeitar a hipótese alternativa quando ela é verdadeira.\n",
    "\n",
    "<table>\n",
    "  <thead>\n",
    "    <tr>\n",
    "      <th></th>\n",
    "      <th>Hipótese nula $H_0$ é verdadeira</th>\n",
    "      <th>Hipótese nula $H_0$ é falsa</th>  \n",
    "    </tr>\n",
    "  </thead>\n",
    "  <tbody>\n",
    "    <tr>\n",
    "      <td>Hipótese nula $H_0$ é rejeitada</td>\n",
    "      <td>Erro do tipo I</td>\n",
    "      <td>Não há erro</td>  \n",
    "    </tr>\n",
    "    <tr>\n",
    "      <td>Hipótese nula $H_0$ não é rejeitada</td>\n",
    "      <td>Não há erro</td>\n",
    "      <td>Erro do tipo II</td>  \n",
    "    </tr>\n",
    "  </tbody>\n",
    "</table>\n",
    "\n"
   ]
  }
 ],
 "metadata": {
  "kernelspec": {
   "display_name": "Python 3",
   "language": "python",
   "name": "python3"
  },
  "language_info": {
   "codemirror_mode": {
    "name": "ipython",
    "version": 3
   },
   "file_extension": ".py",
   "mimetype": "text/x-python",
   "name": "python",
   "nbconvert_exporter": "python",
   "pygments_lexer": "ipython3",
   "version": "3.8.11"
  }
 },
 "nbformat": 4,
 "nbformat_minor": 5
}
