{
 "cells": [
  {
   "cell_type": "markdown",
   "id": "5561a8d7",
   "metadata": {},
   "source": [
    "# <center><h1>MultiTaskElastic-Net</h1><center>\n",
    "\n",
    "<p> <center>Para entendermos <code>MultiTaskElastic-Net</code> precisamos primeiro ver sobre <code>Elastic-Net</code></center>\n",
    "\n",
    "<h1><center>Elastic-Net<center></h1>\n",
    "<p><center><code>Elastic-Net</code> é uma combinação de dois dos mais populares regularizadores de variantes da regressão linear:</center> <center><code>Ridge</code> e <code>Lasso</code>.</center> \n",
    "\n",
    "<h1><center><code>Ridge</code> utiliza uma penalidade L2:<center></h1>\n",
    "\n",
    "![Ridge](Images/ridge.png)    \n",
    "    \n",
    "<h1><center><code>Lasso</code> utiliza uma penalidade L1:<center></h1>\n",
    "    \n",
    "![Lasso](Images/lasso.png) \n",
    "    \n",
    "<h1><center>Com Elastic-Net nós não precisamos escolher entre esses dois modelos, pois ela usa ambos, L1 e L2, como penalidade.<center></h1>\n",
    "    \n",
    "![ElasticNet](Images/elastic_net.png)    \n",
    "    \n",
    "<p><center>Onde: 0 <= l1_ratio <= 1. Para l1_ratio = 0 a penalidade é um L2. Para l1_ratio = 1 é uma penalidade L1. Para 0 < l1_ratio < 1, a penalidade será uma combinação de L1 e L2</center></p> \n",
    "    \n",
    "<h1><center>Enquato na Multitask temos:<center></h1>\n",
    "\n",
    "![MultiTask](Images/multi_task.png)\n",
    "\n",
    "<p><center>Onde: 0 < l1_ratio <= 1. Para l1_ratio = 1 a penalidade é L1/L2. Para l1_ratio = 0 a penalidade é L2. Para 0 < l1_ratio < 1, a penalidade é a combinação de L1/L2 e L2.</center></p>   \n",
    "    \n",
    "<h1><center>Para comparmos de forma simples podemos checar abaixo:</center></h1>\n",
    "\n",
    "![Comparativo](Images/comparativo.png)\n",
    "    \n",
    "<p><center>Entretanto, por utilizar ambos os modelos <code>Lasso</code> e <code>Ridge</code>, o <code>Elastic-Net</code> demanda um processamento muito grande, da mesma forma que o <code>MultiTaskElastic-Net</code></center></p>    "
   ]
  },
  {
   "cell_type": "markdown",
   "id": "323ae261",
   "metadata": {},
   "source": [
    "# Treinando o modelo proposto\n",
    "\n",
    "## 01 - Importando Bibliotecas"
   ]
  },
  {
   "cell_type": "code",
   "execution_count": 12,
   "id": "2120e8b2",
   "metadata": {},
   "outputs": [],
   "source": [
    "import pandas as pd\n",
    "import numpy as np\n",
    "from sklearn.svm import LinearSVC\n",
    "from sklearn.model_selection import train_test_split\n",
    "from sklearn.metrics import mean_squared_error as mse_\n",
    "from sklearn.linear_model import Ridge, MultiTaskElasticNet, ElasticNet, LogisticRegression, Lasso\n",
    "import warnings\n",
    "warnings.filterwarnings('ignore')\n",
    "from sklearn.neighbors import KNeighborsClassifier"
   ]
  },
  {
   "cell_type": "markdown",
   "id": "36b1dd33",
   "metadata": {},
   "source": [
    "## 02 - Importando dados necessários"
   ]
  },
  {
   "cell_type": "code",
   "execution_count": 13,
   "id": "a933b88f",
   "metadata": {},
   "outputs": [],
   "source": [
    "df = pd.read_csv('data/data.csv', delimiter = '\\t').rename(columns = {'<DATE>': 'date', '<OPEN>': 'open', '<HIGH>':'high', '<CLOSE>':'close', '<LOW>':'low'}).drop(columns = ['<TICKVOL>', '<VOL>', '<SPREAD>'])\n",
    "df['adj_close'] = df['close'] * 0.8375918 # criando coluna de adf_close para futuros calculos"
   ]
  },
  {
   "cell_type": "markdown",
   "id": "b98983b5",
   "metadata": {},
   "source": [
    "## 03 - Definindo RSI/IFR"
   ]
  },
  {
   "cell_type": "code",
   "execution_count": 14,
   "id": "c5ba20cf",
   "metadata": {},
   "outputs": [],
   "source": [
    "def rsi(data, column, window=1):\n",
    "    \"\"\"Retorn o calculo de RSI sobre o DF e coluna\"\"\"   \n",
    "    \n",
    "    data = data.copy()\n",
    "    \n",
    "    # Establish gains and losses for each day\n",
    "    data[\"Variation\"] = data[column].diff()\n",
    "    data = data[1:]\n",
    "    data[\"Gain\"] = np.where(data[\"Variation\"] > 0, data[\"Variation\"], 0)\n",
    "    data[\"Loss\"] = np.where(data[\"Variation\"] < 0, data[\"Variation\"], 0)\n",
    "\n",
    "    # Calculate simple averages so we can initialize the classic averages\n",
    "    simple_avg_gain = data[\"Gain\"].rolling(window).mean()\n",
    "    simple_avg_loss = data[\"Loss\"].abs().rolling(window).mean()\n",
    "    classic_avg_gain = simple_avg_gain.copy()\n",
    "    classic_avg_loss = simple_avg_loss.copy()\n",
    "\n",
    "    for i in range(window, len(classic_avg_gain)):\n",
    "        classic_avg_gain[i] = (classic_avg_gain[i] * (window - 1) + data[\"Gain\"].iloc[i]) / window\n",
    "        classic_avg_loss[i] = (classic_avg_loss[i] * (window - 1) + data[\"Loss\"].abs().iloc[i]) / window\n",
    "    \n",
    "    # Calculate the RSI\n",
    "    RS = classic_avg_gain / classic_avg_loss\n",
    "    RSI = 100 - (100 / (1 + RS))\n",
    "    return RSI"
   ]
  },
  {
   "cell_type": "markdown",
   "id": "0b37cfd8",
   "metadata": {},
   "source": [
    "## 04 - Definindo tabela com RSI/IFR"
   ]
  },
  {
   "cell_type": "code",
   "execution_count": 15,
   "id": "371fc91f",
   "metadata": {},
   "outputs": [],
   "source": [
    "def rsi_table(df):\n",
    "    \"\"\"Usa um DF criando uma coluna com o sinal para o ML\"\"\"\n",
    "    df[\"IFR2\"] = rsi(df, column=\"adj_close\")\n",
    "    df[\"Target1\"] = df[\"high\"].shift(1)\n",
    "    df[\"Target2\"] = df[\"high\"].shift(2)\n",
    "    df[\"Target\"] = df[[\"Target1\", \"Target2\"]].max(axis=1)\n",
    "    df.drop(columns=[\"Target1\", \"Target2\"], inplace=True)\n",
    "    \n",
    "    # Define exact buy price\n",
    "    rsi_parameter = 40\n",
    "    df[\"buy_price\"] = np.where(df[\"IFR2\"] <= rsi_parameter, df[\"close\"], 0)\n",
    "\n",
    "    # Define exact sell price\n",
    "    df[\"sell_price\"] = np.where(\n",
    "        df[\"high\"] > df['Target'], \n",
    "        np.where(df['open'] > df['Target'], df['open'], df['Target']),\n",
    "        0) \n",
    "    trade_logic = []\n",
    "    for i in range(len(df['close'])):\n",
    "        if ((df['buy_price'][i] == 0) & (df['sell_price'][i] == 0)) == True:\n",
    "            trade_logic.append(-1)\n",
    "        elif (df['buy_price'][i] != 0) == True:\n",
    "            trade_logic.append(1)\n",
    "        else:\n",
    "            trade_logic.append(0)\n",
    "    df['sinal'] = trade_logic\n",
    "    df = df.drop(columns = {'IFR2', 'Target', 'buy_price', 'sell_price'})\n",
    "    return df"
   ]
  },
  {
   "cell_type": "markdown",
   "id": "da7d5c62",
   "metadata": {},
   "source": [
    "## 05 - Separando os dados (treino e teste)"
   ]
  },
  {
   "cell_type": "code",
   "execution_count": 16,
   "id": "1992af39",
   "metadata": {},
   "outputs": [],
   "source": [
    "df = rsi_table(df)\n",
    "y = df.sinal\n",
    "X = df.drop(columns = ['sinal', 'date'])\n",
    "\n",
    "X_train, X_test, y_train, y_test = train_test_split(X, y, test_size = .3369, random_state = 42)"
   ]
  },
  {
   "cell_type": "markdown",
   "id": "0d0b1567",
   "metadata": {},
   "source": [
    "## 06 - Treinando o modelo"
   ]
  },
  {
   "cell_type": "code",
   "execution_count": 17,
   "id": "9996e805",
   "metadata": {},
   "outputs": [
    {
     "data": {
      "text/plain": [
       "0.016904690435489478"
      ]
     },
     "execution_count": 17,
     "metadata": {},
     "output_type": "execute_result"
    }
   ],
   "source": [
    "mt_elastic_net = MultiTaskElasticNet()\n",
    "mt_elastic_net.fit(X_train, y_train[:, np.newaxis])\n",
    "y_pred = mt_elastic_net.predict(X_test)\n",
    "mse_(y_test, y_pred)\n",
    "mt_elastic_net.score(X_test, y_test)"
   ]
  },
  {
   "cell_type": "markdown",
   "id": "7b3fb5a6",
   "metadata": {},
   "source": [
    "# Criando link com MetaTrader5\n",
    "## 01 - Importando bibliotecas necessárias, definindo funcao para importar datasets"
   ]
  },
  {
   "cell_type": "code",
   "execution_count": 18,
   "id": "4b58aa94",
   "metadata": {},
   "outputs": [],
   "source": [
    "import MetaTrader5 as mt\n",
    "from datetime import datetime    \n",
    "# Initializing MT5 connection \n",
    "def input_mt5(x_1, x_2, x_3):\n",
    "    \"\"\"x = moeda, y = TIMEFRAME, z = range\"\"\"\n",
    "    mt.initialize()\n",
    "    mt.terminal_info()\n",
    "\n",
    "    print(\"Inicialização bem sucedida: {}\".format(mt.initialize()))\n",
    "    # Copying data to pandas data frame\n",
    "    stockdata = pd.DataFrame()\n",
    "    rates = mt.copy_rates_from_pos(x_1, x_2, 0, x_3)\n",
    "    # Deinitializing MT5 connection\n",
    "    mt.shutdown()\n",
    "    print(\"Desligamento bem sucedido: {}\".format(mt.shutdown()))\n",
    "    stockdata['open'] = [y['open'] for y in rates]\n",
    "    stockdata['high'] = [y['high'] for y in rates]\n",
    "    stockdata['low'] = [y['low'] for y in rates]\n",
    "    stockdata['close'] = [y['close'] for y in rates]\n",
    "    stockdata['adj_close'] = stockdata.close * 0.8375918 \n",
    "    \n",
    "    return stockdata"
   ]
  },
  {
   "cell_type": "markdown",
   "id": "3368117c",
   "metadata": {},
   "source": [
    "## 02 - Definindo ordem de venda"
   ]
  },
  {
   "cell_type": "code",
   "execution_count": 19,
   "id": "198d85d9",
   "metadata": {},
   "outputs": [],
   "source": [
    "def buy(x, _vol):\n",
    "    price = mt.symbol_info_tick(x).ask\n",
    "    \n",
    "    sl  = price - 80.0*mt.symbol_info(x).point\n",
    "    tp  = price + 100.0*mt.symbol_info(x).point\n",
    "\n",
    "    request = {\n",
    "        \"action\": mt.TRADE_ACTION_DEAL,\n",
    "        \"symbol\": x,\n",
    "        \"volume\": _vol,\n",
    "        \"type\": mt.ORDER_TYPE_BUY,\n",
    "        \"sl\": sl,\n",
    "        \"tp\": tp,\n",
    "        \"magic\": 124512,\n",
    "        \"deviation\": 0,\n",
    "        \"comment\": \"Buy Order\",\n",
    "        \"type_time\": mt.ORDER_TIME_GTC,\n",
    "        \"type_filling\": mt.ORDER_FILLING_FOK,\n",
    "    }\n",
    "\n",
    "    result = mt.order_send(request)\n",
    "    print(x)\n",
    "    print(f'OrderSended buy: {result}')"
   ]
  },
  {
   "cell_type": "markdown",
   "id": "006742a3",
   "metadata": {},
   "source": [
    "## 03 - Definindo a função de compra"
   ]
  },
  {
   "cell_type": "code",
   "execution_count": 20,
   "id": "6a02ad49",
   "metadata": {},
   "outputs": [],
   "source": [
    "def sell(x, _vol):\n",
    "    price = mt.symbol_info_tick(x).bid\n",
    "\n",
    "    sl  = price + 80.0*mt.symbol_info(x).point\n",
    "    tp  = price - 100.0*mt.symbol_info(x).point\n",
    "\n",
    "    request = {\n",
    "        \"action\": mt.TRADE_ACTION_DEAL,\n",
    "        \"symbol\": x,\n",
    "        \"volume\": _vol,\n",
    "        \"type\": mt.ORDER_TYPE_SELL,\n",
    "        \"sl\": sl,\n",
    "        \"tp\": tp,\n",
    "        \"magic\": 124512,\n",
    "        \"deviation\": 0,\n",
    "        \"comment\": \"Sell Order\",\n",
    "        \"type_time\": mt.ORDER_TIME_GTC,\n",
    "        \"type_filling\": mt.ORDER_FILLING_FOK,\n",
    "    }\n",
    "\n",
    "    result = mt.order_send(request)\n",
    "\n",
    "    print(f'OrderSended sell: {result}')"
   ]
  },
  {
   "cell_type": "markdown",
   "id": "24a0c6d2",
   "metadata": {},
   "source": [
    "# 04 - Realização da compra com o ML em cima dos dados importados usando a funcao input_mt5"
   ]
  },
  {
   "cell_type": "code",
   "execution_count": 23,
   "id": "3f83ce64",
   "metadata": {},
   "outputs": [
    {
     "name": "stdout",
     "output_type": "stream",
     "text": [
      "Inicialização bem sucedida: True\n",
      "Desligamento bem sucedido: True\n",
      "Erro\n"
     ]
    }
   ],
   "source": [
    "mt.initialize()\n",
    "last_price = input_mt5('WINQ21', mt.TIMEFRAME_M5, 5)\n",
    "mt.initialize()\n",
    "\n",
    "while True:\n",
    "    predict_result = mt_elastic_net.predict(last_price)\n",
    "    if mt.positions_get(symbol=\"WINQ21\") == ():\n",
    "        if predict_result[-1] >= .14 :\n",
    "            buy(\"WINQ21\", 1.0)\n",
    "            mt.shutdown()\n",
    "            break\n",
    "\n",
    "        else:\n",
    "            sell(\"WINQ21\", 1.0)\n",
    "            print('Nao pode dar predict')\n",
    "            mt.shutdown()\n",
    "            break\n",
    "    else:\n",
    "        print('Erro')\n",
    "        break"
   ]
  },
  {
   "cell_type": "code",
   "execution_count": 22,
   "id": "587d075b",
   "metadata": {},
   "outputs": [
    {
     "name": "stdout",
     "output_type": "stream",
     "text": [
      "Connected\n"
     ]
    },
    {
     "data": {
      "text/plain": [
       "False"
      ]
     },
     "execution_count": 22,
     "metadata": {},
     "output_type": "execute_result"
    }
   ],
   "source": [
    "if not mt.initialize():\n",
    "    mt.shutdown()\n",
    "else:\n",
    "    print(f'Connected')\n",
    "mt.positions_get(symbol=\"WINQ21\") == ()"
   ]
  }
 ],
 "metadata": {
  "interpreter": {
   "hash": "f763c5ae1380102371fc37b7f9e900cc55027b2a662d6fbcccf1534945890ce5"
  },
  "kernelspec": {
   "display_name": "Python 3",
   "language": "python",
   "name": "python3"
  },
  "language_info": {
   "codemirror_mode": {
    "name": "ipython",
    "version": 3
   },
   "file_extension": ".py",
   "mimetype": "text/x-python",
   "name": "python",
   "nbconvert_exporter": "python",
   "pygments_lexer": "ipython3",
   "version": "3.8.8"
  }
 },
 "nbformat": 4,
 "nbformat_minor": 5
}
