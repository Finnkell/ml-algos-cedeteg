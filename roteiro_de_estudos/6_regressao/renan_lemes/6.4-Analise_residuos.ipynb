{
 "cells": [
  {
   "cell_type": "markdown",
   "source": [
    "# Análise de residuos.\r\n",
    " "
   ],
   "metadata": {}
  },
  {
   "cell_type": "markdown",
   "source": [
    "## Erro porcentual médio absoluto (MAPE).\r\n",
    "é o esquivalente precentual do MAE, a esquação se parece a o da MAE, mas com ajustes para converter tudo em porcentagens.\r\n",
    "\r\n",
    "![img](https://i.imgur.com/YYMpqUY.jpeg)\r\n",
    "\r\n",
    "Assim como MAE é a magnitude média do erro produzido por seu modelo, MAPE é o quão longe as previsões do modelo estão de suas saídas correspondentes em média. Como o MAE, o MAPE também tem uma interpretação clara, uma vez que as porcentagens são mais faceies de serem conceituadas pela pessoa.\r\n",
    "\r\n",
    "![img](https://i.imgur.com/HPlrPmu.jpeg)\r\n",
    "\r\n",
    "No entanto, apesar de todas as suas vantagens, somos mais limitados em usar MAPE do que MAE. Muitos dos pontos fracos de MAPE, na verdade, decorrem da divisão de uso. Agora que temos que dimensionar tudo pelo valor real, MAPE é definido para pontos de dados onde o valor é 0. Da mesma forma, MAPE pode crescer inesperadamentese os valores reais forem excepcionalmente pequenos.\r\n",
    "$\\newline$ Finalmente, o MAPE é tendencioso para previsões que são sistematicamente menores do que os próprios valores reais. Ou seja, o MAPE será menor quando a previsão for inferior ao real em comparação com uma previsão superior no mesmo valor.\r\n",
    "\r\n",
    "![img](https://i.imgur.com/OBBvmIH.jpeg)\r\n",
    "\r\n"
   ],
   "metadata": {}
  },
  {
   "cell_type": "markdown",
   "source": [
    "## MPE - Erro percentual médio.\r\n",
    "Mesmo que o MPE não tenha a operação de valor absoluto, é na verdade sua ausência que torna o MPE útil. Uma vez que os erros positivos e negativos serão cancelados, não podemos fazer qualquer afirmação sobre o desempenho geral das previsões do modelo. No entanto, se houver mais erros negativos ou positivos, esse viés aparecerá no MPE. Ao contrário do MAE e do MAPE, o MPE é útil para nós porque nos permite ver se nosso modelo sistematicamente subestima (erro mais negativo) ou superestima (erro positivo).\r\n",
    "\r\n",
    "![img](https://i.imgur.com/kTIYRBX.jpeg)"
   ],
   "metadata": {}
  },
  {
   "cell_type": "markdown",
   "source": [
    "# Prática."
   ],
   "metadata": {}
  },
  {
   "cell_type": "code",
   "execution_count": 6,
   "source": [
    "import pandas as pd\r\n",
    "import numpy as np\r\n",
    "import seaborn as sns\r\n",
    "import matplotlib.pyplot as plt\r\n",
    "from matplotlib import rcParams\r\n",
    "from sklearn.linear_model import LinearRegression\r\n",
    "from sklearn.preprocessing import scale"
   ],
   "outputs": [],
   "metadata": {}
  },
  {
   "cell_type": "code",
   "execution_count": 7,
   "source": [
    "def mean_absolute_percentage_error(y_true, y_pred): \r\n",
    "    y_true, y_pred = np.array(y_true), np.array(y_pred)\r\n",
    "    return np.mean(np.abs((y_true - y_pred) / y_true)) * 100\r\n"
   ],
   "outputs": [],
   "metadata": {}
  },
  {
   "cell_type": "code",
   "execution_count": 23,
   "source": [
    "def percentage_error(actual, predicted):\r\n",
    "    res = np.empty(actual.shape)\r\n",
    "    for j in range(actual.shape[0]):\r\n",
    "        if actual[j] != 0:\r\n",
    "            res[j] = (actual[j] - predicted[j]) / actual[j]\r\n",
    "        else:\r\n",
    "            res[j] = predicted[j] / np.mean(actual)\r\n",
    "    return res\r\n",
    "\r\n",
    "def mean_absolute_percentage_error(y_true, y_pred): \r\n",
    "    return np.mean(np.abs(percentage_error(np.asarray(y_true), np.asarray(y_pred)))) * 10\r\n"
   ],
   "outputs": [],
   "metadata": {}
  },
  {
   "cell_type": "code",
   "execution_count": 33,
   "source": [
    "actual = [12,13,14,15,15,22,27]\r\n",
    "pred =   [11,13,14,14,15,16,18]"
   ],
   "outputs": [],
   "metadata": {}
  },
  {
   "cell_type": "code",
   "execution_count": 34,
   "source": [
    "mean_ab = mean_absolute_percentage_error(actual,pred)\r\n",
    "mean_ab"
   ],
   "outputs": [
    {
     "output_type": "execute_result",
     "data": {
      "text/plain": [
       "1.0800865800865802"
      ]
     },
     "metadata": {},
     "execution_count": 34
    }
   ],
   "metadata": {}
  }
 ],
 "metadata": {
  "orig_nbformat": 4,
  "language_info": {
   "name": "python",
   "version": "3.9.0",
   "mimetype": "text/x-python",
   "codemirror_mode": {
    "name": "ipython",
    "version": 3
   },
   "pygments_lexer": "ipython3",
   "nbconvert_exporter": "python",
   "file_extension": ".py"
  },
  "kernelspec": {
   "name": "python3",
   "display_name": "Python 3.9.0 64-bit"
  },
  "interpreter": {
   "hash": "63fd5069d213b44bf678585dea6b12cceca9941eaf7f819626cde1f2670de90d"
  }
 },
 "nbformat": 4,
 "nbformat_minor": 2
}