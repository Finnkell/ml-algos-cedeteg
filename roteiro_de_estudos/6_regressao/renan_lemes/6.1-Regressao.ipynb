{
 "cells": [
  {
   "cell_type": "markdown",
   "source": [
    "# Regressão Linear.\r\n",
    "Surgiu em 1885, com o matemático estatístico Francis Galton. As primeiras aplicações surgiram na Antroprometria, ou seja, o estudo das medidas e da matemática.\r\n",
    "$\\newline$ No caso Galton observou que filhos de pais com altura baixa em relação à média tendem a ser mais altos que seus pais, e filhos de pais com estatura alta em relação à média tendem a ser mais baixos que seus pais, ou seja, as alturas dos seres humanos em geral tendem a regredir à média.\r\n",
    "## Conceitos. \r\n",
    "Antes de prosseguir, há alguns conceitos importantes que precisam estar bem claros.\r\n",
    "* Variáveis idependente ou preditora: é aquela que será passada para o modelo, tendo influência na variável que queremos encontrar.\r\n",
    "* Variável alvo ou dependente: é a variável que queremos prever.\r\n",
    "\r\n",
    "Regressão linear é um algoritmo supervisionado de machine learning usado para estimar o valor de algo baseado em uma série de outros dados históricos, portanto olhadno o passado você pode \"prever\" o futuro.\r\n"
   ],
   "metadata": {}
  },
  {
   "cell_type": "markdown",
   "source": [
    "## Objetivo.\r\n",
    "É encontrar uma reta que consiga definir bem os dados e minimiazar a difença entre valor real e a saída calculada pelo modelo.\r\n",
    "$$f(X) = w_0 + w_1\\cdot x_1$$\r\n",
    "## Otimizando as variáveis de Decisão(Least square method).\r\n",
    "$$E = \\frac{1}{} \\sum^{n}_{i=1}(y_i - h_i)^2$$\r\n",
    "$$E = \\frac{1}{n} \\sum^{n}_{i=1} (y_i - (w_1 \\cdot x_i + w_0))$$\r\n",
    "* Para minimizar o erro.\r\n",
    "$$w_1 = \\frac{\\partial E}{\\partial w_1} = \\frac{\\sum^{n}_{i=1} (x_i - \\overline{x})(y_i - \\overline{y})}{\\sum{n}{i=1} (x_i - \\overline{x})^2} = 0$$\r\n",
    "$$w_0 = \\frac{\\partial E }{\\partial w_0} = y - w_1 \\cdot \\overline{x} = 0$$"
   ],
   "metadata": {}
  },
  {
   "cell_type": "markdown",
   "source": [
    "## Regressão linear simples.\r\n",
    "Refere-se quando temos somente uma variável independente X para fazermos a predição."
   ],
   "metadata": {}
  },
  {
   "cell_type": "markdown",
   "source": [
    "## Regresão linear multipla.\r\n",
    "Refere-se a variável independentes X usadas para fazer a predição.\r\n"
   ],
   "metadata": {}
  },
  {
   "cell_type": "markdown",
   "source": [
    "E com isso a forma de representação de cada regressão varia conforme  o tipo, como exemplo a representação gráfica em uma regressão linear simples é uma reta em um plano de 2 dimensões, ja em uma regressão linear multipla, sua representação é feita em um plano de n dimensões.\r\n",
    "\r\n",
    "![img](https://miro.medium.com/max/700/1*kYeEvedeSMcI2ppvLSDaKw.png)"
   ],
   "metadata": {}
  },
  {
   "cell_type": "markdown",
   "source": [
    "## Casos de uso da regressão linear.\r\n",
    "* Predição de vendas.\r\n",
    "* Predição de consumo de recursos.\r\n",
    "* Predição de custo de suprimentos.\r\n",
    "* Predição de cliclo de vida de serviços de telecomunicações.\r\n"
   ],
   "metadata": {}
  },
  {
   "cell_type": "markdown",
   "source": [
    "## Pressuposto.\r\n",
    "* Todas as variáveis continuas, numéricas, não categóricas.\r\n",
    "* Os conjuntos de dados não pode ter outliers ou valores em branco.\r\n",
    "* Precisa existir uma relação linear entre os preditores e o predito.\r\n",
    "* Todos os preditores são independentes uma das outras.\r\n",
    "* Risiduais (erro de predição) têm distribuição normal."
   ],
   "metadata": {}
  },
  {
   "cell_type": "markdown",
   "source": [
    "# Prática."
   ],
   "metadata": {}
  },
  {
   "cell_type": "code",
   "execution_count": 2,
   "source": [
    "import pandas as pd\r\n",
    "import numpy as np\r\n",
    "import seaborn as sns\r\n",
    "import matplotlib.pyplot as plt\r\n",
    "from matplotlib import rcParams\r\n",
    "from sklearn.linear_model import LinearRegression\r\n",
    "from sklearn.preprocessing import scale\r\n"
   ],
   "outputs": [],
   "metadata": {}
  },
  {
   "cell_type": "code",
   "execution_count": null,
   "source": [
    "caminho = ''\r\n",
    "inscritos = pd.read_csv(caminho)\r\n",
    "inscritos.columns = ['year' , 'roll', 'unem', 'hgrad', 'inc']"
   ],
   "outputs": [],
   "metadata": {}
  },
  {
   "cell_type": "code",
   "execution_count": null,
   "source": [
    "sns.pairplot(inscritos)"
   ],
   "outputs": [],
   "metadata": {}
  },
  {
   "cell_type": "code",
   "execution_count": null,
   "source": [
    "print(inscritos.corr())"
   ],
   "outputs": [],
   "metadata": {}
  },
  {
   "cell_type": "code",
   "execution_count": null,
   "source": [
    "inscritos_cols = ['unem', 'hgrad']\r\n",
    "inscritos_data = inscritos[inscritos_cols].values\r\n",
    "\r\n",
    "inscritos_target = inscritos['roll'].values\r\n",
    "\r\n",
    "X, y = scalar(inscritos_data).inscritos_target"
   ],
   "outputs": [],
   "metadata": {}
  },
  {
   "cell_type": "code",
   "execution_count": null,
   "source": [
    "branco = X == np.NAN\r\n",
    "X[branco == True]"
   ],
   "outputs": [],
   "metadata": {}
  },
  {
   "cell_type": "code",
   "execution_count": null,
   "source": [
    "Lin_reg = LinearRegression(normalize=True)"
   ],
   "outputs": [],
   "metadata": {}
  },
  {
   "cell_type": "code",
   "execution_count": null,
   "source": [
    "Lin_reg.fit(X,y)"
   ],
   "outputs": [],
   "metadata": {}
  },
  {
   "cell_type": "code",
   "execution_count": null,
   "source": [
    "print(Lin_reg.score(X,y))"
   ],
   "outputs": [],
   "metadata": {}
  }
 ],
 "metadata": {
  "orig_nbformat": 4,
  "language_info": {
   "name": "python",
   "version": "3.8.8",
   "mimetype": "text/x-python",
   "codemirror_mode": {
    "name": "ipython",
    "version": 3
   },
   "pygments_lexer": "ipython3",
   "nbconvert_exporter": "python",
   "file_extension": ".py"
  },
  "kernelspec": {
   "name": "python3",
   "display_name": "Python 3.8.8 64-bit"
  },
  "interpreter": {
   "hash": "f763c5ae1380102371fc37b7f9e900cc55027b2a662d6fbcccf1534945890ce5"
  }
 },
 "nbformat": 4,
 "nbformat_minor": 2
}