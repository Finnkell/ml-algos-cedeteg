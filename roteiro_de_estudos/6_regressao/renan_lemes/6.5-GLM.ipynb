{
 "cells": [
  {
   "cell_type": "markdown",
   "source": [
    "# GLM - Modelo linear generalizado.\r\n",
    "é uma genarização flexivel de regressão linear ordinária que permite variáveis de resposta que têm modelos de distribuição de erro diferentes de uma distribuição normal. O MLG generaliza a regresão linear permitindo que o modelo linear seja relacionado á variável de resposta por meio de uma função de ligação e permitindo que a magnitude de variância de cada medição seja uma função de seu valor previsto. \r\n",
    "* Regressçao linear.\r\n",
    "* Regressão logística.\r\n",
    "* Regressão Poisson.\r\n",
    "## Definição :\r\n",
    "$$\\eta_i = \\alpha + \\beta_1 \\cdot X_{1i} + \\beta_2 \\cdot X_{2i} + ... + \\beta_k \\cdot X_{ki}$$\r\n",
    "\r\n"
   ],
   "metadata": {}
  },
  {
   "cell_type": "markdown",
   "source": [
    "## Tabela de caracteristicas.\r\n",
    "\r\n",
    "![img](https://www.imagemhost.com.br/images/2021/09/14/GLM_tabela.png)\r\n",
    "\r\n",
    "* $p$ probabilidade.\r\n",
    "* $p_m$ probabilidades com indice m.\r\n",
    "* $\\lambda$ valores previstos de $y$."
   ],
   "metadata": {}
  },
  {
   "cell_type": "markdown",
   "source": [
    "## Aplicações :\r\n",
    "* O primeiro são os dados de contagens, como número de carros que passam em uma rodovia a cada minuto, número de homicídios por dia em determinada cidade e número de reclamações de uma determinada cidade e número de reclamações de uma determinada seguradora por cliente.\r\n",
    "* O segundo grupo são para dados categóricos que são os mais conhecidos, algumas aplicações são as transações bancárias fraudulentas, uso ou não de um seguro de carro durante período contratado, a oscilação positiva ou negativa de uma ação.\r\n",
    "* O terceiro grupo, menos conhecidos são dados assimétricos positivos, uma aplicação seria dados de precipitação ou temperatura de determinada cidade."
   ],
   "metadata": {}
  },
  {
   "cell_type": "markdown",
   "source": [
    "## Tipos de resposta e distribuições.\r\n",
    "* Contgem: modelo de Poisson.\r\n",
    "* Binária: modelo de Bernoulli.\r\n",
    "* Categórica: modelo multinomial.\r\n",
    "* Contínua assimétrica: modelo gama."
   ],
   "metadata": {}
  },
  {
   "cell_type": "markdown",
   "source": [
    "## Componentes do modelo.\r\n",
    "* Uma família exponencial de distribuição de probabilidade.\r\n",
    "* Um preditor linear $\\eta = X\\beta$.\r\n",
    "* Uma função de ligação $g$ tal que $E(Y|X) = \\mu =g^{-1}(\\eta)$"
   ],
   "metadata": {}
  },
  {
   "cell_type": "markdown",
   "source": [
    "# Prática."
   ],
   "metadata": {}
  },
  {
   "cell_type": "code",
   "execution_count": 2,
   "source": [
    "import pandas as pd\r\n",
    "import numpy as np\r\n",
    "import matplotlib.pyplot as plt\r\n",
    "import seaborn as sns\r\n",
    "\r\n",
    "from sklearn.model_selection import train_test_split\r\n",
    "from sklearn.linear_model import Ridge\r\n"
   ],
   "outputs": [],
   "metadata": {}
  },
  {
   "cell_type": "code",
   "execution_count": 3,
   "source": [
    "data = pd.read_csv('column_2C_weka.csv')\r\n",
    "data.head()"
   ],
   "outputs": [
    {
     "output_type": "execute_result",
     "data": {
      "text/html": [
       "<div>\n",
       "<style scoped>\n",
       "    .dataframe tbody tr th:only-of-type {\n",
       "        vertical-align: middle;\n",
       "    }\n",
       "\n",
       "    .dataframe tbody tr th {\n",
       "        vertical-align: top;\n",
       "    }\n",
       "\n",
       "    .dataframe thead th {\n",
       "        text-align: right;\n",
       "    }\n",
       "</style>\n",
       "<table border=\"1\" class=\"dataframe\">\n",
       "  <thead>\n",
       "    <tr style=\"text-align: right;\">\n",
       "      <th></th>\n",
       "      <th>pelvic_incidence</th>\n",
       "      <th>pelvic_tilt numeric</th>\n",
       "      <th>lumbar_lordosis_angle</th>\n",
       "      <th>sacral_slope</th>\n",
       "      <th>pelvic_radius</th>\n",
       "      <th>degree_spondylolisthesis</th>\n",
       "      <th>class</th>\n",
       "    </tr>\n",
       "  </thead>\n",
       "  <tbody>\n",
       "    <tr>\n",
       "      <th>0</th>\n",
       "      <td>63.027817</td>\n",
       "      <td>22.552586</td>\n",
       "      <td>39.609117</td>\n",
       "      <td>40.475232</td>\n",
       "      <td>98.672917</td>\n",
       "      <td>-0.254400</td>\n",
       "      <td>Abnormal</td>\n",
       "    </tr>\n",
       "    <tr>\n",
       "      <th>1</th>\n",
       "      <td>39.056951</td>\n",
       "      <td>10.060991</td>\n",
       "      <td>25.015378</td>\n",
       "      <td>28.995960</td>\n",
       "      <td>114.405425</td>\n",
       "      <td>4.564259</td>\n",
       "      <td>Abnormal</td>\n",
       "    </tr>\n",
       "    <tr>\n",
       "      <th>2</th>\n",
       "      <td>68.832021</td>\n",
       "      <td>22.218482</td>\n",
       "      <td>50.092194</td>\n",
       "      <td>46.613539</td>\n",
       "      <td>105.985135</td>\n",
       "      <td>-3.530317</td>\n",
       "      <td>Abnormal</td>\n",
       "    </tr>\n",
       "    <tr>\n",
       "      <th>3</th>\n",
       "      <td>69.297008</td>\n",
       "      <td>24.652878</td>\n",
       "      <td>44.311238</td>\n",
       "      <td>44.644130</td>\n",
       "      <td>101.868495</td>\n",
       "      <td>11.211523</td>\n",
       "      <td>Abnormal</td>\n",
       "    </tr>\n",
       "    <tr>\n",
       "      <th>4</th>\n",
       "      <td>49.712859</td>\n",
       "      <td>9.652075</td>\n",
       "      <td>28.317406</td>\n",
       "      <td>40.060784</td>\n",
       "      <td>108.168725</td>\n",
       "      <td>7.918501</td>\n",
       "      <td>Abnormal</td>\n",
       "    </tr>\n",
       "  </tbody>\n",
       "</table>\n",
       "</div>"
      ],
      "text/plain": [
       "   pelvic_incidence  pelvic_tilt numeric  lumbar_lordosis_angle  sacral_slope  \\\n",
       "0         63.027817            22.552586              39.609117     40.475232   \n",
       "1         39.056951            10.060991              25.015378     28.995960   \n",
       "2         68.832021            22.218482              50.092194     46.613539   \n",
       "3         69.297008            24.652878              44.311238     44.644130   \n",
       "4         49.712859             9.652075              28.317406     40.060784   \n",
       "\n",
       "   pelvic_radius  degree_spondylolisthesis     class  \n",
       "0      98.672917                 -0.254400  Abnormal  \n",
       "1     114.405425                  4.564259  Abnormal  \n",
       "2     105.985135                 -3.530317  Abnormal  \n",
       "3     101.868495                 11.211523  Abnormal  \n",
       "4     108.168725                  7.918501  Abnormal  "
      ]
     },
     "metadata": {},
     "execution_count": 3
    }
   ],
   "metadata": {}
  },
  {
   "cell_type": "code",
   "execution_count": 7,
   "source": [
    "data1 = data[data['class'] == 'Abnormal']\r\n",
    "x = np.array(data1.loc[:, 'pelvic_incidence']).reshape(-1,1)\r\n",
    "y = np.array(data1.loc[:, 'sacral_slope']).reshape(-1,1)\r\n",
    "\r\n",
    "plt.figure(figsize=[10,10])\r\n",
    "plt.scatter(x=x,y=y,color = 'r')\r\n",
    "plt.xlabel('pelvic_incidence')\r\n",
    "plt.ylabel('sacral_slope')\r\n",
    "plt.show()"
   ],
   "outputs": [
    {
     "output_type": "display_data",
     "data": {
      "image/png": "[encoded data removed]",
      "text/plain": [
       "<Figure size 720x720 with 1 Axes>"
      ]
     },
     "metadata": {
      "needs_background": "light"
     }
    }
   ],
   "metadata": {}
  },
  {
   "cell_type": "code",
   "execution_count": 8,
   "source": [
    "x_train,x_test,y_train,y_test = train_test_split(x,y,test_size = 0.3,random_state = 1)"
   ],
   "outputs": [],
   "metadata": {}
  },
  {
   "cell_type": "code",
   "execution_count": 9,
   "source": [
    "x_train,x_test,y_train,y_test = train_test_split(x,y,random_state = 2, test_size = 0.3)\r\n",
    "ridge = Ridge(alpha = 0.1, normalize = True)\r\n",
    "ridge.fit(x_train,y_train)\r\n",
    "ridge_predict = ridge.predict(x_test)\r\n",
    "print('Ridge score: ',ridge.score(x_test,y_test))"
   ],
   "outputs": [
    {
     "output_type": "stream",
     "name": "stdout",
     "text": [
      "Ridge score:  0.5608287918841997\n"
     ]
    }
   ],
   "metadata": {}
  },
  {
   "cell_type": "code",
   "execution_count": 13,
   "source": [
    "ridge_predict"
   ],
   "outputs": [
    {
     "output_type": "execute_result",
     "data": {
      "text/plain": [
       "array([[40.52670197],\n",
       "       [44.83503281],\n",
       "       [51.13845716],\n",
       "       [48.47663842],\n",
       "       [34.89427848],\n",
       "       [47.12533646],\n",
       "       [39.40746053],\n",
       "       [36.81198337],\n",
       "       [39.08275498],\n",
       "       [43.22655987],\n",
       "       [52.91640049],\n",
       "       [34.36482865],\n",
       "       [41.11700485],\n",
       "       [33.6086137 ],\n",
       "       [58.66120688],\n",
       "       [46.11074736],\n",
       "       [26.10748479],\n",
       "       [57.94462546],\n",
       "       [51.92739445],\n",
       "       [57.60071252],\n",
       "       [47.27213886],\n",
       "       [32.2974022 ],\n",
       "       [28.83405104],\n",
       "       [50.86895979],\n",
       "       [46.89979732],\n",
       "       [33.78339666],\n",
       "       [37.02356416],\n",
       "       [39.00095911],\n",
       "       [36.34728689],\n",
       "       [60.19098153],\n",
       "       [30.34507234],\n",
       "       [52.44918732],\n",
       "       [31.25694261],\n",
       "       [49.13069734],\n",
       "       [48.04694905],\n",
       "       [43.30156173],\n",
       "       [48.32009946],\n",
       "       [45.80397077],\n",
       "       [41.27275154],\n",
       "       [25.32367877],\n",
       "       [31.79825376],\n",
       "       [49.32163924],\n",
       "       [42.17044397],\n",
       "       [34.30782364],\n",
       "       [51.35836461],\n",
       "       [56.91782107],\n",
       "       [57.88632869],\n",
       "       [49.43023886],\n",
       "       [83.88176488],\n",
       "       [29.87864638],\n",
       "       [49.29272969],\n",
       "       [29.16340873],\n",
       "       [53.72141533],\n",
       "       [53.22995914],\n",
       "       [37.52033246],\n",
       "       [47.98226573],\n",
       "       [52.34415967],\n",
       "       [57.71506896],\n",
       "       [33.5868715 ],\n",
       "       [55.18785912],\n",
       "       [31.43737783],\n",
       "       [39.24878113],\n",
       "       [54.30018592]])"
      ]
     },
     "metadata": {},
     "execution_count": 13
    }
   ],
   "metadata": {}
  },
  {
   "cell_type": "code",
   "execution_count": 11,
   "source": [
    "GLM_poison = np.log(ridge_predict) "
   ],
   "outputs": [],
   "metadata": {}
  },
  {
   "cell_type": "code",
   "execution_count": 22,
   "source": [
    "GLM_poison"
   ],
   "outputs": [
    {
     "output_type": "execute_result",
     "data": {
      "text/plain": [
       "array([[3.70196106],\n",
       "       [3.80298982],\n",
       "       [3.9345368 ],\n",
       "       [3.881082  ],\n",
       "       [3.55232288],\n",
       "       [3.85281079],\n",
       "       [3.67395515],\n",
       "       [3.60582343],\n",
       "       [3.66568132],\n",
       "       [3.76645512],\n",
       "       [3.96871332],\n",
       "       [3.53703362],\n",
       "       [3.71642178],\n",
       "       [3.51478239],\n",
       "       [4.07177864],\n",
       "       [3.83104605],\n",
       "       [3.26222205],\n",
       "       [4.05948782],\n",
       "       [3.94984648],\n",
       "       [4.05353494],\n",
       "       [3.85592109],\n",
       "       [3.4749868 ],\n",
       "       [3.36155702],\n",
       "       [3.92925291],\n",
       "       [3.84801335],\n",
       "       [3.51996946],\n",
       "       [3.61155458],\n",
       "       [3.66358624],\n",
       "       [3.59311956],\n",
       "       [4.09752253],\n",
       "       [3.41263414],\n",
       "       [3.95984484],\n",
       "       [3.44224151],\n",
       "       [3.89448404],\n",
       "       [3.87217864],\n",
       "       [3.7681887 ],\n",
       "       [3.87784761],\n",
       "       [3.82437079],\n",
       "       [3.72020251],\n",
       "       [3.23173988],\n",
       "       [3.45941138],\n",
       "       [3.89836291],\n",
       "       [3.7417196 ],\n",
       "       [3.53537342],\n",
       "       [3.93882782],\n",
       "       [4.04160849],\n",
       "       [4.05848124],\n",
       "       [3.90056236],\n",
       "       [4.42940825],\n",
       "       [3.39714406],\n",
       "       [3.8977766 ],\n",
       "       [3.3729148 ],\n",
       "       [3.98381172],\n",
       "       [3.97462138],\n",
       "       [3.62488298],\n",
       "       [3.87083148],\n",
       "       [3.95784037],\n",
       "       [4.0555183 ],\n",
       "       [3.51413526],\n",
       "       [4.01074299],\n",
       "       [3.44799756],\n",
       "       [3.66992039],\n",
       "       [3.99452765]])"
      ]
     },
     "metadata": {},
     "execution_count": 22
    }
   ],
   "metadata": {}
  },
  {
   "cell_type": "code",
   "execution_count": 15,
   "source": [
    "plt.figure(figsize=[10,10])\r\n",
    "plt.scatter(x=ridge_predict,y=GLM_poison ,color = 'r')\r\n",
    "plt.xlabel('rid_predict')\r\n",
    "plt.ylabel('GLM_poison')\r\n",
    "plt.show()"
   ],
   "outputs": [
    {
     "output_type": "display_data",
     "data": {
      "image/png": "[encoded data removed]",
      "text/plain": [
       "<Figure size 720x720 with 1 Axes>"
      ]
     },
     "metadata": {
      "needs_background": "light"
     }
    }
   ],
   "metadata": {}
  },
  {
   "cell_type": "code",
   "execution_count": null,
   "source": [],
   "outputs": [],
   "metadata": {}
  }
 ],
 "metadata": {
  "orig_nbformat": 4,
  "language_info": {
   "name": "python",
   "version": "3.9.0",
   "mimetype": "text/x-python",
   "codemirror_mode": {
    "name": "ipython",
    "version": 3
   },
   "pygments_lexer": "ipython3",
   "nbconvert_exporter": "python",
   "file_extension": ".py"
  },
  "kernelspec": {
   "name": "python3",
   "display_name": "Python 3.9.0 64-bit"
  },
  "interpreter": {
   "hash": "63fd5069d213b44bf678585dea6b12cceca9941eaf7f819626cde1f2670de90d"
  }
 },
 "nbformat": 4,
 "nbformat_minor": 2
}