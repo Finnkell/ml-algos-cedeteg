{
 "cells": [
  {
   "cell_type": "markdown",
   "source": [
    "# K-means.\r\n",
    "* Aprendizagem supervisionado.\r\n",
    "* Aprendizagem não supervionado.\r\n",
    "* Aprendizado semi-supervioado.\r\n",
    "É uma tecnica de agrupamento muito popular, o algoritmo ajuda a lidar com conjuntos de dados não rotulados e extrair suas próprias inferências deles com facilidade. K-means se enquadra na categoria de agrupamento baseado em centróide, um centróide é um ponto de dados no centro de um cluster. No agrupamento baseado em centróide, os cluters são representados por um vetor central ou um vetor central ou um centróide. Esse centróide pode ser necessariamente um membro de conjunto de dados. O agrupamento baseado em centróide é um algoritmo iterativo no qual a noção de similaridade é derivada pela proximidade de um ponto de dados do centróide do agrupamento.\r\n"
   ],
   "metadata": {}
  },
  {
   "cell_type": "markdown",
   "source": [
    "## Como funciona :\r\n",
    "* Considerar quaisquer dois centróides o pontos de dados, geralmente é considerado inicialmente.\r\n",
    "* Depois de escolher os centróides, os pontos de dados são atribuidos a qualquer um dos Clusters, depende da distância entre eles entre eles e os centróides.\r\n",
    "* Suponha que o algoritmo escolheu dois objetos, centróides do cluster 1 e cluster 2 também.\r\n",
    "* Para medir as distâncias, você usa a seguinte função de medição de distância \r\n",
    "$$d = |x_2 - x_1|+ |y_2 - y_1| + |z_2 - z_1|$$\r\n",
    "$\\\\$ Isso também é conhecio como distância do táxi ou distância de Manhattan, oden d é a medida da distância entre dois objetos , $(x_1,y_1,z_1)$ e $(x_2,y_2,z+2)$ são coordenadas X, Y e Z de quaisquer dois objetos tomados para a medição de distância.\r\n",
    "$\\\\$ Os objetos são agrupados com base em suas distâncias entre os centróides. Um objeto que tem uma distância menor esntre um centróide do que os outros."
   ],
   "metadata": {}
  },
  {
   "cell_type": "markdown",
   "source": [],
   "metadata": {}
  },
  {
   "cell_type": "markdown",
   "source": [
    "# K-medoids."
   ],
   "metadata": {}
  },
  {
   "cell_type": "markdown",
   "source": [],
   "metadata": {}
  }
 ],
 "metadata": {
  "orig_nbformat": 4,
  "language_info": {
   "name": "python",
   "version": "3.8.8"
  },
  "kernelspec": {
   "name": "python3",
   "display_name": "Python 3.8.8 64-bit ('base': conda)"
  },
  "interpreter": {
   "hash": "f763c5ae1380102371fc37b7f9e900cc55027b2a662d6fbcccf1534945890ce5"
  }
 },
 "nbformat": 4,
 "nbformat_minor": 2
}